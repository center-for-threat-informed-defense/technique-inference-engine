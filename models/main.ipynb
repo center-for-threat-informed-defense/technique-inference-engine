{
 "cells": [
  {
   "cell_type": "code",
   "execution_count": 65,
   "metadata": {},
   "outputs": [
    {
     "name": "stdout",
     "output_type": "stream",
     "text": [
      "The autoreload extension is already loaded. To reload it, use:\n",
      "  %reload_ext autoreload\n"
     ]
    },
    {
     "data": {
      "text/plain": [
       "<module 'recommender' from '/Users/mjturner/code/technique-inference-engine/models/recommender/__init__.py'>"
      ]
     },
     "execution_count": 65,
     "metadata": {},
     "output_type": "execute_result"
    }
   ],
   "source": [
    "%load_ext autoreload\n",
    "%autoreload 2\n",
    "\n",
    "# Imports\n",
    "import json\n",
    "from mitreattack.stix20 import MitreAttackData\n",
    "import tensorflow as tf\n",
    "import recommender\n",
    "import random\n",
    "import math\n",
    "import importlib\n",
    "\n",
    "tf.config.run_functions_eagerly(True)\n",
    "\n",
    "assert tf.executing_eagerly()\n",
    "\n",
    "importlib.reload(recommender)"
   ]
  },
  {
   "cell_type": "code",
   "execution_count": 66,
   "metadata": {},
   "outputs": [],
   "source": [
    "def get_mitre_technique_ids(stix_filepath: str) -> frozenset[str]:\n",
    "    \"\"\"Gets all MITRE technique ids.\"\"\"\n",
    "    mitre_attack_data = MitreAttackData(stix_filepath)\n",
    "    techniques = mitre_attack_data.get_techniques(remove_revoked_deprecated=True)\n",
    "\n",
    "    all_technique_ids = set()\n",
    "\n",
    "    for technique in techniques:\n",
    "        external_references = technique.get(\"external_references\")\n",
    "        mitre_references = tuple(filter(lambda external_reference: external_reference.get(\"source_name\") == \"mitre-attack\", external_references))\n",
    "        assert len(mitre_references) == 1\n",
    "        mitre_technique_id = mitre_references[0][\"external_id\"]\n",
    "        all_technique_ids.add(mitre_technique_id)\n",
    "\n",
    "    return frozenset(all_technique_ids)\n",
    "\n",
    "def get_campaign_techniques(filepath: str) -> tuple[frozenset[str]]:\n",
    "    \"\"\"Gets a set of MITRE technique ids present in each campaign.\"\"\"\n",
    "\n",
    "    with open(filepath) as f:\n",
    "        data = json.load(f)\n",
    "\n",
    "    campaigns = data[\"bags_of_techniques\"]\n",
    "\n",
    "    ret = []\n",
    "\n",
    "    for campaign in campaigns:\n",
    "\n",
    "        techniques = campaign[\"mitre_techniques\"]\n",
    "        ret.append(frozenset(techniques.keys()))\n",
    "\n",
    "    return ret\n",
    "\n",
    "def train_test_split(indices: list, values: list, test_ratio: float=0.1) -> tuple:\n",
    "    n = len(indices)\n",
    "    assert len(values) == n\n",
    "\n",
    "    indices_for_test_set = frozenset(random.sample(range(n), k=math.floor(test_ratio * n)))\n",
    "\n",
    "    train_indices = []\n",
    "    test_indices = []\n",
    "    train_values = []\n",
    "    test_values = []\n",
    "\n",
    "    for i in range(n):\n",
    "        if i in indices_for_test_set:\n",
    "            test_indices.append(indices[i])\n",
    "            test_values.append(values[i])\n",
    "        else:\n",
    "            train_indices.append(indices[i])\n",
    "            train_values.append(values[i])\n",
    "\n",
    "    return train_indices, train_values, test_indices, test_values\n"
   ]
  },
  {
   "cell_type": "code",
   "execution_count": 67,
   "metadata": {},
   "outputs": [],
   "source": [
    "def main():\n",
    "    # want matrix of campaigns on horizontal, techniques on vertical\n",
    "    all_mitre_technique_ids = tuple(get_mitre_technique_ids(\"../enterprise-attack.json\"))\n",
    "    mitre_technique_ids_to_index = {all_mitre_technique_ids[i]: i for i in range(len(all_mitre_technique_ids))}\n",
    "\n",
    "    campaigns = get_campaign_techniques(\"../data/combined_dataset_full_frequency.json\")\n",
    "\n",
    "    indices = []\n",
    "    values = []\n",
    "\n",
    "    # for each campaign, make a vector, filling in each present technique with a 1\n",
    "    for i in range(len(campaigns)):\n",
    "\n",
    "        campaign = campaigns[i]\n",
    "\n",
    "        for mitre_technique_id in campaign:\n",
    "            if mitre_technique_id in mitre_technique_ids_to_index:\n",
    "                # campaign id, technique id\n",
    "                index = [i, mitre_technique_ids_to_index[mitre_technique_id]]\n",
    "\n",
    "                indices.append(index)\n",
    "                values.append(1)\n",
    "\n",
    "    train_indices, train_values, test_indices, test_values = train_test_split(indices, values)\n",
    "\n",
    "    training_data = tf.SparseTensor(\n",
    "        indices=train_indices,\n",
    "        values=train_values,\n",
    "        dense_shape=(len(campaigns), len(all_mitre_technique_ids))\n",
    "    )\n",
    "    test_data = tf.SparseTensor(\n",
    "        indices=test_indices,\n",
    "        values=test_values,\n",
    "        dense_shape=(len(campaigns), len(all_mitre_technique_ids))\n",
    "    )\n",
    "\n",
    "    # train\n",
    "    model = recommender.FactorizationRecommender(m=len(campaigns), n=len(all_mitre_technique_ids), k=10)\n",
    "    model.fit(training_data, num_iterations=1000, learning_rate=10.)\n",
    "\n",
    "    evaluation = model.evaluate(test_data)\n",
    "    print(evaluation)\n"
   ]
  },
  {
   "cell_type": "code",
   "execution_count": 68,
   "metadata": {},
   "outputs": [
    {
     "name": "stdout",
     "output_type": "stream",
     "text": [
      "0.2091901\n"
     ]
    }
   ],
   "source": [
    "main()"
   ]
  }
 ],
 "metadata": {
  "kernelspec": {
   "display_name": "tie",
   "language": "python",
   "name": "python3"
  },
  "language_info": {
   "codemirror_mode": {
    "name": "ipython",
    "version": 3
   },
   "file_extension": ".py",
   "mimetype": "text/x-python",
   "name": "python",
   "nbconvert_exporter": "python",
   "pygments_lexer": "ipython3",
   "version": "3.11.7"
  }
 },
 "nbformat": 4,
 "nbformat_minor": 2
}
