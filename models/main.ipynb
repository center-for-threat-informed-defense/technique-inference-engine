{
   "cells": [
      {
         "cell_type": "code",
         "execution_count": 2,
         "metadata": {
            "metadata": {}
         },
         "outputs": [
            {
               "data": {
                  "text/plain": [
                     "<module 'recommender' from '/Users/mjturner/code/technique-inference-engine/models/recommender/__init__.py'>"
                  ]
               },
               "execution_count": 2,
               "metadata": {},
               "output_type": "execute_result"
            }
         ],
         "source": [
            "%load_ext autoreload\n",
            "%autoreload 2\n",
            "\n",
            "# Imports\n",
            "import tensorflow as tf\n",
            "import recommender\n",
            "from recommender.implicit_bpr_recommender import ImplicitBPRRecommender\n",
            "from recommender import FactorizationRecommender, BPRRecommender, WALSRecommender\n",
            "from matrix_builder import ReportTechniqueMatrixBuilder\n",
            "from tie import TechniqueInferenceEngine\n",
            "import random\n",
            "import math\n",
            "import importlib\n",
            "import pandas as pd\n",
            "import numpy as np\n",
            "import sklearn.manifold\n",
            "import matplotlib.pyplot as plt\n",
            "\n",
            "tf.config.run_functions_eagerly(True)\n",
            "\n",
            "assert tf.executing_eagerly()\n",
            "\n",
            "importlib.reload(recommender)\n"
         ]
      },
      {
         "cell_type": "code",
         "execution_count": 3,
         "metadata": {},
         "outputs": [],
         "source": [
            "validation_ratio = 0.1\n",
            "test_ratio = 0.2\n",
            "\n",
            "# data locations\n",
            "dataset_filepath = \"../data/combined_dataset_full_frequency.json\"\n",
            "enterprise_attack_filepath = \"../enterprise-attack.json\"\n",
            "\n",
            "# make data\n",
            "data_builder = ReportTechniqueMatrixBuilder(\n",
            "    combined_dataset_filepath=dataset_filepath,\n",
            "    enterprise_attack_filepath=enterprise_attack_filepath,\n",
            ")\n",
            "data = data_builder.build()\n",
            "# split into training and test data\n",
            "train_and_validation_indices = frozenset(random.sample(data.indices, k=math.floor((1-test_ratio) * len(data.indices))))\n",
            "validation_indices = frozenset(random.sample(tuple(train_and_validation_indices), k=math.floor((1-validation_ratio) * len(train_and_validation_indices))))\n",
            "train_indices = frozenset(train_and_validation_indices).difference(validation_indices)\n",
            "test_indices = frozenset(data.indices).difference(train_and_validation_indices)\n",
            "training_data = data.mask(train_indices)\n",
            "validation_data = data.mask(validation_indices)\n",
            "test_data = data.mask(test_indices)"
         ]
      },
      {
         "cell_type": "code",
         "execution_count": 21,
         "metadata": {
            "metadata": {}
         },
         "outputs": [
            {
               "name": "stdout",
               "output_type": "stream",
               "text": [
                  "hyperparameters {'gravity_coefficient': 0.001, 'regularization_coefficient': 0.001, 'num_iterations': 1000, 'learning_rate': 0.001}\n",
                  "hyperparameters {'gravity_coefficient': 0.005, 'regularization_coefficient': 0.001, 'num_iterations': 1000, 'learning_rate': 0.001}\n",
                  "hyperparameters {'gravity_coefficient': 0.01, 'regularization_coefficient': 0.001, 'num_iterations': 1000, 'learning_rate': 0.001}\n",
                  "hyperparameters {'gravity_coefficient': 0.02, 'regularization_coefficient': 0.001, 'num_iterations': 1000, 'learning_rate': 0.001}\n",
                  "hyperparameters {'gravity_coefficient': 0.05, 'regularization_coefficient': 0.001, 'num_iterations': 1000, 'learning_rate': 0.001}\n",
                  "hyperparameters {'gravity_coefficient': 0.1, 'regularization_coefficient': 0.001, 'num_iterations': 1000, 'learning_rate': 0.001}\n",
                  "hyperparameters {'gravity_coefficient': 0.2, 'regularization_coefficient': 0.001, 'num_iterations': 1000, 'learning_rate': 0.001}\n",
                  "hyperparameters {'gravity_coefficient': 0.3, 'regularization_coefficient': 0.001, 'num_iterations': 1000, 'learning_rate': 0.001}\n",
                  "hyperparameters {'gravity_coefficient': 0.5, 'regularization_coefficient': 0.001, 'num_iterations': 1000, 'learning_rate': 0.001}\n",
                  "hyperparameters {'gravity_coefficient': 0.001, 'regularization_coefficient': 0.005, 'num_iterations': 1000, 'learning_rate': 0.001}\n",
                  "hyperparameters {'gravity_coefficient': 0.005, 'regularization_coefficient': 0.005, 'num_iterations': 1000, 'learning_rate': 0.001}\n",
                  "hyperparameters {'gravity_coefficient': 0.01, 'regularization_coefficient': 0.005, 'num_iterations': 1000, 'learning_rate': 0.001}\n",
                  "hyperparameters {'gravity_coefficient': 0.02, 'regularization_coefficient': 0.005, 'num_iterations': 1000, 'learning_rate': 0.001}\n",
                  "hyperparameters {'gravity_coefficient': 0.05, 'regularization_coefficient': 0.005, 'num_iterations': 1000, 'learning_rate': 0.001}\n",
                  "hyperparameters {'gravity_coefficient': 0.1, 'regularization_coefficient': 0.005, 'num_iterations': 1000, 'learning_rate': 0.001}\n",
                  "hyperparameters {'gravity_coefficient': 0.2, 'regularization_coefficient': 0.005, 'num_iterations': 1000, 'learning_rate': 0.001}\n",
                  "hyperparameters {'gravity_coefficient': 0.3, 'regularization_coefficient': 0.005, 'num_iterations': 1000, 'learning_rate': 0.001}\n",
                  "hyperparameters {'gravity_coefficient': 0.5, 'regularization_coefficient': 0.005, 'num_iterations': 1000, 'learning_rate': 0.001}\n",
                  "hyperparameters {'gravity_coefficient': 0.001, 'regularization_coefficient': 0.01, 'num_iterations': 1000, 'learning_rate': 0.001}\n",
                  "hyperparameters {'gravity_coefficient': 0.005, 'regularization_coefficient': 0.01, 'num_iterations': 1000, 'learning_rate': 0.001}\n",
                  "hyperparameters {'gravity_coefficient': 0.01, 'regularization_coefficient': 0.01, 'num_iterations': 1000, 'learning_rate': 0.001}\n",
                  "hyperparameters {'gravity_coefficient': 0.02, 'regularization_coefficient': 0.01, 'num_iterations': 1000, 'learning_rate': 0.001}\n",
                  "hyperparameters {'gravity_coefficient': 0.05, 'regularization_coefficient': 0.01, 'num_iterations': 1000, 'learning_rate': 0.001}\n",
                  "hyperparameters {'gravity_coefficient': 0.1, 'regularization_coefficient': 0.01, 'num_iterations': 1000, 'learning_rate': 0.001}\n",
                  "hyperparameters {'gravity_coefficient': 0.2, 'regularization_coefficient': 0.01, 'num_iterations': 1000, 'learning_rate': 0.001}\n",
                  "hyperparameters {'gravity_coefficient': 0.3, 'regularization_coefficient': 0.01, 'num_iterations': 1000, 'learning_rate': 0.001}\n",
                  "hyperparameters {'gravity_coefficient': 0.5, 'regularization_coefficient': 0.01, 'num_iterations': 1000, 'learning_rate': 0.001}\n",
                  "hyperparameters {'gravity_coefficient': 0.001, 'regularization_coefficient': 0.02, 'num_iterations': 1000, 'learning_rate': 0.001}\n",
                  "hyperparameters {'gravity_coefficient': 0.005, 'regularization_coefficient': 0.02, 'num_iterations': 1000, 'learning_rate': 0.001}\n",
                  "hyperparameters {'gravity_coefficient': 0.01, 'regularization_coefficient': 0.02, 'num_iterations': 1000, 'learning_rate': 0.001}\n",
                  "hyperparameters {'gravity_coefficient': 0.02, 'regularization_coefficient': 0.02, 'num_iterations': 1000, 'learning_rate': 0.001}\n",
                  "hyperparameters {'gravity_coefficient': 0.05, 'regularization_coefficient': 0.02, 'num_iterations': 1000, 'learning_rate': 0.001}\n",
                  "hyperparameters {'gravity_coefficient': 0.1, 'regularization_coefficient': 0.02, 'num_iterations': 1000, 'learning_rate': 0.001}\n",
                  "hyperparameters {'gravity_coefficient': 0.2, 'regularization_coefficient': 0.02, 'num_iterations': 1000, 'learning_rate': 0.001}\n",
                  "hyperparameters {'gravity_coefficient': 0.3, 'regularization_coefficient': 0.02, 'num_iterations': 1000, 'learning_rate': 0.001}\n",
                  "hyperparameters {'gravity_coefficient': 0.5, 'regularization_coefficient': 0.02, 'num_iterations': 1000, 'learning_rate': 0.001}\n",
                  "hyperparameters {'gravity_coefficient': 0.001, 'regularization_coefficient': 0.05, 'num_iterations': 1000, 'learning_rate': 0.001}\n",
                  "hyperparameters {'gravity_coefficient': 0.005, 'regularization_coefficient': 0.05, 'num_iterations': 1000, 'learning_rate': 0.001}\n",
                  "hyperparameters {'gravity_coefficient': 0.01, 'regularization_coefficient': 0.05, 'num_iterations': 1000, 'learning_rate': 0.001}\n",
                  "hyperparameters {'gravity_coefficient': 0.02, 'regularization_coefficient': 0.05, 'num_iterations': 1000, 'learning_rate': 0.001}\n",
                  "hyperparameters {'gravity_coefficient': 0.05, 'regularization_coefficient': 0.05, 'num_iterations': 1000, 'learning_rate': 0.001}\n",
                  "hyperparameters {'gravity_coefficient': 0.1, 'regularization_coefficient': 0.05, 'num_iterations': 1000, 'learning_rate': 0.001}\n",
                  "hyperparameters {'gravity_coefficient': 0.2, 'regularization_coefficient': 0.05, 'num_iterations': 1000, 'learning_rate': 0.001}\n",
                  "hyperparameters {'gravity_coefficient': 0.3, 'regularization_coefficient': 0.05, 'num_iterations': 1000, 'learning_rate': 0.001}\n",
                  "hyperparameters {'gravity_coefficient': 0.5, 'regularization_coefficient': 0.05, 'num_iterations': 1000, 'learning_rate': 0.001}\n",
                  "hyperparameters {'gravity_coefficient': 0.001, 'regularization_coefficient': 0.1, 'num_iterations': 1000, 'learning_rate': 0.001}\n",
                  "hyperparameters {'gravity_coefficient': 0.005, 'regularization_coefficient': 0.1, 'num_iterations': 1000, 'learning_rate': 0.001}\n",
                  "hyperparameters {'gravity_coefficient': 0.01, 'regularization_coefficient': 0.1, 'num_iterations': 1000, 'learning_rate': 0.001}\n",
                  "hyperparameters {'gravity_coefficient': 0.02, 'regularization_coefficient': 0.1, 'num_iterations': 1000, 'learning_rate': 0.001}\n",
                  "hyperparameters {'gravity_coefficient': 0.05, 'regularization_coefficient': 0.1, 'num_iterations': 1000, 'learning_rate': 0.001}\n",
                  "hyperparameters {'gravity_coefficient': 0.1, 'regularization_coefficient': 0.1, 'num_iterations': 1000, 'learning_rate': 0.001}\n",
                  "hyperparameters {'gravity_coefficient': 0.2, 'regularization_coefficient': 0.1, 'num_iterations': 1000, 'learning_rate': 0.001}\n",
                  "hyperparameters {'gravity_coefficient': 0.3, 'regularization_coefficient': 0.1, 'num_iterations': 1000, 'learning_rate': 0.001}\n",
                  "hyperparameters {'gravity_coefficient': 0.5, 'regularization_coefficient': 0.1, 'num_iterations': 1000, 'learning_rate': 0.001}\n",
                  "hyperparameters {'gravity_coefficient': 0.001, 'regularization_coefficient': 0.2, 'num_iterations': 1000, 'learning_rate': 0.001}\n",
                  "hyperparameters {'gravity_coefficient': 0.005, 'regularization_coefficient': 0.2, 'num_iterations': 1000, 'learning_rate': 0.001}\n",
                  "hyperparameters {'gravity_coefficient': 0.01, 'regularization_coefficient': 0.2, 'num_iterations': 1000, 'learning_rate': 0.001}\n",
                  "hyperparameters {'gravity_coefficient': 0.02, 'regularization_coefficient': 0.2, 'num_iterations': 1000, 'learning_rate': 0.001}\n",
                  "hyperparameters {'gravity_coefficient': 0.05, 'regularization_coefficient': 0.2, 'num_iterations': 1000, 'learning_rate': 0.001}\n",
                  "hyperparameters {'gravity_coefficient': 0.1, 'regularization_coefficient': 0.2, 'num_iterations': 1000, 'learning_rate': 0.001}\n",
                  "hyperparameters {'gravity_coefficient': 0.2, 'regularization_coefficient': 0.2, 'num_iterations': 1000, 'learning_rate': 0.001}\n",
                  "hyperparameters {'gravity_coefficient': 0.3, 'regularization_coefficient': 0.2, 'num_iterations': 1000, 'learning_rate': 0.001}\n",
                  "hyperparameters {'gravity_coefficient': 0.5, 'regularization_coefficient': 0.2, 'num_iterations': 1000, 'learning_rate': 0.001}\n",
                  "hyperparameters {'gravity_coefficient': 0.001, 'regularization_coefficient': 0.3, 'num_iterations': 1000, 'learning_rate': 0.001}\n",
                  "hyperparameters {'gravity_coefficient': 0.005, 'regularization_coefficient': 0.3, 'num_iterations': 1000, 'learning_rate': 0.001}\n",
                  "hyperparameters {'gravity_coefficient': 0.01, 'regularization_coefficient': 0.3, 'num_iterations': 1000, 'learning_rate': 0.001}\n",
                  "hyperparameters {'gravity_coefficient': 0.02, 'regularization_coefficient': 0.3, 'num_iterations': 1000, 'learning_rate': 0.001}\n",
                  "hyperparameters {'gravity_coefficient': 0.05, 'regularization_coefficient': 0.3, 'num_iterations': 1000, 'learning_rate': 0.001}\n",
                  "hyperparameters {'gravity_coefficient': 0.1, 'regularization_coefficient': 0.3, 'num_iterations': 1000, 'learning_rate': 0.001}\n",
                  "hyperparameters {'gravity_coefficient': 0.2, 'regularization_coefficient': 0.3, 'num_iterations': 1000, 'learning_rate': 0.001}\n",
                  "hyperparameters {'gravity_coefficient': 0.3, 'regularization_coefficient': 0.3, 'num_iterations': 1000, 'learning_rate': 0.001}\n",
                  "hyperparameters {'gravity_coefficient': 0.5, 'regularization_coefficient': 0.3, 'num_iterations': 1000, 'learning_rate': 0.001}\n",
                  "hyperparameters {'gravity_coefficient': 0.001, 'regularization_coefficient': 0.5, 'num_iterations': 1000, 'learning_rate': 0.001}\n",
                  "hyperparameters {'gravity_coefficient': 0.005, 'regularization_coefficient': 0.5, 'num_iterations': 1000, 'learning_rate': 0.001}\n",
                  "hyperparameters {'gravity_coefficient': 0.01, 'regularization_coefficient': 0.5, 'num_iterations': 1000, 'learning_rate': 0.001}\n",
                  "hyperparameters {'gravity_coefficient': 0.02, 'regularization_coefficient': 0.5, 'num_iterations': 1000, 'learning_rate': 0.001}\n",
                  "hyperparameters {'gravity_coefficient': 0.05, 'regularization_coefficient': 0.5, 'num_iterations': 1000, 'learning_rate': 0.001}\n",
                  "hyperparameters {'gravity_coefficient': 0.1, 'regularization_coefficient': 0.5, 'num_iterations': 1000, 'learning_rate': 0.001}\n",
                  "hyperparameters {'gravity_coefficient': 0.2, 'regularization_coefficient': 0.5, 'num_iterations': 1000, 'learning_rate': 0.001}\n",
                  "hyperparameters {'gravity_coefficient': 0.3, 'regularization_coefficient': 0.5, 'num_iterations': 1000, 'learning_rate': 0.001}\n",
                  "hyperparameters {'gravity_coefficient': 0.5, 'regularization_coefficient': 0.5, 'num_iterations': 1000, 'learning_rate': 0.001}\n",
                  "hyperparameters {'gravity_coefficient': 0.001, 'regularization_coefficient': 0.001, 'num_iterations': 1000, 'learning_rate': 0.01}\n",
                  "hyperparameters {'gravity_coefficient': 0.005, 'regularization_coefficient': 0.001, 'num_iterations': 1000, 'learning_rate': 0.01}\n",
                  "hyperparameters {'gravity_coefficient': 0.01, 'regularization_coefficient': 0.001, 'num_iterations': 1000, 'learning_rate': 0.01}\n",
                  "hyperparameters {'gravity_coefficient': 0.02, 'regularization_coefficient': 0.001, 'num_iterations': 1000, 'learning_rate': 0.01}\n",
                  "hyperparameters {'gravity_coefficient': 0.05, 'regularization_coefficient': 0.001, 'num_iterations': 1000, 'learning_rate': 0.01}\n",
                  "hyperparameters {'gravity_coefficient': 0.1, 'regularization_coefficient': 0.001, 'num_iterations': 1000, 'learning_rate': 0.01}\n",
                  "hyperparameters {'gravity_coefficient': 0.2, 'regularization_coefficient': 0.001, 'num_iterations': 1000, 'learning_rate': 0.01}\n",
                  "hyperparameters {'gravity_coefficient': 0.3, 'regularization_coefficient': 0.001, 'num_iterations': 1000, 'learning_rate': 0.01}\n",
                  "hyperparameters {'gravity_coefficient': 0.5, 'regularization_coefficient': 0.001, 'num_iterations': 1000, 'learning_rate': 0.01}\n",
                  "hyperparameters {'gravity_coefficient': 0.001, 'regularization_coefficient': 0.005, 'num_iterations': 1000, 'learning_rate': 0.01}\n",
                  "hyperparameters {'gravity_coefficient': 0.005, 'regularization_coefficient': 0.005, 'num_iterations': 1000, 'learning_rate': 0.01}\n",
                  "hyperparameters {'gravity_coefficient': 0.01, 'regularization_coefficient': 0.005, 'num_iterations': 1000, 'learning_rate': 0.01}\n",
                  "hyperparameters {'gravity_coefficient': 0.02, 'regularization_coefficient': 0.005, 'num_iterations': 1000, 'learning_rate': 0.01}\n",
                  "hyperparameters {'gravity_coefficient': 0.05, 'regularization_coefficient': 0.005, 'num_iterations': 1000, 'learning_rate': 0.01}\n",
                  "hyperparameters {'gravity_coefficient': 0.1, 'regularization_coefficient': 0.005, 'num_iterations': 1000, 'learning_rate': 0.01}\n",
                  "hyperparameters {'gravity_coefficient': 0.2, 'regularization_coefficient': 0.005, 'num_iterations': 1000, 'learning_rate': 0.01}\n",
                  "hyperparameters {'gravity_coefficient': 0.3, 'regularization_coefficient': 0.005, 'num_iterations': 1000, 'learning_rate': 0.01}\n",
                  "hyperparameters {'gravity_coefficient': 0.5, 'regularization_coefficient': 0.005, 'num_iterations': 1000, 'learning_rate': 0.01}\n",
                  "hyperparameters {'gravity_coefficient': 0.001, 'regularization_coefficient': 0.01, 'num_iterations': 1000, 'learning_rate': 0.01}\n",
                  "hyperparameters {'gravity_coefficient': 0.005, 'regularization_coefficient': 0.01, 'num_iterations': 1000, 'learning_rate': 0.01}\n",
                  "hyperparameters {'gravity_coefficient': 0.01, 'regularization_coefficient': 0.01, 'num_iterations': 1000, 'learning_rate': 0.01}\n",
                  "hyperparameters {'gravity_coefficient': 0.02, 'regularization_coefficient': 0.01, 'num_iterations': 1000, 'learning_rate': 0.01}\n",
                  "hyperparameters {'gravity_coefficient': 0.05, 'regularization_coefficient': 0.01, 'num_iterations': 1000, 'learning_rate': 0.01}\n",
                  "hyperparameters {'gravity_coefficient': 0.1, 'regularization_coefficient': 0.01, 'num_iterations': 1000, 'learning_rate': 0.01}\n",
                  "hyperparameters {'gravity_coefficient': 0.2, 'regularization_coefficient': 0.01, 'num_iterations': 1000, 'learning_rate': 0.01}\n",
                  "hyperparameters {'gravity_coefficient': 0.3, 'regularization_coefficient': 0.01, 'num_iterations': 1000, 'learning_rate': 0.01}\n",
                  "hyperparameters {'gravity_coefficient': 0.5, 'regularization_coefficient': 0.01, 'num_iterations': 1000, 'learning_rate': 0.01}\n",
                  "hyperparameters {'gravity_coefficient': 0.001, 'regularization_coefficient': 0.02, 'num_iterations': 1000, 'learning_rate': 0.01}\n",
                  "hyperparameters {'gravity_coefficient': 0.005, 'regularization_coefficient': 0.02, 'num_iterations': 1000, 'learning_rate': 0.01}\n",
                  "hyperparameters {'gravity_coefficient': 0.01, 'regularization_coefficient': 0.02, 'num_iterations': 1000, 'learning_rate': 0.01}\n",
                  "hyperparameters {'gravity_coefficient': 0.02, 'regularization_coefficient': 0.02, 'num_iterations': 1000, 'learning_rate': 0.01}\n",
                  "hyperparameters {'gravity_coefficient': 0.05, 'regularization_coefficient': 0.02, 'num_iterations': 1000, 'learning_rate': 0.01}\n",
                  "hyperparameters {'gravity_coefficient': 0.1, 'regularization_coefficient': 0.02, 'num_iterations': 1000, 'learning_rate': 0.01}\n",
                  "hyperparameters {'gravity_coefficient': 0.2, 'regularization_coefficient': 0.02, 'num_iterations': 1000, 'learning_rate': 0.01}\n",
                  "hyperparameters {'gravity_coefficient': 0.3, 'regularization_coefficient': 0.02, 'num_iterations': 1000, 'learning_rate': 0.01}\n",
                  "hyperparameters {'gravity_coefficient': 0.5, 'regularization_coefficient': 0.02, 'num_iterations': 1000, 'learning_rate': 0.01}\n",
                  "hyperparameters {'gravity_coefficient': 0.001, 'regularization_coefficient': 0.05, 'num_iterations': 1000, 'learning_rate': 0.01}\n",
                  "hyperparameters {'gravity_coefficient': 0.005, 'regularization_coefficient': 0.05, 'num_iterations': 1000, 'learning_rate': 0.01}\n",
                  "hyperparameters {'gravity_coefficient': 0.01, 'regularization_coefficient': 0.05, 'num_iterations': 1000, 'learning_rate': 0.01}\n",
                  "hyperparameters {'gravity_coefficient': 0.02, 'regularization_coefficient': 0.05, 'num_iterations': 1000, 'learning_rate': 0.01}\n",
                  "hyperparameters {'gravity_coefficient': 0.05, 'regularization_coefficient': 0.05, 'num_iterations': 1000, 'learning_rate': 0.01}\n",
                  "hyperparameters {'gravity_coefficient': 0.1, 'regularization_coefficient': 0.05, 'num_iterations': 1000, 'learning_rate': 0.01}\n",
                  "hyperparameters {'gravity_coefficient': 0.2, 'regularization_coefficient': 0.05, 'num_iterations': 1000, 'learning_rate': 0.01}\n",
                  "hyperparameters {'gravity_coefficient': 0.3, 'regularization_coefficient': 0.05, 'num_iterations': 1000, 'learning_rate': 0.01}\n",
                  "hyperparameters {'gravity_coefficient': 0.5, 'regularization_coefficient': 0.05, 'num_iterations': 1000, 'learning_rate': 0.01}\n",
                  "hyperparameters {'gravity_coefficient': 0.001, 'regularization_coefficient': 0.1, 'num_iterations': 1000, 'learning_rate': 0.01}\n",
                  "hyperparameters {'gravity_coefficient': 0.005, 'regularization_coefficient': 0.1, 'num_iterations': 1000, 'learning_rate': 0.01}\n",
                  "hyperparameters {'gravity_coefficient': 0.01, 'regularization_coefficient': 0.1, 'num_iterations': 1000, 'learning_rate': 0.01}\n",
                  "hyperparameters {'gravity_coefficient': 0.02, 'regularization_coefficient': 0.1, 'num_iterations': 1000, 'learning_rate': 0.01}\n",
                  "hyperparameters {'gravity_coefficient': 0.05, 'regularization_coefficient': 0.1, 'num_iterations': 1000, 'learning_rate': 0.01}\n",
                  "hyperparameters {'gravity_coefficient': 0.1, 'regularization_coefficient': 0.1, 'num_iterations': 1000, 'learning_rate': 0.01}\n",
                  "hyperparameters {'gravity_coefficient': 0.2, 'regularization_coefficient': 0.1, 'num_iterations': 1000, 'learning_rate': 0.01}\n",
                  "hyperparameters {'gravity_coefficient': 0.3, 'regularization_coefficient': 0.1, 'num_iterations': 1000, 'learning_rate': 0.01}\n",
                  "hyperparameters {'gravity_coefficient': 0.5, 'regularization_coefficient': 0.1, 'num_iterations': 1000, 'learning_rate': 0.01}\n",
                  "hyperparameters {'gravity_coefficient': 0.001, 'regularization_coefficient': 0.2, 'num_iterations': 1000, 'learning_rate': 0.01}\n",
                  "hyperparameters {'gravity_coefficient': 0.005, 'regularization_coefficient': 0.2, 'num_iterations': 1000, 'learning_rate': 0.01}\n",
                  "hyperparameters {'gravity_coefficient': 0.01, 'regularization_coefficient': 0.2, 'num_iterations': 1000, 'learning_rate': 0.01}\n",
                  "hyperparameters {'gravity_coefficient': 0.02, 'regularization_coefficient': 0.2, 'num_iterations': 1000, 'learning_rate': 0.01}\n",
                  "hyperparameters {'gravity_coefficient': 0.05, 'regularization_coefficient': 0.2, 'num_iterations': 1000, 'learning_rate': 0.01}\n",
                  "hyperparameters {'gravity_coefficient': 0.1, 'regularization_coefficient': 0.2, 'num_iterations': 1000, 'learning_rate': 0.01}\n",
                  "hyperparameters {'gravity_coefficient': 0.2, 'regularization_coefficient': 0.2, 'num_iterations': 1000, 'learning_rate': 0.01}\n",
                  "hyperparameters {'gravity_coefficient': 0.3, 'regularization_coefficient': 0.2, 'num_iterations': 1000, 'learning_rate': 0.01}\n",
                  "hyperparameters {'gravity_coefficient': 0.5, 'regularization_coefficient': 0.2, 'num_iterations': 1000, 'learning_rate': 0.01}\n",
                  "hyperparameters {'gravity_coefficient': 0.001, 'regularization_coefficient': 0.3, 'num_iterations': 1000, 'learning_rate': 0.01}\n",
                  "hyperparameters {'gravity_coefficient': 0.005, 'regularization_coefficient': 0.3, 'num_iterations': 1000, 'learning_rate': 0.01}\n",
                  "hyperparameters {'gravity_coefficient': 0.01, 'regularization_coefficient': 0.3, 'num_iterations': 1000, 'learning_rate': 0.01}\n",
                  "hyperparameters {'gravity_coefficient': 0.02, 'regularization_coefficient': 0.3, 'num_iterations': 1000, 'learning_rate': 0.01}\n",
                  "hyperparameters {'gravity_coefficient': 0.05, 'regularization_coefficient': 0.3, 'num_iterations': 1000, 'learning_rate': 0.01}\n",
                  "hyperparameters {'gravity_coefficient': 0.1, 'regularization_coefficient': 0.3, 'num_iterations': 1000, 'learning_rate': 0.01}\n",
                  "hyperparameters {'gravity_coefficient': 0.2, 'regularization_coefficient': 0.3, 'num_iterations': 1000, 'learning_rate': 0.01}\n",
                  "hyperparameters {'gravity_coefficient': 0.3, 'regularization_coefficient': 0.3, 'num_iterations': 1000, 'learning_rate': 0.01}\n",
                  "hyperparameters {'gravity_coefficient': 0.5, 'regularization_coefficient': 0.3, 'num_iterations': 1000, 'learning_rate': 0.01}\n",
                  "hyperparameters {'gravity_coefficient': 0.001, 'regularization_coefficient': 0.5, 'num_iterations': 1000, 'learning_rate': 0.01}\n",
                  "hyperparameters {'gravity_coefficient': 0.005, 'regularization_coefficient': 0.5, 'num_iterations': 1000, 'learning_rate': 0.01}\n",
                  "hyperparameters {'gravity_coefficient': 0.01, 'regularization_coefficient': 0.5, 'num_iterations': 1000, 'learning_rate': 0.01}\n",
                  "hyperparameters {'gravity_coefficient': 0.02, 'regularization_coefficient': 0.5, 'num_iterations': 1000, 'learning_rate': 0.01}\n",
                  "hyperparameters {'gravity_coefficient': 0.05, 'regularization_coefficient': 0.5, 'num_iterations': 1000, 'learning_rate': 0.01}\n",
                  "hyperparameters {'gravity_coefficient': 0.1, 'regularization_coefficient': 0.5, 'num_iterations': 1000, 'learning_rate': 0.01}\n",
                  "hyperparameters {'gravity_coefficient': 0.2, 'regularization_coefficient': 0.5, 'num_iterations': 1000, 'learning_rate': 0.01}\n",
                  "hyperparameters {'gravity_coefficient': 0.3, 'regularization_coefficient': 0.5, 'num_iterations': 1000, 'learning_rate': 0.01}\n",
                  "hyperparameters {'gravity_coefficient': 0.5, 'regularization_coefficient': 0.5, 'num_iterations': 1000, 'learning_rate': 0.01}\n",
                  "hyperparameters {'gravity_coefficient': 0.001, 'regularization_coefficient': 0.001, 'num_iterations': 1000, 'learning_rate': 0.1}\n",
                  "hyperparameters {'gravity_coefficient': 0.005, 'regularization_coefficient': 0.001, 'num_iterations': 1000, 'learning_rate': 0.1}\n",
                  "hyperparameters {'gravity_coefficient': 0.01, 'regularization_coefficient': 0.001, 'num_iterations': 1000, 'learning_rate': 0.1}\n",
                  "hyperparameters {'gravity_coefficient': 0.02, 'regularization_coefficient': 0.001, 'num_iterations': 1000, 'learning_rate': 0.1}\n",
                  "hyperparameters {'gravity_coefficient': 0.05, 'regularization_coefficient': 0.001, 'num_iterations': 1000, 'learning_rate': 0.1}\n",
                  "hyperparameters {'gravity_coefficient': 0.1, 'regularization_coefficient': 0.001, 'num_iterations': 1000, 'learning_rate': 0.1}\n",
                  "hyperparameters {'gravity_coefficient': 0.2, 'regularization_coefficient': 0.001, 'num_iterations': 1000, 'learning_rate': 0.1}\n",
                  "hyperparameters {'gravity_coefficient': 0.3, 'regularization_coefficient': 0.001, 'num_iterations': 1000, 'learning_rate': 0.1}\n",
                  "hyperparameters {'gravity_coefficient': 0.5, 'regularization_coefficient': 0.001, 'num_iterations': 1000, 'learning_rate': 0.1}\n",
                  "hyperparameters {'gravity_coefficient': 0.001, 'regularization_coefficient': 0.005, 'num_iterations': 1000, 'learning_rate': 0.1}\n",
                  "hyperparameters {'gravity_coefficient': 0.005, 'regularization_coefficient': 0.005, 'num_iterations': 1000, 'learning_rate': 0.1}\n",
                  "hyperparameters {'gravity_coefficient': 0.01, 'regularization_coefficient': 0.005, 'num_iterations': 1000, 'learning_rate': 0.1}\n",
                  "hyperparameters {'gravity_coefficient': 0.02, 'regularization_coefficient': 0.005, 'num_iterations': 1000, 'learning_rate': 0.1}\n",
                  "hyperparameters {'gravity_coefficient': 0.05, 'regularization_coefficient': 0.005, 'num_iterations': 1000, 'learning_rate': 0.1}\n",
                  "hyperparameters {'gravity_coefficient': 0.1, 'regularization_coefficient': 0.005, 'num_iterations': 1000, 'learning_rate': 0.1}\n",
                  "hyperparameters {'gravity_coefficient': 0.2, 'regularization_coefficient': 0.005, 'num_iterations': 1000, 'learning_rate': 0.1}\n",
                  "hyperparameters {'gravity_coefficient': 0.3, 'regularization_coefficient': 0.005, 'num_iterations': 1000, 'learning_rate': 0.1}\n",
                  "hyperparameters {'gravity_coefficient': 0.5, 'regularization_coefficient': 0.005, 'num_iterations': 1000, 'learning_rate': 0.1}\n",
                  "hyperparameters {'gravity_coefficient': 0.001, 'regularization_coefficient': 0.01, 'num_iterations': 1000, 'learning_rate': 0.1}\n",
                  "hyperparameters {'gravity_coefficient': 0.005, 'regularization_coefficient': 0.01, 'num_iterations': 1000, 'learning_rate': 0.1}\n",
                  "hyperparameters {'gravity_coefficient': 0.01, 'regularization_coefficient': 0.01, 'num_iterations': 1000, 'learning_rate': 0.1}\n",
                  "hyperparameters {'gravity_coefficient': 0.02, 'regularization_coefficient': 0.01, 'num_iterations': 1000, 'learning_rate': 0.1}\n",
                  "hyperparameters {'gravity_coefficient': 0.05, 'regularization_coefficient': 0.01, 'num_iterations': 1000, 'learning_rate': 0.1}\n",
                  "hyperparameters {'gravity_coefficient': 0.1, 'regularization_coefficient': 0.01, 'num_iterations': 1000, 'learning_rate': 0.1}\n",
                  "hyperparameters {'gravity_coefficient': 0.2, 'regularization_coefficient': 0.01, 'num_iterations': 1000, 'learning_rate': 0.1}\n",
                  "hyperparameters {'gravity_coefficient': 0.3, 'regularization_coefficient': 0.01, 'num_iterations': 1000, 'learning_rate': 0.1}\n",
                  "hyperparameters {'gravity_coefficient': 0.5, 'regularization_coefficient': 0.01, 'num_iterations': 1000, 'learning_rate': 0.1}\n",
                  "hyperparameters {'gravity_coefficient': 0.001, 'regularization_coefficient': 0.02, 'num_iterations': 1000, 'learning_rate': 0.1}\n",
                  "hyperparameters {'gravity_coefficient': 0.005, 'regularization_coefficient': 0.02, 'num_iterations': 1000, 'learning_rate': 0.1}\n",
                  "hyperparameters {'gravity_coefficient': 0.01, 'regularization_coefficient': 0.02, 'num_iterations': 1000, 'learning_rate': 0.1}\n",
                  "hyperparameters {'gravity_coefficient': 0.02, 'regularization_coefficient': 0.02, 'num_iterations': 1000, 'learning_rate': 0.1}\n",
                  "hyperparameters {'gravity_coefficient': 0.05, 'regularization_coefficient': 0.02, 'num_iterations': 1000, 'learning_rate': 0.1}\n",
                  "hyperparameters {'gravity_coefficient': 0.1, 'regularization_coefficient': 0.02, 'num_iterations': 1000, 'learning_rate': 0.1}\n",
                  "hyperparameters {'gravity_coefficient': 0.2, 'regularization_coefficient': 0.02, 'num_iterations': 1000, 'learning_rate': 0.1}\n",
                  "hyperparameters {'gravity_coefficient': 0.3, 'regularization_coefficient': 0.02, 'num_iterations': 1000, 'learning_rate': 0.1}\n",
                  "hyperparameters {'gravity_coefficient': 0.5, 'regularization_coefficient': 0.02, 'num_iterations': 1000, 'learning_rate': 0.1}\n",
                  "hyperparameters {'gravity_coefficient': 0.001, 'regularization_coefficient': 0.05, 'num_iterations': 1000, 'learning_rate': 0.1}\n",
                  "hyperparameters {'gravity_coefficient': 0.005, 'regularization_coefficient': 0.05, 'num_iterations': 1000, 'learning_rate': 0.1}\n",
                  "hyperparameters {'gravity_coefficient': 0.01, 'regularization_coefficient': 0.05, 'num_iterations': 1000, 'learning_rate': 0.1}\n",
                  "hyperparameters {'gravity_coefficient': 0.02, 'regularization_coefficient': 0.05, 'num_iterations': 1000, 'learning_rate': 0.1}\n",
                  "hyperparameters {'gravity_coefficient': 0.05, 'regularization_coefficient': 0.05, 'num_iterations': 1000, 'learning_rate': 0.1}\n",
                  "hyperparameters {'gravity_coefficient': 0.1, 'regularization_coefficient': 0.05, 'num_iterations': 1000, 'learning_rate': 0.1}\n",
                  "hyperparameters {'gravity_coefficient': 0.2, 'regularization_coefficient': 0.05, 'num_iterations': 1000, 'learning_rate': 0.1}\n",
                  "hyperparameters {'gravity_coefficient': 0.3, 'regularization_coefficient': 0.05, 'num_iterations': 1000, 'learning_rate': 0.1}\n",
                  "hyperparameters {'gravity_coefficient': 0.5, 'regularization_coefficient': 0.05, 'num_iterations': 1000, 'learning_rate': 0.1}\n",
                  "hyperparameters {'gravity_coefficient': 0.001, 'regularization_coefficient': 0.1, 'num_iterations': 1000, 'learning_rate': 0.1}\n",
                  "hyperparameters {'gravity_coefficient': 0.005, 'regularization_coefficient': 0.1, 'num_iterations': 1000, 'learning_rate': 0.1}\n",
                  "hyperparameters {'gravity_coefficient': 0.01, 'regularization_coefficient': 0.1, 'num_iterations': 1000, 'learning_rate': 0.1}\n",
                  "hyperparameters {'gravity_coefficient': 0.02, 'regularization_coefficient': 0.1, 'num_iterations': 1000, 'learning_rate': 0.1}\n",
                  "hyperparameters {'gravity_coefficient': 0.05, 'regularization_coefficient': 0.1, 'num_iterations': 1000, 'learning_rate': 0.1}\n",
                  "hyperparameters {'gravity_coefficient': 0.1, 'regularization_coefficient': 0.1, 'num_iterations': 1000, 'learning_rate': 0.1}\n",
                  "hyperparameters {'gravity_coefficient': 0.2, 'regularization_coefficient': 0.1, 'num_iterations': 1000, 'learning_rate': 0.1}\n",
                  "hyperparameters {'gravity_coefficient': 0.3, 'regularization_coefficient': 0.1, 'num_iterations': 1000, 'learning_rate': 0.1}\n",
                  "hyperparameters {'gravity_coefficient': 0.5, 'regularization_coefficient': 0.1, 'num_iterations': 1000, 'learning_rate': 0.1}\n",
                  "hyperparameters {'gravity_coefficient': 0.001, 'regularization_coefficient': 0.2, 'num_iterations': 1000, 'learning_rate': 0.1}\n",
                  "hyperparameters {'gravity_coefficient': 0.005, 'regularization_coefficient': 0.2, 'num_iterations': 1000, 'learning_rate': 0.1}\n",
                  "hyperparameters {'gravity_coefficient': 0.01, 'regularization_coefficient': 0.2, 'num_iterations': 1000, 'learning_rate': 0.1}\n",
                  "hyperparameters {'gravity_coefficient': 0.02, 'regularization_coefficient': 0.2, 'num_iterations': 1000, 'learning_rate': 0.1}\n",
                  "hyperparameters {'gravity_coefficient': 0.05, 'regularization_coefficient': 0.2, 'num_iterations': 1000, 'learning_rate': 0.1}\n",
                  "hyperparameters {'gravity_coefficient': 0.1, 'regularization_coefficient': 0.2, 'num_iterations': 1000, 'learning_rate': 0.1}\n",
                  "hyperparameters {'gravity_coefficient': 0.2, 'regularization_coefficient': 0.2, 'num_iterations': 1000, 'learning_rate': 0.1}\n",
                  "hyperparameters {'gravity_coefficient': 0.3, 'regularization_coefficient': 0.2, 'num_iterations': 1000, 'learning_rate': 0.1}\n",
                  "hyperparameters {'gravity_coefficient': 0.5, 'regularization_coefficient': 0.2, 'num_iterations': 1000, 'learning_rate': 0.1}\n",
                  "hyperparameters {'gravity_coefficient': 0.001, 'regularization_coefficient': 0.3, 'num_iterations': 1000, 'learning_rate': 0.1}\n",
                  "hyperparameters {'gravity_coefficient': 0.005, 'regularization_coefficient': 0.3, 'num_iterations': 1000, 'learning_rate': 0.1}\n",
                  "hyperparameters {'gravity_coefficient': 0.01, 'regularization_coefficient': 0.3, 'num_iterations': 1000, 'learning_rate': 0.1}\n",
                  "hyperparameters {'gravity_coefficient': 0.02, 'regularization_coefficient': 0.3, 'num_iterations': 1000, 'learning_rate': 0.1}\n",
                  "hyperparameters {'gravity_coefficient': 0.05, 'regularization_coefficient': 0.3, 'num_iterations': 1000, 'learning_rate': 0.1}\n",
                  "hyperparameters {'gravity_coefficient': 0.1, 'regularization_coefficient': 0.3, 'num_iterations': 1000, 'learning_rate': 0.1}\n",
                  "hyperparameters {'gravity_coefficient': 0.2, 'regularization_coefficient': 0.3, 'num_iterations': 1000, 'learning_rate': 0.1}\n",
                  "hyperparameters {'gravity_coefficient': 0.3, 'regularization_coefficient': 0.3, 'num_iterations': 1000, 'learning_rate': 0.1}\n",
                  "hyperparameters {'gravity_coefficient': 0.5, 'regularization_coefficient': 0.3, 'num_iterations': 1000, 'learning_rate': 0.1}\n",
                  "hyperparameters {'gravity_coefficient': 0.001, 'regularization_coefficient': 0.5, 'num_iterations': 1000, 'learning_rate': 0.1}\n",
                  "hyperparameters {'gravity_coefficient': 0.005, 'regularization_coefficient': 0.5, 'num_iterations': 1000, 'learning_rate': 0.1}\n",
                  "hyperparameters {'gravity_coefficient': 0.01, 'regularization_coefficient': 0.5, 'num_iterations': 1000, 'learning_rate': 0.1}\n",
                  "hyperparameters {'gravity_coefficient': 0.02, 'regularization_coefficient': 0.5, 'num_iterations': 1000, 'learning_rate': 0.1}\n",
                  "hyperparameters {'gravity_coefficient': 0.05, 'regularization_coefficient': 0.5, 'num_iterations': 1000, 'learning_rate': 0.1}\n",
                  "hyperparameters {'gravity_coefficient': 0.1, 'regularization_coefficient': 0.5, 'num_iterations': 1000, 'learning_rate': 0.1}\n",
                  "hyperparameters {'gravity_coefficient': 0.2, 'regularization_coefficient': 0.5, 'num_iterations': 1000, 'learning_rate': 0.1}\n",
                  "hyperparameters {'gravity_coefficient': 0.3, 'regularization_coefficient': 0.5, 'num_iterations': 1000, 'learning_rate': 0.1}\n",
                  "hyperparameters {'gravity_coefficient': 0.5, 'regularization_coefficient': 0.5, 'num_iterations': 1000, 'learning_rate': 0.1}\n",
                  "hyperparameters {'gravity_coefficient': 0.001, 'regularization_coefficient': 0.001, 'num_iterations': 1000, 'learning_rate': 1.0}\n",
                  "hyperparameters {'gravity_coefficient': 0.005, 'regularization_coefficient': 0.001, 'num_iterations': 1000, 'learning_rate': 1.0}\n",
                  "hyperparameters {'gravity_coefficient': 0.01, 'regularization_coefficient': 0.001, 'num_iterations': 1000, 'learning_rate': 1.0}\n",
                  "hyperparameters {'gravity_coefficient': 0.02, 'regularization_coefficient': 0.001, 'num_iterations': 1000, 'learning_rate': 1.0}\n",
                  "hyperparameters {'gravity_coefficient': 0.05, 'regularization_coefficient': 0.001, 'num_iterations': 1000, 'learning_rate': 1.0}\n",
                  "hyperparameters {'gravity_coefficient': 0.1, 'regularization_coefficient': 0.001, 'num_iterations': 1000, 'learning_rate': 1.0}\n",
                  "hyperparameters {'gravity_coefficient': 0.2, 'regularization_coefficient': 0.001, 'num_iterations': 1000, 'learning_rate': 1.0}\n",
                  "hyperparameters {'gravity_coefficient': 0.3, 'regularization_coefficient': 0.001, 'num_iterations': 1000, 'learning_rate': 1.0}\n",
                  "hyperparameters {'gravity_coefficient': 0.5, 'regularization_coefficient': 0.001, 'num_iterations': 1000, 'learning_rate': 1.0}\n",
                  "hyperparameters {'gravity_coefficient': 0.001, 'regularization_coefficient': 0.005, 'num_iterations': 1000, 'learning_rate': 1.0}\n",
                  "hyperparameters {'gravity_coefficient': 0.005, 'regularization_coefficient': 0.005, 'num_iterations': 1000, 'learning_rate': 1.0}\n",
                  "hyperparameters {'gravity_coefficient': 0.01, 'regularization_coefficient': 0.005, 'num_iterations': 1000, 'learning_rate': 1.0}\n",
                  "hyperparameters {'gravity_coefficient': 0.02, 'regularization_coefficient': 0.005, 'num_iterations': 1000, 'learning_rate': 1.0}\n",
                  "hyperparameters {'gravity_coefficient': 0.05, 'regularization_coefficient': 0.005, 'num_iterations': 1000, 'learning_rate': 1.0}\n",
                  "hyperparameters {'gravity_coefficient': 0.1, 'regularization_coefficient': 0.005, 'num_iterations': 1000, 'learning_rate': 1.0}\n",
                  "hyperparameters {'gravity_coefficient': 0.2, 'regularization_coefficient': 0.005, 'num_iterations': 1000, 'learning_rate': 1.0}\n",
                  "hyperparameters {'gravity_coefficient': 0.3, 'regularization_coefficient': 0.005, 'num_iterations': 1000, 'learning_rate': 1.0}\n",
                  "hyperparameters {'gravity_coefficient': 0.5, 'regularization_coefficient': 0.005, 'num_iterations': 1000, 'learning_rate': 1.0}\n",
                  "hyperparameters {'gravity_coefficient': 0.001, 'regularization_coefficient': 0.01, 'num_iterations': 1000, 'learning_rate': 1.0}\n",
                  "hyperparameters {'gravity_coefficient': 0.005, 'regularization_coefficient': 0.01, 'num_iterations': 1000, 'learning_rate': 1.0}\n",
                  "hyperparameters {'gravity_coefficient': 0.01, 'regularization_coefficient': 0.01, 'num_iterations': 1000, 'learning_rate': 1.0}\n",
                  "hyperparameters {'gravity_coefficient': 0.02, 'regularization_coefficient': 0.01, 'num_iterations': 1000, 'learning_rate': 1.0}\n",
                  "hyperparameters {'gravity_coefficient': 0.05, 'regularization_coefficient': 0.01, 'num_iterations': 1000, 'learning_rate': 1.0}\n",
                  "hyperparameters {'gravity_coefficient': 0.1, 'regularization_coefficient': 0.01, 'num_iterations': 1000, 'learning_rate': 1.0}\n",
                  "hyperparameters {'gravity_coefficient': 0.2, 'regularization_coefficient': 0.01, 'num_iterations': 1000, 'learning_rate': 1.0}\n",
                  "hyperparameters {'gravity_coefficient': 0.3, 'regularization_coefficient': 0.01, 'num_iterations': 1000, 'learning_rate': 1.0}\n",
                  "hyperparameters {'gravity_coefficient': 0.5, 'regularization_coefficient': 0.01, 'num_iterations': 1000, 'learning_rate': 1.0}\n",
                  "hyperparameters {'gravity_coefficient': 0.001, 'regularization_coefficient': 0.02, 'num_iterations': 1000, 'learning_rate': 1.0}\n",
                  "hyperparameters {'gravity_coefficient': 0.005, 'regularization_coefficient': 0.02, 'num_iterations': 1000, 'learning_rate': 1.0}\n",
                  "hyperparameters {'gravity_coefficient': 0.01, 'regularization_coefficient': 0.02, 'num_iterations': 1000, 'learning_rate': 1.0}\n",
                  "hyperparameters {'gravity_coefficient': 0.02, 'regularization_coefficient': 0.02, 'num_iterations': 1000, 'learning_rate': 1.0}\n",
                  "hyperparameters {'gravity_coefficient': 0.05, 'regularization_coefficient': 0.02, 'num_iterations': 1000, 'learning_rate': 1.0}\n",
                  "hyperparameters {'gravity_coefficient': 0.1, 'regularization_coefficient': 0.02, 'num_iterations': 1000, 'learning_rate': 1.0}\n",
                  "hyperparameters {'gravity_coefficient': 0.2, 'regularization_coefficient': 0.02, 'num_iterations': 1000, 'learning_rate': 1.0}\n",
                  "hyperparameters {'gravity_coefficient': 0.3, 'regularization_coefficient': 0.02, 'num_iterations': 1000, 'learning_rate': 1.0}\n",
                  "hyperparameters {'gravity_coefficient': 0.5, 'regularization_coefficient': 0.02, 'num_iterations': 1000, 'learning_rate': 1.0}\n",
                  "hyperparameters {'gravity_coefficient': 0.001, 'regularization_coefficient': 0.05, 'num_iterations': 1000, 'learning_rate': 1.0}\n",
                  "hyperparameters {'gravity_coefficient': 0.005, 'regularization_coefficient': 0.05, 'num_iterations': 1000, 'learning_rate': 1.0}\n",
                  "hyperparameters {'gravity_coefficient': 0.01, 'regularization_coefficient': 0.05, 'num_iterations': 1000, 'learning_rate': 1.0}\n",
                  "hyperparameters {'gravity_coefficient': 0.02, 'regularization_coefficient': 0.05, 'num_iterations': 1000, 'learning_rate': 1.0}\n",
                  "hyperparameters {'gravity_coefficient': 0.05, 'regularization_coefficient': 0.05, 'num_iterations': 1000, 'learning_rate': 1.0}\n",
                  "hyperparameters {'gravity_coefficient': 0.1, 'regularization_coefficient': 0.05, 'num_iterations': 1000, 'learning_rate': 1.0}\n",
                  "hyperparameters {'gravity_coefficient': 0.2, 'regularization_coefficient': 0.05, 'num_iterations': 1000, 'learning_rate': 1.0}\n",
                  "hyperparameters {'gravity_coefficient': 0.3, 'regularization_coefficient': 0.05, 'num_iterations': 1000, 'learning_rate': 1.0}\n",
                  "hyperparameters {'gravity_coefficient': 0.5, 'regularization_coefficient': 0.05, 'num_iterations': 1000, 'learning_rate': 1.0}\n",
                  "hyperparameters {'gravity_coefficient': 0.001, 'regularization_coefficient': 0.1, 'num_iterations': 1000, 'learning_rate': 1.0}\n",
                  "hyperparameters {'gravity_coefficient': 0.005, 'regularization_coefficient': 0.1, 'num_iterations': 1000, 'learning_rate': 1.0}\n",
                  "hyperparameters {'gravity_coefficient': 0.01, 'regularization_coefficient': 0.1, 'num_iterations': 1000, 'learning_rate': 1.0}\n",
                  "hyperparameters {'gravity_coefficient': 0.02, 'regularization_coefficient': 0.1, 'num_iterations': 1000, 'learning_rate': 1.0}\n",
                  "hyperparameters {'gravity_coefficient': 0.05, 'regularization_coefficient': 0.1, 'num_iterations': 1000, 'learning_rate': 1.0}\n",
                  "hyperparameters {'gravity_coefficient': 0.1, 'regularization_coefficient': 0.1, 'num_iterations': 1000, 'learning_rate': 1.0}\n",
                  "hyperparameters {'gravity_coefficient': 0.2, 'regularization_coefficient': 0.1, 'num_iterations': 1000, 'learning_rate': 1.0}\n",
                  "hyperparameters {'gravity_coefficient': 0.3, 'regularization_coefficient': 0.1, 'num_iterations': 1000, 'learning_rate': 1.0}\n",
                  "hyperparameters {'gravity_coefficient': 0.5, 'regularization_coefficient': 0.1, 'num_iterations': 1000, 'learning_rate': 1.0}\n",
                  "hyperparameters {'gravity_coefficient': 0.001, 'regularization_coefficient': 0.2, 'num_iterations': 1000, 'learning_rate': 1.0}\n",
                  "hyperparameters {'gravity_coefficient': 0.005, 'regularization_coefficient': 0.2, 'num_iterations': 1000, 'learning_rate': 1.0}\n",
                  "hyperparameters {'gravity_coefficient': 0.01, 'regularization_coefficient': 0.2, 'num_iterations': 1000, 'learning_rate': 1.0}\n",
                  "hyperparameters {'gravity_coefficient': 0.02, 'regularization_coefficient': 0.2, 'num_iterations': 1000, 'learning_rate': 1.0}\n",
                  "hyperparameters {'gravity_coefficient': 0.05, 'regularization_coefficient': 0.2, 'num_iterations': 1000, 'learning_rate': 1.0}\n",
                  "hyperparameters {'gravity_coefficient': 0.1, 'regularization_coefficient': 0.2, 'num_iterations': 1000, 'learning_rate': 1.0}\n",
                  "hyperparameters {'gravity_coefficient': 0.2, 'regularization_coefficient': 0.2, 'num_iterations': 1000, 'learning_rate': 1.0}\n",
                  "hyperparameters {'gravity_coefficient': 0.3, 'regularization_coefficient': 0.2, 'num_iterations': 1000, 'learning_rate': 1.0}\n",
                  "hyperparameters {'gravity_coefficient': 0.5, 'regularization_coefficient': 0.2, 'num_iterations': 1000, 'learning_rate': 1.0}\n",
                  "hyperparameters {'gravity_coefficient': 0.001, 'regularization_coefficient': 0.3, 'num_iterations': 1000, 'learning_rate': 1.0}\n",
                  "hyperparameters {'gravity_coefficient': 0.005, 'regularization_coefficient': 0.3, 'num_iterations': 1000, 'learning_rate': 1.0}\n",
                  "hyperparameters {'gravity_coefficient': 0.01, 'regularization_coefficient': 0.3, 'num_iterations': 1000, 'learning_rate': 1.0}\n",
                  "hyperparameters {'gravity_coefficient': 0.02, 'regularization_coefficient': 0.3, 'num_iterations': 1000, 'learning_rate': 1.0}\n",
                  "hyperparameters {'gravity_coefficient': 0.05, 'regularization_coefficient': 0.3, 'num_iterations': 1000, 'learning_rate': 1.0}\n",
                  "hyperparameters {'gravity_coefficient': 0.1, 'regularization_coefficient': 0.3, 'num_iterations': 1000, 'learning_rate': 1.0}\n",
                  "hyperparameters {'gravity_coefficient': 0.2, 'regularization_coefficient': 0.3, 'num_iterations': 1000, 'learning_rate': 1.0}\n",
                  "hyperparameters {'gravity_coefficient': 0.3, 'regularization_coefficient': 0.3, 'num_iterations': 1000, 'learning_rate': 1.0}\n",
                  "hyperparameters {'gravity_coefficient': 0.5, 'regularization_coefficient': 0.3, 'num_iterations': 1000, 'learning_rate': 1.0}\n",
                  "hyperparameters {'gravity_coefficient': 0.001, 'regularization_coefficient': 0.5, 'num_iterations': 1000, 'learning_rate': 1.0}\n",
                  "hyperparameters {'gravity_coefficient': 0.005, 'regularization_coefficient': 0.5, 'num_iterations': 1000, 'learning_rate': 1.0}\n",
                  "hyperparameters {'gravity_coefficient': 0.01, 'regularization_coefficient': 0.5, 'num_iterations': 1000, 'learning_rate': 1.0}\n",
                  "hyperparameters {'gravity_coefficient': 0.02, 'regularization_coefficient': 0.5, 'num_iterations': 1000, 'learning_rate': 1.0}\n",
                  "hyperparameters {'gravity_coefficient': 0.05, 'regularization_coefficient': 0.5, 'num_iterations': 1000, 'learning_rate': 1.0}\n",
                  "hyperparameters {'gravity_coefficient': 0.1, 'regularization_coefficient': 0.5, 'num_iterations': 1000, 'learning_rate': 1.0}\n",
                  "hyperparameters {'gravity_coefficient': 0.2, 'regularization_coefficient': 0.5, 'num_iterations': 1000, 'learning_rate': 1.0}\n",
                  "hyperparameters {'gravity_coefficient': 0.3, 'regularization_coefficient': 0.5, 'num_iterations': 1000, 'learning_rate': 1.0}\n",
                  "hyperparameters {'gravity_coefficient': 0.5, 'regularization_coefficient': 0.5, 'num_iterations': 1000, 'learning_rate': 1.0}\n",
                  "hyperparameters {'gravity_coefficient': 0.001, 'regularization_coefficient': 0.001, 'num_iterations': 1000, 'learning_rate': 10.0}\n",
                  "hyperparameters {'gravity_coefficient': 0.005, 'regularization_coefficient': 0.001, 'num_iterations': 1000, 'learning_rate': 10.0}\n",
                  "hyperparameters {'gravity_coefficient': 0.01, 'regularization_coefficient': 0.001, 'num_iterations': 1000, 'learning_rate': 10.0}\n",
                  "hyperparameters {'gravity_coefficient': 0.02, 'regularization_coefficient': 0.001, 'num_iterations': 1000, 'learning_rate': 10.0}\n",
                  "hyperparameters {'gravity_coefficient': 0.05, 'regularization_coefficient': 0.001, 'num_iterations': 1000, 'learning_rate': 10.0}\n",
                  "hyperparameters {'gravity_coefficient': 0.1, 'regularization_coefficient': 0.001, 'num_iterations': 1000, 'learning_rate': 10.0}\n",
                  "hyperparameters {'gravity_coefficient': 0.2, 'regularization_coefficient': 0.001, 'num_iterations': 1000, 'learning_rate': 10.0}\n",
                  "hyperparameters {'gravity_coefficient': 0.3, 'regularization_coefficient': 0.001, 'num_iterations': 1000, 'learning_rate': 10.0}\n",
                  "hyperparameters {'gravity_coefficient': 0.5, 'regularization_coefficient': 0.001, 'num_iterations': 1000, 'learning_rate': 10.0}\n",
                  "hyperparameters {'gravity_coefficient': 0.001, 'regularization_coefficient': 0.005, 'num_iterations': 1000, 'learning_rate': 10.0}\n",
                  "hyperparameters {'gravity_coefficient': 0.005, 'regularization_coefficient': 0.005, 'num_iterations': 1000, 'learning_rate': 10.0}\n",
                  "hyperparameters {'gravity_coefficient': 0.01, 'regularization_coefficient': 0.005, 'num_iterations': 1000, 'learning_rate': 10.0}\n",
                  "hyperparameters {'gravity_coefficient': 0.02, 'regularization_coefficient': 0.005, 'num_iterations': 1000, 'learning_rate': 10.0}\n",
                  "hyperparameters {'gravity_coefficient': 0.05, 'regularization_coefficient': 0.005, 'num_iterations': 1000, 'learning_rate': 10.0}\n",
                  "hyperparameters {'gravity_coefficient': 0.1, 'regularization_coefficient': 0.005, 'num_iterations': 1000, 'learning_rate': 10.0}\n",
                  "hyperparameters {'gravity_coefficient': 0.2, 'regularization_coefficient': 0.005, 'num_iterations': 1000, 'learning_rate': 10.0}\n",
                  "hyperparameters {'gravity_coefficient': 0.3, 'regularization_coefficient': 0.005, 'num_iterations': 1000, 'learning_rate': 10.0}\n",
                  "hyperparameters {'gravity_coefficient': 0.5, 'regularization_coefficient': 0.005, 'num_iterations': 1000, 'learning_rate': 10.0}\n",
                  "hyperparameters {'gravity_coefficient': 0.001, 'regularization_coefficient': 0.01, 'num_iterations': 1000, 'learning_rate': 10.0}\n",
                  "hyperparameters {'gravity_coefficient': 0.005, 'regularization_coefficient': 0.01, 'num_iterations': 1000, 'learning_rate': 10.0}\n",
                  "hyperparameters {'gravity_coefficient': 0.01, 'regularization_coefficient': 0.01, 'num_iterations': 1000, 'learning_rate': 10.0}\n",
                  "hyperparameters {'gravity_coefficient': 0.02, 'regularization_coefficient': 0.01, 'num_iterations': 1000, 'learning_rate': 10.0}\n",
                  "hyperparameters {'gravity_coefficient': 0.05, 'regularization_coefficient': 0.01, 'num_iterations': 1000, 'learning_rate': 10.0}\n",
                  "hyperparameters {'gravity_coefficient': 0.1, 'regularization_coefficient': 0.01, 'num_iterations': 1000, 'learning_rate': 10.0}\n",
                  "hyperparameters {'gravity_coefficient': 0.2, 'regularization_coefficient': 0.01, 'num_iterations': 1000, 'learning_rate': 10.0}\n",
                  "hyperparameters {'gravity_coefficient': 0.3, 'regularization_coefficient': 0.01, 'num_iterations': 1000, 'learning_rate': 10.0}\n",
                  "hyperparameters {'gravity_coefficient': 0.5, 'regularization_coefficient': 0.01, 'num_iterations': 1000, 'learning_rate': 10.0}\n",
                  "hyperparameters {'gravity_coefficient': 0.001, 'regularization_coefficient': 0.02, 'num_iterations': 1000, 'learning_rate': 10.0}\n",
                  "hyperparameters {'gravity_coefficient': 0.005, 'regularization_coefficient': 0.02, 'num_iterations': 1000, 'learning_rate': 10.0}\n",
                  "hyperparameters {'gravity_coefficient': 0.01, 'regularization_coefficient': 0.02, 'num_iterations': 1000, 'learning_rate': 10.0}\n",
                  "hyperparameters {'gravity_coefficient': 0.02, 'regularization_coefficient': 0.02, 'num_iterations': 1000, 'learning_rate': 10.0}\n",
                  "hyperparameters {'gravity_coefficient': 0.05, 'regularization_coefficient': 0.02, 'num_iterations': 1000, 'learning_rate': 10.0}\n",
                  "hyperparameters {'gravity_coefficient': 0.1, 'regularization_coefficient': 0.02, 'num_iterations': 1000, 'learning_rate': 10.0}\n",
                  "hyperparameters {'gravity_coefficient': 0.2, 'regularization_coefficient': 0.02, 'num_iterations': 1000, 'learning_rate': 10.0}\n",
                  "hyperparameters {'gravity_coefficient': 0.3, 'regularization_coefficient': 0.02, 'num_iterations': 1000, 'learning_rate': 10.0}\n",
                  "hyperparameters {'gravity_coefficient': 0.5, 'regularization_coefficient': 0.02, 'num_iterations': 1000, 'learning_rate': 10.0}\n",
                  "hyperparameters {'gravity_coefficient': 0.001, 'regularization_coefficient': 0.05, 'num_iterations': 1000, 'learning_rate': 10.0}\n",
                  "hyperparameters {'gravity_coefficient': 0.005, 'regularization_coefficient': 0.05, 'num_iterations': 1000, 'learning_rate': 10.0}\n",
                  "hyperparameters {'gravity_coefficient': 0.01, 'regularization_coefficient': 0.05, 'num_iterations': 1000, 'learning_rate': 10.0}\n",
                  "hyperparameters {'gravity_coefficient': 0.02, 'regularization_coefficient': 0.05, 'num_iterations': 1000, 'learning_rate': 10.0}\n",
                  "hyperparameters {'gravity_coefficient': 0.05, 'regularization_coefficient': 0.05, 'num_iterations': 1000, 'learning_rate': 10.0}\n",
                  "hyperparameters {'gravity_coefficient': 0.1, 'regularization_coefficient': 0.05, 'num_iterations': 1000, 'learning_rate': 10.0}\n",
                  "hyperparameters {'gravity_coefficient': 0.2, 'regularization_coefficient': 0.05, 'num_iterations': 1000, 'learning_rate': 10.0}\n",
                  "hyperparameters {'gravity_coefficient': 0.3, 'regularization_coefficient': 0.05, 'num_iterations': 1000, 'learning_rate': 10.0}\n",
                  "hyperparameters {'gravity_coefficient': 0.5, 'regularization_coefficient': 0.05, 'num_iterations': 1000, 'learning_rate': 10.0}\n",
                  "hyperparameters {'gravity_coefficient': 0.001, 'regularization_coefficient': 0.1, 'num_iterations': 1000, 'learning_rate': 10.0}\n",
                  "hyperparameters {'gravity_coefficient': 0.005, 'regularization_coefficient': 0.1, 'num_iterations': 1000, 'learning_rate': 10.0}\n",
                  "hyperparameters {'gravity_coefficient': 0.01, 'regularization_coefficient': 0.1, 'num_iterations': 1000, 'learning_rate': 10.0}\n",
                  "hyperparameters {'gravity_coefficient': 0.02, 'regularization_coefficient': 0.1, 'num_iterations': 1000, 'learning_rate': 10.0}\n",
                  "hyperparameters {'gravity_coefficient': 0.05, 'regularization_coefficient': 0.1, 'num_iterations': 1000, 'learning_rate': 10.0}\n",
                  "hyperparameters {'gravity_coefficient': 0.1, 'regularization_coefficient': 0.1, 'num_iterations': 1000, 'learning_rate': 10.0}\n",
                  "hyperparameters {'gravity_coefficient': 0.2, 'regularization_coefficient': 0.1, 'num_iterations': 1000, 'learning_rate': 10.0}\n",
                  "hyperparameters {'gravity_coefficient': 0.3, 'regularization_coefficient': 0.1, 'num_iterations': 1000, 'learning_rate': 10.0}\n",
                  "hyperparameters {'gravity_coefficient': 0.5, 'regularization_coefficient': 0.1, 'num_iterations': 1000, 'learning_rate': 10.0}\n",
                  "hyperparameters {'gravity_coefficient': 0.001, 'regularization_coefficient': 0.2, 'num_iterations': 1000, 'learning_rate': 10.0}\n",
                  "hyperparameters {'gravity_coefficient': 0.005, 'regularization_coefficient': 0.2, 'num_iterations': 1000, 'learning_rate': 10.0}\n",
                  "hyperparameters {'gravity_coefficient': 0.01, 'regularization_coefficient': 0.2, 'num_iterations': 1000, 'learning_rate': 10.0}\n",
                  "hyperparameters {'gravity_coefficient': 0.02, 'regularization_coefficient': 0.2, 'num_iterations': 1000, 'learning_rate': 10.0}\n",
                  "hyperparameters {'gravity_coefficient': 0.05, 'regularization_coefficient': 0.2, 'num_iterations': 1000, 'learning_rate': 10.0}\n",
                  "hyperparameters {'gravity_coefficient': 0.1, 'regularization_coefficient': 0.2, 'num_iterations': 1000, 'learning_rate': 10.0}\n",
                  "hyperparameters {'gravity_coefficient': 0.2, 'regularization_coefficient': 0.2, 'num_iterations': 1000, 'learning_rate': 10.0}\n",
                  "hyperparameters {'gravity_coefficient': 0.3, 'regularization_coefficient': 0.2, 'num_iterations': 1000, 'learning_rate': 10.0}\n",
                  "hyperparameters {'gravity_coefficient': 0.5, 'regularization_coefficient': 0.2, 'num_iterations': 1000, 'learning_rate': 10.0}\n",
                  "hyperparameters {'gravity_coefficient': 0.001, 'regularization_coefficient': 0.3, 'num_iterations': 1000, 'learning_rate': 10.0}\n",
                  "hyperparameters {'gravity_coefficient': 0.005, 'regularization_coefficient': 0.3, 'num_iterations': 1000, 'learning_rate': 10.0}\n",
                  "hyperparameters {'gravity_coefficient': 0.01, 'regularization_coefficient': 0.3, 'num_iterations': 1000, 'learning_rate': 10.0}\n",
                  "hyperparameters {'gravity_coefficient': 0.02, 'regularization_coefficient': 0.3, 'num_iterations': 1000, 'learning_rate': 10.0}\n",
                  "hyperparameters {'gravity_coefficient': 0.05, 'regularization_coefficient': 0.3, 'num_iterations': 1000, 'learning_rate': 10.0}\n",
                  "hyperparameters {'gravity_coefficient': 0.1, 'regularization_coefficient': 0.3, 'num_iterations': 1000, 'learning_rate': 10.0}\n",
                  "hyperparameters {'gravity_coefficient': 0.2, 'regularization_coefficient': 0.3, 'num_iterations': 1000, 'learning_rate': 10.0}\n",
                  "hyperparameters {'gravity_coefficient': 0.3, 'regularization_coefficient': 0.3, 'num_iterations': 1000, 'learning_rate': 10.0}\n",
                  "hyperparameters {'gravity_coefficient': 0.5, 'regularization_coefficient': 0.3, 'num_iterations': 1000, 'learning_rate': 10.0}\n",
                  "hyperparameters {'gravity_coefficient': 0.001, 'regularization_coefficient': 0.5, 'num_iterations': 1000, 'learning_rate': 10.0}\n",
                  "hyperparameters {'gravity_coefficient': 0.005, 'regularization_coefficient': 0.5, 'num_iterations': 1000, 'learning_rate': 10.0}\n",
                  "hyperparameters {'gravity_coefficient': 0.01, 'regularization_coefficient': 0.5, 'num_iterations': 1000, 'learning_rate': 10.0}\n",
                  "hyperparameters {'gravity_coefficient': 0.02, 'regularization_coefficient': 0.5, 'num_iterations': 1000, 'learning_rate': 10.0}\n",
                  "hyperparameters {'gravity_coefficient': 0.05, 'regularization_coefficient': 0.5, 'num_iterations': 1000, 'learning_rate': 10.0}\n",
                  "hyperparameters {'gravity_coefficient': 0.1, 'regularization_coefficient': 0.5, 'num_iterations': 1000, 'learning_rate': 10.0}\n",
                  "hyperparameters {'gravity_coefficient': 0.2, 'regularization_coefficient': 0.5, 'num_iterations': 1000, 'learning_rate': 10.0}\n",
                  "hyperparameters {'gravity_coefficient': 0.3, 'regularization_coefficient': 0.5, 'num_iterations': 1000, 'learning_rate': 10.0}\n",
                  "hyperparameters {'gravity_coefficient': 0.5, 'regularization_coefficient': 0.5, 'num_iterations': 1000, 'learning_rate': 10.0}\n",
                  "hyperparameters {'gravity_coefficient': 0.001, 'regularization_coefficient': 0.001, 'num_iterations': 1000, 'learning_rate': 20.0}\n",
                  "hyperparameters {'gravity_coefficient': 0.005, 'regularization_coefficient': 0.001, 'num_iterations': 1000, 'learning_rate': 20.0}\n",
                  "hyperparameters {'gravity_coefficient': 0.01, 'regularization_coefficient': 0.001, 'num_iterations': 1000, 'learning_rate': 20.0}\n",
                  "hyperparameters {'gravity_coefficient': 0.02, 'regularization_coefficient': 0.001, 'num_iterations': 1000, 'learning_rate': 20.0}\n",
                  "hyperparameters {'gravity_coefficient': 0.05, 'regularization_coefficient': 0.001, 'num_iterations': 1000, 'learning_rate': 20.0}\n",
                  "hyperparameters {'gravity_coefficient': 0.1, 'regularization_coefficient': 0.001, 'num_iterations': 1000, 'learning_rate': 20.0}\n",
                  "hyperparameters {'gravity_coefficient': 0.2, 'regularization_coefficient': 0.001, 'num_iterations': 1000, 'learning_rate': 20.0}\n",
                  "hyperparameters {'gravity_coefficient': 0.3, 'regularization_coefficient': 0.001, 'num_iterations': 1000, 'learning_rate': 20.0}\n",
                  "hyperparameters {'gravity_coefficient': 0.5, 'regularization_coefficient': 0.001, 'num_iterations': 1000, 'learning_rate': 20.0}\n",
                  "hyperparameters {'gravity_coefficient': 0.001, 'regularization_coefficient': 0.005, 'num_iterations': 1000, 'learning_rate': 20.0}\n",
                  "hyperparameters {'gravity_coefficient': 0.005, 'regularization_coefficient': 0.005, 'num_iterations': 1000, 'learning_rate': 20.0}\n",
                  "hyperparameters {'gravity_coefficient': 0.01, 'regularization_coefficient': 0.005, 'num_iterations': 1000, 'learning_rate': 20.0}\n",
                  "hyperparameters {'gravity_coefficient': 0.02, 'regularization_coefficient': 0.005, 'num_iterations': 1000, 'learning_rate': 20.0}\n",
                  "hyperparameters {'gravity_coefficient': 0.05, 'regularization_coefficient': 0.005, 'num_iterations': 1000, 'learning_rate': 20.0}\n",
                  "hyperparameters {'gravity_coefficient': 0.1, 'regularization_coefficient': 0.005, 'num_iterations': 1000, 'learning_rate': 20.0}\n",
                  "hyperparameters {'gravity_coefficient': 0.2, 'regularization_coefficient': 0.005, 'num_iterations': 1000, 'learning_rate': 20.0}\n",
                  "hyperparameters {'gravity_coefficient': 0.3, 'regularization_coefficient': 0.005, 'num_iterations': 1000, 'learning_rate': 20.0}\n",
                  "hyperparameters {'gravity_coefficient': 0.5, 'regularization_coefficient': 0.005, 'num_iterations': 1000, 'learning_rate': 20.0}\n",
                  "hyperparameters {'gravity_coefficient': 0.001, 'regularization_coefficient': 0.01, 'num_iterations': 1000, 'learning_rate': 20.0}\n",
                  "hyperparameters {'gravity_coefficient': 0.005, 'regularization_coefficient': 0.01, 'num_iterations': 1000, 'learning_rate': 20.0}\n",
                  "hyperparameters {'gravity_coefficient': 0.01, 'regularization_coefficient': 0.01, 'num_iterations': 1000, 'learning_rate': 20.0}\n",
                  "hyperparameters {'gravity_coefficient': 0.02, 'regularization_coefficient': 0.01, 'num_iterations': 1000, 'learning_rate': 20.0}\n",
                  "hyperparameters {'gravity_coefficient': 0.05, 'regularization_coefficient': 0.01, 'num_iterations': 1000, 'learning_rate': 20.0}\n",
                  "hyperparameters {'gravity_coefficient': 0.1, 'regularization_coefficient': 0.01, 'num_iterations': 1000, 'learning_rate': 20.0}\n",
                  "hyperparameters {'gravity_coefficient': 0.2, 'regularization_coefficient': 0.01, 'num_iterations': 1000, 'learning_rate': 20.0}\n",
                  "hyperparameters {'gravity_coefficient': 0.3, 'regularization_coefficient': 0.01, 'num_iterations': 1000, 'learning_rate': 20.0}\n",
                  "hyperparameters {'gravity_coefficient': 0.5, 'regularization_coefficient': 0.01, 'num_iterations': 1000, 'learning_rate': 20.0}\n",
                  "hyperparameters {'gravity_coefficient': 0.001, 'regularization_coefficient': 0.02, 'num_iterations': 1000, 'learning_rate': 20.0}\n",
                  "hyperparameters {'gravity_coefficient': 0.005, 'regularization_coefficient': 0.02, 'num_iterations': 1000, 'learning_rate': 20.0}\n",
                  "hyperparameters {'gravity_coefficient': 0.01, 'regularization_coefficient': 0.02, 'num_iterations': 1000, 'learning_rate': 20.0}\n",
                  "hyperparameters {'gravity_coefficient': 0.02, 'regularization_coefficient': 0.02, 'num_iterations': 1000, 'learning_rate': 20.0}\n",
                  "hyperparameters {'gravity_coefficient': 0.05, 'regularization_coefficient': 0.02, 'num_iterations': 1000, 'learning_rate': 20.0}\n",
                  "hyperparameters {'gravity_coefficient': 0.1, 'regularization_coefficient': 0.02, 'num_iterations': 1000, 'learning_rate': 20.0}\n",
                  "hyperparameters {'gravity_coefficient': 0.2, 'regularization_coefficient': 0.02, 'num_iterations': 1000, 'learning_rate': 20.0}\n",
                  "hyperparameters {'gravity_coefficient': 0.3, 'regularization_coefficient': 0.02, 'num_iterations': 1000, 'learning_rate': 20.0}\n",
                  "hyperparameters {'gravity_coefficient': 0.5, 'regularization_coefficient': 0.02, 'num_iterations': 1000, 'learning_rate': 20.0}\n",
                  "hyperparameters {'gravity_coefficient': 0.001, 'regularization_coefficient': 0.05, 'num_iterations': 1000, 'learning_rate': 20.0}\n",
                  "hyperparameters {'gravity_coefficient': 0.005, 'regularization_coefficient': 0.05, 'num_iterations': 1000, 'learning_rate': 20.0}\n",
                  "hyperparameters {'gravity_coefficient': 0.01, 'regularization_coefficient': 0.05, 'num_iterations': 1000, 'learning_rate': 20.0}\n",
                  "hyperparameters {'gravity_coefficient': 0.02, 'regularization_coefficient': 0.05, 'num_iterations': 1000, 'learning_rate': 20.0}\n",
                  "hyperparameters {'gravity_coefficient': 0.05, 'regularization_coefficient': 0.05, 'num_iterations': 1000, 'learning_rate': 20.0}\n",
                  "hyperparameters {'gravity_coefficient': 0.1, 'regularization_coefficient': 0.05, 'num_iterations': 1000, 'learning_rate': 20.0}\n",
                  "hyperparameters {'gravity_coefficient': 0.2, 'regularization_coefficient': 0.05, 'num_iterations': 1000, 'learning_rate': 20.0}\n",
                  "hyperparameters {'gravity_coefficient': 0.3, 'regularization_coefficient': 0.05, 'num_iterations': 1000, 'learning_rate': 20.0}\n",
                  "hyperparameters {'gravity_coefficient': 0.5, 'regularization_coefficient': 0.05, 'num_iterations': 1000, 'learning_rate': 20.0}\n",
                  "hyperparameters {'gravity_coefficient': 0.001, 'regularization_coefficient': 0.1, 'num_iterations': 1000, 'learning_rate': 20.0}\n",
                  "hyperparameters {'gravity_coefficient': 0.005, 'regularization_coefficient': 0.1, 'num_iterations': 1000, 'learning_rate': 20.0}\n",
                  "hyperparameters {'gravity_coefficient': 0.01, 'regularization_coefficient': 0.1, 'num_iterations': 1000, 'learning_rate': 20.0}\n",
                  "hyperparameters {'gravity_coefficient': 0.02, 'regularization_coefficient': 0.1, 'num_iterations': 1000, 'learning_rate': 20.0}\n",
                  "hyperparameters {'gravity_coefficient': 0.05, 'regularization_coefficient': 0.1, 'num_iterations': 1000, 'learning_rate': 20.0}\n",
                  "hyperparameters {'gravity_coefficient': 0.1, 'regularization_coefficient': 0.1, 'num_iterations': 1000, 'learning_rate': 20.0}\n",
                  "hyperparameters {'gravity_coefficient': 0.2, 'regularization_coefficient': 0.1, 'num_iterations': 1000, 'learning_rate': 20.0}\n",
                  "hyperparameters {'gravity_coefficient': 0.3, 'regularization_coefficient': 0.1, 'num_iterations': 1000, 'learning_rate': 20.0}\n",
                  "hyperparameters {'gravity_coefficient': 0.5, 'regularization_coefficient': 0.1, 'num_iterations': 1000, 'learning_rate': 20.0}\n",
                  "hyperparameters {'gravity_coefficient': 0.001, 'regularization_coefficient': 0.2, 'num_iterations': 1000, 'learning_rate': 20.0}\n",
                  "hyperparameters {'gravity_coefficient': 0.005, 'regularization_coefficient': 0.2, 'num_iterations': 1000, 'learning_rate': 20.0}\n",
                  "hyperparameters {'gravity_coefficient': 0.01, 'regularization_coefficient': 0.2, 'num_iterations': 1000, 'learning_rate': 20.0}\n",
                  "hyperparameters {'gravity_coefficient': 0.02, 'regularization_coefficient': 0.2, 'num_iterations': 1000, 'learning_rate': 20.0}\n",
                  "hyperparameters {'gravity_coefficient': 0.05, 'regularization_coefficient': 0.2, 'num_iterations': 1000, 'learning_rate': 20.0}\n",
                  "hyperparameters {'gravity_coefficient': 0.1, 'regularization_coefficient': 0.2, 'num_iterations': 1000, 'learning_rate': 20.0}\n",
                  "hyperparameters {'gravity_coefficient': 0.2, 'regularization_coefficient': 0.2, 'num_iterations': 1000, 'learning_rate': 20.0}\n",
                  "hyperparameters {'gravity_coefficient': 0.3, 'regularization_coefficient': 0.2, 'num_iterations': 1000, 'learning_rate': 20.0}\n",
                  "hyperparameters {'gravity_coefficient': 0.5, 'regularization_coefficient': 0.2, 'num_iterations': 1000, 'learning_rate': 20.0}\n",
                  "hyperparameters {'gravity_coefficient': 0.001, 'regularization_coefficient': 0.3, 'num_iterations': 1000, 'learning_rate': 20.0}\n",
                  "hyperparameters {'gravity_coefficient': 0.005, 'regularization_coefficient': 0.3, 'num_iterations': 1000, 'learning_rate': 20.0}\n",
                  "hyperparameters {'gravity_coefficient': 0.01, 'regularization_coefficient': 0.3, 'num_iterations': 1000, 'learning_rate': 20.0}\n",
                  "hyperparameters {'gravity_coefficient': 0.02, 'regularization_coefficient': 0.3, 'num_iterations': 1000, 'learning_rate': 20.0}\n",
                  "hyperparameters {'gravity_coefficient': 0.05, 'regularization_coefficient': 0.3, 'num_iterations': 1000, 'learning_rate': 20.0}\n",
                  "hyperparameters {'gravity_coefficient': 0.1, 'regularization_coefficient': 0.3, 'num_iterations': 1000, 'learning_rate': 20.0}\n",
                  "hyperparameters {'gravity_coefficient': 0.2, 'regularization_coefficient': 0.3, 'num_iterations': 1000, 'learning_rate': 20.0}\n",
                  "hyperparameters {'gravity_coefficient': 0.3, 'regularization_coefficient': 0.3, 'num_iterations': 1000, 'learning_rate': 20.0}\n",
                  "hyperparameters {'gravity_coefficient': 0.5, 'regularization_coefficient': 0.3, 'num_iterations': 1000, 'learning_rate': 20.0}\n",
                  "hyperparameters {'gravity_coefficient': 0.001, 'regularization_coefficient': 0.5, 'num_iterations': 1000, 'learning_rate': 20.0}\n",
                  "hyperparameters {'gravity_coefficient': 0.005, 'regularization_coefficient': 0.5, 'num_iterations': 1000, 'learning_rate': 20.0}\n",
                  "hyperparameters {'gravity_coefficient': 0.01, 'regularization_coefficient': 0.5, 'num_iterations': 1000, 'learning_rate': 20.0}\n",
                  "hyperparameters {'gravity_coefficient': 0.02, 'regularization_coefficient': 0.5, 'num_iterations': 1000, 'learning_rate': 20.0}\n",
                  "hyperparameters {'gravity_coefficient': 0.05, 'regularization_coefficient': 0.5, 'num_iterations': 1000, 'learning_rate': 20.0}\n",
                  "hyperparameters {'gravity_coefficient': 0.1, 'regularization_coefficient': 0.5, 'num_iterations': 1000, 'learning_rate': 20.0}\n",
                  "hyperparameters {'gravity_coefficient': 0.2, 'regularization_coefficient': 0.5, 'num_iterations': 1000, 'learning_rate': 20.0}\n",
                  "hyperparameters {'gravity_coefficient': 0.3, 'regularization_coefficient': 0.5, 'num_iterations': 1000, 'learning_rate': 20.0}\n",
                  "hyperparameters {'gravity_coefficient': 0.5, 'regularization_coefficient': 0.5, 'num_iterations': 1000, 'learning_rate': 20.0}\n",
                  "hyperparameters {'gravity_coefficient': 0.001, 'regularization_coefficient': 0.001, 'num_iterations': 1000, 'learning_rate': 50.0}\n",
                  "hyperparameters {'gravity_coefficient': 0.005, 'regularization_coefficient': 0.001, 'num_iterations': 1000, 'learning_rate': 50.0}\n",
                  "hyperparameters {'gravity_coefficient': 0.01, 'regularization_coefficient': 0.001, 'num_iterations': 1000, 'learning_rate': 50.0}\n",
                  "hyperparameters {'gravity_coefficient': 0.02, 'regularization_coefficient': 0.001, 'num_iterations': 1000, 'learning_rate': 50.0}\n",
                  "hyperparameters {'gravity_coefficient': 0.05, 'regularization_coefficient': 0.001, 'num_iterations': 1000, 'learning_rate': 50.0}\n",
                  "hyperparameters {'gravity_coefficient': 0.1, 'regularization_coefficient': 0.001, 'num_iterations': 1000, 'learning_rate': 50.0}\n",
                  "hyperparameters {'gravity_coefficient': 0.2, 'regularization_coefficient': 0.001, 'num_iterations': 1000, 'learning_rate': 50.0}\n",
                  "hyperparameters {'gravity_coefficient': 0.3, 'regularization_coefficient': 0.001, 'num_iterations': 1000, 'learning_rate': 50.0}\n",
                  "hyperparameters {'gravity_coefficient': 0.5, 'regularization_coefficient': 0.001, 'num_iterations': 1000, 'learning_rate': 50.0}\n",
                  "hyperparameters {'gravity_coefficient': 0.001, 'regularization_coefficient': 0.005, 'num_iterations': 1000, 'learning_rate': 50.0}\n",
                  "hyperparameters {'gravity_coefficient': 0.005, 'regularization_coefficient': 0.005, 'num_iterations': 1000, 'learning_rate': 50.0}\n",
                  "hyperparameters {'gravity_coefficient': 0.01, 'regularization_coefficient': 0.005, 'num_iterations': 1000, 'learning_rate': 50.0}\n",
                  "hyperparameters {'gravity_coefficient': 0.02, 'regularization_coefficient': 0.005, 'num_iterations': 1000, 'learning_rate': 50.0}\n",
                  "hyperparameters {'gravity_coefficient': 0.05, 'regularization_coefficient': 0.005, 'num_iterations': 1000, 'learning_rate': 50.0}\n",
                  "hyperparameters {'gravity_coefficient': 0.1, 'regularization_coefficient': 0.005, 'num_iterations': 1000, 'learning_rate': 50.0}\n",
                  "hyperparameters {'gravity_coefficient': 0.2, 'regularization_coefficient': 0.005, 'num_iterations': 1000, 'learning_rate': 50.0}\n",
                  "hyperparameters {'gravity_coefficient': 0.3, 'regularization_coefficient': 0.005, 'num_iterations': 1000, 'learning_rate': 50.0}\n",
                  "hyperparameters {'gravity_coefficient': 0.5, 'regularization_coefficient': 0.005, 'num_iterations': 1000, 'learning_rate': 50.0}\n",
                  "hyperparameters {'gravity_coefficient': 0.001, 'regularization_coefficient': 0.01, 'num_iterations': 1000, 'learning_rate': 50.0}\n",
                  "hyperparameters {'gravity_coefficient': 0.005, 'regularization_coefficient': 0.01, 'num_iterations': 1000, 'learning_rate': 50.0}\n",
                  "hyperparameters {'gravity_coefficient': 0.01, 'regularization_coefficient': 0.01, 'num_iterations': 1000, 'learning_rate': 50.0}\n",
                  "hyperparameters {'gravity_coefficient': 0.02, 'regularization_coefficient': 0.01, 'num_iterations': 1000, 'learning_rate': 50.0}\n",
                  "hyperparameters {'gravity_coefficient': 0.05, 'regularization_coefficient': 0.01, 'num_iterations': 1000, 'learning_rate': 50.0}\n",
                  "hyperparameters {'gravity_coefficient': 0.1, 'regularization_coefficient': 0.01, 'num_iterations': 1000, 'learning_rate': 50.0}\n",
                  "hyperparameters {'gravity_coefficient': 0.2, 'regularization_coefficient': 0.01, 'num_iterations': 1000, 'learning_rate': 50.0}\n",
                  "hyperparameters {'gravity_coefficient': 0.3, 'regularization_coefficient': 0.01, 'num_iterations': 1000, 'learning_rate': 50.0}\n",
                  "hyperparameters {'gravity_coefficient': 0.5, 'regularization_coefficient': 0.01, 'num_iterations': 1000, 'learning_rate': 50.0}\n",
                  "hyperparameters {'gravity_coefficient': 0.001, 'regularization_coefficient': 0.02, 'num_iterations': 1000, 'learning_rate': 50.0}\n",
                  "hyperparameters {'gravity_coefficient': 0.005, 'regularization_coefficient': 0.02, 'num_iterations': 1000, 'learning_rate': 50.0}\n",
                  "hyperparameters {'gravity_coefficient': 0.01, 'regularization_coefficient': 0.02, 'num_iterations': 1000, 'learning_rate': 50.0}\n",
                  "hyperparameters {'gravity_coefficient': 0.02, 'regularization_coefficient': 0.02, 'num_iterations': 1000, 'learning_rate': 50.0}\n",
                  "hyperparameters {'gravity_coefficient': 0.05, 'regularization_coefficient': 0.02, 'num_iterations': 1000, 'learning_rate': 50.0}\n",
                  "hyperparameters {'gravity_coefficient': 0.1, 'regularization_coefficient': 0.02, 'num_iterations': 1000, 'learning_rate': 50.0}\n",
                  "hyperparameters {'gravity_coefficient': 0.2, 'regularization_coefficient': 0.02, 'num_iterations': 1000, 'learning_rate': 50.0}\n",
                  "hyperparameters {'gravity_coefficient': 0.3, 'regularization_coefficient': 0.02, 'num_iterations': 1000, 'learning_rate': 50.0}\n",
                  "hyperparameters {'gravity_coefficient': 0.5, 'regularization_coefficient': 0.02, 'num_iterations': 1000, 'learning_rate': 50.0}\n",
                  "hyperparameters {'gravity_coefficient': 0.001, 'regularization_coefficient': 0.05, 'num_iterations': 1000, 'learning_rate': 50.0}\n",
                  "hyperparameters {'gravity_coefficient': 0.005, 'regularization_coefficient': 0.05, 'num_iterations': 1000, 'learning_rate': 50.0}\n",
                  "hyperparameters {'gravity_coefficient': 0.01, 'regularization_coefficient': 0.05, 'num_iterations': 1000, 'learning_rate': 50.0}\n",
                  "hyperparameters {'gravity_coefficient': 0.02, 'regularization_coefficient': 0.05, 'num_iterations': 1000, 'learning_rate': 50.0}\n",
                  "hyperparameters {'gravity_coefficient': 0.05, 'regularization_coefficient': 0.05, 'num_iterations': 1000, 'learning_rate': 50.0}\n",
                  "hyperparameters {'gravity_coefficient': 0.1, 'regularization_coefficient': 0.05, 'num_iterations': 1000, 'learning_rate': 50.0}\n",
                  "hyperparameters {'gravity_coefficient': 0.2, 'regularization_coefficient': 0.05, 'num_iterations': 1000, 'learning_rate': 50.0}\n",
                  "hyperparameters {'gravity_coefficient': 0.3, 'regularization_coefficient': 0.05, 'num_iterations': 1000, 'learning_rate': 50.0}\n",
                  "hyperparameters {'gravity_coefficient': 0.5, 'regularization_coefficient': 0.05, 'num_iterations': 1000, 'learning_rate': 50.0}\n",
                  "hyperparameters {'gravity_coefficient': 0.001, 'regularization_coefficient': 0.1, 'num_iterations': 1000, 'learning_rate': 50.0}\n",
                  "hyperparameters {'gravity_coefficient': 0.005, 'regularization_coefficient': 0.1, 'num_iterations': 1000, 'learning_rate': 50.0}\n",
                  "hyperparameters {'gravity_coefficient': 0.01, 'regularization_coefficient': 0.1, 'num_iterations': 1000, 'learning_rate': 50.0}\n",
                  "hyperparameters {'gravity_coefficient': 0.02, 'regularization_coefficient': 0.1, 'num_iterations': 1000, 'learning_rate': 50.0}\n",
                  "hyperparameters {'gravity_coefficient': 0.05, 'regularization_coefficient': 0.1, 'num_iterations': 1000, 'learning_rate': 50.0}\n",
                  "hyperparameters {'gravity_coefficient': 0.1, 'regularization_coefficient': 0.1, 'num_iterations': 1000, 'learning_rate': 50.0}\n",
                  "hyperparameters {'gravity_coefficient': 0.2, 'regularization_coefficient': 0.1, 'num_iterations': 1000, 'learning_rate': 50.0}\n",
                  "hyperparameters {'gravity_coefficient': 0.3, 'regularization_coefficient': 0.1, 'num_iterations': 1000, 'learning_rate': 50.0}\n",
                  "hyperparameters {'gravity_coefficient': 0.5, 'regularization_coefficient': 0.1, 'num_iterations': 1000, 'learning_rate': 50.0}\n",
                  "hyperparameters {'gravity_coefficient': 0.001, 'regularization_coefficient': 0.2, 'num_iterations': 1000, 'learning_rate': 50.0}\n",
                  "hyperparameters {'gravity_coefficient': 0.005, 'regularization_coefficient': 0.2, 'num_iterations': 1000, 'learning_rate': 50.0}\n",
                  "hyperparameters {'gravity_coefficient': 0.01, 'regularization_coefficient': 0.2, 'num_iterations': 1000, 'learning_rate': 50.0}\n",
                  "hyperparameters {'gravity_coefficient': 0.02, 'regularization_coefficient': 0.2, 'num_iterations': 1000, 'learning_rate': 50.0}\n",
                  "hyperparameters {'gravity_coefficient': 0.05, 'regularization_coefficient': 0.2, 'num_iterations': 1000, 'learning_rate': 50.0}\n",
                  "hyperparameters {'gravity_coefficient': 0.1, 'regularization_coefficient': 0.2, 'num_iterations': 1000, 'learning_rate': 50.0}\n",
                  "hyperparameters {'gravity_coefficient': 0.2, 'regularization_coefficient': 0.2, 'num_iterations': 1000, 'learning_rate': 50.0}\n",
                  "hyperparameters {'gravity_coefficient': 0.3, 'regularization_coefficient': 0.2, 'num_iterations': 1000, 'learning_rate': 50.0}\n",
                  "hyperparameters {'gravity_coefficient': 0.5, 'regularization_coefficient': 0.2, 'num_iterations': 1000, 'learning_rate': 50.0}\n",
                  "hyperparameters {'gravity_coefficient': 0.001, 'regularization_coefficient': 0.3, 'num_iterations': 1000, 'learning_rate': 50.0}\n",
                  "hyperparameters {'gravity_coefficient': 0.005, 'regularization_coefficient': 0.3, 'num_iterations': 1000, 'learning_rate': 50.0}\n",
                  "hyperparameters {'gravity_coefficient': 0.01, 'regularization_coefficient': 0.3, 'num_iterations': 1000, 'learning_rate': 50.0}\n",
                  "hyperparameters {'gravity_coefficient': 0.02, 'regularization_coefficient': 0.3, 'num_iterations': 1000, 'learning_rate': 50.0}\n",
                  "hyperparameters {'gravity_coefficient': 0.05, 'regularization_coefficient': 0.3, 'num_iterations': 1000, 'learning_rate': 50.0}\n",
                  "hyperparameters {'gravity_coefficient': 0.1, 'regularization_coefficient': 0.3, 'num_iterations': 1000, 'learning_rate': 50.0}\n",
                  "hyperparameters {'gravity_coefficient': 0.2, 'regularization_coefficient': 0.3, 'num_iterations': 1000, 'learning_rate': 50.0}\n",
                  "hyperparameters {'gravity_coefficient': 0.3, 'regularization_coefficient': 0.3, 'num_iterations': 1000, 'learning_rate': 50.0}\n",
                  "hyperparameters {'gravity_coefficient': 0.5, 'regularization_coefficient': 0.3, 'num_iterations': 1000, 'learning_rate': 50.0}\n",
                  "hyperparameters {'gravity_coefficient': 0.001, 'regularization_coefficient': 0.5, 'num_iterations': 1000, 'learning_rate': 50.0}\n",
                  "hyperparameters {'gravity_coefficient': 0.005, 'regularization_coefficient': 0.5, 'num_iterations': 1000, 'learning_rate': 50.0}\n",
                  "hyperparameters {'gravity_coefficient': 0.01, 'regularization_coefficient': 0.5, 'num_iterations': 1000, 'learning_rate': 50.0}\n",
                  "hyperparameters {'gravity_coefficient': 0.02, 'regularization_coefficient': 0.5, 'num_iterations': 1000, 'learning_rate': 50.0}\n",
                  "hyperparameters {'gravity_coefficient': 0.05, 'regularization_coefficient': 0.5, 'num_iterations': 1000, 'learning_rate': 50.0}\n",
                  "hyperparameters {'gravity_coefficient': 0.1, 'regularization_coefficient': 0.5, 'num_iterations': 1000, 'learning_rate': 50.0}\n",
                  "hyperparameters {'gravity_coefficient': 0.2, 'regularization_coefficient': 0.5, 'num_iterations': 1000, 'learning_rate': 50.0}\n",
                  "hyperparameters {'gravity_coefficient': 0.3, 'regularization_coefficient': 0.5, 'num_iterations': 1000, 'learning_rate': 50.0}\n",
                  "hyperparameters {'gravity_coefficient': 0.5, 'regularization_coefficient': 0.5, 'num_iterations': 1000, 'learning_rate': 50.0}\n",
                  "hyperparameters {'gravity_coefficient': 0.001, 'regularization_coefficient': 0.001, 'num_iterations': 1000, 'learning_rate': 100.0}\n",
                  "hyperparameters {'gravity_coefficient': 0.005, 'regularization_coefficient': 0.001, 'num_iterations': 1000, 'learning_rate': 100.0}\n",
                  "hyperparameters {'gravity_coefficient': 0.01, 'regularization_coefficient': 0.001, 'num_iterations': 1000, 'learning_rate': 100.0}\n",
                  "hyperparameters {'gravity_coefficient': 0.02, 'regularization_coefficient': 0.001, 'num_iterations': 1000, 'learning_rate': 100.0}\n",
                  "hyperparameters {'gravity_coefficient': 0.05, 'regularization_coefficient': 0.001, 'num_iterations': 1000, 'learning_rate': 100.0}\n",
                  "hyperparameters {'gravity_coefficient': 0.1, 'regularization_coefficient': 0.001, 'num_iterations': 1000, 'learning_rate': 100.0}\n",
                  "hyperparameters {'gravity_coefficient': 0.2, 'regularization_coefficient': 0.001, 'num_iterations': 1000, 'learning_rate': 100.0}\n",
                  "hyperparameters {'gravity_coefficient': 0.3, 'regularization_coefficient': 0.001, 'num_iterations': 1000, 'learning_rate': 100.0}\n",
                  "hyperparameters {'gravity_coefficient': 0.5, 'regularization_coefficient': 0.001, 'num_iterations': 1000, 'learning_rate': 100.0}\n",
                  "hyperparameters {'gravity_coefficient': 0.001, 'regularization_coefficient': 0.005, 'num_iterations': 1000, 'learning_rate': 100.0}\n",
                  "hyperparameters {'gravity_coefficient': 0.005, 'regularization_coefficient': 0.005, 'num_iterations': 1000, 'learning_rate': 100.0}\n",
                  "hyperparameters {'gravity_coefficient': 0.01, 'regularization_coefficient': 0.005, 'num_iterations': 1000, 'learning_rate': 100.0}\n",
                  "hyperparameters {'gravity_coefficient': 0.02, 'regularization_coefficient': 0.005, 'num_iterations': 1000, 'learning_rate': 100.0}\n",
                  "hyperparameters {'gravity_coefficient': 0.05, 'regularization_coefficient': 0.005, 'num_iterations': 1000, 'learning_rate': 100.0}\n",
                  "hyperparameters {'gravity_coefficient': 0.1, 'regularization_coefficient': 0.005, 'num_iterations': 1000, 'learning_rate': 100.0}\n",
                  "hyperparameters {'gravity_coefficient': 0.2, 'regularization_coefficient': 0.005, 'num_iterations': 1000, 'learning_rate': 100.0}\n",
                  "hyperparameters {'gravity_coefficient': 0.3, 'regularization_coefficient': 0.005, 'num_iterations': 1000, 'learning_rate': 100.0}\n",
                  "hyperparameters {'gravity_coefficient': 0.5, 'regularization_coefficient': 0.005, 'num_iterations': 1000, 'learning_rate': 100.0}\n",
                  "hyperparameters {'gravity_coefficient': 0.001, 'regularization_coefficient': 0.01, 'num_iterations': 1000, 'learning_rate': 100.0}\n",
                  "hyperparameters {'gravity_coefficient': 0.005, 'regularization_coefficient': 0.01, 'num_iterations': 1000, 'learning_rate': 100.0}\n",
                  "hyperparameters {'gravity_coefficient': 0.01, 'regularization_coefficient': 0.01, 'num_iterations': 1000, 'learning_rate': 100.0}\n",
                  "hyperparameters {'gravity_coefficient': 0.02, 'regularization_coefficient': 0.01, 'num_iterations': 1000, 'learning_rate': 100.0}\n",
                  "hyperparameters {'gravity_coefficient': 0.05, 'regularization_coefficient': 0.01, 'num_iterations': 1000, 'learning_rate': 100.0}\n",
                  "hyperparameters {'gravity_coefficient': 0.1, 'regularization_coefficient': 0.01, 'num_iterations': 1000, 'learning_rate': 100.0}\n",
                  "hyperparameters {'gravity_coefficient': 0.2, 'regularization_coefficient': 0.01, 'num_iterations': 1000, 'learning_rate': 100.0}\n",
                  "hyperparameters {'gravity_coefficient': 0.3, 'regularization_coefficient': 0.01, 'num_iterations': 1000, 'learning_rate': 100.0}\n",
                  "hyperparameters {'gravity_coefficient': 0.5, 'regularization_coefficient': 0.01, 'num_iterations': 1000, 'learning_rate': 100.0}\n",
                  "hyperparameters {'gravity_coefficient': 0.001, 'regularization_coefficient': 0.02, 'num_iterations': 1000, 'learning_rate': 100.0}\n",
                  "hyperparameters {'gravity_coefficient': 0.005, 'regularization_coefficient': 0.02, 'num_iterations': 1000, 'learning_rate': 100.0}\n",
                  "hyperparameters {'gravity_coefficient': 0.01, 'regularization_coefficient': 0.02, 'num_iterations': 1000, 'learning_rate': 100.0}\n",
                  "hyperparameters {'gravity_coefficient': 0.02, 'regularization_coefficient': 0.02, 'num_iterations': 1000, 'learning_rate': 100.0}\n",
                  "hyperparameters {'gravity_coefficient': 0.05, 'regularization_coefficient': 0.02, 'num_iterations': 1000, 'learning_rate': 100.0}\n",
                  "hyperparameters {'gravity_coefficient': 0.1, 'regularization_coefficient': 0.02, 'num_iterations': 1000, 'learning_rate': 100.0}\n",
                  "hyperparameters {'gravity_coefficient': 0.2, 'regularization_coefficient': 0.02, 'num_iterations': 1000, 'learning_rate': 100.0}\n",
                  "hyperparameters {'gravity_coefficient': 0.3, 'regularization_coefficient': 0.02, 'num_iterations': 1000, 'learning_rate': 100.0}\n",
                  "hyperparameters {'gravity_coefficient': 0.5, 'regularization_coefficient': 0.02, 'num_iterations': 1000, 'learning_rate': 100.0}\n",
                  "hyperparameters {'gravity_coefficient': 0.001, 'regularization_coefficient': 0.05, 'num_iterations': 1000, 'learning_rate': 100.0}\n",
                  "hyperparameters {'gravity_coefficient': 0.005, 'regularization_coefficient': 0.05, 'num_iterations': 1000, 'learning_rate': 100.0}\n",
                  "hyperparameters {'gravity_coefficient': 0.01, 'regularization_coefficient': 0.05, 'num_iterations': 1000, 'learning_rate': 100.0}\n",
                  "hyperparameters {'gravity_coefficient': 0.02, 'regularization_coefficient': 0.05, 'num_iterations': 1000, 'learning_rate': 100.0}\n",
                  "hyperparameters {'gravity_coefficient': 0.05, 'regularization_coefficient': 0.05, 'num_iterations': 1000, 'learning_rate': 100.0}\n",
                  "hyperparameters {'gravity_coefficient': 0.1, 'regularization_coefficient': 0.05, 'num_iterations': 1000, 'learning_rate': 100.0}\n",
                  "hyperparameters {'gravity_coefficient': 0.2, 'regularization_coefficient': 0.05, 'num_iterations': 1000, 'learning_rate': 100.0}\n",
                  "hyperparameters {'gravity_coefficient': 0.3, 'regularization_coefficient': 0.05, 'num_iterations': 1000, 'learning_rate': 100.0}\n",
                  "hyperparameters {'gravity_coefficient': 0.5, 'regularization_coefficient': 0.05, 'num_iterations': 1000, 'learning_rate': 100.0}\n",
                  "hyperparameters {'gravity_coefficient': 0.001, 'regularization_coefficient': 0.1, 'num_iterations': 1000, 'learning_rate': 100.0}\n",
                  "hyperparameters {'gravity_coefficient': 0.005, 'regularization_coefficient': 0.1, 'num_iterations': 1000, 'learning_rate': 100.0}\n",
                  "hyperparameters {'gravity_coefficient': 0.01, 'regularization_coefficient': 0.1, 'num_iterations': 1000, 'learning_rate': 100.0}\n",
                  "hyperparameters {'gravity_coefficient': 0.02, 'regularization_coefficient': 0.1, 'num_iterations': 1000, 'learning_rate': 100.0}\n",
                  "hyperparameters {'gravity_coefficient': 0.05, 'regularization_coefficient': 0.1, 'num_iterations': 1000, 'learning_rate': 100.0}\n",
                  "hyperparameters {'gravity_coefficient': 0.1, 'regularization_coefficient': 0.1, 'num_iterations': 1000, 'learning_rate': 100.0}\n",
                  "hyperparameters {'gravity_coefficient': 0.2, 'regularization_coefficient': 0.1, 'num_iterations': 1000, 'learning_rate': 100.0}\n",
                  "hyperparameters {'gravity_coefficient': 0.3, 'regularization_coefficient': 0.1, 'num_iterations': 1000, 'learning_rate': 100.0}\n",
                  "hyperparameters {'gravity_coefficient': 0.5, 'regularization_coefficient': 0.1, 'num_iterations': 1000, 'learning_rate': 100.0}\n",
                  "hyperparameters {'gravity_coefficient': 0.001, 'regularization_coefficient': 0.2, 'num_iterations': 1000, 'learning_rate': 100.0}\n",
                  "hyperparameters {'gravity_coefficient': 0.005, 'regularization_coefficient': 0.2, 'num_iterations': 1000, 'learning_rate': 100.0}\n",
                  "hyperparameters {'gravity_coefficient': 0.01, 'regularization_coefficient': 0.2, 'num_iterations': 1000, 'learning_rate': 100.0}\n",
                  "hyperparameters {'gravity_coefficient': 0.02, 'regularization_coefficient': 0.2, 'num_iterations': 1000, 'learning_rate': 100.0}\n",
                  "hyperparameters {'gravity_coefficient': 0.05, 'regularization_coefficient': 0.2, 'num_iterations': 1000, 'learning_rate': 100.0}\n",
                  "hyperparameters {'gravity_coefficient': 0.1, 'regularization_coefficient': 0.2, 'num_iterations': 1000, 'learning_rate': 100.0}\n",
                  "hyperparameters {'gravity_coefficient': 0.2, 'regularization_coefficient': 0.2, 'num_iterations': 1000, 'learning_rate': 100.0}\n",
                  "hyperparameters {'gravity_coefficient': 0.3, 'regularization_coefficient': 0.2, 'num_iterations': 1000, 'learning_rate': 100.0}\n",
                  "hyperparameters {'gravity_coefficient': 0.5, 'regularization_coefficient': 0.2, 'num_iterations': 1000, 'learning_rate': 100.0}\n",
                  "hyperparameters {'gravity_coefficient': 0.001, 'regularization_coefficient': 0.3, 'num_iterations': 1000, 'learning_rate': 100.0}\n",
                  "hyperparameters {'gravity_coefficient': 0.005, 'regularization_coefficient': 0.3, 'num_iterations': 1000, 'learning_rate': 100.0}\n",
                  "hyperparameters {'gravity_coefficient': 0.01, 'regularization_coefficient': 0.3, 'num_iterations': 1000, 'learning_rate': 100.0}\n",
                  "hyperparameters {'gravity_coefficient': 0.02, 'regularization_coefficient': 0.3, 'num_iterations': 1000, 'learning_rate': 100.0}\n",
                  "hyperparameters {'gravity_coefficient': 0.05, 'regularization_coefficient': 0.3, 'num_iterations': 1000, 'learning_rate': 100.0}\n",
                  "hyperparameters {'gravity_coefficient': 0.1, 'regularization_coefficient': 0.3, 'num_iterations': 1000, 'learning_rate': 100.0}\n",
                  "hyperparameters {'gravity_coefficient': 0.2, 'regularization_coefficient': 0.3, 'num_iterations': 1000, 'learning_rate': 100.0}\n",
                  "hyperparameters {'gravity_coefficient': 0.3, 'regularization_coefficient': 0.3, 'num_iterations': 1000, 'learning_rate': 100.0}\n",
                  "hyperparameters {'gravity_coefficient': 0.5, 'regularization_coefficient': 0.3, 'num_iterations': 1000, 'learning_rate': 100.0}\n",
                  "hyperparameters {'gravity_coefficient': 0.001, 'regularization_coefficient': 0.5, 'num_iterations': 1000, 'learning_rate': 100.0}\n",
                  "hyperparameters {'gravity_coefficient': 0.005, 'regularization_coefficient': 0.5, 'num_iterations': 1000, 'learning_rate': 100.0}\n",
                  "hyperparameters {'gravity_coefficient': 0.01, 'regularization_coefficient': 0.5, 'num_iterations': 1000, 'learning_rate': 100.0}\n",
                  "hyperparameters {'gravity_coefficient': 0.02, 'regularization_coefficient': 0.5, 'num_iterations': 1000, 'learning_rate': 100.0}\n",
                  "hyperparameters {'gravity_coefficient': 0.05, 'regularization_coefficient': 0.5, 'num_iterations': 1000, 'learning_rate': 100.0}\n",
                  "hyperparameters {'gravity_coefficient': 0.1, 'regularization_coefficient': 0.5, 'num_iterations': 1000, 'learning_rate': 100.0}\n",
                  "hyperparameters {'gravity_coefficient': 0.2, 'regularization_coefficient': 0.5, 'num_iterations': 1000, 'learning_rate': 100.0}\n",
                  "hyperparameters {'gravity_coefficient': 0.3, 'regularization_coefficient': 0.5, 'num_iterations': 1000, 'learning_rate': 100.0}\n",
                  "hyperparameters {'gravity_coefficient': 0.5, 'regularization_coefficient': 0.5, 'num_iterations': 1000, 'learning_rate': 100.0}\n",
                  "best hyper parameters {'gravity_coefficient': 0.001, 'regularization_coefficient': 0.5, 'num_iterations': 1000, 'learning_rate': 100.0}\n",
                  "Mean Squared Error None\n",
                  "Precision 0.014444267007345895\n",
                  "Recall 0.10540343170870885\n",
                  "Normalized Discounted Cumulative Gain 0.10262207718945264\n"
               ]
            }
         ],
         "source": [
            "embedding_dimension = 10\n",
            "k = 20\n",
            "\n",
            "model = FactorizationRecommender(m=training_data.m, n=training_data.n, k=embedding_dimension)\n",
            "\n",
            "tie = TechniqueInferenceEngine(\n",
            "    training_data=training_data,\n",
            "    validation_data=validation_data,\n",
            "    test_data=test_data,\n",
            "    model=model,\n",
            "    enterprise_attack_filepath=enterprise_attack_filepath,\n",
            ")\n",
            "mse = tie.fit_with_cross_validation(\n",
            "    learning_rate=[0.001, 0.01, 0.1, 1.0, 10., 20., 50., 100.],\n",
            "    num_iterations=[1000],\n",
            "    regularization_coefficient=[0.001, 0.005, 0.01, 0.02, 0.05, 0.1, 0.2, 0.3, 0.5],\n",
            "    gravity_coefficient=[0.001, 0.005, 0.01, 0.02, 0.05, 0.1, 0.2, 0.3, 0.5],\n",
            ")\n",
            "print(\"Mean Squared Error\", mse)\n",
            "precision = tie.precision(k=k)\n",
            "print(\"Precision\", precision)\n",
            "recall = tie.recall(k=k)\n",
            "print(\"Recall\", recall)\n",
            "ndcg = tie.normalized_discounted_cumulative_gain(k=k)\n",
            "print(\"Normalized Discounted Cumulative Gain\", ndcg)"
         ]
      },
      {
         "cell_type": "code",
         "execution_count": 24,
         "metadata": {
            "metadata": {}
         },
         "outputs": [
            {
               "name": "stdout",
               "output_type": "stream",
               "text": [
                  "hyperparameters {'v_j_regularization': 0.0001, 'v_i_regularization': 0.0001, 'w_regularization': 0, 'num_iterations': 256000, 'learning_rate': 0.001}\n",
                  "score for hyperparameters 0.023778867720160093\n",
                  "hyperparameters {'v_j_regularization': 0.0001, 'v_i_regularization': 0.0001, 'w_regularization': 0.0001, 'num_iterations': 256000, 'learning_rate': 0.001}\n",
                  "score for hyperparameters 0.029006011499219785\n",
                  "hyperparameters {'v_j_regularization': 0.0001, 'v_i_regularization': 0.0001, 'w_regularization': 0.001, 'num_iterations': 256000, 'learning_rate': 0.001}\n",
                  "score for hyperparameters 0.039263264941108315\n",
                  "hyperparameters {'v_j_regularization': 0.0001, 'v_i_regularization': 0.0001, 'w_regularization': 0.01, 'num_iterations': 256000, 'learning_rate': 0.001}\n",
                  "score for hyperparameters 0.054997102470444724\n",
                  "hyperparameters {'v_j_regularization': 0.0001, 'v_i_regularization': 0.0001, 'w_regularization': 0, 'num_iterations': 256000, 'learning_rate': 0.005}\n",
                  "score for hyperparameters 0.11629463140829277\n",
                  "hyperparameters {'v_j_regularization': 0.0001, 'v_i_regularization': 0.0001, 'w_regularization': 0.0001, 'num_iterations': 256000, 'learning_rate': 0.005}\n",
                  "score for hyperparameters 0.12851232615737954\n",
                  "hyperparameters {'v_j_regularization': 0.0001, 'v_i_regularization': 0.0001, 'w_regularization': 0.001, 'num_iterations': 256000, 'learning_rate': 0.005}\n",
                  "score for hyperparameters 0.12715298377119716\n",
                  "hyperparameters {'v_j_regularization': 0.0001, 'v_i_regularization': 0.0001, 'w_regularization': 0.01, 'num_iterations': 256000, 'learning_rate': 0.005}\n",
                  "score for hyperparameters 0.12469867764910422\n",
                  "hyperparameters {'v_j_regularization': 0.0001, 'v_i_regularization': 0.0001, 'w_regularization': 0, 'num_iterations': 256000, 'learning_rate': 0.01}\n",
                  "score for hyperparameters 0.11917357695847894\n",
                  "hyperparameters {'v_j_regularization': 0.0001, 'v_i_regularization': 0.0001, 'w_regularization': 0.0001, 'num_iterations': 256000, 'learning_rate': 0.01}\n",
                  "score for hyperparameters 0.1153098260877124\n",
                  "hyperparameters {'v_j_regularization': 0.0001, 'v_i_regularization': 0.0001, 'w_regularization': 0.001, 'num_iterations': 256000, 'learning_rate': 0.01}\n",
                  "score for hyperparameters 0.112377705072141\n",
                  "hyperparameters {'v_j_regularization': 0.0001, 'v_i_regularization': 0.0001, 'w_regularization': 0.01, 'num_iterations': 256000, 'learning_rate': 0.01}\n",
                  "score for hyperparameters 0.11002080169465343\n",
                  "hyperparameters {'v_j_regularization': 0.0001, 'v_i_regularization': 0.0001, 'w_regularization': 0, 'num_iterations': 256000, 'learning_rate': 0.02}\n",
                  "score for hyperparameters 0.10642413220537447\n",
                  "hyperparameters {'v_j_regularization': 0.0001, 'v_i_regularization': 0.0001, 'w_regularization': 0.0001, 'num_iterations': 256000, 'learning_rate': 0.02}\n",
                  "score for hyperparameters 0.10312180460622343\n",
                  "hyperparameters {'v_j_regularization': 0.0001, 'v_i_regularization': 0.0001, 'w_regularization': 0.001, 'num_iterations': 256000, 'learning_rate': 0.02}\n",
                  "score for hyperparameters 0.10176330266122069\n",
                  "hyperparameters {'v_j_regularization': 0.0001, 'v_i_regularization': 0.0001, 'w_regularization': 0.01, 'num_iterations': 256000, 'learning_rate': 0.02}\n",
                  "score for hyperparameters 0.10012062387360608\n",
                  "hyperparameters {'v_j_regularization': 0.0001, 'v_i_regularization': 0.0001, 'w_regularization': 0, 'num_iterations': 256000, 'learning_rate': 0.05}\n",
                  "score for hyperparameters 0.097174507859451\n",
                  "hyperparameters {'v_j_regularization': 0.0001, 'v_i_regularization': 0.0001, 'w_regularization': 0.0001, 'num_iterations': 256000, 'learning_rate': 0.05}\n",
                  "score for hyperparameters 0.09477405057879364\n",
                  "hyperparameters {'v_j_regularization': 0.0001, 'v_i_regularization': 0.0001, 'w_regularization': 0.001, 'num_iterations': 256000, 'learning_rate': 0.05}\n",
                  "score for hyperparameters 0.09349715065199815\n",
                  "hyperparameters {'v_j_regularization': 0.0001, 'v_i_regularization': 0.0001, 'w_regularization': 0.01, 'num_iterations': 256000, 'learning_rate': 0.05}\n",
                  "score for hyperparameters 0.09179216389403905\n",
                  "best hyper parameters {'v_j_regularization': 0.0001, 'v_i_regularization': 0.0001, 'w_regularization': 0.0001, 'num_iterations': 256000, 'learning_rate': 0.005}\n",
                  "Mean Squared Error None\n",
                  "Precision 0.008351964228680933\n",
                  "Recall 0.06693082557021318\n",
                  "Normalized Discounted Cumulative Gain 0.06033346119735489\n"
               ]
            }
         ],
         "source": [
            "# hyperparameters\n",
            "embedding_dimension = 10\n",
            "k = 20\n",
            "\n",
            "model = BPRRecommender(m=training_data.m, n=training_data.n, k=embedding_dimension)\n",
            "\n",
            "tie = TechniqueInferenceEngine(\n",
            "    training_data=training_data,\n",
            "    validation_data=validation_data,\n",
            "    test_data=test_data,\n",
            "    model=model,\n",
            "    enterprise_attack_filepath=enterprise_attack_filepath,\n",
            ")\n",
            "mse = tie.fit_with_cross_validation(\n",
            "    learning_rate=[0.001, 0.005, 0.01, 0.02, 0.05],\n",
            "    num_iterations=[500 * 512],\n",
            "    regularization=[0, 0.0001, 0.001, 0.01],\n",
            ")\n",
            "print(\"Mean Squared Error\", mse)\n",
            "precision = tie.precision(k=k)\n",
            "print(\"Precision\", precision)\n",
            "recall = tie.recall(k=20)\n",
            "print(\"Recall\", recall)\n",
            "ndcg = tie.normalized_discounted_cumulative_gain(k=k)\n",
            "print(\"Normalized Discounted Cumulative Gain\", ndcg)"
         ]
      },
      {
         "cell_type": "code",
         "execution_count": 35,
         "metadata": {},
         "outputs": [
            {
               "name": "stdout",
               "output_type": "stream",
               "text": [
                  "hyperparameters {'regularization': 0, 'num_iterations': 67, 'learning_rate': 0.001}\n"
               ]
            },
            {
               "data": {
                  "application/vnd.jupyter.widget-view+json": {
                     "model_id": "383b6991177c496b9d63adb72e2653e0",
                     "version_major": 2,
                     "version_minor": 0
                  },
                  "text/plain": [
                     "  0%|          | 0/67 [00:00<?, ?it/s]"
                  ]
               },
               "metadata": {},
               "output_type": "display_data"
            },
            {
               "name": "stdout",
               "output_type": "stream",
               "text": [
                  "score for hyperparameters 0.05903905680514567\n",
                  "hyperparameters {'regularization': 0.0001, 'num_iterations': 67, 'learning_rate': 0.001}\n"
               ]
            },
            {
               "data": {
                  "application/vnd.jupyter.widget-view+json": {
                     "model_id": "c5b23e4536fc44348d46768f831f6b84",
                     "version_major": 2,
                     "version_minor": 0
                  },
                  "text/plain": [
                     "  0%|          | 0/67 [00:00<?, ?it/s]"
                  ]
               },
               "metadata": {},
               "output_type": "display_data"
            },
            {
               "name": "stdout",
               "output_type": "stream",
               "text": [
                  "score for hyperparameters 0.07618356177980001\n",
                  "hyperparameters {'regularization': 0.001, 'num_iterations': 67, 'learning_rate': 0.001}\n"
               ]
            },
            {
               "data": {
                  "application/vnd.jupyter.widget-view+json": {
                     "model_id": "30d5f65998754e388e397067a32ca807",
                     "version_major": 2,
                     "version_minor": 0
                  },
                  "text/plain": [
                     "  0%|          | 0/67 [00:00<?, ?it/s]"
                  ]
               },
               "metadata": {},
               "output_type": "display_data"
            },
            {
               "name": "stdout",
               "output_type": "stream",
               "text": [
                  "score for hyperparameters 0.033254644489289935\n",
                  "hyperparameters {'regularization': 0.01, 'num_iterations': 67, 'learning_rate': 0.001}\n"
               ]
            },
            {
               "data": {
                  "application/vnd.jupyter.widget-view+json": {
                     "model_id": "7815d691ec3349f08a39e1542a2de03b",
                     "version_major": 2,
                     "version_minor": 0
                  },
                  "text/plain": [
                     "  0%|          | 0/67 [00:00<?, ?it/s]"
                  ]
               },
               "metadata": {},
               "output_type": "display_data"
            },
            {
               "name": "stdout",
               "output_type": "stream",
               "text": [
                  "score for hyperparameters 0.05905181760066512\n",
                  "hyperparameters {'regularization': 0, 'num_iterations': 67, 'learning_rate': 0.005}\n"
               ]
            },
            {
               "data": {
                  "application/vnd.jupyter.widget-view+json": {
                     "model_id": "b1f53e4f9fb1486e82c2e34fe7428c63",
                     "version_major": 2,
                     "version_minor": 0
                  },
                  "text/plain": [
                     "  0%|          | 0/67 [00:00<?, ?it/s]"
                  ]
               },
               "metadata": {},
               "output_type": "display_data"
            },
            {
               "name": "stdout",
               "output_type": "stream",
               "text": [
                  "score for hyperparameters 0.06140444926593436\n",
                  "hyperparameters {'regularization': 0.0001, 'num_iterations': 67, 'learning_rate': 0.005}\n"
               ]
            },
            {
               "data": {
                  "application/vnd.jupyter.widget-view+json": {
                     "model_id": "0f6d39e1f56e4dd9b48f47a686178e97",
                     "version_major": 2,
                     "version_minor": 0
                  },
                  "text/plain": [
                     "  0%|          | 0/67 [00:00<?, ?it/s]"
                  ]
               },
               "metadata": {},
               "output_type": "display_data"
            },
            {
               "name": "stdout",
               "output_type": "stream",
               "text": [
                  "score for hyperparameters 0.05866354438048306\n",
                  "hyperparameters {'regularization': 0.001, 'num_iterations': 67, 'learning_rate': 0.005}\n"
               ]
            },
            {
               "data": {
                  "application/vnd.jupyter.widget-view+json": {
                     "model_id": "febc45d4828f40f495d7b6814b47863b",
                     "version_major": 2,
                     "version_minor": 0
                  },
                  "text/plain": [
                     "  0%|          | 0/67 [00:00<?, ?it/s]"
                  ]
               },
               "metadata": {},
               "output_type": "display_data"
            },
            {
               "name": "stdout",
               "output_type": "stream",
               "text": [
                  "score for hyperparameters 0.06375342584252092\n",
                  "hyperparameters {'regularization': 0.01, 'num_iterations': 67, 'learning_rate': 0.005}\n"
               ]
            },
            {
               "data": {
                  "application/vnd.jupyter.widget-view+json": {
                     "model_id": "e0fefa73ad0b40a6bbc501bcdf49b43e",
                     "version_major": 2,
                     "version_minor": 0
                  },
                  "text/plain": [
                     "  0%|          | 0/67 [00:00<?, ?it/s]"
                  ]
               },
               "metadata": {},
               "output_type": "display_data"
            },
            {
               "name": "stdout",
               "output_type": "stream",
               "text": [
                  "score for hyperparameters 0.044278800579778295\n",
                  "hyperparameters {'regularization': 0, 'num_iterations': 67, 'learning_rate': 0.01}\n"
               ]
            },
            {
               "data": {
                  "application/vnd.jupyter.widget-view+json": {
                     "model_id": "114c26f743914e94bd3992ed76727b55",
                     "version_major": 2,
                     "version_minor": 0
                  },
                  "text/plain": [
                     "  0%|          | 0/67 [00:00<?, ?it/s]"
                  ]
               },
               "metadata": {},
               "output_type": "display_data"
            },
            {
               "name": "stdout",
               "output_type": "stream",
               "text": [
                  "score for hyperparameters 0.058102425424125304\n",
                  "hyperparameters {'regularization': 0.0001, 'num_iterations': 67, 'learning_rate': 0.01}\n"
               ]
            },
            {
               "data": {
                  "application/vnd.jupyter.widget-view+json": {
                     "model_id": "8cfdfff4818743918fc8f1ac8549c116",
                     "version_major": 2,
                     "version_minor": 0
                  },
                  "text/plain": [
                     "  0%|          | 0/67 [00:00<?, ?it/s]"
                  ]
               },
               "metadata": {},
               "output_type": "display_data"
            },
            {
               "name": "stdout",
               "output_type": "stream",
               "text": [
                  "score for hyperparameters 0.038200715314319\n",
                  "hyperparameters {'regularization': 0.001, 'num_iterations': 67, 'learning_rate': 0.01}\n"
               ]
            },
            {
               "data": {
                  "application/vnd.jupyter.widget-view+json": {
                     "model_id": "5d3933d9b74a4176b131ebda875f03e1",
                     "version_major": 2,
                     "version_minor": 0
                  },
                  "text/plain": [
                     "  0%|          | 0/67 [00:00<?, ?it/s]"
                  ]
               },
               "metadata": {},
               "output_type": "display_data"
            },
            {
               "name": "stdout",
               "output_type": "stream",
               "text": [
                  "score for hyperparameters 0.036340014550713784\n",
                  "hyperparameters {'regularization': 0.01, 'num_iterations': 67, 'learning_rate': 0.01}\n"
               ]
            },
            {
               "data": {
                  "application/vnd.jupyter.widget-view+json": {
                     "model_id": "4cbbbf3e6fa74536a6bc6d51eaf5fae5",
                     "version_major": 2,
                     "version_minor": 0
                  },
                  "text/plain": [
                     "  0%|          | 0/67 [00:00<?, ?it/s]"
                  ]
               },
               "metadata": {},
               "output_type": "display_data"
            },
            {
               "name": "stdout",
               "output_type": "stream",
               "text": [
                  "score for hyperparameters 0.053321555899591665\n",
                  "hyperparameters {'regularization': 0, 'num_iterations': 67, 'learning_rate': 0.02}\n"
               ]
            },
            {
               "data": {
                  "application/vnd.jupyter.widget-view+json": {
                     "model_id": "f08fec73e1d945aca05ca385e0ec5acb",
                     "version_major": 2,
                     "version_minor": 0
                  },
                  "text/plain": [
                     "  0%|          | 0/67 [00:00<?, ?it/s]"
                  ]
               },
               "metadata": {},
               "output_type": "display_data"
            },
            {
               "name": "stdout",
               "output_type": "stream",
               "text": [
                  "score for hyperparameters 0.046841278056879244\n",
                  "hyperparameters {'regularization': 0.0001, 'num_iterations': 67, 'learning_rate': 0.02}\n"
               ]
            },
            {
               "data": {
                  "application/vnd.jupyter.widget-view+json": {
                     "model_id": "791bd6e2697b4416b21617fde9d420c1",
                     "version_major": 2,
                     "version_minor": 0
                  },
                  "text/plain": [
                     "  0%|          | 0/67 [00:00<?, ?it/s]"
                  ]
               },
               "metadata": {},
               "output_type": "display_data"
            },
            {
               "name": "stdout",
               "output_type": "stream",
               "text": [
                  "score for hyperparameters 0.048403637506916744\n",
                  "hyperparameters {'regularization': 0.001, 'num_iterations': 67, 'learning_rate': 0.02}\n"
               ]
            },
            {
               "data": {
                  "application/vnd.jupyter.widget-view+json": {
                     "model_id": "d03a8e8f0b4e4c4caeccd9bdc56a92dd",
                     "version_major": 2,
                     "version_minor": 0
                  },
                  "text/plain": [
                     "  0%|          | 0/67 [00:00<?, ?it/s]"
                  ]
               },
               "metadata": {},
               "output_type": "display_data"
            },
            {
               "name": "stdout",
               "output_type": "stream",
               "text": [
                  "score for hyperparameters 0.04378670840467754\n",
                  "hyperparameters {'regularization': 0.01, 'num_iterations': 67, 'learning_rate': 0.02}\n"
               ]
            },
            {
               "data": {
                  "application/vnd.jupyter.widget-view+json": {
                     "model_id": "2b2e0fed427a46f5bead015cf529c83b",
                     "version_major": 2,
                     "version_minor": 0
                  },
                  "text/plain": [
                     "  0%|          | 0/67 [00:00<?, ?it/s]"
                  ]
               },
               "metadata": {},
               "output_type": "display_data"
            },
            {
               "name": "stdout",
               "output_type": "stream",
               "text": [
                  "score for hyperparameters 0.04414755954968812\n",
                  "hyperparameters {'regularization': 0, 'num_iterations': 67, 'learning_rate': 0.05}\n"
               ]
            },
            {
               "data": {
                  "application/vnd.jupyter.widget-view+json": {
                     "model_id": "ed82d8813a3146eebe268b33480c2fee",
                     "version_major": 2,
                     "version_minor": 0
                  },
                  "text/plain": [
                     "  0%|          | 0/67 [00:00<?, ?it/s]"
                  ]
               },
               "metadata": {},
               "output_type": "display_data"
            },
            {
               "name": "stdout",
               "output_type": "stream",
               "text": [
                  "score for hyperparameters 0.03551287779086217\n",
                  "hyperparameters {'regularization': 0.0001, 'num_iterations': 67, 'learning_rate': 0.05}\n"
               ]
            },
            {
               "data": {
                  "application/vnd.jupyter.widget-view+json": {
                     "model_id": "76c150a234884bde98fe6d55ae81ce47",
                     "version_major": 2,
                     "version_minor": 0
                  },
                  "text/plain": [
                     "  0%|          | 0/67 [00:00<?, ?it/s]"
                  ]
               },
               "metadata": {},
               "output_type": "display_data"
            },
            {
               "name": "stdout",
               "output_type": "stream",
               "text": [
                  "score for hyperparameters 0.034188068100035995\n",
                  "hyperparameters {'regularization': 0.001, 'num_iterations': 67, 'learning_rate': 0.05}\n"
               ]
            },
            {
               "data": {
                  "application/vnd.jupyter.widget-view+json": {
                     "model_id": "2e9e1e76604742f4ad4ed5f2abef02c0",
                     "version_major": 2,
                     "version_minor": 0
                  },
                  "text/plain": [
                     "  0%|          | 0/67 [00:00<?, ?it/s]"
                  ]
               },
               "metadata": {},
               "output_type": "display_data"
            },
            {
               "name": "stdout",
               "output_type": "stream",
               "text": [
                  "score for hyperparameters 0.03564968921746598\n",
                  "hyperparameters {'regularization': 0.01, 'num_iterations': 67, 'learning_rate': 0.05}\n"
               ]
            },
            {
               "data": {
                  "application/vnd.jupyter.widget-view+json": {
                     "model_id": "1967dbc9cb514145a8ae604a71336ab9",
                     "version_major": 2,
                     "version_minor": 0
                  },
                  "text/plain": [
                     "  0%|          | 0/67 [00:00<?, ?it/s]"
                  ]
               },
               "metadata": {},
               "output_type": "display_data"
            },
            {
               "name": "stdout",
               "output_type": "stream",
               "text": [
                  "score for hyperparameters 0.03215088676081219\n",
                  "best hyper parameters {'regularization': 0.0001, 'num_iterations': 67, 'learning_rate': 0.001}\n"
               ]
            },
            {
               "data": {
                  "application/vnd.jupyter.widget-view+json": {
                     "model_id": "2344e77971114b4aa9b04006c4dbc331",
                     "version_major": 2,
                     "version_minor": 0
                  },
                  "text/plain": [
                     "  0%|          | 0/67 [00:00<?, ?it/s]"
                  ]
               },
               "metadata": {},
               "output_type": "display_data"
            },
            {
               "name": "stdout",
               "output_type": "stream",
               "text": [
                  "Mean Squared Error None\n",
                  "Precision 0.0019163206643244969\n",
                  "Recall 0.015189820181530216\n",
                  "Normalized Discounted Cumulative Gain 0.014312868387378032\n"
               ]
            }
         ],
         "source": [
            "# hyperparameters\n",
            "embedding_dimension = 10\n",
            "k = 20\n",
            "\n",
            "model = ImplicitBPRRecommender(k=embedding_dimension)\n",
            "\n",
            "tie = TechniqueInferenceEngine(\n",
            "    training_data=training_data,\n",
            "    validation_data=validation_data,\n",
            "    test_data=test_data,\n",
            "    model=model,\n",
            "    enterprise_attack_filepath=enterprise_attack_filepath,\n",
            ")\n",
            "mse = tie.fit_with_cross_validation(\n",
            "    learning_rate=[0.001, 0.005, 0.01, 0.02, 0.05],\n",
            "    num_iterations=[math.floor(500 * 512 / training_data.to_numpy().sum())],\n",
            "    regularization=[0, 0.0001, 0.001, 0.01],\n",
            ")\n",
            "print(\"Mean Squared Error\", mse)\n",
            "precision = tie.precision(k=k)\n",
            "print(\"Precision\", precision)\n",
            "recall = tie.recall(k=k)\n",
            "print(\"Recall\", recall)\n",
            "ndcg = tie.normalized_discounted_cumulative_gain(k=k)\n",
            "print(\"Normalized Discounted Cumulative Gain\", ndcg)"
         ]
      },
      {
         "cell_type": "code",
         "execution_count": 19,
         "metadata": {},
         "outputs": [
            {
               "name": "stdout",
               "output_type": "stream",
               "text": [
                  "hyperparameters {'regularization_coefficient': 0.001, 'c': 0.001, 'num_iterations': 20}\n"
               ]
            },
            {
               "data": {
                  "application/vnd.jupyter.widget-view+json": {
                     "model_id": "8ba821432e4043f0afbf78299aac4310",
                     "version_major": 2,
                     "version_minor": 0
                  },
                  "text/plain": [
                     "  0%|          | 0/20 [00:00<?, ?it/s]"
                  ]
               },
               "metadata": {},
               "output_type": "display_data"
            },
            {
               "name": "stdout",
               "output_type": "stream",
               "text": [
                  "hyperparameters {'regularization_coefficient': 0.005, 'c': 0.001, 'num_iterations': 20}\n"
               ]
            },
            {
               "data": {
                  "application/vnd.jupyter.widget-view+json": {
                     "model_id": "ad248cf617bd4fe79d21e3843ed47567",
                     "version_major": 2,
                     "version_minor": 0
                  },
                  "text/plain": [
                     "  0%|          | 0/20 [00:00<?, ?it/s]"
                  ]
               },
               "metadata": {},
               "output_type": "display_data"
            },
            {
               "name": "stdout",
               "output_type": "stream",
               "text": [
                  "hyperparameters {'regularization_coefficient': 0.01, 'c': 0.001, 'num_iterations': 20}\n"
               ]
            },
            {
               "data": {
                  "application/vnd.jupyter.widget-view+json": {
                     "model_id": "0293c08b7d1b4ccab6bd530ff235bb3c",
                     "version_major": 2,
                     "version_minor": 0
                  },
                  "text/plain": [
                     "  0%|          | 0/20 [00:00<?, ?it/s]"
                  ]
               },
               "metadata": {},
               "output_type": "display_data"
            },
            {
               "name": "stdout",
               "output_type": "stream",
               "text": [
                  "hyperparameters {'regularization_coefficient': 0.02, 'c': 0.001, 'num_iterations': 20}\n"
               ]
            },
            {
               "data": {
                  "application/vnd.jupyter.widget-view+json": {
                     "model_id": "cc88e41186d54693a00df4d32f36d13e",
                     "version_major": 2,
                     "version_minor": 0
                  },
                  "text/plain": [
                     "  0%|          | 0/20 [00:00<?, ?it/s]"
                  ]
               },
               "metadata": {},
               "output_type": "display_data"
            },
            {
               "name": "stdout",
               "output_type": "stream",
               "text": [
                  "hyperparameters {'regularization_coefficient': 0.05, 'c': 0.001, 'num_iterations': 20}\n"
               ]
            },
            {
               "data": {
                  "application/vnd.jupyter.widget-view+json": {
                     "model_id": "c9ffe7880a5848e7a5d0ff6bd9c5c036",
                     "version_major": 2,
                     "version_minor": 0
                  },
                  "text/plain": [
                     "  0%|          | 0/20 [00:00<?, ?it/s]"
                  ]
               },
               "metadata": {},
               "output_type": "display_data"
            },
            {
               "name": "stdout",
               "output_type": "stream",
               "text": [
                  "hyperparameters {'regularization_coefficient': 0.001, 'c': 0.005, 'num_iterations': 20}\n"
               ]
            },
            {
               "data": {
                  "application/vnd.jupyter.widget-view+json": {
                     "model_id": "3117a0ae02284addb96192d8ed3a3bc2",
                     "version_major": 2,
                     "version_minor": 0
                  },
                  "text/plain": [
                     "  0%|          | 0/20 [00:00<?, ?it/s]"
                  ]
               },
               "metadata": {},
               "output_type": "display_data"
            },
            {
               "name": "stdout",
               "output_type": "stream",
               "text": [
                  "hyperparameters {'regularization_coefficient': 0.005, 'c': 0.005, 'num_iterations': 20}\n"
               ]
            },
            {
               "data": {
                  "application/vnd.jupyter.widget-view+json": {
                     "model_id": "8b25fbff237d470794f762a44acec51a",
                     "version_major": 2,
                     "version_minor": 0
                  },
                  "text/plain": [
                     "  0%|          | 0/20 [00:00<?, ?it/s]"
                  ]
               },
               "metadata": {},
               "output_type": "display_data"
            },
            {
               "name": "stdout",
               "output_type": "stream",
               "text": [
                  "hyperparameters {'regularization_coefficient': 0.01, 'c': 0.005, 'num_iterations': 20}\n"
               ]
            },
            {
               "data": {
                  "application/vnd.jupyter.widget-view+json": {
                     "model_id": "04fc6cdd3a1041a3b61d3c76770662e2",
                     "version_major": 2,
                     "version_minor": 0
                  },
                  "text/plain": [
                     "  0%|          | 0/20 [00:00<?, ?it/s]"
                  ]
               },
               "metadata": {},
               "output_type": "display_data"
            },
            {
               "name": "stdout",
               "output_type": "stream",
               "text": [
                  "hyperparameters {'regularization_coefficient': 0.02, 'c': 0.005, 'num_iterations': 20}\n"
               ]
            },
            {
               "data": {
                  "application/vnd.jupyter.widget-view+json": {
                     "model_id": "ac4eba6873134b288a3d721fe92b84ba",
                     "version_major": 2,
                     "version_minor": 0
                  },
                  "text/plain": [
                     "  0%|          | 0/20 [00:00<?, ?it/s]"
                  ]
               },
               "metadata": {},
               "output_type": "display_data"
            },
            {
               "name": "stdout",
               "output_type": "stream",
               "text": [
                  "hyperparameters {'regularization_coefficient': 0.05, 'c': 0.005, 'num_iterations': 20}\n"
               ]
            },
            {
               "data": {
                  "application/vnd.jupyter.widget-view+json": {
                     "model_id": "848f6ce3b0564dfda6936e53339237b6",
                     "version_major": 2,
                     "version_minor": 0
                  },
                  "text/plain": [
                     "  0%|          | 0/20 [00:00<?, ?it/s]"
                  ]
               },
               "metadata": {},
               "output_type": "display_data"
            },
            {
               "name": "stdout",
               "output_type": "stream",
               "text": [
                  "hyperparameters {'regularization_coefficient': 0.001, 'c': 0.01, 'num_iterations': 20}\n"
               ]
            },
            {
               "data": {
                  "application/vnd.jupyter.widget-view+json": {
                     "model_id": "6ba98f65f33b4de6bcefa021ef7cf4d0",
                     "version_major": 2,
                     "version_minor": 0
                  },
                  "text/plain": [
                     "  0%|          | 0/20 [00:00<?, ?it/s]"
                  ]
               },
               "metadata": {},
               "output_type": "display_data"
            },
            {
               "name": "stdout",
               "output_type": "stream",
               "text": [
                  "hyperparameters {'regularization_coefficient': 0.005, 'c': 0.01, 'num_iterations': 20}\n"
               ]
            },
            {
               "data": {
                  "application/vnd.jupyter.widget-view+json": {
                     "model_id": "69a777c7dcff43978a1a8ba777838dce",
                     "version_major": 2,
                     "version_minor": 0
                  },
                  "text/plain": [
                     "  0%|          | 0/20 [00:00<?, ?it/s]"
                  ]
               },
               "metadata": {},
               "output_type": "display_data"
            },
            {
               "name": "stdout",
               "output_type": "stream",
               "text": [
                  "hyperparameters {'regularization_coefficient': 0.01, 'c': 0.01, 'num_iterations': 20}\n"
               ]
            },
            {
               "data": {
                  "application/vnd.jupyter.widget-view+json": {
                     "model_id": "b049b0172eed4df7990c6ca0762b957c",
                     "version_major": 2,
                     "version_minor": 0
                  },
                  "text/plain": [
                     "  0%|          | 0/20 [00:00<?, ?it/s]"
                  ]
               },
               "metadata": {},
               "output_type": "display_data"
            },
            {
               "name": "stdout",
               "output_type": "stream",
               "text": [
                  "hyperparameters {'regularization_coefficient': 0.02, 'c': 0.01, 'num_iterations': 20}\n"
               ]
            },
            {
               "data": {
                  "application/vnd.jupyter.widget-view+json": {
                     "model_id": "3d4dd6141a6f47fd91c4e77f9242981e",
                     "version_major": 2,
                     "version_minor": 0
                  },
                  "text/plain": [
                     "  0%|          | 0/20 [00:00<?, ?it/s]"
                  ]
               },
               "metadata": {},
               "output_type": "display_data"
            },
            {
               "name": "stdout",
               "output_type": "stream",
               "text": [
                  "hyperparameters {'regularization_coefficient': 0.05, 'c': 0.01, 'num_iterations': 20}\n"
               ]
            },
            {
               "data": {
                  "application/vnd.jupyter.widget-view+json": {
                     "model_id": "aecb84625bdf4ede8c0a75d271d357c0",
                     "version_major": 2,
                     "version_minor": 0
                  },
                  "text/plain": [
                     "  0%|          | 0/20 [00:00<?, ?it/s]"
                  ]
               },
               "metadata": {},
               "output_type": "display_data"
            },
            {
               "name": "stdout",
               "output_type": "stream",
               "text": [
                  "hyperparameters {'regularization_coefficient': 0.001, 'c': 0.05, 'num_iterations': 20}\n"
               ]
            },
            {
               "data": {
                  "application/vnd.jupyter.widget-view+json": {
                     "model_id": "1bf4a42251d142838ca3a8c5c8f09f9f",
                     "version_major": 2,
                     "version_minor": 0
                  },
                  "text/plain": [
                     "  0%|          | 0/20 [00:00<?, ?it/s]"
                  ]
               },
               "metadata": {},
               "output_type": "display_data"
            },
            {
               "name": "stdout",
               "output_type": "stream",
               "text": [
                  "hyperparameters {'regularization_coefficient': 0.005, 'c': 0.05, 'num_iterations': 20}\n"
               ]
            },
            {
               "data": {
                  "application/vnd.jupyter.widget-view+json": {
                     "model_id": "bdc7686a0228468fa67738d21db35878",
                     "version_major": 2,
                     "version_minor": 0
                  },
                  "text/plain": [
                     "  0%|          | 0/20 [00:00<?, ?it/s]"
                  ]
               },
               "metadata": {},
               "output_type": "display_data"
            },
            {
               "name": "stdout",
               "output_type": "stream",
               "text": [
                  "hyperparameters {'regularization_coefficient': 0.01, 'c': 0.05, 'num_iterations': 20}\n"
               ]
            },
            {
               "data": {
                  "application/vnd.jupyter.widget-view+json": {
                     "model_id": "7e0b0bc2c407438eaa80fcfb21965d18",
                     "version_major": 2,
                     "version_minor": 0
                  },
                  "text/plain": [
                     "  0%|          | 0/20 [00:00<?, ?it/s]"
                  ]
               },
               "metadata": {},
               "output_type": "display_data"
            },
            {
               "name": "stdout",
               "output_type": "stream",
               "text": [
                  "hyperparameters {'regularization_coefficient': 0.02, 'c': 0.05, 'num_iterations': 20}\n"
               ]
            },
            {
               "data": {
                  "application/vnd.jupyter.widget-view+json": {
                     "model_id": "1fb8db73f5644b8dbd1e320aa1322341",
                     "version_major": 2,
                     "version_minor": 0
                  },
                  "text/plain": [
                     "  0%|          | 0/20 [00:00<?, ?it/s]"
                  ]
               },
               "metadata": {},
               "output_type": "display_data"
            },
            {
               "name": "stdout",
               "output_type": "stream",
               "text": [
                  "hyperparameters {'regularization_coefficient': 0.05, 'c': 0.05, 'num_iterations': 20}\n"
               ]
            },
            {
               "data": {
                  "application/vnd.jupyter.widget-view+json": {
                     "model_id": "b5dd6d4f44914d5a901c41de47c3d387",
                     "version_major": 2,
                     "version_minor": 0
                  },
                  "text/plain": [
                     "  0%|          | 0/20 [00:00<?, ?it/s]"
                  ]
               },
               "metadata": {},
               "output_type": "display_data"
            },
            {
               "name": "stdout",
               "output_type": "stream",
               "text": [
                  "hyperparameters {'regularization_coefficient': 0.001, 'c': 0.1, 'num_iterations': 20}\n"
               ]
            },
            {
               "data": {
                  "application/vnd.jupyter.widget-view+json": {
                     "model_id": "50aededf45334616a973eaa46f6a56e1",
                     "version_major": 2,
                     "version_minor": 0
                  },
                  "text/plain": [
                     "  0%|          | 0/20 [00:00<?, ?it/s]"
                  ]
               },
               "metadata": {},
               "output_type": "display_data"
            },
            {
               "name": "stdout",
               "output_type": "stream",
               "text": [
                  "hyperparameters {'regularization_coefficient': 0.005, 'c': 0.1, 'num_iterations': 20}\n"
               ]
            },
            {
               "data": {
                  "application/vnd.jupyter.widget-view+json": {
                     "model_id": "9c0c1b1575f74574bb703dd3260b7dd4",
                     "version_major": 2,
                     "version_minor": 0
                  },
                  "text/plain": [
                     "  0%|          | 0/20 [00:00<?, ?it/s]"
                  ]
               },
               "metadata": {},
               "output_type": "display_data"
            },
            {
               "name": "stdout",
               "output_type": "stream",
               "text": [
                  "hyperparameters {'regularization_coefficient': 0.01, 'c': 0.1, 'num_iterations': 20}\n"
               ]
            },
            {
               "data": {
                  "application/vnd.jupyter.widget-view+json": {
                     "model_id": "c92df3e4e4484d53bb141bddfd236989",
                     "version_major": 2,
                     "version_minor": 0
                  },
                  "text/plain": [
                     "  0%|          | 0/20 [00:00<?, ?it/s]"
                  ]
               },
               "metadata": {},
               "output_type": "display_data"
            },
            {
               "name": "stdout",
               "output_type": "stream",
               "text": [
                  "hyperparameters {'regularization_coefficient': 0.02, 'c': 0.1, 'num_iterations': 20}\n"
               ]
            },
            {
               "data": {
                  "application/vnd.jupyter.widget-view+json": {
                     "model_id": "c612c73d731641589f672c5f6f9fe6dd",
                     "version_major": 2,
                     "version_minor": 0
                  },
                  "text/plain": [
                     "  0%|          | 0/20 [00:00<?, ?it/s]"
                  ]
               },
               "metadata": {},
               "output_type": "display_data"
            },
            {
               "name": "stdout",
               "output_type": "stream",
               "text": [
                  "hyperparameters {'regularization_coefficient': 0.05, 'c': 0.1, 'num_iterations': 20}\n"
               ]
            },
            {
               "data": {
                  "application/vnd.jupyter.widget-view+json": {
                     "model_id": "11fa4d9f9ba64ed7951afa9b2c0d4b2b",
                     "version_major": 2,
                     "version_minor": 0
                  },
                  "text/plain": [
                     "  0%|          | 0/20 [00:00<?, ?it/s]"
                  ]
               },
               "metadata": {},
               "output_type": "display_data"
            },
            {
               "name": "stdout",
               "output_type": "stream",
               "text": [
                  "hyperparameters {'regularization_coefficient': 0.001, 'c': 0.3, 'num_iterations': 20}\n"
               ]
            },
            {
               "data": {
                  "application/vnd.jupyter.widget-view+json": {
                     "model_id": "04c995d096434fe79340d69d173db33d",
                     "version_major": 2,
                     "version_minor": 0
                  },
                  "text/plain": [
                     "  0%|          | 0/20 [00:00<?, ?it/s]"
                  ]
               },
               "metadata": {},
               "output_type": "display_data"
            },
            {
               "name": "stdout",
               "output_type": "stream",
               "text": [
                  "hyperparameters {'regularization_coefficient': 0.005, 'c': 0.3, 'num_iterations': 20}\n"
               ]
            },
            {
               "data": {
                  "application/vnd.jupyter.widget-view+json": {
                     "model_id": "7f859d78e9fa4ff7aab5b787f376c36c",
                     "version_major": 2,
                     "version_minor": 0
                  },
                  "text/plain": [
                     "  0%|          | 0/20 [00:00<?, ?it/s]"
                  ]
               },
               "metadata": {},
               "output_type": "display_data"
            },
            {
               "name": "stdout",
               "output_type": "stream",
               "text": [
                  "hyperparameters {'regularization_coefficient': 0.01, 'c': 0.3, 'num_iterations': 20}\n"
               ]
            },
            {
               "data": {
                  "application/vnd.jupyter.widget-view+json": {
                     "model_id": "a4e6288c9cc0428d9191c3b5ec72df13",
                     "version_major": 2,
                     "version_minor": 0
                  },
                  "text/plain": [
                     "  0%|          | 0/20 [00:00<?, ?it/s]"
                  ]
               },
               "metadata": {},
               "output_type": "display_data"
            },
            {
               "name": "stdout",
               "output_type": "stream",
               "text": [
                  "hyperparameters {'regularization_coefficient': 0.02, 'c': 0.3, 'num_iterations': 20}\n"
               ]
            },
            {
               "data": {
                  "application/vnd.jupyter.widget-view+json": {
                     "model_id": "324f1b4655b04018ab008e42f00f3d5f",
                     "version_major": 2,
                     "version_minor": 0
                  },
                  "text/plain": [
                     "  0%|          | 0/20 [00:00<?, ?it/s]"
                  ]
               },
               "metadata": {},
               "output_type": "display_data"
            },
            {
               "name": "stdout",
               "output_type": "stream",
               "text": [
                  "hyperparameters {'regularization_coefficient': 0.05, 'c': 0.3, 'num_iterations': 20}\n"
               ]
            },
            {
               "data": {
                  "application/vnd.jupyter.widget-view+json": {
                     "model_id": "91eb552252d54b75b2084cbbed16033e",
                     "version_major": 2,
                     "version_minor": 0
                  },
                  "text/plain": [
                     "  0%|          | 0/20 [00:00<?, ?it/s]"
                  ]
               },
               "metadata": {},
               "output_type": "display_data"
            },
            {
               "name": "stdout",
               "output_type": "stream",
               "text": [
                  "hyperparameters {'regularization_coefficient': 0.001, 'c': 0.5, 'num_iterations': 20}\n"
               ]
            },
            {
               "data": {
                  "application/vnd.jupyter.widget-view+json": {
                     "model_id": "c99068601892413b9669e497f98081fd",
                     "version_major": 2,
                     "version_minor": 0
                  },
                  "text/plain": [
                     "  0%|          | 0/20 [00:00<?, ?it/s]"
                  ]
               },
               "metadata": {},
               "output_type": "display_data"
            },
            {
               "name": "stdout",
               "output_type": "stream",
               "text": [
                  "hyperparameters {'regularization_coefficient': 0.005, 'c': 0.5, 'num_iterations': 20}\n"
               ]
            },
            {
               "data": {
                  "application/vnd.jupyter.widget-view+json": {
                     "model_id": "ff0de078c1004d2ca74c4e3acc15ef65",
                     "version_major": 2,
                     "version_minor": 0
                  },
                  "text/plain": [
                     "  0%|          | 0/20 [00:00<?, ?it/s]"
                  ]
               },
               "metadata": {},
               "output_type": "display_data"
            },
            {
               "name": "stdout",
               "output_type": "stream",
               "text": [
                  "hyperparameters {'regularization_coefficient': 0.01, 'c': 0.5, 'num_iterations': 20}\n"
               ]
            },
            {
               "data": {
                  "application/vnd.jupyter.widget-view+json": {
                     "model_id": "b233c83aa5fb4e59ad283f2e2374f03a",
                     "version_major": 2,
                     "version_minor": 0
                  },
                  "text/plain": [
                     "  0%|          | 0/20 [00:00<?, ?it/s]"
                  ]
               },
               "metadata": {},
               "output_type": "display_data"
            },
            {
               "name": "stdout",
               "output_type": "stream",
               "text": [
                  "hyperparameters {'regularization_coefficient': 0.02, 'c': 0.5, 'num_iterations': 20}\n"
               ]
            },
            {
               "data": {
                  "application/vnd.jupyter.widget-view+json": {
                     "model_id": "e966df4c6dce447a8d31465f2cd5e7f8",
                     "version_major": 2,
                     "version_minor": 0
                  },
                  "text/plain": [
                     "  0%|          | 0/20 [00:00<?, ?it/s]"
                  ]
               },
               "metadata": {},
               "output_type": "display_data"
            },
            {
               "name": "stdout",
               "output_type": "stream",
               "text": [
                  "hyperparameters {'regularization_coefficient': 0.05, 'c': 0.5, 'num_iterations': 20}\n"
               ]
            },
            {
               "data": {
                  "application/vnd.jupyter.widget-view+json": {
                     "model_id": "d83c5fed059046d98c12132ca5786054",
                     "version_major": 2,
                     "version_minor": 0
                  },
                  "text/plain": [
                     "  0%|          | 0/20 [00:00<?, ?it/s]"
                  ]
               },
               "metadata": {},
               "output_type": "display_data"
            },
            {
               "name": "stdout",
               "output_type": "stream",
               "text": [
                  "hyperparameters {'regularization_coefficient': 0.001, 'c': 0.7, 'num_iterations': 20}\n"
               ]
            },
            {
               "data": {
                  "application/vnd.jupyter.widget-view+json": {
                     "model_id": "cc0c68c65f5842aea26cf689d27a83a7",
                     "version_major": 2,
                     "version_minor": 0
                  },
                  "text/plain": [
                     "  0%|          | 0/20 [00:00<?, ?it/s]"
                  ]
               },
               "metadata": {},
               "output_type": "display_data"
            },
            {
               "name": "stdout",
               "output_type": "stream",
               "text": [
                  "hyperparameters {'regularization_coefficient': 0.005, 'c': 0.7, 'num_iterations': 20}\n"
               ]
            },
            {
               "data": {
                  "application/vnd.jupyter.widget-view+json": {
                     "model_id": "5194586e881e4c39b26aedad2702a1d1",
                     "version_major": 2,
                     "version_minor": 0
                  },
                  "text/plain": [
                     "  0%|          | 0/20 [00:00<?, ?it/s]"
                  ]
               },
               "metadata": {},
               "output_type": "display_data"
            },
            {
               "name": "stdout",
               "output_type": "stream",
               "text": [
                  "hyperparameters {'regularization_coefficient': 0.01, 'c': 0.7, 'num_iterations': 20}\n"
               ]
            },
            {
               "data": {
                  "application/vnd.jupyter.widget-view+json": {
                     "model_id": "7e2eee0af6b94d489e36b206bcb60fa8",
                     "version_major": 2,
                     "version_minor": 0
                  },
                  "text/plain": [
                     "  0%|          | 0/20 [00:00<?, ?it/s]"
                  ]
               },
               "metadata": {},
               "output_type": "display_data"
            },
            {
               "name": "stdout",
               "output_type": "stream",
               "text": [
                  "hyperparameters {'regularization_coefficient': 0.02, 'c': 0.7, 'num_iterations': 20}\n"
               ]
            },
            {
               "data": {
                  "application/vnd.jupyter.widget-view+json": {
                     "model_id": "7eabc8310cb14710a85fe4dc25e806d0",
                     "version_major": 2,
                     "version_minor": 0
                  },
                  "text/plain": [
                     "  0%|          | 0/20 [00:00<?, ?it/s]"
                  ]
               },
               "metadata": {},
               "output_type": "display_data"
            },
            {
               "name": "stdout",
               "output_type": "stream",
               "text": [
                  "hyperparameters {'regularization_coefficient': 0.05, 'c': 0.7, 'num_iterations': 20}\n"
               ]
            },
            {
               "data": {
                  "application/vnd.jupyter.widget-view+json": {
                     "model_id": "01cb937dc383466fbe79fb0b8d5fdac4",
                     "version_major": 2,
                     "version_minor": 0
                  },
                  "text/plain": [
                     "  0%|          | 0/20 [00:00<?, ?it/s]"
                  ]
               },
               "metadata": {},
               "output_type": "display_data"
            },
            {
               "name": "stdout",
               "output_type": "stream",
               "text": [
                  "best hyper parameters {'regularization_coefficient': 0.05, 'c': 0.5, 'num_iterations': 20}\n"
               ]
            },
            {
               "data": {
                  "application/vnd.jupyter.widget-view+json": {
                     "model_id": "a37aa46cf7534744b262fb8c560eebae",
                     "version_major": 2,
                     "version_minor": 0
                  },
                  "text/plain": [
                     "  0%|          | 0/20 [00:00<?, ?it/s]"
                  ]
               },
               "metadata": {},
               "output_type": "display_data"
            },
            {
               "name": "stdout",
               "output_type": "stream",
               "text": [
                  "Mean Squared Error None\n",
                  "Precision 0.03969179175982114\n",
                  "Recall 0.3844120123293708\n",
                  "Normalized Discounted Cumulative Gain 0.08502224912586892\n"
               ]
            }
         ],
         "source": [
            "# hyperparameters\n",
            "embedding_dimension = 10\n",
            "k = 20\n",
            "\n",
            "model = WALSRecommender(m=training_data.m, n=training_data.n, k=embedding_dimension)\n",
            "\n",
            "tie = TechniqueInferenceEngine(\n",
            "    training_data=training_data,\n",
            "    validation_data=validation_data,\n",
            "    test_data=test_data,\n",
            "    model=model,\n",
            "    enterprise_attack_filepath=enterprise_attack_filepath,\n",
            ")\n",
            "mse = tie.fit_with_cross_validation(\n",
            "    num_iterations=[20],\n",
            "    c=[0.001, 0.005, 0.01, 0.05, 0.1, 0.3, 0.5, 0.7],\n",
            "    regularization_coefficient=[0.001, 0.005, 0.01, 0.02, 0.05]\n",
            ")\n",
            "print(\"Mean Squared Error\", mse)\n",
            "precision = tie.precision(k=k)\n",
            "print(\"Precision\", precision)\n",
            "recall = tie.recall(k=k)\n",
            "print(\"Recall\", recall)\n",
            "ndcg = tie.normalized_discounted_cumulative_gain(k=k)\n",
            "print(\"Normalized Discounted Cumulative Gain\", ndcg)"
         ]
      },
      {
         "cell_type": "code",
         "execution_count": 8,
         "metadata": {},
         "outputs": [
            {
               "ename": "AttributeError",
               "evalue": "'BayesianPersonalizedRanking' object has no attribute 'partial_fit_users'",
               "output_type": "error",
               "traceback": [
                  "\u001b[0;31m---------------------------------------------------------------------------\u001b[0m",
                  "\u001b[0;31mAttributeError\u001b[0m                            Traceback (most recent call last)",
                  "Cell \u001b[0;32mIn[8], line 6\u001b[0m\n\u001b[1;32m      1\u001b[0m oilrig_techniques \u001b[38;5;241m=\u001b[39m {\n\u001b[1;32m      2\u001b[0m     \u001b[38;5;124m\"\u001b[39m\u001b[38;5;124mT1047\u001b[39m\u001b[38;5;124m\"\u001b[39m, \u001b[38;5;124m\"\u001b[39m\u001b[38;5;124mT1059.005\u001b[39m\u001b[38;5;124m\"\u001b[39m, \u001b[38;5;124m\"\u001b[39m\u001b[38;5;124mT1124\u001b[39m\u001b[38;5;124m\"\u001b[39m, \u001b[38;5;124m\"\u001b[39m\u001b[38;5;124mT1082\u001b[39m\u001b[38;5;124m\"\u001b[39m,\n\u001b[1;32m      3\u001b[0m     \u001b[38;5;124m\"\u001b[39m\u001b[38;5;124mT1497.001\u001b[39m\u001b[38;5;124m\"\u001b[39m, \u001b[38;5;124m\"\u001b[39m\u001b[38;5;124mT1053.005\u001b[39m\u001b[38;5;124m\"\u001b[39m, \u001b[38;5;124m\"\u001b[39m\u001b[38;5;124mT1027\u001b[39m\u001b[38;5;124m\"\u001b[39m, \u001b[38;5;124m\"\u001b[39m\u001b[38;5;124mT1105\u001b[39m\u001b[38;5;124m\"\u001b[39m,\n\u001b[1;32m      4\u001b[0m     \u001b[38;5;124m\"\u001b[39m\u001b[38;5;124mT1070.004\u001b[39m\u001b[38;5;124m\"\u001b[39m, \u001b[38;5;124m\"\u001b[39m\u001b[38;5;124mT1059.003\u001b[39m\u001b[38;5;124m\"\u001b[39m, \u001b[38;5;124m\"\u001b[39m\u001b[38;5;124mT1071.001\u001b[39m\u001b[38;5;124m\"\u001b[39m\n\u001b[1;32m      5\u001b[0m }\n\u001b[0;32m----> 6\u001b[0m new_report_predictions \u001b[38;5;241m=\u001b[39m \u001b[43mtie\u001b[49m\u001b[38;5;241;43m.\u001b[39;49m\u001b[43mpredict_for_new_report\u001b[49m\u001b[43m(\u001b[49m\u001b[43moilrig_techniques\u001b[49m\u001b[43m)\u001b[49m\n\u001b[1;32m      8\u001b[0m \u001b[38;5;28mprint\u001b[39m(new_report_predictions\u001b[38;5;241m.\u001b[39msort_values(by\u001b[38;5;241m=\u001b[39m\u001b[38;5;124m\"\u001b[39m\u001b[38;5;124mpredictions\u001b[39m\u001b[38;5;124m\"\u001b[39m, ascending\u001b[38;5;241m=\u001b[39m\u001b[38;5;28;01mFalse\u001b[39;00m)\u001b[38;5;241m.\u001b[39mhead(\u001b[38;5;241m10\u001b[39m))\n",
                  "File \u001b[0;32m~/code/technique-inference-engine/models/tie.py:322\u001b[0m, in \u001b[0;36mTechniqueInferenceEngine.predict_for_new_report\u001b[0;34m(self, techniques, **kwargs)\u001b[0m\n\u001b[1;32m    316\u001b[0m n \u001b[38;5;241m=\u001b[39m \u001b[38;5;28mself\u001b[39m\u001b[38;5;241m.\u001b[39m_training_data\u001b[38;5;241m.\u001b[39mn\n\u001b[1;32m    318\u001b[0m technique_tensor \u001b[38;5;241m=\u001b[39m tf\u001b[38;5;241m.\u001b[39mSparseTensor(\n\u001b[1;32m    319\u001b[0m     indices\u001b[38;5;241m=\u001b[39mtechnique_indices_2d, values\u001b[38;5;241m=\u001b[39mvalues, dense_shape\u001b[38;5;241m=\u001b[39m(n,)\n\u001b[1;32m    320\u001b[0m )\n\u001b[0;32m--> 322\u001b[0m predictions \u001b[38;5;241m=\u001b[39m \u001b[38;5;28;43mself\u001b[39;49m\u001b[38;5;241;43m.\u001b[39;49m\u001b[43m_model\u001b[49m\u001b[38;5;241;43m.\u001b[39;49m\u001b[43mpredict_new_entity\u001b[49m\u001b[43m(\u001b[49m\u001b[43mtechnique_tensor\u001b[49m\u001b[43m,\u001b[49m\u001b[43m \u001b[49m\u001b[38;5;241;43m*\u001b[39;49m\u001b[38;5;241;43m*\u001b[39;49m\u001b[43mkwargs\u001b[49m\u001b[43m)\u001b[49m\n\u001b[1;32m    324\u001b[0m training_indices_dense \u001b[38;5;241m=\u001b[39m np\u001b[38;5;241m.\u001b[39mzeros(\u001b[38;5;28mlen\u001b[39m(predictions))\n\u001b[1;32m    325\u001b[0m training_indices_dense[technique_indices] \u001b[38;5;241m=\u001b[39m \u001b[38;5;241m1\u001b[39m\n",
                  "File \u001b[0;32m~/code/technique-inference-engine/models/recommender/implicit_bpr_recommender.py:171\u001b[0m, in \u001b[0;36mImplicitBPRRecommender.predict_new_entity\u001b[0;34m(self, entity, **kwargs)\u001b[0m\n\u001b[1;32m    165\u001b[0m sparse_data \u001b[38;5;241m=\u001b[39m sparse\u001b[38;5;241m.\u001b[39mcsr_matrix(\n\u001b[1;32m    166\u001b[0m     (entity\u001b[38;5;241m.\u001b[39mvalues, (row_indices, column_indices)), shape\u001b[38;5;241m=\u001b[39m(\u001b[38;5;241m1\u001b[39m, entity\u001b[38;5;241m.\u001b[39mshape[\u001b[38;5;241m0\u001b[39m])\n\u001b[1;32m    167\u001b[0m )\n\u001b[1;32m    169\u001b[0m user_id \u001b[38;5;241m=\u001b[39m \u001b[38;5;28mself\u001b[39m\u001b[38;5;241m.\u001b[39m_m \u001b[38;5;241m+\u001b[39m \u001b[38;5;28mself\u001b[39m\u001b[38;5;241m.\u001b[39m_num_new_users\n\u001b[0;32m--> 171\u001b[0m \u001b[38;5;28;43mself\u001b[39;49m\u001b[38;5;241;43m.\u001b[39;49m\u001b[43m_model\u001b[49m\u001b[38;5;241;43m.\u001b[39;49m\u001b[43mpartial_fit_users\u001b[49m((user_id,), sparse_data)\n\u001b[1;32m    173\u001b[0m \u001b[38;5;28mself\u001b[39m\u001b[38;5;241m.\u001b[39m_num_new_users \u001b[38;5;241m+\u001b[39m\u001b[38;5;241m=\u001b[39m \u001b[38;5;241m1\u001b[39m\n\u001b[1;32m    175\u001b[0m \u001b[38;5;28mself\u001b[39m\u001b[38;5;241m.\u001b[39m_checkrep()\n",
                  "\u001b[0;31mAttributeError\u001b[0m: 'BayesianPersonalizedRanking' object has no attribute 'partial_fit_users'"
               ]
            }
         ],
         "source": [
            "oilrig_techniques = {\n",
            "    \"T1047\", \"T1059.005\", \"T1124\", \"T1082\",\n",
            "    \"T1497.001\", \"T1053.005\", \"T1027\", \"T1105\",\n",
            "    \"T1070.004\", \"T1059.003\", \"T1071.001\"\n",
            "}\n",
            "new_report_predictions = tie.predict_for_new_report(oilrig_techniques)\n",
            "\n",
            "print(new_report_predictions.sort_values(by=\"predictions\", ascending=False).head(10))"
         ]
      },
      {
         "cell_type": "code",
         "execution_count": 6,
         "metadata": {},
         "outputs": [
            {
               "name": "stdout",
               "output_type": "stream",
               "text": [
                  "           predictions  training_data  test_data  \\\n",
                  "T1052         0.977235            0.0        0.0   \n",
                  "T1133         0.899625            0.0        0.0   \n",
                  "T1021.002     0.787500            0.0        0.0   \n",
                  "T1202         0.758203            0.0        0.0   \n",
                  "T1596.004     0.742823            0.0        0.0   \n",
                  "T1505.002     0.721428            0.0        0.0   \n",
                  "T1594         0.714414            0.0        0.0   \n",
                  "T1546.001     0.676589            0.0        0.0   \n",
                  "T1105         0.658036            1.0        0.0   \n",
                  "T1104         0.648065            0.0        0.0   \n",
                  "\n",
                  "                              technique_name  \n",
                  "T1052      Exfiltration Over Physical Medium  \n",
                  "T1133               External Remote Services  \n",
                  "T1021.002           SMB/Windows Admin Shares  \n",
                  "T1202             Indirect Command Execution  \n",
                  "T1596.004                               CDNs  \n",
                  "T1505.002                    Transport Agent  \n",
                  "T1594           Search Victim-Owned Websites  \n",
                  "T1546.001    Change Default File Association  \n",
                  "T1105                  Ingress Tool Transfer  \n",
                  "T1104                   Multi-Stage Channels  \n"
               ]
            }
         ],
         "source": [
            "# COLD START PREDICTOR\n",
            "# use one of the below sets of techniques or use your own!\n",
            "\n",
            "# training_techniques = set(['T1021.004', 'T1572', 'T1083', 'T1570', 'T1571', 'T1105', 'T1003.001',\n",
            "#     'T1005', 'T1056.001', 'T1140', 'T1555.003', 'T1569.002', 'T1113',\n",
            "#     'T1018', 'T1112'\n",
            "# ])\n",
            "oilrig_techniques = {\n",
            "    \"T1047\", \"T1059.005\", \"T1124\", \"T1082\",\n",
            "    \"T1497.001\", \"T1053.005\", \"T1027\", \"T1105\",\n",
            "    \"T1070.004\", \"T1059.003\", \"T1071.001\"}\n",
            "oilrig_adversary_emulation_plan_techniques = {\"T1082\", \"T1033\", \"T1016\", \"T1087.002\", \"T1069.002\", \"T1021\", \"T1087.001\", \"T1069.001\", \"T1049\", \"T1057\", \"T1007\", \"T1012\", \"T1018\", \"T1555.004\", \"T1041\", \"T1105\", \"T1505.003\", \"T1003.001\", \"T1070.004\", \"T1572\", \"T1021.001\", \"T1569.002\", \"T1083\", \"T1048.003\"}\n",
            "# solarigate_techniques = set([\"T1087\", \"T1087.002\", \"T1098.001\", \"T1098.002\", \"T1098.003\", \"T1098.005\",\n",
            "#     \"T1583.001\", \"T1071.001\", \"T1560.001\", \"T1059.001\", \"T1059.003\", \"T1059.005\",\n",
            "#     \"T1584.001\", \"T1555\", \"T1555.003\", \"T1213\", \"T1213.003\", \"T1005\", \"T1074.002\",\n",
            "#     \"T1140\", \"T1587.001\", \"T1484.002\", \"T1482\", \"T1568\", \"T1114.002\", \"T1546.003\",\n",
            "#     \"T1048.002\", \"T1190\", \"T1133\", \"T1083\", \"T1606.001\", \"T1606.002\", \"T1589.001\",\n",
            "#     \"T1562.001\", \"T1562.002\", \"T1562.004\", \"T1070\", \"T1070.004\", \"T1070.006\", \"T1070.008\",\n",
            "#     \"T1105\", \"T1036\", \"T1036.004\", \"T1036.005\", \"T1003.006\", \"T1069\", \"T1069.002\",\n",
            "#     \"T1057\", \"T1090.001\", \"T1021.001\", \"T1021.002\", \"T1021.006\", \"T1018\", \"T1053.005\",\n",
            "#     \"T1558.003\", \"T1539\", \"T1559.002\", \"T1195.002\", \"T1218.011\", \"T1082\", \"T1016.001\",\n",
            "#     \"T1199\", \"T1552.004\", \"T1550\", \"T1550.001\", \"T1550.004\", \"T1078\",\n",
            "#     \"T1078.002\", \"T1078.003\", \"T1078.004\", \"T1047\",\n",
            "# ])\n",
            "\n",
            "factorization_kwargs = {\n",
            "    \"learning_rate\": 0.5,\n",
            "    \"num_iterations\": 10,\n",
            "    \"regularization_coefficient\": 0.1,\n",
            "    \"gravity_coefficient\": 1,\n",
            "}\n",
            "\n",
            "bpr_kwargs = {\n",
            "    \"learning_rate\": 0.01,\n",
            "    \"num_iterations\": 1000,\n",
            "    \"w_regularization\": 0.001,\n",
            "}\n",
            "\n",
            "new_report_predictions = tie.predict_for_new_report(\n",
            "    oilrig_techniques,\n",
            "    **bpr_kwargs,\n",
            ")\n",
            "\n",
            "print(new_report_predictions.sort_values(by=\"predictions\", ascending=False).head(10))"
         ]
      },
      {
         "cell_type": "code",
         "execution_count": 24,
         "metadata": {},
         "outputs": [
            {
               "name": "stdout",
               "output_type": "stream",
               "text": [
                  "[t-SNE] Computing 61 nearest neighbors...\n",
                  "[t-SNE] Indexed 6263 samples in 0.002s...\n",
                  "[t-SNE] Computed neighbors for 6263 samples in 0.265s...\n",
                  "[t-SNE] Computed conditional probabilities for sample 1000 / 6263\n",
                  "[t-SNE] Computed conditional probabilities for sample 2000 / 6263\n",
                  "[t-SNE] Computed conditional probabilities for sample 3000 / 6263\n",
                  "[t-SNE] Computed conditional probabilities for sample 4000 / 6263\n",
                  "[t-SNE] Computed conditional probabilities for sample 5000 / 6263\n",
                  "[t-SNE] Computed conditional probabilities for sample 6000 / 6263\n",
                  "[t-SNE] Computed conditional probabilities for sample 6263 / 6263\n",
                  "[t-SNE] Mean sigma: 0.000000\n",
                  "[t-SNE] KL divergence after 250 iterations with early exaggeration: 85.487518\n",
                  "[t-SNE] KL divergence after 5200 iterations: 1.522853\n"
               ]
            },
            {
               "data": {
                  "image/png": "[encoded data removed]",
                  "text/plain": [
                     "<Figure size 640x480 with 1 Axes>"
                  ]
               },
               "metadata": {},
               "output_type": "display_data"
            }
         ],
         "source": [
            "def make_tsne_embeddings(embeddings: np.ndarray) -> tuple[np.array, np.array]:\n",
            "    \"\"\"Create 2D representation of embeddings using t-SNE.\n",
            "\n",
            "    Args:\n",
            "        embeddings: an mxk array of m embeddings in k-dimensional space.\n",
            "\n",
            "    Returns:\n",
            "        A tuple of the form (x_1, x_2) where x_1 and x_2 are length m\n",
            "        such that (x_1[i], x_2[i]) is the 2-dimensional point cotnaining the 2-dimensional\n",
            "        repsresentation for embeddings[i, :].\n",
            "    \"\"\"\n",
            "    tsne = sklearn.manifold.TSNE(\n",
            "        n_components=2,\n",
            "        perplexity=20,\n",
            "        learning_rate=\"auto\",\n",
            "        # metric='cosine',\n",
            "        # early_exaggeration=10.0,\n",
            "        init='pca',\n",
            "        verbose=True,\n",
            "        n_iter=10000,\n",
            "    )\n",
            "\n",
            "    V_proj = tsne.fit_transform(embeddings)\n",
            "    x = V_proj[:, 0]\n",
            "    y = V_proj[:, 1]\n",
            "\n",
            "    return x, y\n",
            "\n",
            "U = tie.get_U()\n",
            "x_1, x_2 = make_tsne_embeddings(U)\n",
            "\n",
            "plt.scatter(x_1, x_2, s=0.5)\n",
            "plt.show()"
         ]
      }
   ],
   "metadata": {
      "kernelspec": {
         "display_name": "tie",
         "language": "python",
         "name": "python3"
      },
      "language_info": {
         "codemirror_mode": {
            "name": "ipython",
            "version": 3
         },
         "file_extension": ".py",
         "mimetype": "text/x-python",
         "name": "python",
         "nbconvert_exporter": "python",
         "pygments_lexer": "ipython3",
         "version": "3.11.7"
      }
   },
   "nbformat": 4,
   "nbformat_minor": 2
}
