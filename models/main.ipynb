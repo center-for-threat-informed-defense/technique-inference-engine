{
   "cells": [
      {
         "cell_type": "code",
         "execution_count": 10,
         "metadata": {
            "metadata": {}
         },
         "outputs": [
            {
               "name": "stdout",
               "output_type": "stream",
               "text": [
                  "The autoreload extension is already loaded. To reload it, use:\n",
                  "  %reload_ext autoreload\n"
               ]
            },
            {
               "data": {
                  "text/plain": [
                     "<module 'recommender' from '/Users/mjturner/code/technique-inference-engine/models/recommender/__init__.py'>"
                  ]
               },
               "execution_count": 10,
               "metadata": {},
               "output_type": "execute_result"
            }
         ],
         "source": [
            "%load_ext autoreload\n",
            "%autoreload 2\n",
            "\n",
            "# Imports\n",
            "import tensorflow as tf\n",
            "import recommender\n",
            "from recommender.implicit_bpr_recommender import ImplicitBPRRecommender\n",
            "from recommender import FactorizationRecommender, BPRRecommender, WalsRecommender, ImplicitWalsRecommender\n",
            "from matrix_builder import ReportTechniqueMatrixBuilder\n",
            "from tie import TechniqueInferenceEngine\n",
            "import random\n",
            "import math\n",
            "import importlib\n",
            "import pandas as pd\n",
            "import numpy as np\n",
            "import sklearn.manifold\n",
            "import matplotlib.pyplot as plt\n",
            "\n",
            "tf.config.run_functions_eagerly(True)\n",
            "\n",
            "assert tf.executing_eagerly()\n",
            "\n",
            "importlib.reload(recommender)\n"
         ]
      },
      {
         "cell_type": "code",
         "execution_count": 12,
         "metadata": {},
         "outputs": [],
         "source": [
            "validation_ratio = 0.1\n",
            "test_ratio = 0.2\n",
            "\n",
            "# data locations\n",
            "dataset_filepath = \"../data/combined_dataset_full_frequency.json\"\n",
            "enterprise_attack_filepath = \"../enterprise-attack.json\"\n",
            "\n",
            "# make data\n",
            "data_builder = ReportTechniqueMatrixBuilder(\n",
            "    combined_dataset_filepath=dataset_filepath,\n",
            "    enterprise_attack_filepath=enterprise_attack_filepath,\n",
            ")\n",
            "data = data_builder.build()\n",
            "# split into training and test data\n",
            "train_and_validation_indices = frozenset(random.sample(data.indices, k=math.floor((1-test_ratio) * len(data.indices))))\n",
            "validation_indices = frozenset(random.sample(tuple(train_and_validation_indices), k=math.floor((1-validation_ratio) * len(train_and_validation_indices))))\n",
            "train_indices = frozenset(train_and_validation_indices).difference(validation_indices)\n",
            "test_indices = frozenset(data.indices).difference(train_and_validation_indices)\n",
            "training_data = data.mask(train_indices)\n",
            "validation_data = data.mask(validation_indices)\n",
            "test_data = data.mask(test_indices)"
         ]
      },
      {
         "cell_type": "code",
         "execution_count": 21,
         "metadata": {
            "metadata": {}
         },
         "outputs": [
            {
               "name": "stdout",
               "output_type": "stream",
               "text": [
                  "hyperparameters {'gravity_coefficient': 0.001, 'regularization_coefficient': 0.001, 'num_iterations': 1000, 'learning_rate': 0.001}\n",
                  "hyperparameters {'gravity_coefficient': 0.005, 'regularization_coefficient': 0.001, 'num_iterations': 1000, 'learning_rate': 0.001}\n",
                  "hyperparameters {'gravity_coefficient': 0.01, 'regularization_coefficient': 0.001, 'num_iterations': 1000, 'learning_rate': 0.001}\n",
                  "hyperparameters {'gravity_coefficient': 0.02, 'regularization_coefficient': 0.001, 'num_iterations': 1000, 'learning_rate': 0.001}\n",
                  "hyperparameters {'gravity_coefficient': 0.05, 'regularization_coefficient': 0.001, 'num_iterations': 1000, 'learning_rate': 0.001}\n",
                  "hyperparameters {'gravity_coefficient': 0.1, 'regularization_coefficient': 0.001, 'num_iterations': 1000, 'learning_rate': 0.001}\n",
                  "hyperparameters {'gravity_coefficient': 0.2, 'regularization_coefficient': 0.001, 'num_iterations': 1000, 'learning_rate': 0.001}\n",
                  "hyperparameters {'gravity_coefficient': 0.3, 'regularization_coefficient': 0.001, 'num_iterations': 1000, 'learning_rate': 0.001}\n",
                  "hyperparameters {'gravity_coefficient': 0.5, 'regularization_coefficient': 0.001, 'num_iterations': 1000, 'learning_rate': 0.001}\n",
                  "hyperparameters {'gravity_coefficient': 0.001, 'regularization_coefficient': 0.005, 'num_iterations': 1000, 'learning_rate': 0.001}\n",
                  "hyperparameters {'gravity_coefficient': 0.005, 'regularization_coefficient': 0.005, 'num_iterations': 1000, 'learning_rate': 0.001}\n",
                  "hyperparameters {'gravity_coefficient': 0.01, 'regularization_coefficient': 0.005, 'num_iterations': 1000, 'learning_rate': 0.001}\n",
                  "hyperparameters {'gravity_coefficient': 0.02, 'regularization_coefficient': 0.005, 'num_iterations': 1000, 'learning_rate': 0.001}\n",
                  "hyperparameters {'gravity_coefficient': 0.05, 'regularization_coefficient': 0.005, 'num_iterations': 1000, 'learning_rate': 0.001}\n",
                  "hyperparameters {'gravity_coefficient': 0.1, 'regularization_coefficient': 0.005, 'num_iterations': 1000, 'learning_rate': 0.001}\n",
                  "hyperparameters {'gravity_coefficient': 0.2, 'regularization_coefficient': 0.005, 'num_iterations': 1000, 'learning_rate': 0.001}\n",
                  "hyperparameters {'gravity_coefficient': 0.3, 'regularization_coefficient': 0.005, 'num_iterations': 1000, 'learning_rate': 0.001}\n",
                  "hyperparameters {'gravity_coefficient': 0.5, 'regularization_coefficient': 0.005, 'num_iterations': 1000, 'learning_rate': 0.001}\n",
                  "hyperparameters {'gravity_coefficient': 0.001, 'regularization_coefficient': 0.01, 'num_iterations': 1000, 'learning_rate': 0.001}\n",
                  "hyperparameters {'gravity_coefficient': 0.005, 'regularization_coefficient': 0.01, 'num_iterations': 1000, 'learning_rate': 0.001}\n",
                  "hyperparameters {'gravity_coefficient': 0.01, 'regularization_coefficient': 0.01, 'num_iterations': 1000, 'learning_rate': 0.001}\n",
                  "hyperparameters {'gravity_coefficient': 0.02, 'regularization_coefficient': 0.01, 'num_iterations': 1000, 'learning_rate': 0.001}\n",
                  "hyperparameters {'gravity_coefficient': 0.05, 'regularization_coefficient': 0.01, 'num_iterations': 1000, 'learning_rate': 0.001}\n",
                  "hyperparameters {'gravity_coefficient': 0.1, 'regularization_coefficient': 0.01, 'num_iterations': 1000, 'learning_rate': 0.001}\n",
                  "hyperparameters {'gravity_coefficient': 0.2, 'regularization_coefficient': 0.01, 'num_iterations': 1000, 'learning_rate': 0.001}\n",
                  "hyperparameters {'gravity_coefficient': 0.3, 'regularization_coefficient': 0.01, 'num_iterations': 1000, 'learning_rate': 0.001}\n",
                  "hyperparameters {'gravity_coefficient': 0.5, 'regularization_coefficient': 0.01, 'num_iterations': 1000, 'learning_rate': 0.001}\n",
                  "hyperparameters {'gravity_coefficient': 0.001, 'regularization_coefficient': 0.02, 'num_iterations': 1000, 'learning_rate': 0.001}\n",
                  "hyperparameters {'gravity_coefficient': 0.005, 'regularization_coefficient': 0.02, 'num_iterations': 1000, 'learning_rate': 0.001}\n",
                  "hyperparameters {'gravity_coefficient': 0.01, 'regularization_coefficient': 0.02, 'num_iterations': 1000, 'learning_rate': 0.001}\n",
                  "hyperparameters {'gravity_coefficient': 0.02, 'regularization_coefficient': 0.02, 'num_iterations': 1000, 'learning_rate': 0.001}\n",
                  "hyperparameters {'gravity_coefficient': 0.05, 'regularization_coefficient': 0.02, 'num_iterations': 1000, 'learning_rate': 0.001}\n",
                  "hyperparameters {'gravity_coefficient': 0.1, 'regularization_coefficient': 0.02, 'num_iterations': 1000, 'learning_rate': 0.001}\n",
                  "hyperparameters {'gravity_coefficient': 0.2, 'regularization_coefficient': 0.02, 'num_iterations': 1000, 'learning_rate': 0.001}\n",
                  "hyperparameters {'gravity_coefficient': 0.3, 'regularization_coefficient': 0.02, 'num_iterations': 1000, 'learning_rate': 0.001}\n",
                  "hyperparameters {'gravity_coefficient': 0.5, 'regularization_coefficient': 0.02, 'num_iterations': 1000, 'learning_rate': 0.001}\n",
                  "hyperparameters {'gravity_coefficient': 0.001, 'regularization_coefficient': 0.05, 'num_iterations': 1000, 'learning_rate': 0.001}\n",
                  "hyperparameters {'gravity_coefficient': 0.005, 'regularization_coefficient': 0.05, 'num_iterations': 1000, 'learning_rate': 0.001}\n",
                  "hyperparameters {'gravity_coefficient': 0.01, 'regularization_coefficient': 0.05, 'num_iterations': 1000, 'learning_rate': 0.001}\n",
                  "hyperparameters {'gravity_coefficient': 0.02, 'regularization_coefficient': 0.05, 'num_iterations': 1000, 'learning_rate': 0.001}\n",
                  "hyperparameters {'gravity_coefficient': 0.05, 'regularization_coefficient': 0.05, 'num_iterations': 1000, 'learning_rate': 0.001}\n",
                  "hyperparameters {'gravity_coefficient': 0.1, 'regularization_coefficient': 0.05, 'num_iterations': 1000, 'learning_rate': 0.001}\n",
                  "hyperparameters {'gravity_coefficient': 0.2, 'regularization_coefficient': 0.05, 'num_iterations': 1000, 'learning_rate': 0.001}\n",
                  "hyperparameters {'gravity_coefficient': 0.3, 'regularization_coefficient': 0.05, 'num_iterations': 1000, 'learning_rate': 0.001}\n",
                  "hyperparameters {'gravity_coefficient': 0.5, 'regularization_coefficient': 0.05, 'num_iterations': 1000, 'learning_rate': 0.001}\n",
                  "hyperparameters {'gravity_coefficient': 0.001, 'regularization_coefficient': 0.1, 'num_iterations': 1000, 'learning_rate': 0.001}\n",
                  "hyperparameters {'gravity_coefficient': 0.005, 'regularization_coefficient': 0.1, 'num_iterations': 1000, 'learning_rate': 0.001}\n",
                  "hyperparameters {'gravity_coefficient': 0.01, 'regularization_coefficient': 0.1, 'num_iterations': 1000, 'learning_rate': 0.001}\n",
                  "hyperparameters {'gravity_coefficient': 0.02, 'regularization_coefficient': 0.1, 'num_iterations': 1000, 'learning_rate': 0.001}\n",
                  "hyperparameters {'gravity_coefficient': 0.05, 'regularization_coefficient': 0.1, 'num_iterations': 1000, 'learning_rate': 0.001}\n",
                  "hyperparameters {'gravity_coefficient': 0.1, 'regularization_coefficient': 0.1, 'num_iterations': 1000, 'learning_rate': 0.001}\n",
                  "hyperparameters {'gravity_coefficient': 0.2, 'regularization_coefficient': 0.1, 'num_iterations': 1000, 'learning_rate': 0.001}\n",
                  "hyperparameters {'gravity_coefficient': 0.3, 'regularization_coefficient': 0.1, 'num_iterations': 1000, 'learning_rate': 0.001}\n",
                  "hyperparameters {'gravity_coefficient': 0.5, 'regularization_coefficient': 0.1, 'num_iterations': 1000, 'learning_rate': 0.001}\n",
                  "hyperparameters {'gravity_coefficient': 0.001, 'regularization_coefficient': 0.2, 'num_iterations': 1000, 'learning_rate': 0.001}\n",
                  "hyperparameters {'gravity_coefficient': 0.005, 'regularization_coefficient': 0.2, 'num_iterations': 1000, 'learning_rate': 0.001}\n",
                  "hyperparameters {'gravity_coefficient': 0.01, 'regularization_coefficient': 0.2, 'num_iterations': 1000, 'learning_rate': 0.001}\n",
                  "hyperparameters {'gravity_coefficient': 0.02, 'regularization_coefficient': 0.2, 'num_iterations': 1000, 'learning_rate': 0.001}\n",
                  "hyperparameters {'gravity_coefficient': 0.05, 'regularization_coefficient': 0.2, 'num_iterations': 1000, 'learning_rate': 0.001}\n",
                  "hyperparameters {'gravity_coefficient': 0.1, 'regularization_coefficient': 0.2, 'num_iterations': 1000, 'learning_rate': 0.001}\n",
                  "hyperparameters {'gravity_coefficient': 0.2, 'regularization_coefficient': 0.2, 'num_iterations': 1000, 'learning_rate': 0.001}\n",
                  "hyperparameters {'gravity_coefficient': 0.3, 'regularization_coefficient': 0.2, 'num_iterations': 1000, 'learning_rate': 0.001}\n",
                  "hyperparameters {'gravity_coefficient': 0.5, 'regularization_coefficient': 0.2, 'num_iterations': 1000, 'learning_rate': 0.001}\n",
                  "hyperparameters {'gravity_coefficient': 0.001, 'regularization_coefficient': 0.3, 'num_iterations': 1000, 'learning_rate': 0.001}\n",
                  "hyperparameters {'gravity_coefficient': 0.005, 'regularization_coefficient': 0.3, 'num_iterations': 1000, 'learning_rate': 0.001}\n",
                  "hyperparameters {'gravity_coefficient': 0.01, 'regularization_coefficient': 0.3, 'num_iterations': 1000, 'learning_rate': 0.001}\n",
                  "hyperparameters {'gravity_coefficient': 0.02, 'regularization_coefficient': 0.3, 'num_iterations': 1000, 'learning_rate': 0.001}\n",
                  "hyperparameters {'gravity_coefficient': 0.05, 'regularization_coefficient': 0.3, 'num_iterations': 1000, 'learning_rate': 0.001}\n",
                  "hyperparameters {'gravity_coefficient': 0.1, 'regularization_coefficient': 0.3, 'num_iterations': 1000, 'learning_rate': 0.001}\n",
                  "hyperparameters {'gravity_coefficient': 0.2, 'regularization_coefficient': 0.3, 'num_iterations': 1000, 'learning_rate': 0.001}\n",
                  "hyperparameters {'gravity_coefficient': 0.3, 'regularization_coefficient': 0.3, 'num_iterations': 1000, 'learning_rate': 0.001}\n",
                  "hyperparameters {'gravity_coefficient': 0.5, 'regularization_coefficient': 0.3, 'num_iterations': 1000, 'learning_rate': 0.001}\n",
                  "hyperparameters {'gravity_coefficient': 0.001, 'regularization_coefficient': 0.5, 'num_iterations': 1000, 'learning_rate': 0.001}\n",
                  "hyperparameters {'gravity_coefficient': 0.005, 'regularization_coefficient': 0.5, 'num_iterations': 1000, 'learning_rate': 0.001}\n",
                  "hyperparameters {'gravity_coefficient': 0.01, 'regularization_coefficient': 0.5, 'num_iterations': 1000, 'learning_rate': 0.001}\n",
                  "hyperparameters {'gravity_coefficient': 0.02, 'regularization_coefficient': 0.5, 'num_iterations': 1000, 'learning_rate': 0.001}\n",
                  "hyperparameters {'gravity_coefficient': 0.05, 'regularization_coefficient': 0.5, 'num_iterations': 1000, 'learning_rate': 0.001}\n",
                  "hyperparameters {'gravity_coefficient': 0.1, 'regularization_coefficient': 0.5, 'num_iterations': 1000, 'learning_rate': 0.001}\n",
                  "hyperparameters {'gravity_coefficient': 0.2, 'regularization_coefficient': 0.5, 'num_iterations': 1000, 'learning_rate': 0.001}\n",
                  "hyperparameters {'gravity_coefficient': 0.3, 'regularization_coefficient': 0.5, 'num_iterations': 1000, 'learning_rate': 0.001}\n",
                  "hyperparameters {'gravity_coefficient': 0.5, 'regularization_coefficient': 0.5, 'num_iterations': 1000, 'learning_rate': 0.001}\n",
                  "hyperparameters {'gravity_coefficient': 0.001, 'regularization_coefficient': 0.001, 'num_iterations': 1000, 'learning_rate': 0.01}\n",
                  "hyperparameters {'gravity_coefficient': 0.005, 'regularization_coefficient': 0.001, 'num_iterations': 1000, 'learning_rate': 0.01}\n",
                  "hyperparameters {'gravity_coefficient': 0.01, 'regularization_coefficient': 0.001, 'num_iterations': 1000, 'learning_rate': 0.01}\n",
                  "hyperparameters {'gravity_coefficient': 0.02, 'regularization_coefficient': 0.001, 'num_iterations': 1000, 'learning_rate': 0.01}\n",
                  "hyperparameters {'gravity_coefficient': 0.05, 'regularization_coefficient': 0.001, 'num_iterations': 1000, 'learning_rate': 0.01}\n",
                  "hyperparameters {'gravity_coefficient': 0.1, 'regularization_coefficient': 0.001, 'num_iterations': 1000, 'learning_rate': 0.01}\n",
                  "hyperparameters {'gravity_coefficient': 0.2, 'regularization_coefficient': 0.001, 'num_iterations': 1000, 'learning_rate': 0.01}\n",
                  "hyperparameters {'gravity_coefficient': 0.3, 'regularization_coefficient': 0.001, 'num_iterations': 1000, 'learning_rate': 0.01}\n",
                  "hyperparameters {'gravity_coefficient': 0.5, 'regularization_coefficient': 0.001, 'num_iterations': 1000, 'learning_rate': 0.01}\n",
                  "hyperparameters {'gravity_coefficient': 0.001, 'regularization_coefficient': 0.005, 'num_iterations': 1000, 'learning_rate': 0.01}\n",
                  "hyperparameters {'gravity_coefficient': 0.005, 'regularization_coefficient': 0.005, 'num_iterations': 1000, 'learning_rate': 0.01}\n",
                  "hyperparameters {'gravity_coefficient': 0.01, 'regularization_coefficient': 0.005, 'num_iterations': 1000, 'learning_rate': 0.01}\n",
                  "hyperparameters {'gravity_coefficient': 0.02, 'regularization_coefficient': 0.005, 'num_iterations': 1000, 'learning_rate': 0.01}\n",
                  "hyperparameters {'gravity_coefficient': 0.05, 'regularization_coefficient': 0.005, 'num_iterations': 1000, 'learning_rate': 0.01}\n",
                  "hyperparameters {'gravity_coefficient': 0.1, 'regularization_coefficient': 0.005, 'num_iterations': 1000, 'learning_rate': 0.01}\n",
                  "hyperparameters {'gravity_coefficient': 0.2, 'regularization_coefficient': 0.005, 'num_iterations': 1000, 'learning_rate': 0.01}\n",
                  "hyperparameters {'gravity_coefficient': 0.3, 'regularization_coefficient': 0.005, 'num_iterations': 1000, 'learning_rate': 0.01}\n",
                  "hyperparameters {'gravity_coefficient': 0.5, 'regularization_coefficient': 0.005, 'num_iterations': 1000, 'learning_rate': 0.01}\n",
                  "hyperparameters {'gravity_coefficient': 0.001, 'regularization_coefficient': 0.01, 'num_iterations': 1000, 'learning_rate': 0.01}\n",
                  "hyperparameters {'gravity_coefficient': 0.005, 'regularization_coefficient': 0.01, 'num_iterations': 1000, 'learning_rate': 0.01}\n",
                  "hyperparameters {'gravity_coefficient': 0.01, 'regularization_coefficient': 0.01, 'num_iterations': 1000, 'learning_rate': 0.01}\n",
                  "hyperparameters {'gravity_coefficient': 0.02, 'regularization_coefficient': 0.01, 'num_iterations': 1000, 'learning_rate': 0.01}\n",
                  "hyperparameters {'gravity_coefficient': 0.05, 'regularization_coefficient': 0.01, 'num_iterations': 1000, 'learning_rate': 0.01}\n",
                  "hyperparameters {'gravity_coefficient': 0.1, 'regularization_coefficient': 0.01, 'num_iterations': 1000, 'learning_rate': 0.01}\n",
                  "hyperparameters {'gravity_coefficient': 0.2, 'regularization_coefficient': 0.01, 'num_iterations': 1000, 'learning_rate': 0.01}\n",
                  "hyperparameters {'gravity_coefficient': 0.3, 'regularization_coefficient': 0.01, 'num_iterations': 1000, 'learning_rate': 0.01}\n",
                  "hyperparameters {'gravity_coefficient': 0.5, 'regularization_coefficient': 0.01, 'num_iterations': 1000, 'learning_rate': 0.01}\n",
                  "hyperparameters {'gravity_coefficient': 0.001, 'regularization_coefficient': 0.02, 'num_iterations': 1000, 'learning_rate': 0.01}\n",
                  "hyperparameters {'gravity_coefficient': 0.005, 'regularization_coefficient': 0.02, 'num_iterations': 1000, 'learning_rate': 0.01}\n",
                  "hyperparameters {'gravity_coefficient': 0.01, 'regularization_coefficient': 0.02, 'num_iterations': 1000, 'learning_rate': 0.01}\n",
                  "hyperparameters {'gravity_coefficient': 0.02, 'regularization_coefficient': 0.02, 'num_iterations': 1000, 'learning_rate': 0.01}\n",
                  "hyperparameters {'gravity_coefficient': 0.05, 'regularization_coefficient': 0.02, 'num_iterations': 1000, 'learning_rate': 0.01}\n",
                  "hyperparameters {'gravity_coefficient': 0.1, 'regularization_coefficient': 0.02, 'num_iterations': 1000, 'learning_rate': 0.01}\n",
                  "hyperparameters {'gravity_coefficient': 0.2, 'regularization_coefficient': 0.02, 'num_iterations': 1000, 'learning_rate': 0.01}\n",
                  "hyperparameters {'gravity_coefficient': 0.3, 'regularization_coefficient': 0.02, 'num_iterations': 1000, 'learning_rate': 0.01}\n",
                  "hyperparameters {'gravity_coefficient': 0.5, 'regularization_coefficient': 0.02, 'num_iterations': 1000, 'learning_rate': 0.01}\n",
                  "hyperparameters {'gravity_coefficient': 0.001, 'regularization_coefficient': 0.05, 'num_iterations': 1000, 'learning_rate': 0.01}\n",
                  "hyperparameters {'gravity_coefficient': 0.005, 'regularization_coefficient': 0.05, 'num_iterations': 1000, 'learning_rate': 0.01}\n",
                  "hyperparameters {'gravity_coefficient': 0.01, 'regularization_coefficient': 0.05, 'num_iterations': 1000, 'learning_rate': 0.01}\n",
                  "hyperparameters {'gravity_coefficient': 0.02, 'regularization_coefficient': 0.05, 'num_iterations': 1000, 'learning_rate': 0.01}\n",
                  "hyperparameters {'gravity_coefficient': 0.05, 'regularization_coefficient': 0.05, 'num_iterations': 1000, 'learning_rate': 0.01}\n",
                  "hyperparameters {'gravity_coefficient': 0.1, 'regularization_coefficient': 0.05, 'num_iterations': 1000, 'learning_rate': 0.01}\n",
                  "hyperparameters {'gravity_coefficient': 0.2, 'regularization_coefficient': 0.05, 'num_iterations': 1000, 'learning_rate': 0.01}\n",
                  "hyperparameters {'gravity_coefficient': 0.3, 'regularization_coefficient': 0.05, 'num_iterations': 1000, 'learning_rate': 0.01}\n",
                  "hyperparameters {'gravity_coefficient': 0.5, 'regularization_coefficient': 0.05, 'num_iterations': 1000, 'learning_rate': 0.01}\n",
                  "hyperparameters {'gravity_coefficient': 0.001, 'regularization_coefficient': 0.1, 'num_iterations': 1000, 'learning_rate': 0.01}\n",
                  "hyperparameters {'gravity_coefficient': 0.005, 'regularization_coefficient': 0.1, 'num_iterations': 1000, 'learning_rate': 0.01}\n",
                  "hyperparameters {'gravity_coefficient': 0.01, 'regularization_coefficient': 0.1, 'num_iterations': 1000, 'learning_rate': 0.01}\n",
                  "hyperparameters {'gravity_coefficient': 0.02, 'regularization_coefficient': 0.1, 'num_iterations': 1000, 'learning_rate': 0.01}\n",
                  "hyperparameters {'gravity_coefficient': 0.05, 'regularization_coefficient': 0.1, 'num_iterations': 1000, 'learning_rate': 0.01}\n",
                  "hyperparameters {'gravity_coefficient': 0.1, 'regularization_coefficient': 0.1, 'num_iterations': 1000, 'learning_rate': 0.01}\n",
                  "hyperparameters {'gravity_coefficient': 0.2, 'regularization_coefficient': 0.1, 'num_iterations': 1000, 'learning_rate': 0.01}\n",
                  "hyperparameters {'gravity_coefficient': 0.3, 'regularization_coefficient': 0.1, 'num_iterations': 1000, 'learning_rate': 0.01}\n",
                  "hyperparameters {'gravity_coefficient': 0.5, 'regularization_coefficient': 0.1, 'num_iterations': 1000, 'learning_rate': 0.01}\n",
                  "hyperparameters {'gravity_coefficient': 0.001, 'regularization_coefficient': 0.2, 'num_iterations': 1000, 'learning_rate': 0.01}\n",
                  "hyperparameters {'gravity_coefficient': 0.005, 'regularization_coefficient': 0.2, 'num_iterations': 1000, 'learning_rate': 0.01}\n",
                  "hyperparameters {'gravity_coefficient': 0.01, 'regularization_coefficient': 0.2, 'num_iterations': 1000, 'learning_rate': 0.01}\n",
                  "hyperparameters {'gravity_coefficient': 0.02, 'regularization_coefficient': 0.2, 'num_iterations': 1000, 'learning_rate': 0.01}\n",
                  "hyperparameters {'gravity_coefficient': 0.05, 'regularization_coefficient': 0.2, 'num_iterations': 1000, 'learning_rate': 0.01}\n",
                  "hyperparameters {'gravity_coefficient': 0.1, 'regularization_coefficient': 0.2, 'num_iterations': 1000, 'learning_rate': 0.01}\n",
                  "hyperparameters {'gravity_coefficient': 0.2, 'regularization_coefficient': 0.2, 'num_iterations': 1000, 'learning_rate': 0.01}\n",
                  "hyperparameters {'gravity_coefficient': 0.3, 'regularization_coefficient': 0.2, 'num_iterations': 1000, 'learning_rate': 0.01}\n",
                  "hyperparameters {'gravity_coefficient': 0.5, 'regularization_coefficient': 0.2, 'num_iterations': 1000, 'learning_rate': 0.01}\n",
                  "hyperparameters {'gravity_coefficient': 0.001, 'regularization_coefficient': 0.3, 'num_iterations': 1000, 'learning_rate': 0.01}\n",
                  "hyperparameters {'gravity_coefficient': 0.005, 'regularization_coefficient': 0.3, 'num_iterations': 1000, 'learning_rate': 0.01}\n",
                  "hyperparameters {'gravity_coefficient': 0.01, 'regularization_coefficient': 0.3, 'num_iterations': 1000, 'learning_rate': 0.01}\n",
                  "hyperparameters {'gravity_coefficient': 0.02, 'regularization_coefficient': 0.3, 'num_iterations': 1000, 'learning_rate': 0.01}\n",
                  "hyperparameters {'gravity_coefficient': 0.05, 'regularization_coefficient': 0.3, 'num_iterations': 1000, 'learning_rate': 0.01}\n",
                  "hyperparameters {'gravity_coefficient': 0.1, 'regularization_coefficient': 0.3, 'num_iterations': 1000, 'learning_rate': 0.01}\n",
                  "hyperparameters {'gravity_coefficient': 0.2, 'regularization_coefficient': 0.3, 'num_iterations': 1000, 'learning_rate': 0.01}\n",
                  "hyperparameters {'gravity_coefficient': 0.3, 'regularization_coefficient': 0.3, 'num_iterations': 1000, 'learning_rate': 0.01}\n",
                  "hyperparameters {'gravity_coefficient': 0.5, 'regularization_coefficient': 0.3, 'num_iterations': 1000, 'learning_rate': 0.01}\n",
                  "hyperparameters {'gravity_coefficient': 0.001, 'regularization_coefficient': 0.5, 'num_iterations': 1000, 'learning_rate': 0.01}\n",
                  "hyperparameters {'gravity_coefficient': 0.005, 'regularization_coefficient': 0.5, 'num_iterations': 1000, 'learning_rate': 0.01}\n",
                  "hyperparameters {'gravity_coefficient': 0.01, 'regularization_coefficient': 0.5, 'num_iterations': 1000, 'learning_rate': 0.01}\n",
                  "hyperparameters {'gravity_coefficient': 0.02, 'regularization_coefficient': 0.5, 'num_iterations': 1000, 'learning_rate': 0.01}\n",
                  "hyperparameters {'gravity_coefficient': 0.05, 'regularization_coefficient': 0.5, 'num_iterations': 1000, 'learning_rate': 0.01}\n",
                  "hyperparameters {'gravity_coefficient': 0.1, 'regularization_coefficient': 0.5, 'num_iterations': 1000, 'learning_rate': 0.01}\n",
                  "hyperparameters {'gravity_coefficient': 0.2, 'regularization_coefficient': 0.5, 'num_iterations': 1000, 'learning_rate': 0.01}\n",
                  "hyperparameters {'gravity_coefficient': 0.3, 'regularization_coefficient': 0.5, 'num_iterations': 1000, 'learning_rate': 0.01}\n",
                  "hyperparameters {'gravity_coefficient': 0.5, 'regularization_coefficient': 0.5, 'num_iterations': 1000, 'learning_rate': 0.01}\n",
                  "hyperparameters {'gravity_coefficient': 0.001, 'regularization_coefficient': 0.001, 'num_iterations': 1000, 'learning_rate': 0.1}\n",
                  "hyperparameters {'gravity_coefficient': 0.005, 'regularization_coefficient': 0.001, 'num_iterations': 1000, 'learning_rate': 0.1}\n",
                  "hyperparameters {'gravity_coefficient': 0.01, 'regularization_coefficient': 0.001, 'num_iterations': 1000, 'learning_rate': 0.1}\n",
                  "hyperparameters {'gravity_coefficient': 0.02, 'regularization_coefficient': 0.001, 'num_iterations': 1000, 'learning_rate': 0.1}\n",
                  "hyperparameters {'gravity_coefficient': 0.05, 'regularization_coefficient': 0.001, 'num_iterations': 1000, 'learning_rate': 0.1}\n",
                  "hyperparameters {'gravity_coefficient': 0.1, 'regularization_coefficient': 0.001, 'num_iterations': 1000, 'learning_rate': 0.1}\n",
                  "hyperparameters {'gravity_coefficient': 0.2, 'regularization_coefficient': 0.001, 'num_iterations': 1000, 'learning_rate': 0.1}\n",
                  "hyperparameters {'gravity_coefficient': 0.3, 'regularization_coefficient': 0.001, 'num_iterations': 1000, 'learning_rate': 0.1}\n",
                  "hyperparameters {'gravity_coefficient': 0.5, 'regularization_coefficient': 0.001, 'num_iterations': 1000, 'learning_rate': 0.1}\n",
                  "hyperparameters {'gravity_coefficient': 0.001, 'regularization_coefficient': 0.005, 'num_iterations': 1000, 'learning_rate': 0.1}\n",
                  "hyperparameters {'gravity_coefficient': 0.005, 'regularization_coefficient': 0.005, 'num_iterations': 1000, 'learning_rate': 0.1}\n",
                  "hyperparameters {'gravity_coefficient': 0.01, 'regularization_coefficient': 0.005, 'num_iterations': 1000, 'learning_rate': 0.1}\n",
                  "hyperparameters {'gravity_coefficient': 0.02, 'regularization_coefficient': 0.005, 'num_iterations': 1000, 'learning_rate': 0.1}\n",
                  "hyperparameters {'gravity_coefficient': 0.05, 'regularization_coefficient': 0.005, 'num_iterations': 1000, 'learning_rate': 0.1}\n",
                  "hyperparameters {'gravity_coefficient': 0.1, 'regularization_coefficient': 0.005, 'num_iterations': 1000, 'learning_rate': 0.1}\n",
                  "hyperparameters {'gravity_coefficient': 0.2, 'regularization_coefficient': 0.005, 'num_iterations': 1000, 'learning_rate': 0.1}\n",
                  "hyperparameters {'gravity_coefficient': 0.3, 'regularization_coefficient': 0.005, 'num_iterations': 1000, 'learning_rate': 0.1}\n",
                  "hyperparameters {'gravity_coefficient': 0.5, 'regularization_coefficient': 0.005, 'num_iterations': 1000, 'learning_rate': 0.1}\n",
                  "hyperparameters {'gravity_coefficient': 0.001, 'regularization_coefficient': 0.01, 'num_iterations': 1000, 'learning_rate': 0.1}\n",
                  "hyperparameters {'gravity_coefficient': 0.005, 'regularization_coefficient': 0.01, 'num_iterations': 1000, 'learning_rate': 0.1}\n",
                  "hyperparameters {'gravity_coefficient': 0.01, 'regularization_coefficient': 0.01, 'num_iterations': 1000, 'learning_rate': 0.1}\n",
                  "hyperparameters {'gravity_coefficient': 0.02, 'regularization_coefficient': 0.01, 'num_iterations': 1000, 'learning_rate': 0.1}\n",
                  "hyperparameters {'gravity_coefficient': 0.05, 'regularization_coefficient': 0.01, 'num_iterations': 1000, 'learning_rate': 0.1}\n",
                  "hyperparameters {'gravity_coefficient': 0.1, 'regularization_coefficient': 0.01, 'num_iterations': 1000, 'learning_rate': 0.1}\n",
                  "hyperparameters {'gravity_coefficient': 0.2, 'regularization_coefficient': 0.01, 'num_iterations': 1000, 'learning_rate': 0.1}\n",
                  "hyperparameters {'gravity_coefficient': 0.3, 'regularization_coefficient': 0.01, 'num_iterations': 1000, 'learning_rate': 0.1}\n",
                  "hyperparameters {'gravity_coefficient': 0.5, 'regularization_coefficient': 0.01, 'num_iterations': 1000, 'learning_rate': 0.1}\n",
                  "hyperparameters {'gravity_coefficient': 0.001, 'regularization_coefficient': 0.02, 'num_iterations': 1000, 'learning_rate': 0.1}\n",
                  "hyperparameters {'gravity_coefficient': 0.005, 'regularization_coefficient': 0.02, 'num_iterations': 1000, 'learning_rate': 0.1}\n",
                  "hyperparameters {'gravity_coefficient': 0.01, 'regularization_coefficient': 0.02, 'num_iterations': 1000, 'learning_rate': 0.1}\n",
                  "hyperparameters {'gravity_coefficient': 0.02, 'regularization_coefficient': 0.02, 'num_iterations': 1000, 'learning_rate': 0.1}\n",
                  "hyperparameters {'gravity_coefficient': 0.05, 'regularization_coefficient': 0.02, 'num_iterations': 1000, 'learning_rate': 0.1}\n",
                  "hyperparameters {'gravity_coefficient': 0.1, 'regularization_coefficient': 0.02, 'num_iterations': 1000, 'learning_rate': 0.1}\n",
                  "hyperparameters {'gravity_coefficient': 0.2, 'regularization_coefficient': 0.02, 'num_iterations': 1000, 'learning_rate': 0.1}\n",
                  "hyperparameters {'gravity_coefficient': 0.3, 'regularization_coefficient': 0.02, 'num_iterations': 1000, 'learning_rate': 0.1}\n",
                  "hyperparameters {'gravity_coefficient': 0.5, 'regularization_coefficient': 0.02, 'num_iterations': 1000, 'learning_rate': 0.1}\n",
                  "hyperparameters {'gravity_coefficient': 0.001, 'regularization_coefficient': 0.05, 'num_iterations': 1000, 'learning_rate': 0.1}\n",
                  "hyperparameters {'gravity_coefficient': 0.005, 'regularization_coefficient': 0.05, 'num_iterations': 1000, 'learning_rate': 0.1}\n",
                  "hyperparameters {'gravity_coefficient': 0.01, 'regularization_coefficient': 0.05, 'num_iterations': 1000, 'learning_rate': 0.1}\n",
                  "hyperparameters {'gravity_coefficient': 0.02, 'regularization_coefficient': 0.05, 'num_iterations': 1000, 'learning_rate': 0.1}\n",
                  "hyperparameters {'gravity_coefficient': 0.05, 'regularization_coefficient': 0.05, 'num_iterations': 1000, 'learning_rate': 0.1}\n",
                  "hyperparameters {'gravity_coefficient': 0.1, 'regularization_coefficient': 0.05, 'num_iterations': 1000, 'learning_rate': 0.1}\n",
                  "hyperparameters {'gravity_coefficient': 0.2, 'regularization_coefficient': 0.05, 'num_iterations': 1000, 'learning_rate': 0.1}\n",
                  "hyperparameters {'gravity_coefficient': 0.3, 'regularization_coefficient': 0.05, 'num_iterations': 1000, 'learning_rate': 0.1}\n",
                  "hyperparameters {'gravity_coefficient': 0.5, 'regularization_coefficient': 0.05, 'num_iterations': 1000, 'learning_rate': 0.1}\n",
                  "hyperparameters {'gravity_coefficient': 0.001, 'regularization_coefficient': 0.1, 'num_iterations': 1000, 'learning_rate': 0.1}\n",
                  "hyperparameters {'gravity_coefficient': 0.005, 'regularization_coefficient': 0.1, 'num_iterations': 1000, 'learning_rate': 0.1}\n",
                  "hyperparameters {'gravity_coefficient': 0.01, 'regularization_coefficient': 0.1, 'num_iterations': 1000, 'learning_rate': 0.1}\n",
                  "hyperparameters {'gravity_coefficient': 0.02, 'regularization_coefficient': 0.1, 'num_iterations': 1000, 'learning_rate': 0.1}\n",
                  "hyperparameters {'gravity_coefficient': 0.05, 'regularization_coefficient': 0.1, 'num_iterations': 1000, 'learning_rate': 0.1}\n",
                  "hyperparameters {'gravity_coefficient': 0.1, 'regularization_coefficient': 0.1, 'num_iterations': 1000, 'learning_rate': 0.1}\n",
                  "hyperparameters {'gravity_coefficient': 0.2, 'regularization_coefficient': 0.1, 'num_iterations': 1000, 'learning_rate': 0.1}\n",
                  "hyperparameters {'gravity_coefficient': 0.3, 'regularization_coefficient': 0.1, 'num_iterations': 1000, 'learning_rate': 0.1}\n",
                  "hyperparameters {'gravity_coefficient': 0.5, 'regularization_coefficient': 0.1, 'num_iterations': 1000, 'learning_rate': 0.1}\n",
                  "hyperparameters {'gravity_coefficient': 0.001, 'regularization_coefficient': 0.2, 'num_iterations': 1000, 'learning_rate': 0.1}\n",
                  "hyperparameters {'gravity_coefficient': 0.005, 'regularization_coefficient': 0.2, 'num_iterations': 1000, 'learning_rate': 0.1}\n",
                  "hyperparameters {'gravity_coefficient': 0.01, 'regularization_coefficient': 0.2, 'num_iterations': 1000, 'learning_rate': 0.1}\n",
                  "hyperparameters {'gravity_coefficient': 0.02, 'regularization_coefficient': 0.2, 'num_iterations': 1000, 'learning_rate': 0.1}\n",
                  "hyperparameters {'gravity_coefficient': 0.05, 'regularization_coefficient': 0.2, 'num_iterations': 1000, 'learning_rate': 0.1}\n",
                  "hyperparameters {'gravity_coefficient': 0.1, 'regularization_coefficient': 0.2, 'num_iterations': 1000, 'learning_rate': 0.1}\n",
                  "hyperparameters {'gravity_coefficient': 0.2, 'regularization_coefficient': 0.2, 'num_iterations': 1000, 'learning_rate': 0.1}\n",
                  "hyperparameters {'gravity_coefficient': 0.3, 'regularization_coefficient': 0.2, 'num_iterations': 1000, 'learning_rate': 0.1}\n",
                  "hyperparameters {'gravity_coefficient': 0.5, 'regularization_coefficient': 0.2, 'num_iterations': 1000, 'learning_rate': 0.1}\n",
                  "hyperparameters {'gravity_coefficient': 0.001, 'regularization_coefficient': 0.3, 'num_iterations': 1000, 'learning_rate': 0.1}\n",
                  "hyperparameters {'gravity_coefficient': 0.005, 'regularization_coefficient': 0.3, 'num_iterations': 1000, 'learning_rate': 0.1}\n",
                  "hyperparameters {'gravity_coefficient': 0.01, 'regularization_coefficient': 0.3, 'num_iterations': 1000, 'learning_rate': 0.1}\n",
                  "hyperparameters {'gravity_coefficient': 0.02, 'regularization_coefficient': 0.3, 'num_iterations': 1000, 'learning_rate': 0.1}\n",
                  "hyperparameters {'gravity_coefficient': 0.05, 'regularization_coefficient': 0.3, 'num_iterations': 1000, 'learning_rate': 0.1}\n",
                  "hyperparameters {'gravity_coefficient': 0.1, 'regularization_coefficient': 0.3, 'num_iterations': 1000, 'learning_rate': 0.1}\n",
                  "hyperparameters {'gravity_coefficient': 0.2, 'regularization_coefficient': 0.3, 'num_iterations': 1000, 'learning_rate': 0.1}\n",
                  "hyperparameters {'gravity_coefficient': 0.3, 'regularization_coefficient': 0.3, 'num_iterations': 1000, 'learning_rate': 0.1}\n",
                  "hyperparameters {'gravity_coefficient': 0.5, 'regularization_coefficient': 0.3, 'num_iterations': 1000, 'learning_rate': 0.1}\n",
                  "hyperparameters {'gravity_coefficient': 0.001, 'regularization_coefficient': 0.5, 'num_iterations': 1000, 'learning_rate': 0.1}\n",
                  "hyperparameters {'gravity_coefficient': 0.005, 'regularization_coefficient': 0.5, 'num_iterations': 1000, 'learning_rate': 0.1}\n",
                  "hyperparameters {'gravity_coefficient': 0.01, 'regularization_coefficient': 0.5, 'num_iterations': 1000, 'learning_rate': 0.1}\n",
                  "hyperparameters {'gravity_coefficient': 0.02, 'regularization_coefficient': 0.5, 'num_iterations': 1000, 'learning_rate': 0.1}\n",
                  "hyperparameters {'gravity_coefficient': 0.05, 'regularization_coefficient': 0.5, 'num_iterations': 1000, 'learning_rate': 0.1}\n",
                  "hyperparameters {'gravity_coefficient': 0.1, 'regularization_coefficient': 0.5, 'num_iterations': 1000, 'learning_rate': 0.1}\n",
                  "hyperparameters {'gravity_coefficient': 0.2, 'regularization_coefficient': 0.5, 'num_iterations': 1000, 'learning_rate': 0.1}\n",
                  "hyperparameters {'gravity_coefficient': 0.3, 'regularization_coefficient': 0.5, 'num_iterations': 1000, 'learning_rate': 0.1}\n",
                  "hyperparameters {'gravity_coefficient': 0.5, 'regularization_coefficient': 0.5, 'num_iterations': 1000, 'learning_rate': 0.1}\n",
                  "hyperparameters {'gravity_coefficient': 0.001, 'regularization_coefficient': 0.001, 'num_iterations': 1000, 'learning_rate': 1.0}\n",
                  "hyperparameters {'gravity_coefficient': 0.005, 'regularization_coefficient': 0.001, 'num_iterations': 1000, 'learning_rate': 1.0}\n",
                  "hyperparameters {'gravity_coefficient': 0.01, 'regularization_coefficient': 0.001, 'num_iterations': 1000, 'learning_rate': 1.0}\n",
                  "hyperparameters {'gravity_coefficient': 0.02, 'regularization_coefficient': 0.001, 'num_iterations': 1000, 'learning_rate': 1.0}\n",
                  "hyperparameters {'gravity_coefficient': 0.05, 'regularization_coefficient': 0.001, 'num_iterations': 1000, 'learning_rate': 1.0}\n",
                  "hyperparameters {'gravity_coefficient': 0.1, 'regularization_coefficient': 0.001, 'num_iterations': 1000, 'learning_rate': 1.0}\n",
                  "hyperparameters {'gravity_coefficient': 0.2, 'regularization_coefficient': 0.001, 'num_iterations': 1000, 'learning_rate': 1.0}\n",
                  "hyperparameters {'gravity_coefficient': 0.3, 'regularization_coefficient': 0.001, 'num_iterations': 1000, 'learning_rate': 1.0}\n",
                  "hyperparameters {'gravity_coefficient': 0.5, 'regularization_coefficient': 0.001, 'num_iterations': 1000, 'learning_rate': 1.0}\n",
                  "hyperparameters {'gravity_coefficient': 0.001, 'regularization_coefficient': 0.005, 'num_iterations': 1000, 'learning_rate': 1.0}\n",
                  "hyperparameters {'gravity_coefficient': 0.005, 'regularization_coefficient': 0.005, 'num_iterations': 1000, 'learning_rate': 1.0}\n",
                  "hyperparameters {'gravity_coefficient': 0.01, 'regularization_coefficient': 0.005, 'num_iterations': 1000, 'learning_rate': 1.0}\n",
                  "hyperparameters {'gravity_coefficient': 0.02, 'regularization_coefficient': 0.005, 'num_iterations': 1000, 'learning_rate': 1.0}\n",
                  "hyperparameters {'gravity_coefficient': 0.05, 'regularization_coefficient': 0.005, 'num_iterations': 1000, 'learning_rate': 1.0}\n",
                  "hyperparameters {'gravity_coefficient': 0.1, 'regularization_coefficient': 0.005, 'num_iterations': 1000, 'learning_rate': 1.0}\n",
                  "hyperparameters {'gravity_coefficient': 0.2, 'regularization_coefficient': 0.005, 'num_iterations': 1000, 'learning_rate': 1.0}\n",
                  "hyperparameters {'gravity_coefficient': 0.3, 'regularization_coefficient': 0.005, 'num_iterations': 1000, 'learning_rate': 1.0}\n",
                  "hyperparameters {'gravity_coefficient': 0.5, 'regularization_coefficient': 0.005, 'num_iterations': 1000, 'learning_rate': 1.0}\n",
                  "hyperparameters {'gravity_coefficient': 0.001, 'regularization_coefficient': 0.01, 'num_iterations': 1000, 'learning_rate': 1.0}\n",
                  "hyperparameters {'gravity_coefficient': 0.005, 'regularization_coefficient': 0.01, 'num_iterations': 1000, 'learning_rate': 1.0}\n",
                  "hyperparameters {'gravity_coefficient': 0.01, 'regularization_coefficient': 0.01, 'num_iterations': 1000, 'learning_rate': 1.0}\n",
                  "hyperparameters {'gravity_coefficient': 0.02, 'regularization_coefficient': 0.01, 'num_iterations': 1000, 'learning_rate': 1.0}\n",
                  "hyperparameters {'gravity_coefficient': 0.05, 'regularization_coefficient': 0.01, 'num_iterations': 1000, 'learning_rate': 1.0}\n",
                  "hyperparameters {'gravity_coefficient': 0.1, 'regularization_coefficient': 0.01, 'num_iterations': 1000, 'learning_rate': 1.0}\n",
                  "hyperparameters {'gravity_coefficient': 0.2, 'regularization_coefficient': 0.01, 'num_iterations': 1000, 'learning_rate': 1.0}\n",
                  "hyperparameters {'gravity_coefficient': 0.3, 'regularization_coefficient': 0.01, 'num_iterations': 1000, 'learning_rate': 1.0}\n",
                  "hyperparameters {'gravity_coefficient': 0.5, 'regularization_coefficient': 0.01, 'num_iterations': 1000, 'learning_rate': 1.0}\n",
                  "hyperparameters {'gravity_coefficient': 0.001, 'regularization_coefficient': 0.02, 'num_iterations': 1000, 'learning_rate': 1.0}\n",
                  "hyperparameters {'gravity_coefficient': 0.005, 'regularization_coefficient': 0.02, 'num_iterations': 1000, 'learning_rate': 1.0}\n",
                  "hyperparameters {'gravity_coefficient': 0.01, 'regularization_coefficient': 0.02, 'num_iterations': 1000, 'learning_rate': 1.0}\n",
                  "hyperparameters {'gravity_coefficient': 0.02, 'regularization_coefficient': 0.02, 'num_iterations': 1000, 'learning_rate': 1.0}\n",
                  "hyperparameters {'gravity_coefficient': 0.05, 'regularization_coefficient': 0.02, 'num_iterations': 1000, 'learning_rate': 1.0}\n",
                  "hyperparameters {'gravity_coefficient': 0.1, 'regularization_coefficient': 0.02, 'num_iterations': 1000, 'learning_rate': 1.0}\n",
                  "hyperparameters {'gravity_coefficient': 0.2, 'regularization_coefficient': 0.02, 'num_iterations': 1000, 'learning_rate': 1.0}\n",
                  "hyperparameters {'gravity_coefficient': 0.3, 'regularization_coefficient': 0.02, 'num_iterations': 1000, 'learning_rate': 1.0}\n",
                  "hyperparameters {'gravity_coefficient': 0.5, 'regularization_coefficient': 0.02, 'num_iterations': 1000, 'learning_rate': 1.0}\n",
                  "hyperparameters {'gravity_coefficient': 0.001, 'regularization_coefficient': 0.05, 'num_iterations': 1000, 'learning_rate': 1.0}\n",
                  "hyperparameters {'gravity_coefficient': 0.005, 'regularization_coefficient': 0.05, 'num_iterations': 1000, 'learning_rate': 1.0}\n",
                  "hyperparameters {'gravity_coefficient': 0.01, 'regularization_coefficient': 0.05, 'num_iterations': 1000, 'learning_rate': 1.0}\n",
                  "hyperparameters {'gravity_coefficient': 0.02, 'regularization_coefficient': 0.05, 'num_iterations': 1000, 'learning_rate': 1.0}\n",
                  "hyperparameters {'gravity_coefficient': 0.05, 'regularization_coefficient': 0.05, 'num_iterations': 1000, 'learning_rate': 1.0}\n",
                  "hyperparameters {'gravity_coefficient': 0.1, 'regularization_coefficient': 0.05, 'num_iterations': 1000, 'learning_rate': 1.0}\n",
                  "hyperparameters {'gravity_coefficient': 0.2, 'regularization_coefficient': 0.05, 'num_iterations': 1000, 'learning_rate': 1.0}\n",
                  "hyperparameters {'gravity_coefficient': 0.3, 'regularization_coefficient': 0.05, 'num_iterations': 1000, 'learning_rate': 1.0}\n",
                  "hyperparameters {'gravity_coefficient': 0.5, 'regularization_coefficient': 0.05, 'num_iterations': 1000, 'learning_rate': 1.0}\n",
                  "hyperparameters {'gravity_coefficient': 0.001, 'regularization_coefficient': 0.1, 'num_iterations': 1000, 'learning_rate': 1.0}\n",
                  "hyperparameters {'gravity_coefficient': 0.005, 'regularization_coefficient': 0.1, 'num_iterations': 1000, 'learning_rate': 1.0}\n",
                  "hyperparameters {'gravity_coefficient': 0.01, 'regularization_coefficient': 0.1, 'num_iterations': 1000, 'learning_rate': 1.0}\n",
                  "hyperparameters {'gravity_coefficient': 0.02, 'regularization_coefficient': 0.1, 'num_iterations': 1000, 'learning_rate': 1.0}\n",
                  "hyperparameters {'gravity_coefficient': 0.05, 'regularization_coefficient': 0.1, 'num_iterations': 1000, 'learning_rate': 1.0}\n",
                  "hyperparameters {'gravity_coefficient': 0.1, 'regularization_coefficient': 0.1, 'num_iterations': 1000, 'learning_rate': 1.0}\n",
                  "hyperparameters {'gravity_coefficient': 0.2, 'regularization_coefficient': 0.1, 'num_iterations': 1000, 'learning_rate': 1.0}\n",
                  "hyperparameters {'gravity_coefficient': 0.3, 'regularization_coefficient': 0.1, 'num_iterations': 1000, 'learning_rate': 1.0}\n",
                  "hyperparameters {'gravity_coefficient': 0.5, 'regularization_coefficient': 0.1, 'num_iterations': 1000, 'learning_rate': 1.0}\n",
                  "hyperparameters {'gravity_coefficient': 0.001, 'regularization_coefficient': 0.2, 'num_iterations': 1000, 'learning_rate': 1.0}\n",
                  "hyperparameters {'gravity_coefficient': 0.005, 'regularization_coefficient': 0.2, 'num_iterations': 1000, 'learning_rate': 1.0}\n",
                  "hyperparameters {'gravity_coefficient': 0.01, 'regularization_coefficient': 0.2, 'num_iterations': 1000, 'learning_rate': 1.0}\n",
                  "hyperparameters {'gravity_coefficient': 0.02, 'regularization_coefficient': 0.2, 'num_iterations': 1000, 'learning_rate': 1.0}\n",
                  "hyperparameters {'gravity_coefficient': 0.05, 'regularization_coefficient': 0.2, 'num_iterations': 1000, 'learning_rate': 1.0}\n",
                  "hyperparameters {'gravity_coefficient': 0.1, 'regularization_coefficient': 0.2, 'num_iterations': 1000, 'learning_rate': 1.0}\n",
                  "hyperparameters {'gravity_coefficient': 0.2, 'regularization_coefficient': 0.2, 'num_iterations': 1000, 'learning_rate': 1.0}\n",
                  "hyperparameters {'gravity_coefficient': 0.3, 'regularization_coefficient': 0.2, 'num_iterations': 1000, 'learning_rate': 1.0}\n",
                  "hyperparameters {'gravity_coefficient': 0.5, 'regularization_coefficient': 0.2, 'num_iterations': 1000, 'learning_rate': 1.0}\n",
                  "hyperparameters {'gravity_coefficient': 0.001, 'regularization_coefficient': 0.3, 'num_iterations': 1000, 'learning_rate': 1.0}\n",
                  "hyperparameters {'gravity_coefficient': 0.005, 'regularization_coefficient': 0.3, 'num_iterations': 1000, 'learning_rate': 1.0}\n",
                  "hyperparameters {'gravity_coefficient': 0.01, 'regularization_coefficient': 0.3, 'num_iterations': 1000, 'learning_rate': 1.0}\n",
                  "hyperparameters {'gravity_coefficient': 0.02, 'regularization_coefficient': 0.3, 'num_iterations': 1000, 'learning_rate': 1.0}\n",
                  "hyperparameters {'gravity_coefficient': 0.05, 'regularization_coefficient': 0.3, 'num_iterations': 1000, 'learning_rate': 1.0}\n",
                  "hyperparameters {'gravity_coefficient': 0.1, 'regularization_coefficient': 0.3, 'num_iterations': 1000, 'learning_rate': 1.0}\n",
                  "hyperparameters {'gravity_coefficient': 0.2, 'regularization_coefficient': 0.3, 'num_iterations': 1000, 'learning_rate': 1.0}\n",
                  "hyperparameters {'gravity_coefficient': 0.3, 'regularization_coefficient': 0.3, 'num_iterations': 1000, 'learning_rate': 1.0}\n",
                  "hyperparameters {'gravity_coefficient': 0.5, 'regularization_coefficient': 0.3, 'num_iterations': 1000, 'learning_rate': 1.0}\n",
                  "hyperparameters {'gravity_coefficient': 0.001, 'regularization_coefficient': 0.5, 'num_iterations': 1000, 'learning_rate': 1.0}\n",
                  "hyperparameters {'gravity_coefficient': 0.005, 'regularization_coefficient': 0.5, 'num_iterations': 1000, 'learning_rate': 1.0}\n",
                  "hyperparameters {'gravity_coefficient': 0.01, 'regularization_coefficient': 0.5, 'num_iterations': 1000, 'learning_rate': 1.0}\n",
                  "hyperparameters {'gravity_coefficient': 0.02, 'regularization_coefficient': 0.5, 'num_iterations': 1000, 'learning_rate': 1.0}\n",
                  "hyperparameters {'gravity_coefficient': 0.05, 'regularization_coefficient': 0.5, 'num_iterations': 1000, 'learning_rate': 1.0}\n",
                  "hyperparameters {'gravity_coefficient': 0.1, 'regularization_coefficient': 0.5, 'num_iterations': 1000, 'learning_rate': 1.0}\n",
                  "hyperparameters {'gravity_coefficient': 0.2, 'regularization_coefficient': 0.5, 'num_iterations': 1000, 'learning_rate': 1.0}\n",
                  "hyperparameters {'gravity_coefficient': 0.3, 'regularization_coefficient': 0.5, 'num_iterations': 1000, 'learning_rate': 1.0}\n",
                  "hyperparameters {'gravity_coefficient': 0.5, 'regularization_coefficient': 0.5, 'num_iterations': 1000, 'learning_rate': 1.0}\n",
                  "hyperparameters {'gravity_coefficient': 0.001, 'regularization_coefficient': 0.001, 'num_iterations': 1000, 'learning_rate': 10.0}\n",
                  "hyperparameters {'gravity_coefficient': 0.005, 'regularization_coefficient': 0.001, 'num_iterations': 1000, 'learning_rate': 10.0}\n",
                  "hyperparameters {'gravity_coefficient': 0.01, 'regularization_coefficient': 0.001, 'num_iterations': 1000, 'learning_rate': 10.0}\n",
                  "hyperparameters {'gravity_coefficient': 0.02, 'regularization_coefficient': 0.001, 'num_iterations': 1000, 'learning_rate': 10.0}\n",
                  "hyperparameters {'gravity_coefficient': 0.05, 'regularization_coefficient': 0.001, 'num_iterations': 1000, 'learning_rate': 10.0}\n",
                  "hyperparameters {'gravity_coefficient': 0.1, 'regularization_coefficient': 0.001, 'num_iterations': 1000, 'learning_rate': 10.0}\n",
                  "hyperparameters {'gravity_coefficient': 0.2, 'regularization_coefficient': 0.001, 'num_iterations': 1000, 'learning_rate': 10.0}\n",
                  "hyperparameters {'gravity_coefficient': 0.3, 'regularization_coefficient': 0.001, 'num_iterations': 1000, 'learning_rate': 10.0}\n",
                  "hyperparameters {'gravity_coefficient': 0.5, 'regularization_coefficient': 0.001, 'num_iterations': 1000, 'learning_rate': 10.0}\n",
                  "hyperparameters {'gravity_coefficient': 0.001, 'regularization_coefficient': 0.005, 'num_iterations': 1000, 'learning_rate': 10.0}\n",
                  "hyperparameters {'gravity_coefficient': 0.005, 'regularization_coefficient': 0.005, 'num_iterations': 1000, 'learning_rate': 10.0}\n",
                  "hyperparameters {'gravity_coefficient': 0.01, 'regularization_coefficient': 0.005, 'num_iterations': 1000, 'learning_rate': 10.0}\n",
                  "hyperparameters {'gravity_coefficient': 0.02, 'regularization_coefficient': 0.005, 'num_iterations': 1000, 'learning_rate': 10.0}\n",
                  "hyperparameters {'gravity_coefficient': 0.05, 'regularization_coefficient': 0.005, 'num_iterations': 1000, 'learning_rate': 10.0}\n",
                  "hyperparameters {'gravity_coefficient': 0.1, 'regularization_coefficient': 0.005, 'num_iterations': 1000, 'learning_rate': 10.0}\n",
                  "hyperparameters {'gravity_coefficient': 0.2, 'regularization_coefficient': 0.005, 'num_iterations': 1000, 'learning_rate': 10.0}\n",
                  "hyperparameters {'gravity_coefficient': 0.3, 'regularization_coefficient': 0.005, 'num_iterations': 1000, 'learning_rate': 10.0}\n",
                  "hyperparameters {'gravity_coefficient': 0.5, 'regularization_coefficient': 0.005, 'num_iterations': 1000, 'learning_rate': 10.0}\n",
                  "hyperparameters {'gravity_coefficient': 0.001, 'regularization_coefficient': 0.01, 'num_iterations': 1000, 'learning_rate': 10.0}\n",
                  "hyperparameters {'gravity_coefficient': 0.005, 'regularization_coefficient': 0.01, 'num_iterations': 1000, 'learning_rate': 10.0}\n",
                  "hyperparameters {'gravity_coefficient': 0.01, 'regularization_coefficient': 0.01, 'num_iterations': 1000, 'learning_rate': 10.0}\n",
                  "hyperparameters {'gravity_coefficient': 0.02, 'regularization_coefficient': 0.01, 'num_iterations': 1000, 'learning_rate': 10.0}\n",
                  "hyperparameters {'gravity_coefficient': 0.05, 'regularization_coefficient': 0.01, 'num_iterations': 1000, 'learning_rate': 10.0}\n",
                  "hyperparameters {'gravity_coefficient': 0.1, 'regularization_coefficient': 0.01, 'num_iterations': 1000, 'learning_rate': 10.0}\n",
                  "hyperparameters {'gravity_coefficient': 0.2, 'regularization_coefficient': 0.01, 'num_iterations': 1000, 'learning_rate': 10.0}\n",
                  "hyperparameters {'gravity_coefficient': 0.3, 'regularization_coefficient': 0.01, 'num_iterations': 1000, 'learning_rate': 10.0}\n",
                  "hyperparameters {'gravity_coefficient': 0.5, 'regularization_coefficient': 0.01, 'num_iterations': 1000, 'learning_rate': 10.0}\n",
                  "hyperparameters {'gravity_coefficient': 0.001, 'regularization_coefficient': 0.02, 'num_iterations': 1000, 'learning_rate': 10.0}\n",
                  "hyperparameters {'gravity_coefficient': 0.005, 'regularization_coefficient': 0.02, 'num_iterations': 1000, 'learning_rate': 10.0}\n",
                  "hyperparameters {'gravity_coefficient': 0.01, 'regularization_coefficient': 0.02, 'num_iterations': 1000, 'learning_rate': 10.0}\n",
                  "hyperparameters {'gravity_coefficient': 0.02, 'regularization_coefficient': 0.02, 'num_iterations': 1000, 'learning_rate': 10.0}\n",
                  "hyperparameters {'gravity_coefficient': 0.05, 'regularization_coefficient': 0.02, 'num_iterations': 1000, 'learning_rate': 10.0}\n",
                  "hyperparameters {'gravity_coefficient': 0.1, 'regularization_coefficient': 0.02, 'num_iterations': 1000, 'learning_rate': 10.0}\n",
                  "hyperparameters {'gravity_coefficient': 0.2, 'regularization_coefficient': 0.02, 'num_iterations': 1000, 'learning_rate': 10.0}\n",
                  "hyperparameters {'gravity_coefficient': 0.3, 'regularization_coefficient': 0.02, 'num_iterations': 1000, 'learning_rate': 10.0}\n",
                  "hyperparameters {'gravity_coefficient': 0.5, 'regularization_coefficient': 0.02, 'num_iterations': 1000, 'learning_rate': 10.0}\n",
                  "hyperparameters {'gravity_coefficient': 0.001, 'regularization_coefficient': 0.05, 'num_iterations': 1000, 'learning_rate': 10.0}\n",
                  "hyperparameters {'gravity_coefficient': 0.005, 'regularization_coefficient': 0.05, 'num_iterations': 1000, 'learning_rate': 10.0}\n",
                  "hyperparameters {'gravity_coefficient': 0.01, 'regularization_coefficient': 0.05, 'num_iterations': 1000, 'learning_rate': 10.0}\n",
                  "hyperparameters {'gravity_coefficient': 0.02, 'regularization_coefficient': 0.05, 'num_iterations': 1000, 'learning_rate': 10.0}\n",
                  "hyperparameters {'gravity_coefficient': 0.05, 'regularization_coefficient': 0.05, 'num_iterations': 1000, 'learning_rate': 10.0}\n",
                  "hyperparameters {'gravity_coefficient': 0.1, 'regularization_coefficient': 0.05, 'num_iterations': 1000, 'learning_rate': 10.0}\n",
                  "hyperparameters {'gravity_coefficient': 0.2, 'regularization_coefficient': 0.05, 'num_iterations': 1000, 'learning_rate': 10.0}\n",
                  "hyperparameters {'gravity_coefficient': 0.3, 'regularization_coefficient': 0.05, 'num_iterations': 1000, 'learning_rate': 10.0}\n",
                  "hyperparameters {'gravity_coefficient': 0.5, 'regularization_coefficient': 0.05, 'num_iterations': 1000, 'learning_rate': 10.0}\n",
                  "hyperparameters {'gravity_coefficient': 0.001, 'regularization_coefficient': 0.1, 'num_iterations': 1000, 'learning_rate': 10.0}\n",
                  "hyperparameters {'gravity_coefficient': 0.005, 'regularization_coefficient': 0.1, 'num_iterations': 1000, 'learning_rate': 10.0}\n",
                  "hyperparameters {'gravity_coefficient': 0.01, 'regularization_coefficient': 0.1, 'num_iterations': 1000, 'learning_rate': 10.0}\n",
                  "hyperparameters {'gravity_coefficient': 0.02, 'regularization_coefficient': 0.1, 'num_iterations': 1000, 'learning_rate': 10.0}\n",
                  "hyperparameters {'gravity_coefficient': 0.05, 'regularization_coefficient': 0.1, 'num_iterations': 1000, 'learning_rate': 10.0}\n",
                  "hyperparameters {'gravity_coefficient': 0.1, 'regularization_coefficient': 0.1, 'num_iterations': 1000, 'learning_rate': 10.0}\n",
                  "hyperparameters {'gravity_coefficient': 0.2, 'regularization_coefficient': 0.1, 'num_iterations': 1000, 'learning_rate': 10.0}\n",
                  "hyperparameters {'gravity_coefficient': 0.3, 'regularization_coefficient': 0.1, 'num_iterations': 1000, 'learning_rate': 10.0}\n",
                  "hyperparameters {'gravity_coefficient': 0.5, 'regularization_coefficient': 0.1, 'num_iterations': 1000, 'learning_rate': 10.0}\n",
                  "hyperparameters {'gravity_coefficient': 0.001, 'regularization_coefficient': 0.2, 'num_iterations': 1000, 'learning_rate': 10.0}\n",
                  "hyperparameters {'gravity_coefficient': 0.005, 'regularization_coefficient': 0.2, 'num_iterations': 1000, 'learning_rate': 10.0}\n",
                  "hyperparameters {'gravity_coefficient': 0.01, 'regularization_coefficient': 0.2, 'num_iterations': 1000, 'learning_rate': 10.0}\n",
                  "hyperparameters {'gravity_coefficient': 0.02, 'regularization_coefficient': 0.2, 'num_iterations': 1000, 'learning_rate': 10.0}\n",
                  "hyperparameters {'gravity_coefficient': 0.05, 'regularization_coefficient': 0.2, 'num_iterations': 1000, 'learning_rate': 10.0}\n",
                  "hyperparameters {'gravity_coefficient': 0.1, 'regularization_coefficient': 0.2, 'num_iterations': 1000, 'learning_rate': 10.0}\n",
                  "hyperparameters {'gravity_coefficient': 0.2, 'regularization_coefficient': 0.2, 'num_iterations': 1000, 'learning_rate': 10.0}\n",
                  "hyperparameters {'gravity_coefficient': 0.3, 'regularization_coefficient': 0.2, 'num_iterations': 1000, 'learning_rate': 10.0}\n",
                  "hyperparameters {'gravity_coefficient': 0.5, 'regularization_coefficient': 0.2, 'num_iterations': 1000, 'learning_rate': 10.0}\n",
                  "hyperparameters {'gravity_coefficient': 0.001, 'regularization_coefficient': 0.3, 'num_iterations': 1000, 'learning_rate': 10.0}\n",
                  "hyperparameters {'gravity_coefficient': 0.005, 'regularization_coefficient': 0.3, 'num_iterations': 1000, 'learning_rate': 10.0}\n",
                  "hyperparameters {'gravity_coefficient': 0.01, 'regularization_coefficient': 0.3, 'num_iterations': 1000, 'learning_rate': 10.0}\n",
                  "hyperparameters {'gravity_coefficient': 0.02, 'regularization_coefficient': 0.3, 'num_iterations': 1000, 'learning_rate': 10.0}\n",
                  "hyperparameters {'gravity_coefficient': 0.05, 'regularization_coefficient': 0.3, 'num_iterations': 1000, 'learning_rate': 10.0}\n",
                  "hyperparameters {'gravity_coefficient': 0.1, 'regularization_coefficient': 0.3, 'num_iterations': 1000, 'learning_rate': 10.0}\n",
                  "hyperparameters {'gravity_coefficient': 0.2, 'regularization_coefficient': 0.3, 'num_iterations': 1000, 'learning_rate': 10.0}\n",
                  "hyperparameters {'gravity_coefficient': 0.3, 'regularization_coefficient': 0.3, 'num_iterations': 1000, 'learning_rate': 10.0}\n",
                  "hyperparameters {'gravity_coefficient': 0.5, 'regularization_coefficient': 0.3, 'num_iterations': 1000, 'learning_rate': 10.0}\n",
                  "hyperparameters {'gravity_coefficient': 0.001, 'regularization_coefficient': 0.5, 'num_iterations': 1000, 'learning_rate': 10.0}\n",
                  "hyperparameters {'gravity_coefficient': 0.005, 'regularization_coefficient': 0.5, 'num_iterations': 1000, 'learning_rate': 10.0}\n",
                  "hyperparameters {'gravity_coefficient': 0.01, 'regularization_coefficient': 0.5, 'num_iterations': 1000, 'learning_rate': 10.0}\n",
                  "hyperparameters {'gravity_coefficient': 0.02, 'regularization_coefficient': 0.5, 'num_iterations': 1000, 'learning_rate': 10.0}\n",
                  "hyperparameters {'gravity_coefficient': 0.05, 'regularization_coefficient': 0.5, 'num_iterations': 1000, 'learning_rate': 10.0}\n",
                  "hyperparameters {'gravity_coefficient': 0.1, 'regularization_coefficient': 0.5, 'num_iterations': 1000, 'learning_rate': 10.0}\n",
                  "hyperparameters {'gravity_coefficient': 0.2, 'regularization_coefficient': 0.5, 'num_iterations': 1000, 'learning_rate': 10.0}\n",
                  "hyperparameters {'gravity_coefficient': 0.3, 'regularization_coefficient': 0.5, 'num_iterations': 1000, 'learning_rate': 10.0}\n",
                  "hyperparameters {'gravity_coefficient': 0.5, 'regularization_coefficient': 0.5, 'num_iterations': 1000, 'learning_rate': 10.0}\n",
                  "hyperparameters {'gravity_coefficient': 0.001, 'regularization_coefficient': 0.001, 'num_iterations': 1000, 'learning_rate': 20.0}\n",
                  "hyperparameters {'gravity_coefficient': 0.005, 'regularization_coefficient': 0.001, 'num_iterations': 1000, 'learning_rate': 20.0}\n",
                  "hyperparameters {'gravity_coefficient': 0.01, 'regularization_coefficient': 0.001, 'num_iterations': 1000, 'learning_rate': 20.0}\n",
                  "hyperparameters {'gravity_coefficient': 0.02, 'regularization_coefficient': 0.001, 'num_iterations': 1000, 'learning_rate': 20.0}\n",
                  "hyperparameters {'gravity_coefficient': 0.05, 'regularization_coefficient': 0.001, 'num_iterations': 1000, 'learning_rate': 20.0}\n",
                  "hyperparameters {'gravity_coefficient': 0.1, 'regularization_coefficient': 0.001, 'num_iterations': 1000, 'learning_rate': 20.0}\n",
                  "hyperparameters {'gravity_coefficient': 0.2, 'regularization_coefficient': 0.001, 'num_iterations': 1000, 'learning_rate': 20.0}\n",
                  "hyperparameters {'gravity_coefficient': 0.3, 'regularization_coefficient': 0.001, 'num_iterations': 1000, 'learning_rate': 20.0}\n",
                  "hyperparameters {'gravity_coefficient': 0.5, 'regularization_coefficient': 0.001, 'num_iterations': 1000, 'learning_rate': 20.0}\n",
                  "hyperparameters {'gravity_coefficient': 0.001, 'regularization_coefficient': 0.005, 'num_iterations': 1000, 'learning_rate': 20.0}\n",
                  "hyperparameters {'gravity_coefficient': 0.005, 'regularization_coefficient': 0.005, 'num_iterations': 1000, 'learning_rate': 20.0}\n",
                  "hyperparameters {'gravity_coefficient': 0.01, 'regularization_coefficient': 0.005, 'num_iterations': 1000, 'learning_rate': 20.0}\n",
                  "hyperparameters {'gravity_coefficient': 0.02, 'regularization_coefficient': 0.005, 'num_iterations': 1000, 'learning_rate': 20.0}\n",
                  "hyperparameters {'gravity_coefficient': 0.05, 'regularization_coefficient': 0.005, 'num_iterations': 1000, 'learning_rate': 20.0}\n",
                  "hyperparameters {'gravity_coefficient': 0.1, 'regularization_coefficient': 0.005, 'num_iterations': 1000, 'learning_rate': 20.0}\n",
                  "hyperparameters {'gravity_coefficient': 0.2, 'regularization_coefficient': 0.005, 'num_iterations': 1000, 'learning_rate': 20.0}\n",
                  "hyperparameters {'gravity_coefficient': 0.3, 'regularization_coefficient': 0.005, 'num_iterations': 1000, 'learning_rate': 20.0}\n",
                  "hyperparameters {'gravity_coefficient': 0.5, 'regularization_coefficient': 0.005, 'num_iterations': 1000, 'learning_rate': 20.0}\n",
                  "hyperparameters {'gravity_coefficient': 0.001, 'regularization_coefficient': 0.01, 'num_iterations': 1000, 'learning_rate': 20.0}\n",
                  "hyperparameters {'gravity_coefficient': 0.005, 'regularization_coefficient': 0.01, 'num_iterations': 1000, 'learning_rate': 20.0}\n",
                  "hyperparameters {'gravity_coefficient': 0.01, 'regularization_coefficient': 0.01, 'num_iterations': 1000, 'learning_rate': 20.0}\n",
                  "hyperparameters {'gravity_coefficient': 0.02, 'regularization_coefficient': 0.01, 'num_iterations': 1000, 'learning_rate': 20.0}\n",
                  "hyperparameters {'gravity_coefficient': 0.05, 'regularization_coefficient': 0.01, 'num_iterations': 1000, 'learning_rate': 20.0}\n",
                  "hyperparameters {'gravity_coefficient': 0.1, 'regularization_coefficient': 0.01, 'num_iterations': 1000, 'learning_rate': 20.0}\n",
                  "hyperparameters {'gravity_coefficient': 0.2, 'regularization_coefficient': 0.01, 'num_iterations': 1000, 'learning_rate': 20.0}\n",
                  "hyperparameters {'gravity_coefficient': 0.3, 'regularization_coefficient': 0.01, 'num_iterations': 1000, 'learning_rate': 20.0}\n",
                  "hyperparameters {'gravity_coefficient': 0.5, 'regularization_coefficient': 0.01, 'num_iterations': 1000, 'learning_rate': 20.0}\n",
                  "hyperparameters {'gravity_coefficient': 0.001, 'regularization_coefficient': 0.02, 'num_iterations': 1000, 'learning_rate': 20.0}\n",
                  "hyperparameters {'gravity_coefficient': 0.005, 'regularization_coefficient': 0.02, 'num_iterations': 1000, 'learning_rate': 20.0}\n",
                  "hyperparameters {'gravity_coefficient': 0.01, 'regularization_coefficient': 0.02, 'num_iterations': 1000, 'learning_rate': 20.0}\n",
                  "hyperparameters {'gravity_coefficient': 0.02, 'regularization_coefficient': 0.02, 'num_iterations': 1000, 'learning_rate': 20.0}\n",
                  "hyperparameters {'gravity_coefficient': 0.05, 'regularization_coefficient': 0.02, 'num_iterations': 1000, 'learning_rate': 20.0}\n",
                  "hyperparameters {'gravity_coefficient': 0.1, 'regularization_coefficient': 0.02, 'num_iterations': 1000, 'learning_rate': 20.0}\n",
                  "hyperparameters {'gravity_coefficient': 0.2, 'regularization_coefficient': 0.02, 'num_iterations': 1000, 'learning_rate': 20.0}\n",
                  "hyperparameters {'gravity_coefficient': 0.3, 'regularization_coefficient': 0.02, 'num_iterations': 1000, 'learning_rate': 20.0}\n",
                  "hyperparameters {'gravity_coefficient': 0.5, 'regularization_coefficient': 0.02, 'num_iterations': 1000, 'learning_rate': 20.0}\n",
                  "hyperparameters {'gravity_coefficient': 0.001, 'regularization_coefficient': 0.05, 'num_iterations': 1000, 'learning_rate': 20.0}\n",
                  "hyperparameters {'gravity_coefficient': 0.005, 'regularization_coefficient': 0.05, 'num_iterations': 1000, 'learning_rate': 20.0}\n",
                  "hyperparameters {'gravity_coefficient': 0.01, 'regularization_coefficient': 0.05, 'num_iterations': 1000, 'learning_rate': 20.0}\n",
                  "hyperparameters {'gravity_coefficient': 0.02, 'regularization_coefficient': 0.05, 'num_iterations': 1000, 'learning_rate': 20.0}\n",
                  "hyperparameters {'gravity_coefficient': 0.05, 'regularization_coefficient': 0.05, 'num_iterations': 1000, 'learning_rate': 20.0}\n",
                  "hyperparameters {'gravity_coefficient': 0.1, 'regularization_coefficient': 0.05, 'num_iterations': 1000, 'learning_rate': 20.0}\n",
                  "hyperparameters {'gravity_coefficient': 0.2, 'regularization_coefficient': 0.05, 'num_iterations': 1000, 'learning_rate': 20.0}\n",
                  "hyperparameters {'gravity_coefficient': 0.3, 'regularization_coefficient': 0.05, 'num_iterations': 1000, 'learning_rate': 20.0}\n",
                  "hyperparameters {'gravity_coefficient': 0.5, 'regularization_coefficient': 0.05, 'num_iterations': 1000, 'learning_rate': 20.0}\n",
                  "hyperparameters {'gravity_coefficient': 0.001, 'regularization_coefficient': 0.1, 'num_iterations': 1000, 'learning_rate': 20.0}\n",
                  "hyperparameters {'gravity_coefficient': 0.005, 'regularization_coefficient': 0.1, 'num_iterations': 1000, 'learning_rate': 20.0}\n",
                  "hyperparameters {'gravity_coefficient': 0.01, 'regularization_coefficient': 0.1, 'num_iterations': 1000, 'learning_rate': 20.0}\n",
                  "hyperparameters {'gravity_coefficient': 0.02, 'regularization_coefficient': 0.1, 'num_iterations': 1000, 'learning_rate': 20.0}\n",
                  "hyperparameters {'gravity_coefficient': 0.05, 'regularization_coefficient': 0.1, 'num_iterations': 1000, 'learning_rate': 20.0}\n",
                  "hyperparameters {'gravity_coefficient': 0.1, 'regularization_coefficient': 0.1, 'num_iterations': 1000, 'learning_rate': 20.0}\n",
                  "hyperparameters {'gravity_coefficient': 0.2, 'regularization_coefficient': 0.1, 'num_iterations': 1000, 'learning_rate': 20.0}\n",
                  "hyperparameters {'gravity_coefficient': 0.3, 'regularization_coefficient': 0.1, 'num_iterations': 1000, 'learning_rate': 20.0}\n",
                  "hyperparameters {'gravity_coefficient': 0.5, 'regularization_coefficient': 0.1, 'num_iterations': 1000, 'learning_rate': 20.0}\n",
                  "hyperparameters {'gravity_coefficient': 0.001, 'regularization_coefficient': 0.2, 'num_iterations': 1000, 'learning_rate': 20.0}\n",
                  "hyperparameters {'gravity_coefficient': 0.005, 'regularization_coefficient': 0.2, 'num_iterations': 1000, 'learning_rate': 20.0}\n",
                  "hyperparameters {'gravity_coefficient': 0.01, 'regularization_coefficient': 0.2, 'num_iterations': 1000, 'learning_rate': 20.0}\n",
                  "hyperparameters {'gravity_coefficient': 0.02, 'regularization_coefficient': 0.2, 'num_iterations': 1000, 'learning_rate': 20.0}\n",
                  "hyperparameters {'gravity_coefficient': 0.05, 'regularization_coefficient': 0.2, 'num_iterations': 1000, 'learning_rate': 20.0}\n",
                  "hyperparameters {'gravity_coefficient': 0.1, 'regularization_coefficient': 0.2, 'num_iterations': 1000, 'learning_rate': 20.0}\n",
                  "hyperparameters {'gravity_coefficient': 0.2, 'regularization_coefficient': 0.2, 'num_iterations': 1000, 'learning_rate': 20.0}\n",
                  "hyperparameters {'gravity_coefficient': 0.3, 'regularization_coefficient': 0.2, 'num_iterations': 1000, 'learning_rate': 20.0}\n",
                  "hyperparameters {'gravity_coefficient': 0.5, 'regularization_coefficient': 0.2, 'num_iterations': 1000, 'learning_rate': 20.0}\n",
                  "hyperparameters {'gravity_coefficient': 0.001, 'regularization_coefficient': 0.3, 'num_iterations': 1000, 'learning_rate': 20.0}\n",
                  "hyperparameters {'gravity_coefficient': 0.005, 'regularization_coefficient': 0.3, 'num_iterations': 1000, 'learning_rate': 20.0}\n",
                  "hyperparameters {'gravity_coefficient': 0.01, 'regularization_coefficient': 0.3, 'num_iterations': 1000, 'learning_rate': 20.0}\n",
                  "hyperparameters {'gravity_coefficient': 0.02, 'regularization_coefficient': 0.3, 'num_iterations': 1000, 'learning_rate': 20.0}\n",
                  "hyperparameters {'gravity_coefficient': 0.05, 'regularization_coefficient': 0.3, 'num_iterations': 1000, 'learning_rate': 20.0}\n",
                  "hyperparameters {'gravity_coefficient': 0.1, 'regularization_coefficient': 0.3, 'num_iterations': 1000, 'learning_rate': 20.0}\n",
                  "hyperparameters {'gravity_coefficient': 0.2, 'regularization_coefficient': 0.3, 'num_iterations': 1000, 'learning_rate': 20.0}\n",
                  "hyperparameters {'gravity_coefficient': 0.3, 'regularization_coefficient': 0.3, 'num_iterations': 1000, 'learning_rate': 20.0}\n",
                  "hyperparameters {'gravity_coefficient': 0.5, 'regularization_coefficient': 0.3, 'num_iterations': 1000, 'learning_rate': 20.0}\n",
                  "hyperparameters {'gravity_coefficient': 0.001, 'regularization_coefficient': 0.5, 'num_iterations': 1000, 'learning_rate': 20.0}\n",
                  "hyperparameters {'gravity_coefficient': 0.005, 'regularization_coefficient': 0.5, 'num_iterations': 1000, 'learning_rate': 20.0}\n",
                  "hyperparameters {'gravity_coefficient': 0.01, 'regularization_coefficient': 0.5, 'num_iterations': 1000, 'learning_rate': 20.0}\n",
                  "hyperparameters {'gravity_coefficient': 0.02, 'regularization_coefficient': 0.5, 'num_iterations': 1000, 'learning_rate': 20.0}\n",
                  "hyperparameters {'gravity_coefficient': 0.05, 'regularization_coefficient': 0.5, 'num_iterations': 1000, 'learning_rate': 20.0}\n",
                  "hyperparameters {'gravity_coefficient': 0.1, 'regularization_coefficient': 0.5, 'num_iterations': 1000, 'learning_rate': 20.0}\n",
                  "hyperparameters {'gravity_coefficient': 0.2, 'regularization_coefficient': 0.5, 'num_iterations': 1000, 'learning_rate': 20.0}\n",
                  "hyperparameters {'gravity_coefficient': 0.3, 'regularization_coefficient': 0.5, 'num_iterations': 1000, 'learning_rate': 20.0}\n",
                  "hyperparameters {'gravity_coefficient': 0.5, 'regularization_coefficient': 0.5, 'num_iterations': 1000, 'learning_rate': 20.0}\n",
                  "hyperparameters {'gravity_coefficient': 0.001, 'regularization_coefficient': 0.001, 'num_iterations': 1000, 'learning_rate': 50.0}\n",
                  "hyperparameters {'gravity_coefficient': 0.005, 'regularization_coefficient': 0.001, 'num_iterations': 1000, 'learning_rate': 50.0}\n",
                  "hyperparameters {'gravity_coefficient': 0.01, 'regularization_coefficient': 0.001, 'num_iterations': 1000, 'learning_rate': 50.0}\n",
                  "hyperparameters {'gravity_coefficient': 0.02, 'regularization_coefficient': 0.001, 'num_iterations': 1000, 'learning_rate': 50.0}\n",
                  "hyperparameters {'gravity_coefficient': 0.05, 'regularization_coefficient': 0.001, 'num_iterations': 1000, 'learning_rate': 50.0}\n",
                  "hyperparameters {'gravity_coefficient': 0.1, 'regularization_coefficient': 0.001, 'num_iterations': 1000, 'learning_rate': 50.0}\n",
                  "hyperparameters {'gravity_coefficient': 0.2, 'regularization_coefficient': 0.001, 'num_iterations': 1000, 'learning_rate': 50.0}\n",
                  "hyperparameters {'gravity_coefficient': 0.3, 'regularization_coefficient': 0.001, 'num_iterations': 1000, 'learning_rate': 50.0}\n",
                  "hyperparameters {'gravity_coefficient': 0.5, 'regularization_coefficient': 0.001, 'num_iterations': 1000, 'learning_rate': 50.0}\n",
                  "hyperparameters {'gravity_coefficient': 0.001, 'regularization_coefficient': 0.005, 'num_iterations': 1000, 'learning_rate': 50.0}\n",
                  "hyperparameters {'gravity_coefficient': 0.005, 'regularization_coefficient': 0.005, 'num_iterations': 1000, 'learning_rate': 50.0}\n",
                  "hyperparameters {'gravity_coefficient': 0.01, 'regularization_coefficient': 0.005, 'num_iterations': 1000, 'learning_rate': 50.0}\n",
                  "hyperparameters {'gravity_coefficient': 0.02, 'regularization_coefficient': 0.005, 'num_iterations': 1000, 'learning_rate': 50.0}\n",
                  "hyperparameters {'gravity_coefficient': 0.05, 'regularization_coefficient': 0.005, 'num_iterations': 1000, 'learning_rate': 50.0}\n",
                  "hyperparameters {'gravity_coefficient': 0.1, 'regularization_coefficient': 0.005, 'num_iterations': 1000, 'learning_rate': 50.0}\n",
                  "hyperparameters {'gravity_coefficient': 0.2, 'regularization_coefficient': 0.005, 'num_iterations': 1000, 'learning_rate': 50.0}\n",
                  "hyperparameters {'gravity_coefficient': 0.3, 'regularization_coefficient': 0.005, 'num_iterations': 1000, 'learning_rate': 50.0}\n",
                  "hyperparameters {'gravity_coefficient': 0.5, 'regularization_coefficient': 0.005, 'num_iterations': 1000, 'learning_rate': 50.0}\n",
                  "hyperparameters {'gravity_coefficient': 0.001, 'regularization_coefficient': 0.01, 'num_iterations': 1000, 'learning_rate': 50.0}\n",
                  "hyperparameters {'gravity_coefficient': 0.005, 'regularization_coefficient': 0.01, 'num_iterations': 1000, 'learning_rate': 50.0}\n",
                  "hyperparameters {'gravity_coefficient': 0.01, 'regularization_coefficient': 0.01, 'num_iterations': 1000, 'learning_rate': 50.0}\n",
                  "hyperparameters {'gravity_coefficient': 0.02, 'regularization_coefficient': 0.01, 'num_iterations': 1000, 'learning_rate': 50.0}\n",
                  "hyperparameters {'gravity_coefficient': 0.05, 'regularization_coefficient': 0.01, 'num_iterations': 1000, 'learning_rate': 50.0}\n",
                  "hyperparameters {'gravity_coefficient': 0.1, 'regularization_coefficient': 0.01, 'num_iterations': 1000, 'learning_rate': 50.0}\n",
                  "hyperparameters {'gravity_coefficient': 0.2, 'regularization_coefficient': 0.01, 'num_iterations': 1000, 'learning_rate': 50.0}\n",
                  "hyperparameters {'gravity_coefficient': 0.3, 'regularization_coefficient': 0.01, 'num_iterations': 1000, 'learning_rate': 50.0}\n",
                  "hyperparameters {'gravity_coefficient': 0.5, 'regularization_coefficient': 0.01, 'num_iterations': 1000, 'learning_rate': 50.0}\n",
                  "hyperparameters {'gravity_coefficient': 0.001, 'regularization_coefficient': 0.02, 'num_iterations': 1000, 'learning_rate': 50.0}\n",
                  "hyperparameters {'gravity_coefficient': 0.005, 'regularization_coefficient': 0.02, 'num_iterations': 1000, 'learning_rate': 50.0}\n",
                  "hyperparameters {'gravity_coefficient': 0.01, 'regularization_coefficient': 0.02, 'num_iterations': 1000, 'learning_rate': 50.0}\n",
                  "hyperparameters {'gravity_coefficient': 0.02, 'regularization_coefficient': 0.02, 'num_iterations': 1000, 'learning_rate': 50.0}\n",
                  "hyperparameters {'gravity_coefficient': 0.05, 'regularization_coefficient': 0.02, 'num_iterations': 1000, 'learning_rate': 50.0}\n",
                  "hyperparameters {'gravity_coefficient': 0.1, 'regularization_coefficient': 0.02, 'num_iterations': 1000, 'learning_rate': 50.0}\n",
                  "hyperparameters {'gravity_coefficient': 0.2, 'regularization_coefficient': 0.02, 'num_iterations': 1000, 'learning_rate': 50.0}\n",
                  "hyperparameters {'gravity_coefficient': 0.3, 'regularization_coefficient': 0.02, 'num_iterations': 1000, 'learning_rate': 50.0}\n",
                  "hyperparameters {'gravity_coefficient': 0.5, 'regularization_coefficient': 0.02, 'num_iterations': 1000, 'learning_rate': 50.0}\n",
                  "hyperparameters {'gravity_coefficient': 0.001, 'regularization_coefficient': 0.05, 'num_iterations': 1000, 'learning_rate': 50.0}\n",
                  "hyperparameters {'gravity_coefficient': 0.005, 'regularization_coefficient': 0.05, 'num_iterations': 1000, 'learning_rate': 50.0}\n",
                  "hyperparameters {'gravity_coefficient': 0.01, 'regularization_coefficient': 0.05, 'num_iterations': 1000, 'learning_rate': 50.0}\n",
                  "hyperparameters {'gravity_coefficient': 0.02, 'regularization_coefficient': 0.05, 'num_iterations': 1000, 'learning_rate': 50.0}\n",
                  "hyperparameters {'gravity_coefficient': 0.05, 'regularization_coefficient': 0.05, 'num_iterations': 1000, 'learning_rate': 50.0}\n",
                  "hyperparameters {'gravity_coefficient': 0.1, 'regularization_coefficient': 0.05, 'num_iterations': 1000, 'learning_rate': 50.0}\n",
                  "hyperparameters {'gravity_coefficient': 0.2, 'regularization_coefficient': 0.05, 'num_iterations': 1000, 'learning_rate': 50.0}\n",
                  "hyperparameters {'gravity_coefficient': 0.3, 'regularization_coefficient': 0.05, 'num_iterations': 1000, 'learning_rate': 50.0}\n",
                  "hyperparameters {'gravity_coefficient': 0.5, 'regularization_coefficient': 0.05, 'num_iterations': 1000, 'learning_rate': 50.0}\n",
                  "hyperparameters {'gravity_coefficient': 0.001, 'regularization_coefficient': 0.1, 'num_iterations': 1000, 'learning_rate': 50.0}\n",
                  "hyperparameters {'gravity_coefficient': 0.005, 'regularization_coefficient': 0.1, 'num_iterations': 1000, 'learning_rate': 50.0}\n",
                  "hyperparameters {'gravity_coefficient': 0.01, 'regularization_coefficient': 0.1, 'num_iterations': 1000, 'learning_rate': 50.0}\n",
                  "hyperparameters {'gravity_coefficient': 0.02, 'regularization_coefficient': 0.1, 'num_iterations': 1000, 'learning_rate': 50.0}\n",
                  "hyperparameters {'gravity_coefficient': 0.05, 'regularization_coefficient': 0.1, 'num_iterations': 1000, 'learning_rate': 50.0}\n",
                  "hyperparameters {'gravity_coefficient': 0.1, 'regularization_coefficient': 0.1, 'num_iterations': 1000, 'learning_rate': 50.0}\n",
                  "hyperparameters {'gravity_coefficient': 0.2, 'regularization_coefficient': 0.1, 'num_iterations': 1000, 'learning_rate': 50.0}\n",
                  "hyperparameters {'gravity_coefficient': 0.3, 'regularization_coefficient': 0.1, 'num_iterations': 1000, 'learning_rate': 50.0}\n",
                  "hyperparameters {'gravity_coefficient': 0.5, 'regularization_coefficient': 0.1, 'num_iterations': 1000, 'learning_rate': 50.0}\n",
                  "hyperparameters {'gravity_coefficient': 0.001, 'regularization_coefficient': 0.2, 'num_iterations': 1000, 'learning_rate': 50.0}\n",
                  "hyperparameters {'gravity_coefficient': 0.005, 'regularization_coefficient': 0.2, 'num_iterations': 1000, 'learning_rate': 50.0}\n",
                  "hyperparameters {'gravity_coefficient': 0.01, 'regularization_coefficient': 0.2, 'num_iterations': 1000, 'learning_rate': 50.0}\n",
                  "hyperparameters {'gravity_coefficient': 0.02, 'regularization_coefficient': 0.2, 'num_iterations': 1000, 'learning_rate': 50.0}\n",
                  "hyperparameters {'gravity_coefficient': 0.05, 'regularization_coefficient': 0.2, 'num_iterations': 1000, 'learning_rate': 50.0}\n",
                  "hyperparameters {'gravity_coefficient': 0.1, 'regularization_coefficient': 0.2, 'num_iterations': 1000, 'learning_rate': 50.0}\n",
                  "hyperparameters {'gravity_coefficient': 0.2, 'regularization_coefficient': 0.2, 'num_iterations': 1000, 'learning_rate': 50.0}\n",
                  "hyperparameters {'gravity_coefficient': 0.3, 'regularization_coefficient': 0.2, 'num_iterations': 1000, 'learning_rate': 50.0}\n",
                  "hyperparameters {'gravity_coefficient': 0.5, 'regularization_coefficient': 0.2, 'num_iterations': 1000, 'learning_rate': 50.0}\n",
                  "hyperparameters {'gravity_coefficient': 0.001, 'regularization_coefficient': 0.3, 'num_iterations': 1000, 'learning_rate': 50.0}\n",
                  "hyperparameters {'gravity_coefficient': 0.005, 'regularization_coefficient': 0.3, 'num_iterations': 1000, 'learning_rate': 50.0}\n",
                  "hyperparameters {'gravity_coefficient': 0.01, 'regularization_coefficient': 0.3, 'num_iterations': 1000, 'learning_rate': 50.0}\n",
                  "hyperparameters {'gravity_coefficient': 0.02, 'regularization_coefficient': 0.3, 'num_iterations': 1000, 'learning_rate': 50.0}\n",
                  "hyperparameters {'gravity_coefficient': 0.05, 'regularization_coefficient': 0.3, 'num_iterations': 1000, 'learning_rate': 50.0}\n",
                  "hyperparameters {'gravity_coefficient': 0.1, 'regularization_coefficient': 0.3, 'num_iterations': 1000, 'learning_rate': 50.0}\n",
                  "hyperparameters {'gravity_coefficient': 0.2, 'regularization_coefficient': 0.3, 'num_iterations': 1000, 'learning_rate': 50.0}\n",
                  "hyperparameters {'gravity_coefficient': 0.3, 'regularization_coefficient': 0.3, 'num_iterations': 1000, 'learning_rate': 50.0}\n",
                  "hyperparameters {'gravity_coefficient': 0.5, 'regularization_coefficient': 0.3, 'num_iterations': 1000, 'learning_rate': 50.0}\n",
                  "hyperparameters {'gravity_coefficient': 0.001, 'regularization_coefficient': 0.5, 'num_iterations': 1000, 'learning_rate': 50.0}\n",
                  "hyperparameters {'gravity_coefficient': 0.005, 'regularization_coefficient': 0.5, 'num_iterations': 1000, 'learning_rate': 50.0}\n",
                  "hyperparameters {'gravity_coefficient': 0.01, 'regularization_coefficient': 0.5, 'num_iterations': 1000, 'learning_rate': 50.0}\n",
                  "hyperparameters {'gravity_coefficient': 0.02, 'regularization_coefficient': 0.5, 'num_iterations': 1000, 'learning_rate': 50.0}\n",
                  "hyperparameters {'gravity_coefficient': 0.05, 'regularization_coefficient': 0.5, 'num_iterations': 1000, 'learning_rate': 50.0}\n",
                  "hyperparameters {'gravity_coefficient': 0.1, 'regularization_coefficient': 0.5, 'num_iterations': 1000, 'learning_rate': 50.0}\n",
                  "hyperparameters {'gravity_coefficient': 0.2, 'regularization_coefficient': 0.5, 'num_iterations': 1000, 'learning_rate': 50.0}\n",
                  "hyperparameters {'gravity_coefficient': 0.3, 'regularization_coefficient': 0.5, 'num_iterations': 1000, 'learning_rate': 50.0}\n",
                  "hyperparameters {'gravity_coefficient': 0.5, 'regularization_coefficient': 0.5, 'num_iterations': 1000, 'learning_rate': 50.0}\n",
                  "hyperparameters {'gravity_coefficient': 0.001, 'regularization_coefficient': 0.001, 'num_iterations': 1000, 'learning_rate': 100.0}\n",
                  "hyperparameters {'gravity_coefficient': 0.005, 'regularization_coefficient': 0.001, 'num_iterations': 1000, 'learning_rate': 100.0}\n",
                  "hyperparameters {'gravity_coefficient': 0.01, 'regularization_coefficient': 0.001, 'num_iterations': 1000, 'learning_rate': 100.0}\n",
                  "hyperparameters {'gravity_coefficient': 0.02, 'regularization_coefficient': 0.001, 'num_iterations': 1000, 'learning_rate': 100.0}\n",
                  "hyperparameters {'gravity_coefficient': 0.05, 'regularization_coefficient': 0.001, 'num_iterations': 1000, 'learning_rate': 100.0}\n",
                  "hyperparameters {'gravity_coefficient': 0.1, 'regularization_coefficient': 0.001, 'num_iterations': 1000, 'learning_rate': 100.0}\n",
                  "hyperparameters {'gravity_coefficient': 0.2, 'regularization_coefficient': 0.001, 'num_iterations': 1000, 'learning_rate': 100.0}\n",
                  "hyperparameters {'gravity_coefficient': 0.3, 'regularization_coefficient': 0.001, 'num_iterations': 1000, 'learning_rate': 100.0}\n",
                  "hyperparameters {'gravity_coefficient': 0.5, 'regularization_coefficient': 0.001, 'num_iterations': 1000, 'learning_rate': 100.0}\n",
                  "hyperparameters {'gravity_coefficient': 0.001, 'regularization_coefficient': 0.005, 'num_iterations': 1000, 'learning_rate': 100.0}\n",
                  "hyperparameters {'gravity_coefficient': 0.005, 'regularization_coefficient': 0.005, 'num_iterations': 1000, 'learning_rate': 100.0}\n",
                  "hyperparameters {'gravity_coefficient': 0.01, 'regularization_coefficient': 0.005, 'num_iterations': 1000, 'learning_rate': 100.0}\n",
                  "hyperparameters {'gravity_coefficient': 0.02, 'regularization_coefficient': 0.005, 'num_iterations': 1000, 'learning_rate': 100.0}\n",
                  "hyperparameters {'gravity_coefficient': 0.05, 'regularization_coefficient': 0.005, 'num_iterations': 1000, 'learning_rate': 100.0}\n",
                  "hyperparameters {'gravity_coefficient': 0.1, 'regularization_coefficient': 0.005, 'num_iterations': 1000, 'learning_rate': 100.0}\n",
                  "hyperparameters {'gravity_coefficient': 0.2, 'regularization_coefficient': 0.005, 'num_iterations': 1000, 'learning_rate': 100.0}\n",
                  "hyperparameters {'gravity_coefficient': 0.3, 'regularization_coefficient': 0.005, 'num_iterations': 1000, 'learning_rate': 100.0}\n",
                  "hyperparameters {'gravity_coefficient': 0.5, 'regularization_coefficient': 0.005, 'num_iterations': 1000, 'learning_rate': 100.0}\n",
                  "hyperparameters {'gravity_coefficient': 0.001, 'regularization_coefficient': 0.01, 'num_iterations': 1000, 'learning_rate': 100.0}\n",
                  "hyperparameters {'gravity_coefficient': 0.005, 'regularization_coefficient': 0.01, 'num_iterations': 1000, 'learning_rate': 100.0}\n",
                  "hyperparameters {'gravity_coefficient': 0.01, 'regularization_coefficient': 0.01, 'num_iterations': 1000, 'learning_rate': 100.0}\n",
                  "hyperparameters {'gravity_coefficient': 0.02, 'regularization_coefficient': 0.01, 'num_iterations': 1000, 'learning_rate': 100.0}\n",
                  "hyperparameters {'gravity_coefficient': 0.05, 'regularization_coefficient': 0.01, 'num_iterations': 1000, 'learning_rate': 100.0}\n",
                  "hyperparameters {'gravity_coefficient': 0.1, 'regularization_coefficient': 0.01, 'num_iterations': 1000, 'learning_rate': 100.0}\n",
                  "hyperparameters {'gravity_coefficient': 0.2, 'regularization_coefficient': 0.01, 'num_iterations': 1000, 'learning_rate': 100.0}\n",
                  "hyperparameters {'gravity_coefficient': 0.3, 'regularization_coefficient': 0.01, 'num_iterations': 1000, 'learning_rate': 100.0}\n",
                  "hyperparameters {'gravity_coefficient': 0.5, 'regularization_coefficient': 0.01, 'num_iterations': 1000, 'learning_rate': 100.0}\n",
                  "hyperparameters {'gravity_coefficient': 0.001, 'regularization_coefficient': 0.02, 'num_iterations': 1000, 'learning_rate': 100.0}\n",
                  "hyperparameters {'gravity_coefficient': 0.005, 'regularization_coefficient': 0.02, 'num_iterations': 1000, 'learning_rate': 100.0}\n",
                  "hyperparameters {'gravity_coefficient': 0.01, 'regularization_coefficient': 0.02, 'num_iterations': 1000, 'learning_rate': 100.0}\n",
                  "hyperparameters {'gravity_coefficient': 0.02, 'regularization_coefficient': 0.02, 'num_iterations': 1000, 'learning_rate': 100.0}\n",
                  "hyperparameters {'gravity_coefficient': 0.05, 'regularization_coefficient': 0.02, 'num_iterations': 1000, 'learning_rate': 100.0}\n",
                  "hyperparameters {'gravity_coefficient': 0.1, 'regularization_coefficient': 0.02, 'num_iterations': 1000, 'learning_rate': 100.0}\n",
                  "hyperparameters {'gravity_coefficient': 0.2, 'regularization_coefficient': 0.02, 'num_iterations': 1000, 'learning_rate': 100.0}\n",
                  "hyperparameters {'gravity_coefficient': 0.3, 'regularization_coefficient': 0.02, 'num_iterations': 1000, 'learning_rate': 100.0}\n",
                  "hyperparameters {'gravity_coefficient': 0.5, 'regularization_coefficient': 0.02, 'num_iterations': 1000, 'learning_rate': 100.0}\n",
                  "hyperparameters {'gravity_coefficient': 0.001, 'regularization_coefficient': 0.05, 'num_iterations': 1000, 'learning_rate': 100.0}\n",
                  "hyperparameters {'gravity_coefficient': 0.005, 'regularization_coefficient': 0.05, 'num_iterations': 1000, 'learning_rate': 100.0}\n",
                  "hyperparameters {'gravity_coefficient': 0.01, 'regularization_coefficient': 0.05, 'num_iterations': 1000, 'learning_rate': 100.0}\n",
                  "hyperparameters {'gravity_coefficient': 0.02, 'regularization_coefficient': 0.05, 'num_iterations': 1000, 'learning_rate': 100.0}\n",
                  "hyperparameters {'gravity_coefficient': 0.05, 'regularization_coefficient': 0.05, 'num_iterations': 1000, 'learning_rate': 100.0}\n",
                  "hyperparameters {'gravity_coefficient': 0.1, 'regularization_coefficient': 0.05, 'num_iterations': 1000, 'learning_rate': 100.0}\n",
                  "hyperparameters {'gravity_coefficient': 0.2, 'regularization_coefficient': 0.05, 'num_iterations': 1000, 'learning_rate': 100.0}\n",
                  "hyperparameters {'gravity_coefficient': 0.3, 'regularization_coefficient': 0.05, 'num_iterations': 1000, 'learning_rate': 100.0}\n",
                  "hyperparameters {'gravity_coefficient': 0.5, 'regularization_coefficient': 0.05, 'num_iterations': 1000, 'learning_rate': 100.0}\n",
                  "hyperparameters {'gravity_coefficient': 0.001, 'regularization_coefficient': 0.1, 'num_iterations': 1000, 'learning_rate': 100.0}\n",
                  "hyperparameters {'gravity_coefficient': 0.005, 'regularization_coefficient': 0.1, 'num_iterations': 1000, 'learning_rate': 100.0}\n",
                  "hyperparameters {'gravity_coefficient': 0.01, 'regularization_coefficient': 0.1, 'num_iterations': 1000, 'learning_rate': 100.0}\n",
                  "hyperparameters {'gravity_coefficient': 0.02, 'regularization_coefficient': 0.1, 'num_iterations': 1000, 'learning_rate': 100.0}\n",
                  "hyperparameters {'gravity_coefficient': 0.05, 'regularization_coefficient': 0.1, 'num_iterations': 1000, 'learning_rate': 100.0}\n",
                  "hyperparameters {'gravity_coefficient': 0.1, 'regularization_coefficient': 0.1, 'num_iterations': 1000, 'learning_rate': 100.0}\n",
                  "hyperparameters {'gravity_coefficient': 0.2, 'regularization_coefficient': 0.1, 'num_iterations': 1000, 'learning_rate': 100.0}\n",
                  "hyperparameters {'gravity_coefficient': 0.3, 'regularization_coefficient': 0.1, 'num_iterations': 1000, 'learning_rate': 100.0}\n",
                  "hyperparameters {'gravity_coefficient': 0.5, 'regularization_coefficient': 0.1, 'num_iterations': 1000, 'learning_rate': 100.0}\n",
                  "hyperparameters {'gravity_coefficient': 0.001, 'regularization_coefficient': 0.2, 'num_iterations': 1000, 'learning_rate': 100.0}\n",
                  "hyperparameters {'gravity_coefficient': 0.005, 'regularization_coefficient': 0.2, 'num_iterations': 1000, 'learning_rate': 100.0}\n",
                  "hyperparameters {'gravity_coefficient': 0.01, 'regularization_coefficient': 0.2, 'num_iterations': 1000, 'learning_rate': 100.0}\n",
                  "hyperparameters {'gravity_coefficient': 0.02, 'regularization_coefficient': 0.2, 'num_iterations': 1000, 'learning_rate': 100.0}\n",
                  "hyperparameters {'gravity_coefficient': 0.05, 'regularization_coefficient': 0.2, 'num_iterations': 1000, 'learning_rate': 100.0}\n",
                  "hyperparameters {'gravity_coefficient': 0.1, 'regularization_coefficient': 0.2, 'num_iterations': 1000, 'learning_rate': 100.0}\n",
                  "hyperparameters {'gravity_coefficient': 0.2, 'regularization_coefficient': 0.2, 'num_iterations': 1000, 'learning_rate': 100.0}\n",
                  "hyperparameters {'gravity_coefficient': 0.3, 'regularization_coefficient': 0.2, 'num_iterations': 1000, 'learning_rate': 100.0}\n",
                  "hyperparameters {'gravity_coefficient': 0.5, 'regularization_coefficient': 0.2, 'num_iterations': 1000, 'learning_rate': 100.0}\n",
                  "hyperparameters {'gravity_coefficient': 0.001, 'regularization_coefficient': 0.3, 'num_iterations': 1000, 'learning_rate': 100.0}\n",
                  "hyperparameters {'gravity_coefficient': 0.005, 'regularization_coefficient': 0.3, 'num_iterations': 1000, 'learning_rate': 100.0}\n",
                  "hyperparameters {'gravity_coefficient': 0.01, 'regularization_coefficient': 0.3, 'num_iterations': 1000, 'learning_rate': 100.0}\n",
                  "hyperparameters {'gravity_coefficient': 0.02, 'regularization_coefficient': 0.3, 'num_iterations': 1000, 'learning_rate': 100.0}\n",
                  "hyperparameters {'gravity_coefficient': 0.05, 'regularization_coefficient': 0.3, 'num_iterations': 1000, 'learning_rate': 100.0}\n",
                  "hyperparameters {'gravity_coefficient': 0.1, 'regularization_coefficient': 0.3, 'num_iterations': 1000, 'learning_rate': 100.0}\n",
                  "hyperparameters {'gravity_coefficient': 0.2, 'regularization_coefficient': 0.3, 'num_iterations': 1000, 'learning_rate': 100.0}\n",
                  "hyperparameters {'gravity_coefficient': 0.3, 'regularization_coefficient': 0.3, 'num_iterations': 1000, 'learning_rate': 100.0}\n",
                  "hyperparameters {'gravity_coefficient': 0.5, 'regularization_coefficient': 0.3, 'num_iterations': 1000, 'learning_rate': 100.0}\n",
                  "hyperparameters {'gravity_coefficient': 0.001, 'regularization_coefficient': 0.5, 'num_iterations': 1000, 'learning_rate': 100.0}\n",
                  "hyperparameters {'gravity_coefficient': 0.005, 'regularization_coefficient': 0.5, 'num_iterations': 1000, 'learning_rate': 100.0}\n",
                  "hyperparameters {'gravity_coefficient': 0.01, 'regularization_coefficient': 0.5, 'num_iterations': 1000, 'learning_rate': 100.0}\n",
                  "hyperparameters {'gravity_coefficient': 0.02, 'regularization_coefficient': 0.5, 'num_iterations': 1000, 'learning_rate': 100.0}\n",
                  "hyperparameters {'gravity_coefficient': 0.05, 'regularization_coefficient': 0.5, 'num_iterations': 1000, 'learning_rate': 100.0}\n",
                  "hyperparameters {'gravity_coefficient': 0.1, 'regularization_coefficient': 0.5, 'num_iterations': 1000, 'learning_rate': 100.0}\n",
                  "hyperparameters {'gravity_coefficient': 0.2, 'regularization_coefficient': 0.5, 'num_iterations': 1000, 'learning_rate': 100.0}\n",
                  "hyperparameters {'gravity_coefficient': 0.3, 'regularization_coefficient': 0.5, 'num_iterations': 1000, 'learning_rate': 100.0}\n",
                  "hyperparameters {'gravity_coefficient': 0.5, 'regularization_coefficient': 0.5, 'num_iterations': 1000, 'learning_rate': 100.0}\n",
                  "best hyper parameters {'gravity_coefficient': 0.001, 'regularization_coefficient': 0.5, 'num_iterations': 1000, 'learning_rate': 100.0}\n",
                  "Mean Squared Error None\n",
                  "Precision 0.014444267007345895\n",
                  "Recall 0.10540343170870885\n",
                  "Normalized Discounted Cumulative Gain 0.10262207718945264\n"
               ]
            }
         ],
         "source": [
            "embedding_dimension = 10\n",
            "k = 20\n",
            "\n",
            "model = FactorizationRecommender(m=training_data.m, n=training_data.n, k=embedding_dimension)\n",
            "\n",
            "tie = TechniqueInferenceEngine(\n",
            "    training_data=training_data,\n",
            "    validation_data=validation_data,\n",
            "    test_data=test_data,\n",
            "    model=model,\n",
            "    enterprise_attack_filepath=enterprise_attack_filepath,\n",
            ")\n",
            "mse = tie.fit_with_cross_validation(\n",
            "    learning_rate=[0.001, 0.01, 0.1, 1.0, 10., 20., 50., 100.],\n",
            "    num_iterations=[1000],\n",
            "    regularization_coefficient=[0.001, 0.005, 0.01, 0.02, 0.05, 0.1, 0.2, 0.3, 0.5],\n",
            "    gravity_coefficient=[0.001, 0.005, 0.01, 0.02, 0.05, 0.1, 0.2, 0.3, 0.5],\n",
            ")\n",
            "print(\"Mean Squared Error\", mse)\n",
            "precision = tie.precision(k=k)\n",
            "print(\"Precision\", precision)\n",
            "recall = tie.recall(k=k)\n",
            "print(\"Recall\", recall)\n",
            "ndcg = tie.normalized_discounted_cumulative_gain(k=k)\n",
            "print(\"Normalized Discounted Cumulative Gain\", ndcg)"
         ]
      },
      {
         "cell_type": "code",
         "execution_count": 24,
         "metadata": {
            "metadata": {}
         },
         "outputs": [
            {
               "name": "stdout",
               "output_type": "stream",
               "text": [
                  "hyperparameters {'v_j_regularization': 0.0001, 'v_i_regularization': 0.0001, 'w_regularization': 0, 'num_iterations': 256000, 'learning_rate': 0.001}\n",
                  "score for hyperparameters 0.023778867720160093\n",
                  "hyperparameters {'v_j_regularization': 0.0001, 'v_i_regularization': 0.0001, 'w_regularization': 0.0001, 'num_iterations': 256000, 'learning_rate': 0.001}\n",
                  "score for hyperparameters 0.029006011499219785\n",
                  "hyperparameters {'v_j_regularization': 0.0001, 'v_i_regularization': 0.0001, 'w_regularization': 0.001, 'num_iterations': 256000, 'learning_rate': 0.001}\n",
                  "score for hyperparameters 0.039263264941108315\n",
                  "hyperparameters {'v_j_regularization': 0.0001, 'v_i_regularization': 0.0001, 'w_regularization': 0.01, 'num_iterations': 256000, 'learning_rate': 0.001}\n",
                  "score for hyperparameters 0.054997102470444724\n",
                  "hyperparameters {'v_j_regularization': 0.0001, 'v_i_regularization': 0.0001, 'w_regularization': 0, 'num_iterations': 256000, 'learning_rate': 0.005}\n",
                  "score for hyperparameters 0.11629463140829277\n",
                  "hyperparameters {'v_j_regularization': 0.0001, 'v_i_regularization': 0.0001, 'w_regularization': 0.0001, 'num_iterations': 256000, 'learning_rate': 0.005}\n",
                  "score for hyperparameters 0.12851232615737954\n",
                  "hyperparameters {'v_j_regularization': 0.0001, 'v_i_regularization': 0.0001, 'w_regularization': 0.001, 'num_iterations': 256000, 'learning_rate': 0.005}\n",
                  "score for hyperparameters 0.12715298377119716\n",
                  "hyperparameters {'v_j_regularization': 0.0001, 'v_i_regularization': 0.0001, 'w_regularization': 0.01, 'num_iterations': 256000, 'learning_rate': 0.005}\n",
                  "score for hyperparameters 0.12469867764910422\n",
                  "hyperparameters {'v_j_regularization': 0.0001, 'v_i_regularization': 0.0001, 'w_regularization': 0, 'num_iterations': 256000, 'learning_rate': 0.01}\n",
                  "score for hyperparameters 0.11917357695847894\n",
                  "hyperparameters {'v_j_regularization': 0.0001, 'v_i_regularization': 0.0001, 'w_regularization': 0.0001, 'num_iterations': 256000, 'learning_rate': 0.01}\n",
                  "score for hyperparameters 0.1153098260877124\n",
                  "hyperparameters {'v_j_regularization': 0.0001, 'v_i_regularization': 0.0001, 'w_regularization': 0.001, 'num_iterations': 256000, 'learning_rate': 0.01}\n",
                  "score for hyperparameters 0.112377705072141\n",
                  "hyperparameters {'v_j_regularization': 0.0001, 'v_i_regularization': 0.0001, 'w_regularization': 0.01, 'num_iterations': 256000, 'learning_rate': 0.01}\n",
                  "score for hyperparameters 0.11002080169465343\n",
                  "hyperparameters {'v_j_regularization': 0.0001, 'v_i_regularization': 0.0001, 'w_regularization': 0, 'num_iterations': 256000, 'learning_rate': 0.02}\n",
                  "score for hyperparameters 0.10642413220537447\n",
                  "hyperparameters {'v_j_regularization': 0.0001, 'v_i_regularization': 0.0001, 'w_regularization': 0.0001, 'num_iterations': 256000, 'learning_rate': 0.02}\n",
                  "score for hyperparameters 0.10312180460622343\n",
                  "hyperparameters {'v_j_regularization': 0.0001, 'v_i_regularization': 0.0001, 'w_regularization': 0.001, 'num_iterations': 256000, 'learning_rate': 0.02}\n",
                  "score for hyperparameters 0.10176330266122069\n",
                  "hyperparameters {'v_j_regularization': 0.0001, 'v_i_regularization': 0.0001, 'w_regularization': 0.01, 'num_iterations': 256000, 'learning_rate': 0.02}\n",
                  "score for hyperparameters 0.10012062387360608\n",
                  "hyperparameters {'v_j_regularization': 0.0001, 'v_i_regularization': 0.0001, 'w_regularization': 0, 'num_iterations': 256000, 'learning_rate': 0.05}\n",
                  "score for hyperparameters 0.097174507859451\n",
                  "hyperparameters {'v_j_regularization': 0.0001, 'v_i_regularization': 0.0001, 'w_regularization': 0.0001, 'num_iterations': 256000, 'learning_rate': 0.05}\n",
                  "score for hyperparameters 0.09477405057879364\n",
                  "hyperparameters {'v_j_regularization': 0.0001, 'v_i_regularization': 0.0001, 'w_regularization': 0.001, 'num_iterations': 256000, 'learning_rate': 0.05}\n",
                  "score for hyperparameters 0.09349715065199815\n",
                  "hyperparameters {'v_j_regularization': 0.0001, 'v_i_regularization': 0.0001, 'w_regularization': 0.01, 'num_iterations': 256000, 'learning_rate': 0.05}\n",
                  "score for hyperparameters 0.09179216389403905\n",
                  "best hyper parameters {'v_j_regularization': 0.0001, 'v_i_regularization': 0.0001, 'w_regularization': 0.0001, 'num_iterations': 256000, 'learning_rate': 0.005}\n",
                  "Mean Squared Error None\n",
                  "Precision 0.008351964228680933\n",
                  "Recall 0.06693082557021318\n",
                  "Normalized Discounted Cumulative Gain 0.06033346119735489\n"
               ]
            }
         ],
         "source": [
            "# hyperparameters\n",
            "embedding_dimension = 10\n",
            "k = 20\n",
            "\n",
            "model = BPRRecommender(m=training_data.m, n=training_data.n, k=embedding_dimension)\n",
            "\n",
            "tie = TechniqueInferenceEngine(\n",
            "    training_data=training_data,\n",
            "    validation_data=validation_data,\n",
            "    test_data=test_data,\n",
            "    model=model,\n",
            "    enterprise_attack_filepath=enterprise_attack_filepath,\n",
            ")\n",
            "mse = tie.fit_with_cross_validation(\n",
            "    learning_rate=[0.001, 0.005, 0.01, 0.02, 0.05],\n",
            "    num_iterations=[500 * 512],\n",
            "    regularization=[0, 0.0001, 0.001, 0.01],\n",
            ")\n",
            "print(\"Mean Squared Error\", mse)\n",
            "precision = tie.precision(k=k)\n",
            "print(\"Precision\", precision)\n",
            "recall = tie.recall(k=20)\n",
            "print(\"Recall\", recall)\n",
            "ndcg = tie.normalized_discounted_cumulative_gain(k=k)\n",
            "print(\"Normalized Discounted Cumulative Gain\", ndcg)"
         ]
      },
      {
         "cell_type": "code",
         "execution_count": 35,
         "metadata": {},
         "outputs": [
            {
               "name": "stdout",
               "output_type": "stream",
               "text": [
                  "hyperparameters {'regularization': 0, 'num_iterations': 67, 'learning_rate': 0.001}\n"
               ]
            },
            {
               "data": {
                  "application/vnd.jupyter.widget-view+json": {
                     "model_id": "383b6991177c496b9d63adb72e2653e0",
                     "version_major": 2,
                     "version_minor": 0
                  },
                  "text/plain": [
                     "  0%|          | 0/67 [00:00<?, ?it/s]"
                  ]
               },
               "metadata": {},
               "output_type": "display_data"
            },
            {
               "name": "stdout",
               "output_type": "stream",
               "text": [
                  "score for hyperparameters 0.05903905680514567\n",
                  "hyperparameters {'regularization': 0.0001, 'num_iterations': 67, 'learning_rate': 0.001}\n"
               ]
            },
            {
               "data": {
                  "application/vnd.jupyter.widget-view+json": {
                     "model_id": "c5b23e4536fc44348d46768f831f6b84",
                     "version_major": 2,
                     "version_minor": 0
                  },
                  "text/plain": [
                     "  0%|          | 0/67 [00:00<?, ?it/s]"
                  ]
               },
               "metadata": {},
               "output_type": "display_data"
            },
            {
               "name": "stdout",
               "output_type": "stream",
               "text": [
                  "score for hyperparameters 0.07618356177980001\n",
                  "hyperparameters {'regularization': 0.001, 'num_iterations': 67, 'learning_rate': 0.001}\n"
               ]
            },
            {
               "data": {
                  "application/vnd.jupyter.widget-view+json": {
                     "model_id": "30d5f65998754e388e397067a32ca807",
                     "version_major": 2,
                     "version_minor": 0
                  },
                  "text/plain": [
                     "  0%|          | 0/67 [00:00<?, ?it/s]"
                  ]
               },
               "metadata": {},
               "output_type": "display_data"
            },
            {
               "name": "stdout",
               "output_type": "stream",
               "text": [
                  "score for hyperparameters 0.033254644489289935\n",
                  "hyperparameters {'regularization': 0.01, 'num_iterations': 67, 'learning_rate': 0.001}\n"
               ]
            },
            {
               "data": {
                  "application/vnd.jupyter.widget-view+json": {
                     "model_id": "7815d691ec3349f08a39e1542a2de03b",
                     "version_major": 2,
                     "version_minor": 0
                  },
                  "text/plain": [
                     "  0%|          | 0/67 [00:00<?, ?it/s]"
                  ]
               },
               "metadata": {},
               "output_type": "display_data"
            },
            {
               "name": "stdout",
               "output_type": "stream",
               "text": [
                  "score for hyperparameters 0.05905181760066512\n",
                  "hyperparameters {'regularization': 0, 'num_iterations': 67, 'learning_rate': 0.005}\n"
               ]
            },
            {
               "data": {
                  "application/vnd.jupyter.widget-view+json": {
                     "model_id": "b1f53e4f9fb1486e82c2e34fe7428c63",
                     "version_major": 2,
                     "version_minor": 0
                  },
                  "text/plain": [
                     "  0%|          | 0/67 [00:00<?, ?it/s]"
                  ]
               },
               "metadata": {},
               "output_type": "display_data"
            },
            {
               "name": "stdout",
               "output_type": "stream",
               "text": [
                  "score for hyperparameters 0.06140444926593436\n",
                  "hyperparameters {'regularization': 0.0001, 'num_iterations': 67, 'learning_rate': 0.005}\n"
               ]
            },
            {
               "data": {
                  "application/vnd.jupyter.widget-view+json": {
                     "model_id": "0f6d39e1f56e4dd9b48f47a686178e97",
                     "version_major": 2,
                     "version_minor": 0
                  },
                  "text/plain": [
                     "  0%|          | 0/67 [00:00<?, ?it/s]"
                  ]
               },
               "metadata": {},
               "output_type": "display_data"
            },
            {
               "name": "stdout",
               "output_type": "stream",
               "text": [
                  "score for hyperparameters 0.05866354438048306\n",
                  "hyperparameters {'regularization': 0.001, 'num_iterations': 67, 'learning_rate': 0.005}\n"
               ]
            },
            {
               "data": {
                  "application/vnd.jupyter.widget-view+json": {
                     "model_id": "febc45d4828f40f495d7b6814b47863b",
                     "version_major": 2,
                     "version_minor": 0
                  },
                  "text/plain": [
                     "  0%|          | 0/67 [00:00<?, ?it/s]"
                  ]
               },
               "metadata": {},
               "output_type": "display_data"
            },
            {
               "name": "stdout",
               "output_type": "stream",
               "text": [
                  "score for hyperparameters 0.06375342584252092\n",
                  "hyperparameters {'regularization': 0.01, 'num_iterations': 67, 'learning_rate': 0.005}\n"
               ]
            },
            {
               "data": {
                  "application/vnd.jupyter.widget-view+json": {
                     "model_id": "e0fefa73ad0b40a6bbc501bcdf49b43e",
                     "version_major": 2,
                     "version_minor": 0
                  },
                  "text/plain": [
                     "  0%|          | 0/67 [00:00<?, ?it/s]"
                  ]
               },
               "metadata": {},
               "output_type": "display_data"
            },
            {
               "name": "stdout",
               "output_type": "stream",
               "text": [
                  "score for hyperparameters 0.044278800579778295\n",
                  "hyperparameters {'regularization': 0, 'num_iterations': 67, 'learning_rate': 0.01}\n"
               ]
            },
            {
               "data": {
                  "application/vnd.jupyter.widget-view+json": {
                     "model_id": "114c26f743914e94bd3992ed76727b55",
                     "version_major": 2,
                     "version_minor": 0
                  },
                  "text/plain": [
                     "  0%|          | 0/67 [00:00<?, ?it/s]"
                  ]
               },
               "metadata": {},
               "output_type": "display_data"
            },
            {
               "name": "stdout",
               "output_type": "stream",
               "text": [
                  "score for hyperparameters 0.058102425424125304\n",
                  "hyperparameters {'regularization': 0.0001, 'num_iterations': 67, 'learning_rate': 0.01}\n"
               ]
            },
            {
               "data": {
                  "application/vnd.jupyter.widget-view+json": {
                     "model_id": "8cfdfff4818743918fc8f1ac8549c116",
                     "version_major": 2,
                     "version_minor": 0
                  },
                  "text/plain": [
                     "  0%|          | 0/67 [00:00<?, ?it/s]"
                  ]
               },
               "metadata": {},
               "output_type": "display_data"
            },
            {
               "name": "stdout",
               "output_type": "stream",
               "text": [
                  "score for hyperparameters 0.038200715314319\n",
                  "hyperparameters {'regularization': 0.001, 'num_iterations': 67, 'learning_rate': 0.01}\n"
               ]
            },
            {
               "data": {
                  "application/vnd.jupyter.widget-view+json": {
                     "model_id": "5d3933d9b74a4176b131ebda875f03e1",
                     "version_major": 2,
                     "version_minor": 0
                  },
                  "text/plain": [
                     "  0%|          | 0/67 [00:00<?, ?it/s]"
                  ]
               },
               "metadata": {},
               "output_type": "display_data"
            },
            {
               "name": "stdout",
               "output_type": "stream",
               "text": [
                  "score for hyperparameters 0.036340014550713784\n",
                  "hyperparameters {'regularization': 0.01, 'num_iterations': 67, 'learning_rate': 0.01}\n"
               ]
            },
            {
               "data": {
                  "application/vnd.jupyter.widget-view+json": {
                     "model_id": "4cbbbf3e6fa74536a6bc6d51eaf5fae5",
                     "version_major": 2,
                     "version_minor": 0
                  },
                  "text/plain": [
                     "  0%|          | 0/67 [00:00<?, ?it/s]"
                  ]
               },
               "metadata": {},
               "output_type": "display_data"
            },
            {
               "name": "stdout",
               "output_type": "stream",
               "text": [
                  "score for hyperparameters 0.053321555899591665\n",
                  "hyperparameters {'regularization': 0, 'num_iterations': 67, 'learning_rate': 0.02}\n"
               ]
            },
            {
               "data": {
                  "application/vnd.jupyter.widget-view+json": {
                     "model_id": "f08fec73e1d945aca05ca385e0ec5acb",
                     "version_major": 2,
                     "version_minor": 0
                  },
                  "text/plain": [
                     "  0%|          | 0/67 [00:00<?, ?it/s]"
                  ]
               },
               "metadata": {},
               "output_type": "display_data"
            },
            {
               "name": "stdout",
               "output_type": "stream",
               "text": [
                  "score for hyperparameters 0.046841278056879244\n",
                  "hyperparameters {'regularization': 0.0001, 'num_iterations': 67, 'learning_rate': 0.02}\n"
               ]
            },
            {
               "data": {
                  "application/vnd.jupyter.widget-view+json": {
                     "model_id": "791bd6e2697b4416b21617fde9d420c1",
                     "version_major": 2,
                     "version_minor": 0
                  },
                  "text/plain": [
                     "  0%|          | 0/67 [00:00<?, ?it/s]"
                  ]
               },
               "metadata": {},
               "output_type": "display_data"
            },
            {
               "name": "stdout",
               "output_type": "stream",
               "text": [
                  "score for hyperparameters 0.048403637506916744\n",
                  "hyperparameters {'regularization': 0.001, 'num_iterations': 67, 'learning_rate': 0.02}\n"
               ]
            },
            {
               "data": {
                  "application/vnd.jupyter.widget-view+json": {
                     "model_id": "d03a8e8f0b4e4c4caeccd9bdc56a92dd",
                     "version_major": 2,
                     "version_minor": 0
                  },
                  "text/plain": [
                     "  0%|          | 0/67 [00:00<?, ?it/s]"
                  ]
               },
               "metadata": {},
               "output_type": "display_data"
            },
            {
               "name": "stdout",
               "output_type": "stream",
               "text": [
                  "score for hyperparameters 0.04378670840467754\n",
                  "hyperparameters {'regularization': 0.01, 'num_iterations': 67, 'learning_rate': 0.02}\n"
               ]
            },
            {
               "data": {
                  "application/vnd.jupyter.widget-view+json": {
                     "model_id": "2b2e0fed427a46f5bead015cf529c83b",
                     "version_major": 2,
                     "version_minor": 0
                  },
                  "text/plain": [
                     "  0%|          | 0/67 [00:00<?, ?it/s]"
                  ]
               },
               "metadata": {},
               "output_type": "display_data"
            },
            {
               "name": "stdout",
               "output_type": "stream",
               "text": [
                  "score for hyperparameters 0.04414755954968812\n",
                  "hyperparameters {'regularization': 0, 'num_iterations': 67, 'learning_rate': 0.05}\n"
               ]
            },
            {
               "data": {
                  "application/vnd.jupyter.widget-view+json": {
                     "model_id": "ed82d8813a3146eebe268b33480c2fee",
                     "version_major": 2,
                     "version_minor": 0
                  },
                  "text/plain": [
                     "  0%|          | 0/67 [00:00<?, ?it/s]"
                  ]
               },
               "metadata": {},
               "output_type": "display_data"
            },
            {
               "name": "stdout",
               "output_type": "stream",
               "text": [
                  "score for hyperparameters 0.03551287779086217\n",
                  "hyperparameters {'regularization': 0.0001, 'num_iterations': 67, 'learning_rate': 0.05}\n"
               ]
            },
            {
               "data": {
                  "application/vnd.jupyter.widget-view+json": {
                     "model_id": "76c150a234884bde98fe6d55ae81ce47",
                     "version_major": 2,
                     "version_minor": 0
                  },
                  "text/plain": [
                     "  0%|          | 0/67 [00:00<?, ?it/s]"
                  ]
               },
               "metadata": {},
               "output_type": "display_data"
            },
            {
               "name": "stdout",
               "output_type": "stream",
               "text": [
                  "score for hyperparameters 0.034188068100035995\n",
                  "hyperparameters {'regularization': 0.001, 'num_iterations': 67, 'learning_rate': 0.05}\n"
               ]
            },
            {
               "data": {
                  "application/vnd.jupyter.widget-view+json": {
                     "model_id": "2e9e1e76604742f4ad4ed5f2abef02c0",
                     "version_major": 2,
                     "version_minor": 0
                  },
                  "text/plain": [
                     "  0%|          | 0/67 [00:00<?, ?it/s]"
                  ]
               },
               "metadata": {},
               "output_type": "display_data"
            },
            {
               "name": "stdout",
               "output_type": "stream",
               "text": [
                  "score for hyperparameters 0.03564968921746598\n",
                  "hyperparameters {'regularization': 0.01, 'num_iterations': 67, 'learning_rate': 0.05}\n"
               ]
            },
            {
               "data": {
                  "application/vnd.jupyter.widget-view+json": {
                     "model_id": "1967dbc9cb514145a8ae604a71336ab9",
                     "version_major": 2,
                     "version_minor": 0
                  },
                  "text/plain": [
                     "  0%|          | 0/67 [00:00<?, ?it/s]"
                  ]
               },
               "metadata": {},
               "output_type": "display_data"
            },
            {
               "name": "stdout",
               "output_type": "stream",
               "text": [
                  "score for hyperparameters 0.03215088676081219\n",
                  "best hyper parameters {'regularization': 0.0001, 'num_iterations': 67, 'learning_rate': 0.001}\n"
               ]
            },
            {
               "data": {
                  "application/vnd.jupyter.widget-view+json": {
                     "model_id": "2344e77971114b4aa9b04006c4dbc331",
                     "version_major": 2,
                     "version_minor": 0
                  },
                  "text/plain": [
                     "  0%|          | 0/67 [00:00<?, ?it/s]"
                  ]
               },
               "metadata": {},
               "output_type": "display_data"
            },
            {
               "name": "stdout",
               "output_type": "stream",
               "text": [
                  "Mean Squared Error None\n",
                  "Precision 0.0019163206643244969\n",
                  "Recall 0.015189820181530216\n",
                  "Normalized Discounted Cumulative Gain 0.014312868387378032\n"
               ]
            }
         ],
         "source": [
            "# hyperparameters\n",
            "embedding_dimension = 10\n",
            "k = 20\n",
            "\n",
            "model = ImplicitBPRRecommender(k=embedding_dimension)\n",
            "\n",
            "tie = TechniqueInferenceEngine(\n",
            "    training_data=training_data,\n",
            "    validation_data=validation_data,\n",
            "    test_data=test_data,\n",
            "    model=model,\n",
            "    enterprise_attack_filepath=enterprise_attack_filepath,\n",
            ")\n",
            "mse = tie.fit_with_cross_validation(\n",
            "    learning_rate=[0.001, 0.005, 0.01, 0.02, 0.05],\n",
            "    num_iterations=[math.floor(500 * 512 / training_data.to_numpy().sum())],\n",
            "    regularization=[0, 0.0001, 0.001, 0.01],\n",
            ")\n",
            "print(\"Mean Squared Error\", mse)\n",
            "precision = tie.precision(k=k)\n",
            "print(\"Precision\", precision)\n",
            "recall = tie.recall(k=k)\n",
            "print(\"Recall\", recall)\n",
            "ndcg = tie.normalized_discounted_cumulative_gain(k=k)\n",
            "print(\"Normalized Discounted Cumulative Gain\", ndcg)"
         ]
      },
      {
         "cell_type": "code",
         "execution_count": 13,
         "metadata": {},
         "outputs": [
            {
               "name": "stderr",
               "output_type": "stream",
               "text": [
                  "/opt/homebrew/anaconda3/envs/tie/lib/python3.11/site-packages/implicit/cpu/als.py:95: RuntimeWarning: OpenBLAS is configured to use 12 threads. It is highly recommended to disable its internal threadpool by setting the environment variable 'OPENBLAS_NUM_THREADS=1' or by calling 'threadpoolctl.threadpool_limits(1, \"blas\")'. Having OpenBLAS use a threadpool can lead to severe performance issues here.\n",
                  "  check_blas_config()\n"
               ]
            },
            {
               "data": {
                  "application/vnd.jupyter.widget-view+json": {
                     "model_id": "9052b63e80a54224a9070577e9ab07b1",
                     "version_major": 2,
                     "version_minor": 0
                  },
                  "text/plain": [
                     "  0%|          | 0/20 [00:00<?, ?it/s]"
                  ]
               },
               "metadata": {},
               "output_type": "display_data"
            },
            {
               "name": "stdout",
               "output_type": "stream",
               "text": [
                  "Mean Squared Error 0.9879127664637455\n",
                  "Precision 0.04024273395081444\n",
                  "Recall 0.38474900928814565\n",
                  "Normalized Discounted Cumulative Gain 0.08508324107004171\n"
               ]
            }
         ],
         "source": [
            "# hyperparameters\n",
            "embedding_dimension = 10\n",
            "k = 20\n",
            "\n",
            "best_hyperparameters = {'regularization_coefficient': 0.05, 'c': 0.5, 'num_iterations': 20}\n",
            "\n",
            "model = ImplicitWalsRecommender(m=training_data.m, n=training_data.n, k=embedding_dimension)\n",
            "\n",
            "tie = TechniqueInferenceEngine(\n",
            "    training_data=training_data,\n",
            "    validation_data=validation_data,\n",
            "    test_data=test_data,\n",
            "    model=model,\n",
            "    enterprise_attack_filepath=enterprise_attack_filepath,\n",
            ")\n",
            "mse = tie.fit(**best_hyperparameters)\n",
            "# mse = tie.fit_with_cross_validation(\n",
            "#     num_iterations=[20],\n",
            "#     c=[0.001, 0.005, 0.01, 0.05, 0.1, 0.3, 0.5, 0.7],\n",
            "#     regularization_coefficient=[0.001, 0.005, 0.01, 0.02, 0.05]\n",
            "# )\n",
            "print(\"Mean Squared Error\", mse)\n",
            "precision = tie.precision(k=k)\n",
            "print(\"Precision\", precision)\n",
            "recall = tie.recall(k=k)\n",
            "print(\"Recall\", recall)\n",
            "ndcg = tie.normalized_discounted_cumulative_gain(k=k)\n",
            "print(\"Normalized Discounted Cumulative Gain\", ndcg)"
         ]
      },
      {
         "cell_type": "code",
         "execution_count": 15,
         "metadata": {},
         "outputs": [
            {
               "ename": "ValueError",
               "evalue": "Input contains NaN.",
               "output_type": "error",
               "traceback": [
                  "\u001b[0;31m---------------------------------------------------------------------------\u001b[0m",
                  "\u001b[0;31mValueError\u001b[0m                                Traceback (most recent call last)",
                  "Cell \u001b[0;32mIn[15], line 16\u001b[0m\n\u001b[1;32m      7\u001b[0m model \u001b[38;5;241m=\u001b[39m WalsRecommender(m\u001b[38;5;241m=\u001b[39mtraining_data\u001b[38;5;241m.\u001b[39mm, n\u001b[38;5;241m=\u001b[39mtraining_data\u001b[38;5;241m.\u001b[39mn, k\u001b[38;5;241m=\u001b[39membedding_dimension)\n\u001b[1;32m      9\u001b[0m tie \u001b[38;5;241m=\u001b[39m TechniqueInferenceEngine(\n\u001b[1;32m     10\u001b[0m     training_data\u001b[38;5;241m=\u001b[39mtraining_data,\n\u001b[1;32m     11\u001b[0m     validation_data\u001b[38;5;241m=\u001b[39mvalidation_data,\n\u001b[0;32m   (...)\u001b[0m\n\u001b[1;32m     14\u001b[0m     enterprise_attack_filepath\u001b[38;5;241m=\u001b[39menterprise_attack_filepath,\n\u001b[1;32m     15\u001b[0m )\n\u001b[0;32m---> 16\u001b[0m mse \u001b[38;5;241m=\u001b[39m \u001b[43mtie\u001b[49m\u001b[38;5;241;43m.\u001b[39;49m\u001b[43mfit\u001b[49m\u001b[43m(\u001b[49m\u001b[38;5;241;43m*\u001b[39;49m\u001b[38;5;241;43m*\u001b[39;49m\u001b[43mbest_hyperparameters\u001b[49m\u001b[43m)\u001b[49m\n\u001b[1;32m     17\u001b[0m \u001b[38;5;66;03m# mse = tie.fit_with_cross_validation(\u001b[39;00m\n\u001b[1;32m     18\u001b[0m \u001b[38;5;66;03m#     num_iterations=[20],\u001b[39;00m\n\u001b[1;32m     19\u001b[0m \u001b[38;5;66;03m#     c=[0.001, 0.005, 0.01, 0.05, 0.1, 0.3, 0.5, 0.7],\u001b[39;00m\n\u001b[1;32m     20\u001b[0m \u001b[38;5;66;03m#     regularization_coefficient=[0.001, 0.005, 0.01, 0.02, 0.05]\u001b[39;00m\n\u001b[1;32m     21\u001b[0m \u001b[38;5;66;03m# )\u001b[39;00m\n\u001b[1;32m     22\u001b[0m \u001b[38;5;28mprint\u001b[39m(\u001b[38;5;124m\"\u001b[39m\u001b[38;5;124mMean Squared Error\u001b[39m\u001b[38;5;124m\"\u001b[39m, mse)\n",
                  "File \u001b[0;32m~/code/technique-inference-engine/models/tie.py:113\u001b[0m, in \u001b[0;36mTechniqueInferenceEngine.fit\u001b[0;34m(self, **kwargs)\u001b[0m\n\u001b[1;32m    110\u001b[0m \u001b[38;5;66;03m# train\u001b[39;00m\n\u001b[1;32m    111\u001b[0m \u001b[38;5;28mself\u001b[39m\u001b[38;5;241m.\u001b[39m_model\u001b[38;5;241m.\u001b[39mfit(\u001b[38;5;28mself\u001b[39m\u001b[38;5;241m.\u001b[39m_training_data\u001b[38;5;241m.\u001b[39mto_sparse_tensor(), \u001b[38;5;241m*\u001b[39m\u001b[38;5;241m*\u001b[39mkwargs)\n\u001b[0;32m--> 113\u001b[0m mean_squared_error \u001b[38;5;241m=\u001b[39m \u001b[38;5;28;43mself\u001b[39;49m\u001b[38;5;241;43m.\u001b[39;49m\u001b[43m_model\u001b[49m\u001b[38;5;241;43m.\u001b[39;49m\u001b[43mevaluate\u001b[49m\u001b[43m(\u001b[49m\u001b[38;5;28;43mself\u001b[39;49m\u001b[38;5;241;43m.\u001b[39;49m\u001b[43m_test_data\u001b[49m\u001b[38;5;241;43m.\u001b[39;49m\u001b[43mto_sparse_tensor\u001b[49m\u001b[43m(\u001b[49m\u001b[43m)\u001b[49m\u001b[43m)\u001b[49m\n\u001b[1;32m    115\u001b[0m \u001b[38;5;28mself\u001b[39m\u001b[38;5;241m.\u001b[39m_checkrep()\n\u001b[1;32m    116\u001b[0m \u001b[38;5;28;01mreturn\u001b[39;00m mean_squared_error\n",
                  "File \u001b[0;32m~/code/technique-inference-engine/models/recommender/wals_recommender.py:227\u001b[0m, in \u001b[0;36mWalsRecommender.evaluate\u001b[0;34m(self, test_data)\u001b[0m\n\u001b[1;32m    224\u001b[0m prediction_values \u001b[38;5;241m=\u001b[39m predictions_matrix[row_indices, column_indices]\n\u001b[1;32m    226\u001b[0m \u001b[38;5;28mself\u001b[39m\u001b[38;5;241m.\u001b[39m_checkrep()\n\u001b[0;32m--> 227\u001b[0m \u001b[38;5;28;01mreturn\u001b[39;00m \u001b[43mmean_squared_error\u001b[49m\u001b[43m(\u001b[49m\u001b[43mtest_data\u001b[49m\u001b[38;5;241;43m.\u001b[39;49m\u001b[43mvalues\u001b[49m\u001b[43m,\u001b[49m\u001b[43m \u001b[49m\u001b[43mprediction_values\u001b[49m\u001b[43m)\u001b[49m\n",
                  "File \u001b[0;32m/opt/homebrew/anaconda3/envs/tie/lib/python3.11/site-packages/sklearn/utils/_param_validation.py:213\u001b[0m, in \u001b[0;36mvalidate_params.<locals>.decorator.<locals>.wrapper\u001b[0;34m(*args, **kwargs)\u001b[0m\n\u001b[1;32m    207\u001b[0m \u001b[38;5;28;01mtry\u001b[39;00m:\n\u001b[1;32m    208\u001b[0m     \u001b[38;5;28;01mwith\u001b[39;00m config_context(\n\u001b[1;32m    209\u001b[0m         skip_parameter_validation\u001b[38;5;241m=\u001b[39m(\n\u001b[1;32m    210\u001b[0m             prefer_skip_nested_validation \u001b[38;5;129;01mor\u001b[39;00m global_skip_validation\n\u001b[1;32m    211\u001b[0m         )\n\u001b[1;32m    212\u001b[0m     ):\n\u001b[0;32m--> 213\u001b[0m         \u001b[38;5;28;01mreturn\u001b[39;00m \u001b[43mfunc\u001b[49m\u001b[43m(\u001b[49m\u001b[38;5;241;43m*\u001b[39;49m\u001b[43margs\u001b[49m\u001b[43m,\u001b[49m\u001b[43m \u001b[49m\u001b[38;5;241;43m*\u001b[39;49m\u001b[38;5;241;43m*\u001b[39;49m\u001b[43mkwargs\u001b[49m\u001b[43m)\u001b[49m\n\u001b[1;32m    214\u001b[0m \u001b[38;5;28;01mexcept\u001b[39;00m InvalidParameterError \u001b[38;5;28;01mas\u001b[39;00m e:\n\u001b[1;32m    215\u001b[0m     \u001b[38;5;66;03m# When the function is just a wrapper around an estimator, we allow\u001b[39;00m\n\u001b[1;32m    216\u001b[0m     \u001b[38;5;66;03m# the function to delegate validation to the estimator, but we replace\u001b[39;00m\n\u001b[1;32m    217\u001b[0m     \u001b[38;5;66;03m# the name of the estimator by the name of the function in the error\u001b[39;00m\n\u001b[1;32m    218\u001b[0m     \u001b[38;5;66;03m# message to avoid confusion.\u001b[39;00m\n\u001b[1;32m    219\u001b[0m     msg \u001b[38;5;241m=\u001b[39m re\u001b[38;5;241m.\u001b[39msub(\n\u001b[1;32m    220\u001b[0m         \u001b[38;5;124mr\u001b[39m\u001b[38;5;124m\"\u001b[39m\u001b[38;5;124mparameter of \u001b[39m\u001b[38;5;124m\\\u001b[39m\u001b[38;5;124mw+ must be\u001b[39m\u001b[38;5;124m\"\u001b[39m,\n\u001b[1;32m    221\u001b[0m         \u001b[38;5;124mf\u001b[39m\u001b[38;5;124m\"\u001b[39m\u001b[38;5;124mparameter of \u001b[39m\u001b[38;5;132;01m{\u001b[39;00mfunc\u001b[38;5;241m.\u001b[39m\u001b[38;5;18m__qualname__\u001b[39m\u001b[38;5;132;01m}\u001b[39;00m\u001b[38;5;124m must be\u001b[39m\u001b[38;5;124m\"\u001b[39m,\n\u001b[1;32m    222\u001b[0m         \u001b[38;5;28mstr\u001b[39m(e),\n\u001b[1;32m    223\u001b[0m     )\n",
                  "File \u001b[0;32m/opt/homebrew/anaconda3/envs/tie/lib/python3.11/site-packages/sklearn/metrics/_regression.py:497\u001b[0m, in \u001b[0;36mmean_squared_error\u001b[0;34m(y_true, y_pred, sample_weight, multioutput, squared)\u001b[0m\n\u001b[1;32m    492\u001b[0m     \u001b[38;5;28;01mif\u001b[39;00m \u001b[38;5;129;01mnot\u001b[39;00m squared:\n\u001b[1;32m    493\u001b[0m         \u001b[38;5;28;01mreturn\u001b[39;00m root_mean_squared_error(\n\u001b[1;32m    494\u001b[0m             y_true, y_pred, sample_weight\u001b[38;5;241m=\u001b[39msample_weight, multioutput\u001b[38;5;241m=\u001b[39mmultioutput\n\u001b[1;32m    495\u001b[0m         )\n\u001b[0;32m--> 497\u001b[0m y_type, y_true, y_pred, multioutput \u001b[38;5;241m=\u001b[39m \u001b[43m_check_reg_targets\u001b[49m\u001b[43m(\u001b[49m\n\u001b[1;32m    498\u001b[0m \u001b[43m    \u001b[49m\u001b[43my_true\u001b[49m\u001b[43m,\u001b[49m\u001b[43m \u001b[49m\u001b[43my_pred\u001b[49m\u001b[43m,\u001b[49m\u001b[43m \u001b[49m\u001b[43mmultioutput\u001b[49m\n\u001b[1;32m    499\u001b[0m \u001b[43m\u001b[49m\u001b[43m)\u001b[49m\n\u001b[1;32m    500\u001b[0m check_consistent_length(y_true, y_pred, sample_weight)\n\u001b[1;32m    501\u001b[0m output_errors \u001b[38;5;241m=\u001b[39m np\u001b[38;5;241m.\u001b[39maverage((y_true \u001b[38;5;241m-\u001b[39m y_pred) \u001b[38;5;241m*\u001b[39m\u001b[38;5;241m*\u001b[39m \u001b[38;5;241m2\u001b[39m, axis\u001b[38;5;241m=\u001b[39m\u001b[38;5;241m0\u001b[39m, weights\u001b[38;5;241m=\u001b[39msample_weight)\n",
                  "File \u001b[0;32m/opt/homebrew/anaconda3/envs/tie/lib/python3.11/site-packages/sklearn/metrics/_regression.py:104\u001b[0m, in \u001b[0;36m_check_reg_targets\u001b[0;34m(y_true, y_pred, multioutput, dtype)\u001b[0m\n\u001b[1;32m    102\u001b[0m check_consistent_length(y_true, y_pred)\n\u001b[1;32m    103\u001b[0m y_true \u001b[38;5;241m=\u001b[39m check_array(y_true, ensure_2d\u001b[38;5;241m=\u001b[39m\u001b[38;5;28;01mFalse\u001b[39;00m, dtype\u001b[38;5;241m=\u001b[39mdtype)\n\u001b[0;32m--> 104\u001b[0m y_pred \u001b[38;5;241m=\u001b[39m \u001b[43mcheck_array\u001b[49m\u001b[43m(\u001b[49m\u001b[43my_pred\u001b[49m\u001b[43m,\u001b[49m\u001b[43m \u001b[49m\u001b[43mensure_2d\u001b[49m\u001b[38;5;241;43m=\u001b[39;49m\u001b[38;5;28;43;01mFalse\u001b[39;49;00m\u001b[43m,\u001b[49m\u001b[43m \u001b[49m\u001b[43mdtype\u001b[49m\u001b[38;5;241;43m=\u001b[39;49m\u001b[43mdtype\u001b[49m\u001b[43m)\u001b[49m\n\u001b[1;32m    106\u001b[0m \u001b[38;5;28;01mif\u001b[39;00m y_true\u001b[38;5;241m.\u001b[39mndim \u001b[38;5;241m==\u001b[39m \u001b[38;5;241m1\u001b[39m:\n\u001b[1;32m    107\u001b[0m     y_true \u001b[38;5;241m=\u001b[39m y_true\u001b[38;5;241m.\u001b[39mreshape((\u001b[38;5;241m-\u001b[39m\u001b[38;5;241m1\u001b[39m, \u001b[38;5;241m1\u001b[39m))\n",
                  "File \u001b[0;32m/opt/homebrew/anaconda3/envs/tie/lib/python3.11/site-packages/sklearn/utils/validation.py:1049\u001b[0m, in \u001b[0;36mcheck_array\u001b[0;34m(array, accept_sparse, accept_large_sparse, dtype, order, copy, force_all_finite, ensure_2d, allow_nd, ensure_min_samples, ensure_min_features, estimator, input_name)\u001b[0m\n\u001b[1;32m   1043\u001b[0m     \u001b[38;5;28;01mraise\u001b[39;00m \u001b[38;5;167;01mValueError\u001b[39;00m(\n\u001b[1;32m   1044\u001b[0m         \u001b[38;5;124m\"\u001b[39m\u001b[38;5;124mFound array with dim \u001b[39m\u001b[38;5;132;01m%d\u001b[39;00m\u001b[38;5;124m. \u001b[39m\u001b[38;5;132;01m%s\u001b[39;00m\u001b[38;5;124m expected <= 2.\u001b[39m\u001b[38;5;124m\"\u001b[39m\n\u001b[1;32m   1045\u001b[0m         \u001b[38;5;241m%\u001b[39m (array\u001b[38;5;241m.\u001b[39mndim, estimator_name)\n\u001b[1;32m   1046\u001b[0m     )\n\u001b[1;32m   1048\u001b[0m \u001b[38;5;28;01mif\u001b[39;00m force_all_finite:\n\u001b[0;32m-> 1049\u001b[0m     \u001b[43m_assert_all_finite\u001b[49m\u001b[43m(\u001b[49m\n\u001b[1;32m   1050\u001b[0m \u001b[43m        \u001b[49m\u001b[43marray\u001b[49m\u001b[43m,\u001b[49m\n\u001b[1;32m   1051\u001b[0m \u001b[43m        \u001b[49m\u001b[43minput_name\u001b[49m\u001b[38;5;241;43m=\u001b[39;49m\u001b[43minput_name\u001b[49m\u001b[43m,\u001b[49m\n\u001b[1;32m   1052\u001b[0m \u001b[43m        \u001b[49m\u001b[43mestimator_name\u001b[49m\u001b[38;5;241;43m=\u001b[39;49m\u001b[43mestimator_name\u001b[49m\u001b[43m,\u001b[49m\n\u001b[1;32m   1053\u001b[0m \u001b[43m        \u001b[49m\u001b[43mallow_nan\u001b[49m\u001b[38;5;241;43m=\u001b[39;49m\u001b[43mforce_all_finite\u001b[49m\u001b[43m \u001b[49m\u001b[38;5;241;43m==\u001b[39;49m\u001b[43m \u001b[49m\u001b[38;5;124;43m\"\u001b[39;49m\u001b[38;5;124;43mallow-nan\u001b[39;49m\u001b[38;5;124;43m\"\u001b[39;49m\u001b[43m,\u001b[49m\n\u001b[1;32m   1054\u001b[0m \u001b[43m    \u001b[49m\u001b[43m)\u001b[49m\n\u001b[1;32m   1056\u001b[0m \u001b[38;5;28;01mif\u001b[39;00m copy:\n\u001b[1;32m   1057\u001b[0m     \u001b[38;5;28;01mif\u001b[39;00m _is_numpy_namespace(xp):\n\u001b[1;32m   1058\u001b[0m         \u001b[38;5;66;03m# only make a copy if `array` and `array_orig` may share memory`\u001b[39;00m\n",
                  "File \u001b[0;32m/opt/homebrew/anaconda3/envs/tie/lib/python3.11/site-packages/sklearn/utils/validation.py:126\u001b[0m, in \u001b[0;36m_assert_all_finite\u001b[0;34m(X, allow_nan, msg_dtype, estimator_name, input_name)\u001b[0m\n\u001b[1;32m    123\u001b[0m \u001b[38;5;28;01mif\u001b[39;00m first_pass_isfinite:\n\u001b[1;32m    124\u001b[0m     \u001b[38;5;28;01mreturn\u001b[39;00m\n\u001b[0;32m--> 126\u001b[0m \u001b[43m_assert_all_finite_element_wise\u001b[49m\u001b[43m(\u001b[49m\n\u001b[1;32m    127\u001b[0m \u001b[43m    \u001b[49m\u001b[43mX\u001b[49m\u001b[43m,\u001b[49m\n\u001b[1;32m    128\u001b[0m \u001b[43m    \u001b[49m\u001b[43mxp\u001b[49m\u001b[38;5;241;43m=\u001b[39;49m\u001b[43mxp\u001b[49m\u001b[43m,\u001b[49m\n\u001b[1;32m    129\u001b[0m \u001b[43m    \u001b[49m\u001b[43mallow_nan\u001b[49m\u001b[38;5;241;43m=\u001b[39;49m\u001b[43mallow_nan\u001b[49m\u001b[43m,\u001b[49m\n\u001b[1;32m    130\u001b[0m \u001b[43m    \u001b[49m\u001b[43mmsg_dtype\u001b[49m\u001b[38;5;241;43m=\u001b[39;49m\u001b[43mmsg_dtype\u001b[49m\u001b[43m,\u001b[49m\n\u001b[1;32m    131\u001b[0m \u001b[43m    \u001b[49m\u001b[43mestimator_name\u001b[49m\u001b[38;5;241;43m=\u001b[39;49m\u001b[43mestimator_name\u001b[49m\u001b[43m,\u001b[49m\n\u001b[1;32m    132\u001b[0m \u001b[43m    \u001b[49m\u001b[43minput_name\u001b[49m\u001b[38;5;241;43m=\u001b[39;49m\u001b[43minput_name\u001b[49m\u001b[43m,\u001b[49m\n\u001b[1;32m    133\u001b[0m \u001b[43m\u001b[49m\u001b[43m)\u001b[49m\n",
                  "File \u001b[0;32m/opt/homebrew/anaconda3/envs/tie/lib/python3.11/site-packages/sklearn/utils/validation.py:175\u001b[0m, in \u001b[0;36m_assert_all_finite_element_wise\u001b[0;34m(X, xp, allow_nan, msg_dtype, estimator_name, input_name)\u001b[0m\n\u001b[1;32m    158\u001b[0m \u001b[38;5;28;01mif\u001b[39;00m estimator_name \u001b[38;5;129;01mand\u001b[39;00m input_name \u001b[38;5;241m==\u001b[39m \u001b[38;5;124m\"\u001b[39m\u001b[38;5;124mX\u001b[39m\u001b[38;5;124m\"\u001b[39m \u001b[38;5;129;01mand\u001b[39;00m has_nan_error:\n\u001b[1;32m    159\u001b[0m     \u001b[38;5;66;03m# Improve the error message on how to handle missing values in\u001b[39;00m\n\u001b[1;32m    160\u001b[0m     \u001b[38;5;66;03m# scikit-learn.\u001b[39;00m\n\u001b[1;32m    161\u001b[0m     msg_err \u001b[38;5;241m+\u001b[39m\u001b[38;5;241m=\u001b[39m (\n\u001b[1;32m    162\u001b[0m         \u001b[38;5;124mf\u001b[39m\u001b[38;5;124m\"\u001b[39m\u001b[38;5;130;01m\\n\u001b[39;00m\u001b[38;5;132;01m{\u001b[39;00mestimator_name\u001b[38;5;132;01m}\u001b[39;00m\u001b[38;5;124m does not accept missing values\u001b[39m\u001b[38;5;124m\"\u001b[39m\n\u001b[1;32m    163\u001b[0m         \u001b[38;5;124m\"\u001b[39m\u001b[38;5;124m encoded as NaN natively. For supervised learning, you might want\u001b[39m\u001b[38;5;124m\"\u001b[39m\n\u001b[0;32m   (...)\u001b[0m\n\u001b[1;32m    173\u001b[0m         \u001b[38;5;124m\"\u001b[39m\u001b[38;5;124m#estimators-that-handle-nan-values\u001b[39m\u001b[38;5;124m\"\u001b[39m\n\u001b[1;32m    174\u001b[0m     )\n\u001b[0;32m--> 175\u001b[0m \u001b[38;5;28;01mraise\u001b[39;00m \u001b[38;5;167;01mValueError\u001b[39;00m(msg_err)\n",
                  "\u001b[0;31mValueError\u001b[0m: Input contains NaN."
               ]
            }
         ],
         "source": [
            "# hyperparameters\n",
            "embedding_dimension = 10\n",
            "k = 20\n",
            "\n",
            "best_hyperparameters = {'regularization_coefficient': 0.1, 'c': 0.5, 'num_iterations': 20}\n",
            "\n",
            "model = WalsRecommender(m=training_data.m, n=training_data.n, k=embedding_dimension)\n",
            "\n",
            "tie = TechniqueInferenceEngine(\n",
            "    training_data=training_data,\n",
            "    validation_data=validation_data,\n",
            "    test_data=test_data,\n",
            "    model=model,\n",
            "    enterprise_attack_filepath=enterprise_attack_filepath,\n",
            ")\n",
            "mse = tie.fit(**best_hyperparameters)\n",
            "# mse = tie.fit_with_cross_validation(\n",
            "#     num_iterations=[20],\n",
            "#     c=[0.001, 0.005, 0.01, 0.05, 0.1, 0.3, 0.5, 0.7],\n",
            "#     regularization_coefficient=[0.001, 0.005, 0.01, 0.02, 0.05]\n",
            "# )\n",
            "print(\"Mean Squared Error\", mse)\n",
            "precision = tie.precision(k=k)\n",
            "print(\"Precision\", precision)\n",
            "recall = tie.recall(k=k)\n",
            "print(\"Recall\", recall)\n",
            "ndcg = tie.normalized_discounted_cumulative_gain(k=k)\n",
            "print(\"Normalized Discounted Cumulative Gain\", ndcg)"
         ]
      },
      {
         "cell_type": "code",
         "execution_count": 9,
         "metadata": {},
         "outputs": [
            {
               "name": "stdout",
               "output_type": "stream",
               "text": [
                  "recalls [0.3108950826166713, 0.33106441277117776, 0.35140350191851905, 0.3776813026138787, 0.3966996638586128, 0.411765460559823, 0.4233605407166355, 0.43163018227607586, 0.4401672609201304, 0.4468014756671896, 0.4517191463880229, 0.4559514819727501, 0.46077787828357303, 0.46526590374333276, 0.46870873797526247, 0.4723130017041636, 0.47641192896661694, 0.47992833763513354, 0.48201683166709614, 0.4847402939021784, 0.4867623192471993]\n"
               ]
            },
            {
               "data": {
                  "text/plain": [
                     "[<matplotlib.lines.Line2D at 0x36c1de350>]"
                  ]
               },
               "execution_count": 9,
               "metadata": {},
               "output_type": "execute_result"
            },
            {
               "data": {
                  "image/png": "[encoded data removed]",
                  "text/plain": [
                     "<Figure size 640x480 with 1 Axes>"
                  ]
               },
               "metadata": {},
               "output_type": "display_data"
            }
         ],
         "source": [
            "k_values = [1, 5] + list(range(10, 200, 10))\n",
            "recalls = []\n",
            "ndcgs = []\n",
            "for k in k_values:\n",
            "    # print(\"Mean Squared Error\", mse)\n",
            "    precision = tie.precision(k=k)\n",
            "    # print(\"Precision\", precision)\n",
            "    recall = tie.recall(k=k)\n",
            "    recalls.append(recall)\n",
            "    # print(\"Recall\", recall)\n",
            "    ndcg = tie.normalized_discounted_cumulative_gain(k=k)\n",
            "    ndcgs.append(ndcg)\n",
            "    # print(\"Normalized Discounted Cumulative Gain\", ndcg)\n",
            "\n",
            "print(\"recalls\", recalls)\n",
            "\n",
            "plt.xlabel(\"k\")\n",
            "plt.ylabel(\"Normalized discounted cumulative gain (NDCG)\")\n",
            "plt.title(\"NDCG@k for various values of k\")\n",
            "plt.plot(k_values, ndcgs)"
         ]
      },
      {
         "cell_type": "code",
         "execution_count": 50,
         "metadata": {},
         "outputs": [
            {
               "name": "stdout",
               "output_type": "stream",
               "text": [
                  "           predictions  training_data  test_data  \\\n",
                  "T1027         0.514432            1.0        0.0   \n",
                  "T1082         0.491166            1.0        0.0   \n",
                  "T1105         0.480862            1.0        0.0   \n",
                  "T1071.001     0.446578            1.0        0.0   \n",
                  "T1070.004     0.345796            1.0        0.0   \n",
                  "T1566.001     0.245225            0.0        0.0   \n",
                  "T1059.003     0.231526            1.0        0.0   \n",
                  "T1547         0.226621            0.0        0.0   \n",
                  "T1059.005     0.219641            1.0        0.0   \n",
                  "T1055         0.215389            0.0        0.0   \n",
                  "\n",
                  "                              technique_name  \n",
                  "T1027        Obfuscated Files or Information  \n",
                  "T1082           System Information Discovery  \n",
                  "T1105                  Ingress Tool Transfer  \n",
                  "T1071.001                      Web Protocols  \n",
                  "T1070.004                      File Deletion  \n",
                  "T1566.001           Spearphishing Attachment  \n",
                  "T1059.003              Windows Command Shell  \n",
                  "T1547      Boot or Logon Autostart Execution  \n",
                  "T1059.005                       Visual Basic  \n",
                  "T1055                      Process Injection  \n"
               ]
            }
         ],
         "source": [
            "oilrig_techniques = {\n",
            "    \"T1047\", \"T1059.005\", \"T1124\", \"T1082\",\n",
            "    \"T1497.001\", \"T1053.005\", \"T1027\", \"T1105\",\n",
            "    \"T1070.004\", \"T1059.003\", \"T1071.001\"\n",
            "}\n",
            "new_report_predictions = tie.predict_for_new_report(oilrig_techniques, c=0.5, regularization_coefficient=0.05)\n",
            "\n",
            "print(new_report_predictions.sort_values(by=\"predictions\", ascending=False).head(10))"
         ]
      },
      {
         "cell_type": "code",
         "execution_count": 6,
         "metadata": {},
         "outputs": [
            {
               "name": "stdout",
               "output_type": "stream",
               "text": [
                  "           predictions  training_data  test_data  \\\n",
                  "T1052         0.977235            0.0        0.0   \n",
                  "T1133         0.899625            0.0        0.0   \n",
                  "T1021.002     0.787500            0.0        0.0   \n",
                  "T1202         0.758203            0.0        0.0   \n",
                  "T1596.004     0.742823            0.0        0.0   \n",
                  "T1505.002     0.721428            0.0        0.0   \n",
                  "T1594         0.714414            0.0        0.0   \n",
                  "T1546.001     0.676589            0.0        0.0   \n",
                  "T1105         0.658036            1.0        0.0   \n",
                  "T1104         0.648065            0.0        0.0   \n",
                  "\n",
                  "                              technique_name  \n",
                  "T1052      Exfiltration Over Physical Medium  \n",
                  "T1133               External Remote Services  \n",
                  "T1021.002           SMB/Windows Admin Shares  \n",
                  "T1202             Indirect Command Execution  \n",
                  "T1596.004                               CDNs  \n",
                  "T1505.002                    Transport Agent  \n",
                  "T1594           Search Victim-Owned Websites  \n",
                  "T1546.001    Change Default File Association  \n",
                  "T1105                  Ingress Tool Transfer  \n",
                  "T1104                   Multi-Stage Channels  \n"
               ]
            }
         ],
         "source": [
            "# COLD START PREDICTOR\n",
            "# use one of the below sets of techniques or use your own!\n",
            "\n",
            "# training_techniques = set(['T1021.004', 'T1572', 'T1083', 'T1570', 'T1571', 'T1105', 'T1003.001',\n",
            "#     'T1005', 'T1056.001', 'T1140', 'T1555.003', 'T1569.002', 'T1113',\n",
            "#     'T1018', 'T1112'\n",
            "# ])\n",
            "oilrig_techniques = {\n",
            "    \"T1047\", \"T1059.005\", \"T1124\", \"T1082\",\n",
            "    \"T1497.001\", \"T1053.005\", \"T1027\", \"T1105\",\n",
            "    \"T1070.004\", \"T1059.003\", \"T1071.001\"}\n",
            "oilrig_adversary_emulation_plan_techniques = {\"T1082\", \"T1033\", \"T1016\", \"T1087.002\", \"T1069.002\", \"T1021\", \"T1087.001\", \"T1069.001\", \"T1049\", \"T1057\", \"T1007\", \"T1012\", \"T1018\", \"T1555.004\", \"T1041\", \"T1105\", \"T1505.003\", \"T1003.001\", \"T1070.004\", \"T1572\", \"T1021.001\", \"T1569.002\", \"T1083\", \"T1048.003\"}\n",
            "# solarigate_techniques = set([\"T1087\", \"T1087.002\", \"T1098.001\", \"T1098.002\", \"T1098.003\", \"T1098.005\",\n",
            "#     \"T1583.001\", \"T1071.001\", \"T1560.001\", \"T1059.001\", \"T1059.003\", \"T1059.005\",\n",
            "#     \"T1584.001\", \"T1555\", \"T1555.003\", \"T1213\", \"T1213.003\", \"T1005\", \"T1074.002\",\n",
            "#     \"T1140\", \"T1587.001\", \"T1484.002\", \"T1482\", \"T1568\", \"T1114.002\", \"T1546.003\",\n",
            "#     \"T1048.002\", \"T1190\", \"T1133\", \"T1083\", \"T1606.001\", \"T1606.002\", \"T1589.001\",\n",
            "#     \"T1562.001\", \"T1562.002\", \"T1562.004\", \"T1070\", \"T1070.004\", \"T1070.006\", \"T1070.008\",\n",
            "#     \"T1105\", \"T1036\", \"T1036.004\", \"T1036.005\", \"T1003.006\", \"T1069\", \"T1069.002\",\n",
            "#     \"T1057\", \"T1090.001\", \"T1021.001\", \"T1021.002\", \"T1021.006\", \"T1018\", \"T1053.005\",\n",
            "#     \"T1558.003\", \"T1539\", \"T1559.002\", \"T1195.002\", \"T1218.011\", \"T1082\", \"T1016.001\",\n",
            "#     \"T1199\", \"T1552.004\", \"T1550\", \"T1550.001\", \"T1550.004\", \"T1078\",\n",
            "#     \"T1078.002\", \"T1078.003\", \"T1078.004\", \"T1047\",\n",
            "# ])\n",
            "\n",
            "factorization_kwargs = {\n",
            "    \"learning_rate\": 0.5,\n",
            "    \"num_iterations\": 10,\n",
            "    \"regularization_coefficient\": 0.1,\n",
            "    \"gravity_coefficient\": 1,\n",
            "}\n",
            "\n",
            "bpr_kwargs = {\n",
            "    \"learning_rate\": 0.01,\n",
            "    \"num_iterations\": 1000,\n",
            "    \"w_regularization\": 0.001,\n",
            "}\n",
            "\n",
            "new_report_predictions = tie.predict_for_new_report(\n",
            "    oilrig_techniques,\n",
            "    **bpr_kwargs,\n",
            ")\n",
            "\n",
            "print(new_report_predictions.sort_values(by=\"predictions\", ascending=False).head(10))"
         ]
      },
      {
         "cell_type": "code",
         "execution_count": 24,
         "metadata": {},
         "outputs": [
            {
               "name": "stdout",
               "output_type": "stream",
               "text": [
                  "[t-SNE] Computing 61 nearest neighbors...\n",
                  "[t-SNE] Indexed 6263 samples in 0.002s...\n",
                  "[t-SNE] Computed neighbors for 6263 samples in 0.265s...\n",
                  "[t-SNE] Computed conditional probabilities for sample 1000 / 6263\n",
                  "[t-SNE] Computed conditional probabilities for sample 2000 / 6263\n",
                  "[t-SNE] Computed conditional probabilities for sample 3000 / 6263\n",
                  "[t-SNE] Computed conditional probabilities for sample 4000 / 6263\n",
                  "[t-SNE] Computed conditional probabilities for sample 5000 / 6263\n",
                  "[t-SNE] Computed conditional probabilities for sample 6000 / 6263\n",
                  "[t-SNE] Computed conditional probabilities for sample 6263 / 6263\n",
                  "[t-SNE] Mean sigma: 0.000000\n",
                  "[t-SNE] KL divergence after 250 iterations with early exaggeration: 85.487518\n",
                  "[t-SNE] KL divergence after 5200 iterations: 1.522853\n"
               ]
            },
            {
               "data": {
                  "image/png": "[encoded data removed]",
                  "text/plain": [
                     "<Figure size 640x480 with 1 Axes>"
                  ]
               },
               "metadata": {},
               "output_type": "display_data"
            }
         ],
         "source": [
            "def make_tsne_embeddings(embeddings: np.ndarray) -> tuple[np.array, np.array]:\n",
            "    \"\"\"Create 2D representation of embeddings using t-SNE.\n",
            "\n",
            "    Args:\n",
            "        embeddings: an mxk array of m embeddings in k-dimensional space.\n",
            "\n",
            "    Returns:\n",
            "        A tuple of the form (x_1, x_2) where x_1 and x_2 are length m\n",
            "        such that (x_1[i], x_2[i]) is the 2-dimensional point cotnaining the 2-dimensional\n",
            "        repsresentation for embeddings[i, :].\n",
            "    \"\"\"\n",
            "    tsne = sklearn.manifold.TSNE(\n",
            "        n_components=2,\n",
            "        perplexity=20,\n",
            "        learning_rate=\"auto\",\n",
            "        # metric='cosine',\n",
            "        # early_exaggeration=10.0,\n",
            "        init='pca',\n",
            "        verbose=True,\n",
            "        n_iter=10000,\n",
            "    )\n",
            "\n",
            "    V_proj = tsne.fit_transform(embeddings)\n",
            "    x = V_proj[:, 0]\n",
            "    y = V_proj[:, 1]\n",
            "\n",
            "    return x, y\n",
            "\n",
            "U = tie.get_U()\n",
            "x_1, x_2 = make_tsne_embeddings(U)\n",
            "\n",
            "plt.scatter(x_1, x_2, s=0.5)\n",
            "plt.show()"
         ]
      }
   ],
   "metadata": {
      "kernelspec": {
         "display_name": "tie",
         "language": "python",
         "name": "python3"
      },
      "language_info": {
         "codemirror_mode": {
            "name": "ipython",
            "version": 3
         },
         "file_extension": ".py",
         "mimetype": "text/x-python",
         "name": "python",
         "nbconvert_exporter": "python",
         "pygments_lexer": "ipython3",
         "version": "3.11.7"
      }
   },
   "nbformat": 4,
   "nbformat_minor": 2
}
