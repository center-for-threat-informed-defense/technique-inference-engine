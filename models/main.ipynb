{
 "cells": [
  {
   "cell_type": "code",
   "execution_count": 1,
   "metadata": {},
   "outputs": [
    {
     "data": {
      "text/plain": [
       "<module 'recommender' from '/Users/mjturner/code/technique-inference-engine/models/recommender/__init__.py'>"
      ]
     },
     "execution_count": 1,
     "metadata": {},
     "output_type": "execute_result"
    }
   ],
   "source": [
    "%load_ext autoreload\n",
    "%autoreload 2\n",
    "\n",
    "# Imports\n",
    "import json\n",
    "import tensorflow as tf\n",
    "import recommender\n",
    "from matrix import ReportTechniqueMatrix\n",
    "from matrix_builder import ReportTechniqueMatrixBuilder\n",
    "import random\n",
    "import math\n",
    "import importlib\n",
    "import pandas as pd\n",
    "import numpy as np\n",
    "import sklearn.manifold\n",
    "import matplotlib.pyplot as plt\n",
    "from utils import get_mitre_technique_ids_to_names\n",
    "\n",
    "tf.config.run_functions_eagerly(True)\n",
    "\n",
    "assert tf.executing_eagerly()\n",
    "\n",
    "importlib.reload(recommender)"
   ]
  },
  {
   "cell_type": "code",
   "execution_count": 2,
   "metadata": {},
   "outputs": [],
   "source": [
    "def train_test_split(indices: list, values: list, test_ratio: float=0.1) -> tuple:\n",
    "    n = len(indices)\n",
    "    assert len(values) == n\n",
    "\n",
    "    indices_for_test_set = frozenset(random.sample(range(n), k=math.floor(test_ratio * n)))\n",
    "\n",
    "    train_indices = []\n",
    "    test_indices = []\n",
    "    train_values = []\n",
    "    test_values = []\n",
    "\n",
    "    for i in range(n):\n",
    "        if i in indices_for_test_set:\n",
    "            test_indices.append(indices[i])\n",
    "            test_values.append(values[i])\n",
    "        else:\n",
    "            train_indices.append(indices[i])\n",
    "            train_values.append(values[i])\n",
    "\n",
    "    return train_indices, train_values, test_indices, test_values\n"
   ]
  },
  {
   "cell_type": "code",
   "execution_count": 3,
   "metadata": {},
   "outputs": [],
   "source": [
    "def view_prediction_performance_table_for_report(\n",
    "        train_data: ReportTechniqueMatrix,\n",
    "        test_data: ReportTechniqueMatrix,\n",
    "        predictions: pd.DataFrame,\n",
    "        report_id: int,\n",
    "    ) -> pd.DataFrame:\n",
    "    \"\"\"Gets a dataframe to visualize the training data, test data, and predictions for a report.\"\"\"\n",
    "    # 1. training_data\n",
    "    training_dataframe = train_data.to_pandas()\n",
    "    report_train_techniques = training_dataframe.loc[report_id]\n",
    "    report_train_techniques.name = \"training_data\"\n",
    "\n",
    "    # 2. predictions\n",
    "    predicted_techniques = predictions.loc[report_id]\n",
    "    predicted_techniques.name = \"predictions\"\n",
    "\n",
    "    # now test data\n",
    "    test_dataframe = test_data.to_pandas()\n",
    "    report_test_techniques = test_dataframe.loc[report_id]\n",
    "    report_test_techniques.name = \"test_data\"\n",
    "\n",
    "    report_data = pd.concat((predicted_techniques, report_train_techniques, report_test_techniques), axis=1)\n",
    "\n",
    "    # add name for convenience\n",
    "    all_mitre_technique_ids_to_names = get_mitre_technique_ids_to_names(\"../enterprise-attack.json\")\n",
    "    report_data.loc[:, \"technique_name\"] = report_data.apply(lambda row: all_mitre_technique_ids_to_names.get(row.name), axis=1)\n",
    "\n",
    "    return report_data\n"
   ]
  },
  {
   "cell_type": "code",
   "execution_count": 4,
   "metadata": {},
   "outputs": [
    {
     "name": "stdout",
     "output_type": "stream",
     "text": [
      "MSE Error 0.065360025\n"
     ]
    }
   ],
   "source": [
    "test_ratio = 0.1\n",
    "embedding_dimension = 10\n",
    "\n",
    "data_builder = ReportTechniqueMatrixBuilder(\n",
    "    combined_dataset_filepath=\"../data/combined_dataset_full_frequency.json\",\n",
    "    enterprise_attack_filepath=\"../enterprise-attack.json\",\n",
    ")\n",
    "data = data_builder.build()\n",
    "\n",
    "train_indices = frozenset(random.sample(data.indices, k=math.floor((1-test_ratio) * len(data.indices))))\n",
    "test_indices = frozenset(data.indices).difference(train_indices)\n",
    "\n",
    "training_data = data.mask(train_indices)\n",
    "test_data = data.mask(test_indices)\n",
    "\n",
    "# train\n",
    "model = recommender.FactorizationRecommender(m=data.m, n=data.n, k=embedding_dimension)\n",
    "model.fit(training_data.to_sparse_tensor(), num_iterations=1000, learning_rate=10., regularization_coefficient=0.1, gravity_coefficient=0.0)\n",
    "\n",
    "evaluation = model.evaluate(test_data.to_sparse_tensor())\n",
    "print(\"MSE Error\", evaluation)\n",
    "\n",
    "predictions = model.predict()\n",
    "\n",
    "predictions_dataframe = pd.DataFrame(predictions, columns=data.technique_ids)\n"
   ]
  },
  {
   "cell_type": "code",
   "execution_count": 5,
   "metadata": {},
   "outputs": [
    {
     "name": "stdout",
     "output_type": "stream",
     "text": [
      "[t-SNE] Computing 31 nearest neighbors...\n",
      "[t-SNE] Indexed 191 samples in 0.000s...\n"
     ]
    },
    {
     "name": "stdout",
     "output_type": "stream",
     "text": [
      "[t-SNE] Computed neighbors for 191 samples in 0.002s...\n",
      "[t-SNE] Computed conditional probabilities for sample 191 / 191\n",
      "[t-SNE] Mean sigma: 0.000057\n",
      "[t-SNE] KL divergence after 250 iterations with early exaggeration: 57.644371\n",
      "[t-SNE] KL divergence after 500 iterations: 0.466631\n"
     ]
    },
    {
     "data": {
      "image/png": "[encoded data removed]",
      "text/plain": [
       "<Figure size 640x480 with 1 Axes>"
      ]
     },
     "metadata": {},
     "output_type": "display_data"
    }
   ],
   "source": [
    "def make_tsne_embeddings(embeddings: np.ndarray) -> tuple[np.array, np.array]:\n",
    "  \"\"\"Create 2D representation of embeddings using t-SNE.\n",
    "\n",
    "  Args:\n",
    "    embeddings: an mxk array of m embeddings in k-dimensional space.\n",
    "\n",
    "  Returns:\n",
    "    A tuple of the form x_1, x_2 where x_1 and x_2 are length m\n",
    "    such that (x_1[i], x_2[i]) is the 2-dimensional point cotnaining the 2-dimensional\n",
    "    repsresentation for embeddings[i, :].\n",
    "  \"\"\"\n",
    "  tsne = sklearn.manifold.TSNE(\n",
    "      n_components=2,\n",
    "      perplexity=10,\n",
    "      metric='cosine',\n",
    "      # early_exaggeration=10.0,\n",
    "      # init='pca',\n",
    "      verbose=True,\n",
    "      n_iter=500\n",
    "  )\n",
    "\n",
    "  V_proj = tsne.fit_transform(embeddings)\n",
    "  x = V_proj[:, 0]\n",
    "  y = V_proj[:, 1]\n",
    "\n",
    "  return x, y\n",
    "\n",
    "x_1, x_2 = make_tsne_embeddings(model.U)\n",
    "\n",
    "plt.scatter(x_1, x_2)\n",
    "plt.show()"
   ]
  },
  {
   "cell_type": "code",
   "execution_count": 6,
   "metadata": {},
   "outputs": [
    {
     "name": "stderr",
     "output_type": "stream",
     "text": [
      "/opt/homebrew/anaconda3/envs/tie/lib/python3.11/site-packages/numpy/core/fromnumeric.py:3504: RuntimeWarning: Mean of empty slice.\n",
      "  return _methods._mean(a, axis=axis, dtype=dtype,\n",
      "/opt/homebrew/anaconda3/envs/tie/lib/python3.11/site-packages/numpy/core/_methods.py:121: RuntimeWarning: invalid value encountered in divide\n",
      "  ret = um.true_divide(\n"
     ]
    }
   ],
   "source": [
    "# get best and worst test performance\n",
    "test_ndarray = test_data.to_numpy()\n",
    "predictions_ndarray = predictions_dataframe.to_numpy()\n",
    "# where test data, use predictions, else, fill with Nan\n",
    "test_performance = np.mean(np.square(predictions_ndarray - test_ndarray), axis=1, where=test_ndarray > 0.5)\n",
    "\n",
    "best_test_perf = np.nanargmin(test_performance, )\n",
    "worst_test_perf = np.nanargmax(test_performance)\n",
    "\n",
    "best_performance_results = view_prediction_performance_table_for_report(\n",
    "    train_data=training_data,\n",
    "    test_data=test_data,\n",
    "    predictions=predictions_dataframe,\n",
    "    report_id=best_test_perf\n",
    ")\n",
    "\n",
    "worst_performance_results = view_prediction_performance_table_for_report(\n",
    "    train_data=training_data,\n",
    "    test_data=test_data,\n",
    "    predictions=predictions_dataframe,\n",
    "    report_id=worst_test_perf\n",
    ")"
   ]
  },
  {
   "cell_type": "code",
   "execution_count": 7,
   "metadata": {},
   "outputs": [
    {
     "name": "stdout",
     "output_type": "stream",
     "text": [
      "           predictions  training_data  test_data  \\\n",
      "T1078.002     0.997682            0.0        1.0   \n",
      "T1003.003     0.476667            0.0        0.0   \n",
      "T1595.002     0.658774            0.0        0.0   \n",
      "T1568.002     0.287291            0.0        0.0   \n",
      "T1134.001     0.500125            0.0        0.0   \n",
      "T1561         0.355860            0.0        0.0   \n",
      "T1056         0.477569            0.0        0.0   \n",
      "T1546.003     0.315644            0.0        0.0   \n",
      "T1003         0.496412            0.0        0.0   \n",
      "T1561.001     0.423142            0.0        0.0   \n",
      "T1553.006     0.000260            0.0        0.0   \n",
      "T1482         0.490606            0.0        0.0   \n",
      "T1110         1.038576            0.0        0.0   \n",
      "T1027.002     1.085995            0.0        0.0   \n",
      "T1562.001     1.087301            0.0        0.0   \n",
      "\n",
      "                                              technique_name  \n",
      "T1078.002                                    Domain Accounts  \n",
      "T1003.003                                               NTDS  \n",
      "T1595.002                             Vulnerability Scanning  \n",
      "T1568.002                       Domain Generation Algorithms  \n",
      "T1134.001                          Token Impersonation/Theft  \n",
      "T1561                                              Disk Wipe  \n",
      "T1056                                          Input Capture  \n",
      "T1546.003  Windows Management Instrumentation Event Subsc...  \n",
      "T1003                                  OS Credential Dumping  \n",
      "T1561.001                                  Disk Content Wipe  \n",
      "T1553.006                   Code Signing Policy Modification  \n",
      "T1482                                 Domain Trust Discovery  \n",
      "T1110                                            Brute Force  \n",
      "T1027.002                                   Software Packing  \n",
      "T1562.001                            Disable or Modify Tools  \n"
     ]
    }
   ],
   "source": [
    "print(best_performance_results.sort_values(\"test_data\", ascending=False).head(15))"
   ]
  },
  {
   "cell_type": "code",
   "execution_count": 8,
   "metadata": {},
   "outputs": [
    {
     "name": "stdout",
     "output_type": "stream",
     "text": [
      "           predictions  training_data  test_data  \\\n",
      "T1106        -0.068399            0.0        1.0   \n",
      "T1003.003    -0.043437            0.0        0.0   \n",
      "T1595.002    -0.041558            0.0        0.0   \n",
      "T1568.002    -0.015528            0.0        0.0   \n",
      "T1134.001    -0.059807            0.0        0.0   \n",
      "T1561        -0.044522            0.0        0.0   \n",
      "T1056        -0.018223            0.0        0.0   \n",
      "T1546.003    -0.038773            0.0        0.0   \n",
      "T1003        -0.045067            0.0        0.0   \n",
      "T1561.001    -0.046921            0.0        0.0   \n",
      "T1553.006    -0.000044            0.0        0.0   \n",
      "T1482        -0.034485            0.0        0.0   \n",
      "T1110        -0.059558            0.0        0.0   \n",
      "T1027.002    -0.066632            0.0        0.0   \n",
      "T1562.001    -0.065202            0.0        0.0   \n",
      "\n",
      "                                              technique_name  \n",
      "T1106                                             Native API  \n",
      "T1003.003                                               NTDS  \n",
      "T1595.002                             Vulnerability Scanning  \n",
      "T1568.002                       Domain Generation Algorithms  \n",
      "T1134.001                          Token Impersonation/Theft  \n",
      "T1561                                              Disk Wipe  \n",
      "T1056                                          Input Capture  \n",
      "T1546.003  Windows Management Instrumentation Event Subsc...  \n",
      "T1003                                  OS Credential Dumping  \n",
      "T1561.001                                  Disk Content Wipe  \n",
      "T1553.006                   Code Signing Policy Modification  \n",
      "T1482                                 Domain Trust Discovery  \n",
      "T1110                                            Brute Force  \n",
      "T1027.002                                   Software Packing  \n",
      "T1562.001                            Disable or Modify Tools  \n"
     ]
    }
   ],
   "source": [
    "print(worst_performance_results.sort_values(\"test_data\", ascending=False).head(15))"
   ]
  }
 ],
 "metadata": {
  "kernelspec": {
   "display_name": "tie",
   "language": "python",
   "name": "python3"
  },
  "language_info": {
   "codemirror_mode": {
    "name": "ipython",
    "version": 3
   },
   "file_extension": ".py",
   "mimetype": "text/x-python",
   "name": "python",
   "nbconvert_exporter": "python",
   "pygments_lexer": "ipython3",
   "version": "3.11.7"
  }
 },
 "nbformat": 4,
 "nbformat_minor": 2
}
