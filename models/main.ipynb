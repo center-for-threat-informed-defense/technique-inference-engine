{
 "cells": [
  {
   "cell_type": "code",
   "execution_count": 6,
   "metadata": {},
   "outputs": [
    {
     "name": "stdout",
     "output_type": "stream",
     "text": [
      "The autoreload extension is already loaded. To reload it, use:\n",
      "  %reload_ext autoreload\n"
     ]
    },
    {
     "data": {
      "text/plain": [
       "<module 'recommender' from '/Users/mjturner/code/technique-inference-engine/models/recommender/__init__.py'>"
      ]
     },
     "execution_count": 6,
     "metadata": {},
     "output_type": "execute_result"
    }
   ],
   "source": [
    "%load_ext autoreload\n",
    "%autoreload 2\n",
    "\n",
    "# Imports\n",
    "import json\n",
    "import tensorflow as tf\n",
    "import recommender\n",
    "from matrix import ReportTechniqueMatrix\n",
    "from matrix_builder import ReportTechniqueMatrixBuilder\n",
    "import random\n",
    "import math\n",
    "import importlib\n",
    "import pandas as pd\n",
    "import numpy as np\n",
    "from utils import get_mitre_technique_ids_to_names\n",
    "\n",
    "tf.config.run_functions_eagerly(True)\n",
    "\n",
    "assert tf.executing_eagerly()\n",
    "\n",
    "importlib.reload(recommender)"
   ]
  },
  {
   "cell_type": "code",
   "execution_count": 7,
   "metadata": {},
   "outputs": [],
   "source": [
    "def train_test_split(indices: list, values: list, test_ratio: float=0.1) -> tuple:\n",
    "    n = len(indices)\n",
    "    assert len(values) == n\n",
    "\n",
    "    indices_for_test_set = frozenset(random.sample(range(n), k=math.floor(test_ratio * n)))\n",
    "\n",
    "    train_indices = []\n",
    "    test_indices = []\n",
    "    train_values = []\n",
    "    test_values = []\n",
    "\n",
    "    for i in range(n):\n",
    "        if i in indices_for_test_set:\n",
    "            test_indices.append(indices[i])\n",
    "            test_values.append(values[i])\n",
    "        else:\n",
    "            train_indices.append(indices[i])\n",
    "            train_values.append(values[i])\n",
    "\n",
    "    return train_indices, train_values, test_indices, test_values\n"
   ]
  },
  {
   "cell_type": "code",
   "execution_count": 8,
   "metadata": {},
   "outputs": [],
   "source": [
    "def view_prediction_performance_table_for_report(\n",
    "        train_data: ReportTechniqueMatrix,\n",
    "        test_data: ReportTechniqueMatrix,\n",
    "        predictions: pd.DataFrame,\n",
    "        report_id: int,\n",
    "    ) -> pd.DataFrame:\n",
    "    \"\"\"Gets a dataframe to visualize the training data, test data, and predictions for a report.\"\"\"\n",
    "    # 1. training_data\n",
    "    training_dataframe = train_data.to_pandas()\n",
    "    report_train_techniques = training_dataframe.loc[report_id]\n",
    "    report_train_techniques.name = \"training_data\"\n",
    "\n",
    "    # 2. predictions\n",
    "    predicted_techniques = predictions.loc[report_id]\n",
    "    predicted_techniques.name = \"predictions\"\n",
    "\n",
    "    # now test data\n",
    "    test_dataframe = test_data.to_pandas()\n",
    "    report_test_techniques = test_dataframe.loc[report_id]\n",
    "    report_test_techniques.name = \"test_data\"\n",
    "\n",
    "    report_data = pd.concat((predicted_techniques, report_train_techniques, report_test_techniques), axis=1)\n",
    "\n",
    "    # add name for convenience\n",
    "    all_mitre_technique_ids_to_names = get_mitre_technique_ids_to_names(\"../enterprise-attack.json\")\n",
    "    report_data.loc[:, \"technique_name\"] = report_data.apply(lambda row: all_mitre_technique_ids_to_names.get(row.name), axis=1)\n",
    "\n",
    "    return report_data\n"
   ]
  },
  {
   "cell_type": "code",
   "execution_count": 9,
   "metadata": {},
   "outputs": [
    {
     "name": "stdout",
     "output_type": "stream",
     "text": [
      "MSE Error 0.07193438\n"
     ]
    }
   ],
   "source": [
    "test_ratio = 0.1\n",
    "embedding_dimension = 10\n",
    "\n",
    "data_builder = ReportTechniqueMatrixBuilder(\n",
    "    combined_dataset_filepath=\"../data/combined_dataset_full_frequency.json\",\n",
    "    enterprise_attack_filepath=\"../enterprise-attack.json\",\n",
    ")\n",
    "data = data_builder.build()\n",
    "\n",
    "train_indices = frozenset(random.sample(data.indices, k=math.floor((1-test_ratio) * len(data.indices))))\n",
    "test_indices = frozenset(data.indices).difference(train_indices)\n",
    "\n",
    "training_data = data.mask(train_indices)\n",
    "test_data = data.mask(test_indices)\n",
    "\n",
    "# train\n",
    "model = recommender.FactorizationRecommender(m=data.m, n=data.n, k=embedding_dimension)\n",
    "model.fit(training_data.to_sparse_tensor(), num_iterations=1000, learning_rate=10., regularization_coefficient=0.1, gravity_coefficient=0.0)\n",
    "\n",
    "evaluation = model.evaluate(test_data.to_sparse_tensor())\n",
    "print(\"MSE Error\", evaluation)\n",
    "\n",
    "predictions = model.predict()\n",
    "\n",
    "predictions_dataframe = pd.DataFrame(predictions, columns=data.technique_ids)"
   ]
  },
  {
   "cell_type": "code",
   "execution_count": 10,
   "metadata": {},
   "outputs": [
    {
     "name": "stderr",
     "output_type": "stream",
     "text": [
      "/opt/homebrew/anaconda3/envs/tie/lib/python3.11/site-packages/numpy/core/fromnumeric.py:3504: RuntimeWarning: Mean of empty slice.\n",
      "  return _methods._mean(a, axis=axis, dtype=dtype,\n",
      "/opt/homebrew/anaconda3/envs/tie/lib/python3.11/site-packages/numpy/core/_methods.py:121: RuntimeWarning: invalid value encountered in divide\n",
      "  ret = um.true_divide(\n"
     ]
    }
   ],
   "source": [
    "# get best and worst test performance\n",
    "test_ndarray = test_data.to_numpy()\n",
    "predictions_ndarray = predictions_dataframe.to_numpy()\n",
    "# where test data, use predictions, else, fill with Nan\n",
    "test_performance = np.mean(np.square(predictions_ndarray - test_ndarray), axis=1, where=test_ndarray > 0.5)\n",
    "\n",
    "best_test_perf = np.nanargmin(test_performance, )\n",
    "worst_test_perf = np.nanargmax(test_performance)\n",
    "\n",
    "best_performance_results = view_prediction_performance_table_for_report(\n",
    "    train_data=training_data,\n",
    "    test_data=test_data,\n",
    "    predictions=predictions_dataframe,\n",
    "    report_id=best_test_perf\n",
    ")\n",
    "\n",
    "worst_performance_results = view_prediction_performance_table_for_report(\n",
    "    train_data=training_data,\n",
    "    test_data=test_data,\n",
    "    predictions=predictions_dataframe,\n",
    "    report_id=worst_test_perf\n",
    ")"
   ]
  },
  {
   "cell_type": "code",
   "execution_count": 11,
   "metadata": {},
   "outputs": [
    {
     "name": "stdout",
     "output_type": "stream",
     "text": [
      "           predictions  training_data  test_data  \\\n",
      "T1027         1.001889            0.0        1.0   \n",
      "T1552.001     0.848310            0.0        0.0   \n",
      "T1561         0.326331            0.0        0.0   \n",
      "T1573.001     0.939929            0.0        0.0   \n",
      "T1485         0.451991            0.0        0.0   \n",
      "T1190         0.950845            1.0        0.0   \n",
      "T1132.001     0.248229            0.0        0.0   \n",
      "T1078.004     0.772365            0.0        0.0   \n",
      "T1056.001     0.943955            0.0        0.0   \n",
      "T1001.002     0.234360            0.0        0.0   \n",
      "T1095         0.881229            0.0        0.0   \n",
      "T1110.003     0.727067            0.0        0.0   \n",
      "T1078.002     0.852815            0.0        0.0   \n",
      "T1218.011     0.918010            0.0        0.0   \n",
      "T1553.004     0.275539            0.0        0.0   \n",
      "\n",
      "                              technique_name  \n",
      "T1027        Obfuscated Files or Information  \n",
      "T1552.001               Credentials In Files  \n",
      "T1561                              Disk Wipe  \n",
      "T1573.001             Symmetric Cryptography  \n",
      "T1485                       Data Destruction  \n",
      "T1190      Exploit Public-Facing Application  \n",
      "T1132.001                  Standard Encoding  \n",
      "T1078.004                     Cloud Accounts  \n",
      "T1056.001                         Keylogging  \n",
      "T1001.002                      Steganography  \n",
      "T1095         Non-Application Layer Protocol  \n",
      "T1110.003                  Password Spraying  \n",
      "T1078.002                    Domain Accounts  \n",
      "T1218.011                           Rundll32  \n",
      "T1553.004           Install Root Certificate  \n"
     ]
    }
   ],
   "source": [
    "print(best_performance_results.sort_values(\"test_data\", ascending=False).head(15))"
   ]
  },
  {
   "cell_type": "code",
   "execution_count": 12,
   "metadata": {},
   "outputs": [
    {
     "name": "stdout",
     "output_type": "stream",
     "text": [
      "           predictions  training_data  test_data  \\\n",
      "T1106        -0.030872            0.0        1.0   \n",
      "T1552.001    -0.026832            0.0        0.0   \n",
      "T1561        -0.000862            0.0        0.0   \n",
      "T1573.001    -0.027231            0.0        0.0   \n",
      "T1485        -0.000736            0.0        0.0   \n",
      "T1190        -0.031759            0.0        0.0   \n",
      "T1132.001     0.010440            0.0        0.0   \n",
      "T1078.004    -0.028884            0.0        0.0   \n",
      "T1056.001    -0.029308            0.0        0.0   \n",
      "T1001.002     0.004404            0.0        0.0   \n",
      "T1095        -0.023185            0.0        0.0   \n",
      "T1110.003    -0.021503            0.0        0.0   \n",
      "T1078.002    -0.027470            0.0        0.0   \n",
      "T1218.011    -0.031216            0.0        0.0   \n",
      "T1553.004     0.005378            0.0        0.0   \n",
      "\n",
      "                              technique_name  \n",
      "T1106                             Native API  \n",
      "T1552.001               Credentials In Files  \n",
      "T1561                              Disk Wipe  \n",
      "T1573.001             Symmetric Cryptography  \n",
      "T1485                       Data Destruction  \n",
      "T1190      Exploit Public-Facing Application  \n",
      "T1132.001                  Standard Encoding  \n",
      "T1078.004                     Cloud Accounts  \n",
      "T1056.001                         Keylogging  \n",
      "T1001.002                      Steganography  \n",
      "T1095         Non-Application Layer Protocol  \n",
      "T1110.003                  Password Spraying  \n",
      "T1078.002                    Domain Accounts  \n",
      "T1218.011                           Rundll32  \n",
      "T1553.004           Install Root Certificate  \n"
     ]
    }
   ],
   "source": [
    "print(worst_performance_results.sort_values(\"test_data\", ascending=False).head(15))"
   ]
  },
  {
   "cell_type": "code",
   "execution_count": null,
   "metadata": {},
   "outputs": [],
   "source": [
    "def predict_for_new_report(self, techniques: tuple[str]) -> np.array:\n",
    "    \"\"\"Predicts for a new, yet-unseen report.\n",
    "\n",
    "    Args:\n",
    "        techniques: an iterable of MITRE technique identifiers involved\n",
    "            in the new report.\n",
    "\n",
    "    Returns:\n",
    "        A length n array of predicted values for each technique based on\n",
    "        the projected embedding for this new report.\n",
    "    \"\"\"\n"
   ]
  }
 ],
 "metadata": {
  "kernelspec": {
   "display_name": "tie",
   "language": "python",
   "name": "python3"
  },
  "language_info": {
   "codemirror_mode": {
    "name": "ipython",
    "version": 3
   },
   "file_extension": ".py",
   "mimetype": "text/x-python",
   "name": "python",
   "nbconvert_exporter": "python",
   "pygments_lexer": "ipython3",
   "version": "3.11.7"
  }
 },
 "nbformat": 4,
 "nbformat_minor": 2
}
