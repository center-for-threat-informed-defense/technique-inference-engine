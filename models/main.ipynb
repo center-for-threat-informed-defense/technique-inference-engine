{
   "cells": [
      {
         "cell_type": "code",
         "execution_count": 1,
         "metadata": {
            "metadata": {}
         },
         "outputs": [
            {
               "name": "stderr",
               "output_type": "stream",
               "text": [
                  "/opt/homebrew/Caskroom/miniconda/base/envs/py311/lib/python3.11/site-packages/tqdm/auto.py:21: TqdmWarning: IProgress not found. Please update jupyter and ipywidgets. See https://ipywidgets.readthedocs.io/en/stable/user_install.html\n",
                  "  from .autonotebook import tqdm as notebook_tqdm\n"
               ]
            },
            {
               "data": {
                  "text/plain": [
                     "<module 'recommender' from '/Users/mjturner/code/technique-inference-engine/models/recommender/__init__.py'>"
                  ]
               },
               "execution_count": 1,
               "metadata": {},
               "output_type": "execute_result"
            }
         ],
         "source": [
            "%load_ext autoreload\n",
            "%autoreload 2\n",
            "\n",
            "# Imports\n",
            "import tensorflow as tf\n",
            "import recommender\n",
            "from recommender import Recommender, FactorizationRecommender, BPRRecommender, ImplicitBPRRecommender, WalsRecommender, ImplicitWalsRecommender, TopItemsRecommender\n",
            "from matrix_builder import ReportTechniqueMatrixBuilder\n",
            "from tie import TechniqueInferenceEngine\n",
            "from constants import PredictionMethod\n",
            "import random\n",
            "import math\n",
            "import importlib\n",
            "import pandas as pd\n",
            "import numpy as np\n",
            "import sklearn.manifold\n",
            "import matplotlib.pyplot as plt\n",
            "\n",
            "tf.config.run_functions_eagerly(True)\n",
            "\n",
            "assert tf.executing_eagerly()\n",
            "\n",
            "importlib.reload(recommender)\n"
         ]
      },
      {
         "cell_type": "code",
         "execution_count": 2,
         "metadata": {},
         "outputs": [
            {
               "name": "stdout",
               "output_type": "stream",
               "text": [
                  "Num training observations 33310.0\n",
                  "Num validation observations 4758.0\n",
                  "Num test observations 9518.0\n"
               ]
            }
         ],
         "source": [
            "validation_ratio = 0.1\n",
            "test_ratio = 0.2\n",
            "\n",
            "# data locations\n",
            "dataset_filepath = \"../data/combined_dataset_full_frequency.json\"\n",
            "enterprise_attack_filepath = \"../enterprise-attack.json\"\n",
            "\n",
            "# make data\n",
            "data_builder = ReportTechniqueMatrixBuilder(\n",
            "    combined_dataset_filepath=dataset_filepath,\n",
            "    enterprise_attack_filepath=enterprise_attack_filepath,\n",
            ")\n",
            "data = data_builder.build()\n",
            "\n",
            "# split into training and test data\n",
            "num_data_observations = len(data.indices)\n",
            "num_train_and_validation_indices = math.floor((1-test_ratio) * num_data_observations)\n",
            "num_validation_indices = math.floor(validation_ratio * num_data_observations)\n",
            "num_train_indices = num_train_and_validation_indices - num_validation_indices\n",
            "num_test_indices = num_data_observations - num_train_and_validation_indices\n",
            "\n",
            "train_and_validation_indices = frozenset(random.sample(data.indices, k=num_train_and_validation_indices))\n",
            "validation_indices = frozenset(random.sample(tuple(train_and_validation_indices), k=num_validation_indices))\n",
            "train_indices = frozenset(train_and_validation_indices).difference(validation_indices)\n",
            "test_indices = frozenset(data.indices).difference(train_and_validation_indices)\n",
            "\n",
            "assert len(train_indices) + len(test_indices) + len(validation_indices) == num_data_observations\n",
            "\n",
            "training_data = data.mask(train_indices)\n",
            "validation_data = data.mask(validation_indices)\n",
            "test_data = data.mask(test_indices)\n",
            "\n",
            "print(\"Num training observations\", training_data.to_numpy().sum())\n",
            "print(\"Num validation observations\", validation_data.to_numpy().sum())\n",
            "print(\"Num test observations\", test_data.to_numpy().sum())"
         ]
      },
      {
         "cell_type": "code",
         "execution_count": 4,
         "metadata": {},
         "outputs": [],
         "source": [
            "oilrig_techniques = {\n",
            "    \"T1047\", \"T1059.005\", \"T1124\", \"T1082\",\n",
            "    \"T1497.001\", \"T1053.005\", \"T1027\", \"T1105\",\n",
            "    \"T1070.004\", \"T1059.003\", \"T1071.001\"\n",
            "}"
         ]
      },
      {
         "cell_type": "code",
         "execution_count": 3,
         "metadata": {},
         "outputs": [],
         "source": [
            "\n",
            "def test_multiple_embeding_dimensions(model_class: Recommender, method: PredictionMethod, out_file: str, **kwargs):\n",
            "    \"\"\"Runs model_class at multiple embedding dimensions and saves results.\n",
            "\n",
            "    Runs each model for embedding dimensions 4, 8, 10, 16, 32, and 64.\n",
            "\n",
            "    Args:\n",
            "        model_class: A model on which to train at multiple embedding dimensions.\n",
            "        out_file: filename for saving the results file.  Requires len(out_file) > 0\n",
            "            and out_file is a valid csv filename.\n",
            "        kwargs: Parameters mapped to values.\n",
            "\n",
            "    Mutates:\n",
            "        Saves model results, including embedding_dimension, hyperparameters,\n",
            "        and precision, recall, and ndcg at 10, 20, 50, and 100 to out_file.\n",
            "    \"\"\"\n",
            "    assert len(out_file) > 0\n",
            "\n",
            "    results = []\n",
            "\n",
            "    embedding_dimensions = (4,8,10,16,32,64)\n",
            "    # for every embedding\n",
            "    for embedding_dimension in embedding_dimensions:\n",
            "\n",
            "        # make model\n",
            "        model = model_class(\n",
            "            m=training_data.m,\n",
            "            n=training_data.n,\n",
            "            k=embedding_dimension,\n",
            "        )\n",
            "\n",
            "        # make tie\n",
            "        tie = TechniqueInferenceEngine(\n",
            "            training_data=training_data,\n",
            "            validation_data=validation_data,\n",
            "            test_data=test_data,\n",
            "            model=model,\n",
            "            prediction_method=method,\n",
            "            enterprise_attack_filepath=enterprise_attack_filepath,\n",
            "        )\n",
            "\n",
            "        # fit hyperparameters\n",
            "        best_hyperparameters = tie.fit_with_cross_validation(**kwargs)\n",
            "\n",
            "        # calculate precision, recall, ndcg\n",
            "        run_stats = {\n",
            "            \"embedding_dimension\": embedding_dimension,\n",
            "            **best_hyperparameters\n",
            "        }\n",
            "        k_values = (10, 20, 50, 100)\n",
            "        for k in k_values:\n",
            "            run_stats[f\"precision_at_{k}\"] = tie.precision(k=k)\n",
            "            run_stats[f\"recall_at_{k}\"] = tie.recall(k=k)\n",
            "            run_stats[f\"ndcg_at_{k}\"] = tie.normalized_discounted_cumulative_gain(k=k)\n",
            "\n",
            "        print(run_stats)\n",
            "        results.append(run_stats)\n",
            "\n",
            "\n",
            "    # save as csv\n",
            "    results_dataframe = pd.DataFrame(results)\n",
            "    results_dataframe.to_csv(out_file)"
         ]
      },
      {
         "cell_type": "code",
         "execution_count": 5,
         "metadata": {},
         "outputs": [],
         "source": [
            "test_multiple_embeding_dimensions(\n",
            "    model_class=WalsRecommender,\n",
            "    method=PredictionMethod.DOT,\n",
            "    out_file=\"wals_model_results_training_data_correction_dot.csv\",\n",
            "    num_iterations=[25],\n",
            "    c=[0.0001, 0.001, 0.005, 0.01, 0.05, 0.1, 0.3, 0.5, 0.7],\n",
            "    regularization_coefficient=[0.0, 0.00001, 0.0001, 0.001, 0.01]\n",
            ")"
         ]
      },
      {
         "cell_type": "code",
         "execution_count": 6,
         "metadata": {},
         "outputs": [
            {
               "name": "stderr",
               "output_type": "stream",
               "text": [
                  "/Users/mjturner/code/technique-inference-engine/models/recommender/bpr_recommender.py:107: RuntimeWarning: invalid value encountered in divide\n",
                  "  data / np.expand_dims(num_items_per_user, axis=1)\n",
                  "/Users/mjturner/code/technique-inference-engine/models/recommender/bpr_recommender.py:107: RuntimeWarning: invalid value encountered in divide\n",
                  "  data / np.expand_dims(num_items_per_user, axis=1)\n",
                  "/Users/mjturner/code/technique-inference-engine/models/recommender/bpr_recommender.py:107: RuntimeWarning: invalid value encountered in divide\n",
                  "  data / np.expand_dims(num_items_per_user, axis=1)\n",
                  "/Users/mjturner/code/technique-inference-engine/models/recommender/bpr_recommender.py:107: RuntimeWarning: invalid value encountered in divide\n",
                  "  data / np.expand_dims(num_items_per_user, axis=1)\n",
                  "/Users/mjturner/code/technique-inference-engine/models/recommender/bpr_recommender.py:107: RuntimeWarning: invalid value encountered in divide\n",
                  "  data / np.expand_dims(num_items_per_user, axis=1)\n",
                  "/Users/mjturner/code/technique-inference-engine/models/recommender/bpr_recommender.py:107: RuntimeWarning: invalid value encountered in divide\n",
                  "  data / np.expand_dims(num_items_per_user, axis=1)\n",
                  "/Users/mjturner/code/technique-inference-engine/models/recommender/bpr_recommender.py:107: RuntimeWarning: invalid value encountered in divide\n",
                  "  data / np.expand_dims(num_items_per_user, axis=1)\n",
                  "/Users/mjturner/code/technique-inference-engine/models/recommender/bpr_recommender.py:107: RuntimeWarning: invalid value encountered in divide\n",
                  "  data / np.expand_dims(num_items_per_user, axis=1)\n",
                  "/Users/mjturner/code/technique-inference-engine/models/recommender/bpr_recommender.py:107: RuntimeWarning: invalid value encountered in divide\n",
                  "  data / np.expand_dims(num_items_per_user, axis=1)\n",
                  "/Users/mjturner/code/technique-inference-engine/models/recommender/bpr_recommender.py:107: RuntimeWarning: invalid value encountered in divide\n",
                  "  data / np.expand_dims(num_items_per_user, axis=1)\n",
                  "/Users/mjturner/code/technique-inference-engine/models/recommender/bpr_recommender.py:107: RuntimeWarning: invalid value encountered in divide\n",
                  "  data / np.expand_dims(num_items_per_user, axis=1)\n",
                  "/Users/mjturner/code/technique-inference-engine/models/recommender/bpr_recommender.py:107: RuntimeWarning: invalid value encountered in divide\n",
                  "  data / np.expand_dims(num_items_per_user, axis=1)\n",
                  "/Users/mjturner/code/technique-inference-engine/models/recommender/bpr_recommender.py:107: RuntimeWarning: invalid value encountered in divide\n",
                  "  data / np.expand_dims(num_items_per_user, axis=1)\n",
                  "/Users/mjturner/code/technique-inference-engine/models/recommender/bpr_recommender.py:107: RuntimeWarning: invalid value encountered in divide\n",
                  "  data / np.expand_dims(num_items_per_user, axis=1)\n",
                  "/Users/mjturner/code/technique-inference-engine/models/recommender/bpr_recommender.py:107: RuntimeWarning: invalid value encountered in divide\n",
                  "  data / np.expand_dims(num_items_per_user, axis=1)\n",
                  "/Users/mjturner/code/technique-inference-engine/models/recommender/bpr_recommender.py:107: RuntimeWarning: invalid value encountered in divide\n",
                  "  data / np.expand_dims(num_items_per_user, axis=1)\n",
                  "/Users/mjturner/code/technique-inference-engine/models/recommender/bpr_recommender.py:107: RuntimeWarning: invalid value encountered in divide\n",
                  "  data / np.expand_dims(num_items_per_user, axis=1)\n"
               ]
            },
            {
               "name": "stdout",
               "output_type": "stream",
               "text": [
                  "{'embedding_dimension': 4, 'regularization': 0.0001, 'learning_rate': 0.0001, 'num_iterations': 76521640, 'precision_at_10': 0.01560204407537528, 'recall_at_10': 0.06050501513663635, 'ndcg_at_10': 0.07683413537968624, 'precision_at_20': 0.011992973490897476, 'recall_at_20': 0.09067910772439934, 'ndcg_at_20': 0.09634989967193944, 'precision_at_50': 0.0079112104758863, 'recall_at_50': 0.14733022592714648, 'ndcg_at_50': 0.12541038111253533, 'precision_at_100': 0.00527946343021399, 'recall_at_100': 0.1978219117723097, 'ndcg_at_100': 0.1456379374612586}\n"
               ]
            },
            {
               "name": "stderr",
               "output_type": "stream",
               "text": [
                  "/Users/mjturner/code/technique-inference-engine/models/recommender/bpr_recommender.py:107: RuntimeWarning: invalid value encountered in divide\n",
                  "  data / np.expand_dims(num_items_per_user, axis=1)\n",
                  "/Users/mjturner/code/technique-inference-engine/models/recommender/bpr_recommender.py:107: RuntimeWarning: invalid value encountered in divide\n",
                  "  data / np.expand_dims(num_items_per_user, axis=1)\n",
                  "/Users/mjturner/code/technique-inference-engine/models/recommender/bpr_recommender.py:107: RuntimeWarning: invalid value encountered in divide\n",
                  "  data / np.expand_dims(num_items_per_user, axis=1)\n",
                  "/Users/mjturner/code/technique-inference-engine/models/recommender/bpr_recommender.py:107: RuntimeWarning: invalid value encountered in divide\n",
                  "  data / np.expand_dims(num_items_per_user, axis=1)\n",
                  "/Users/mjturner/code/technique-inference-engine/models/recommender/bpr_recommender.py:107: RuntimeWarning: invalid value encountered in divide\n",
                  "  data / np.expand_dims(num_items_per_user, axis=1)\n",
                  "/Users/mjturner/code/technique-inference-engine/models/recommender/bpr_recommender.py:107: RuntimeWarning: invalid value encountered in divide\n",
                  "  data / np.expand_dims(num_items_per_user, axis=1)\n",
                  "/Users/mjturner/code/technique-inference-engine/models/recommender/bpr_recommender.py:107: RuntimeWarning: invalid value encountered in divide\n",
                  "  data / np.expand_dims(num_items_per_user, axis=1)\n",
                  "/Users/mjturner/code/technique-inference-engine/models/recommender/bpr_recommender.py:107: RuntimeWarning: invalid value encountered in divide\n",
                  "  data / np.expand_dims(num_items_per_user, axis=1)\n",
                  "/Users/mjturner/code/technique-inference-engine/models/recommender/bpr_recommender.py:107: RuntimeWarning: invalid value encountered in divide\n",
                  "  data / np.expand_dims(num_items_per_user, axis=1)\n",
                  "/Users/mjturner/code/technique-inference-engine/models/recommender/bpr_recommender.py:107: RuntimeWarning: invalid value encountered in divide\n",
                  "  data / np.expand_dims(num_items_per_user, axis=1)\n",
                  "/Users/mjturner/code/technique-inference-engine/models/recommender/bpr_recommender.py:107: RuntimeWarning: invalid value encountered in divide\n",
                  "  data / np.expand_dims(num_items_per_user, axis=1)\n",
                  "/Users/mjturner/code/technique-inference-engine/models/recommender/bpr_recommender.py:107: RuntimeWarning: invalid value encountered in divide\n",
                  "  data / np.expand_dims(num_items_per_user, axis=1)\n",
                  "/Users/mjturner/code/technique-inference-engine/models/recommender/bpr_recommender.py:107: RuntimeWarning: invalid value encountered in divide\n",
                  "  data / np.expand_dims(num_items_per_user, axis=1)\n",
                  "/Users/mjturner/code/technique-inference-engine/models/recommender/bpr_recommender.py:107: RuntimeWarning: invalid value encountered in divide\n",
                  "  data / np.expand_dims(num_items_per_user, axis=1)\n",
                  "/Users/mjturner/code/technique-inference-engine/models/recommender/bpr_recommender.py:107: RuntimeWarning: invalid value encountered in divide\n",
                  "  data / np.expand_dims(num_items_per_user, axis=1)\n",
                  "/Users/mjturner/code/technique-inference-engine/models/recommender/bpr_recommender.py:107: RuntimeWarning: invalid value encountered in divide\n",
                  "  data / np.expand_dims(num_items_per_user, axis=1)\n",
                  "/Users/mjturner/code/technique-inference-engine/models/recommender/bpr_recommender.py:107: RuntimeWarning: invalid value encountered in divide\n",
                  "  data / np.expand_dims(num_items_per_user, axis=1)\n"
               ]
            },
            {
               "name": "stdout",
               "output_type": "stream",
               "text": [
                  "{'embedding_dimension': 8, 'regularization': 0.001, 'learning_rate': 0.0001, 'num_iterations': 76521640, 'precision_at_10': 0.012791440434366017, 'recall_at_10': 0.048452527172814557, 'ndcg_at_10': 0.06212604210714955, 'precision_at_20': 0.010012775471095497, 'recall_at_20': 0.07689506441974149, 'ndcg_at_20': 0.07903656541040587, 'precision_at_50': 0.006547428936442032, 'recall_at_50': 0.12561008986844754, 'ndcg_at_50': 0.10273975134585815, 'precision_at_100': 0.004500159693388694, 'recall_at_100': 0.17281461717597588, 'ndcg_at_100': 0.12142186359861892}\n"
               ]
            },
            {
               "name": "stderr",
               "output_type": "stream",
               "text": [
                  "/Users/mjturner/code/technique-inference-engine/models/recommender/bpr_recommender.py:107: RuntimeWarning: invalid value encountered in divide\n",
                  "  data / np.expand_dims(num_items_per_user, axis=1)\n",
                  "/Users/mjturner/code/technique-inference-engine/models/recommender/bpr_recommender.py:107: RuntimeWarning: invalid value encountered in divide\n",
                  "  data / np.expand_dims(num_items_per_user, axis=1)\n",
                  "/Users/mjturner/code/technique-inference-engine/models/recommender/bpr_recommender.py:107: RuntimeWarning: invalid value encountered in divide\n",
                  "  data / np.expand_dims(num_items_per_user, axis=1)\n",
                  "/Users/mjturner/code/technique-inference-engine/models/recommender/bpr_recommender.py:107: RuntimeWarning: invalid value encountered in divide\n",
                  "  data / np.expand_dims(num_items_per_user, axis=1)\n",
                  "/Users/mjturner/code/technique-inference-engine/models/recommender/bpr_recommender.py:107: RuntimeWarning: invalid value encountered in divide\n",
                  "  data / np.expand_dims(num_items_per_user, axis=1)\n",
                  "/Users/mjturner/code/technique-inference-engine/models/recommender/bpr_recommender.py:107: RuntimeWarning: invalid value encountered in divide\n",
                  "  data / np.expand_dims(num_items_per_user, axis=1)\n",
                  "/Users/mjturner/code/technique-inference-engine/models/recommender/bpr_recommender.py:107: RuntimeWarning: invalid value encountered in divide\n",
                  "  data / np.expand_dims(num_items_per_user, axis=1)\n",
                  "/Users/mjturner/code/technique-inference-engine/models/recommender/bpr_recommender.py:107: RuntimeWarning: invalid value encountered in divide\n",
                  "  data / np.expand_dims(num_items_per_user, axis=1)\n",
                  "/Users/mjturner/code/technique-inference-engine/models/recommender/bpr_recommender.py:107: RuntimeWarning: invalid value encountered in divide\n",
                  "  data / np.expand_dims(num_items_per_user, axis=1)\n",
                  "/Users/mjturner/code/technique-inference-engine/models/recommender/bpr_recommender.py:107: RuntimeWarning: invalid value encountered in divide\n",
                  "  data / np.expand_dims(num_items_per_user, axis=1)\n",
                  "/Users/mjturner/code/technique-inference-engine/models/recommender/bpr_recommender.py:107: RuntimeWarning: invalid value encountered in divide\n",
                  "  data / np.expand_dims(num_items_per_user, axis=1)\n",
                  "/Users/mjturner/code/technique-inference-engine/models/recommender/bpr_recommender.py:107: RuntimeWarning: invalid value encountered in divide\n",
                  "  data / np.expand_dims(num_items_per_user, axis=1)\n",
                  "/Users/mjturner/code/technique-inference-engine/models/recommender/bpr_recommender.py:107: RuntimeWarning: invalid value encountered in divide\n",
                  "  data / np.expand_dims(num_items_per_user, axis=1)\n",
                  "/Users/mjturner/code/technique-inference-engine/models/recommender/bpr_recommender.py:107: RuntimeWarning: invalid value encountered in divide\n",
                  "  data / np.expand_dims(num_items_per_user, axis=1)\n",
                  "/Users/mjturner/code/technique-inference-engine/models/recommender/bpr_recommender.py:107: RuntimeWarning: invalid value encountered in divide\n",
                  "  data / np.expand_dims(num_items_per_user, axis=1)\n",
                  "/Users/mjturner/code/technique-inference-engine/models/recommender/bpr_recommender.py:107: RuntimeWarning: invalid value encountered in divide\n",
                  "  data / np.expand_dims(num_items_per_user, axis=1)\n",
                  "/Users/mjturner/code/technique-inference-engine/models/recommender/bpr_recommender.py:107: RuntimeWarning: invalid value encountered in divide\n",
                  "  data / np.expand_dims(num_items_per_user, axis=1)\n"
               ]
            },
            {
               "name": "stdout",
               "output_type": "stream",
               "text": [
                  "{'embedding_dimension': 10, 'regularization': 0.001, 'learning_rate': 0.0001, 'num_iterations': 76521640, 'precision_at_10': 0.011992973490897476, 'recall_at_10': 0.04644692238371199, 'ndcg_at_10': 0.05802910032592288, 'precision_at_20': 0.009374001916320665, 'recall_at_20': 0.0721340954731668, 'ndcg_at_20': 0.07385875110489287, 'precision_at_50': 0.006055573299265411, 'recall_at_50': 0.11468008558455581, 'ndcg_at_50': 0.09530259678856781, 'precision_at_100': 0.004227083998722453, 'recall_at_100': 0.16112090162064058, 'ndcg_at_100': 0.1135609038916972}\n"
               ]
            },
            {
               "name": "stderr",
               "output_type": "stream",
               "text": [
                  "/Users/mjturner/code/technique-inference-engine/models/recommender/bpr_recommender.py:107: RuntimeWarning: invalid value encountered in divide\n",
                  "  data / np.expand_dims(num_items_per_user, axis=1)\n",
                  "/Users/mjturner/code/technique-inference-engine/models/recommender/bpr_recommender.py:107: RuntimeWarning: invalid value encountered in divide\n",
                  "  data / np.expand_dims(num_items_per_user, axis=1)\n",
                  "/Users/mjturner/code/technique-inference-engine/models/recommender/bpr_recommender.py:107: RuntimeWarning: invalid value encountered in divide\n",
                  "  data / np.expand_dims(num_items_per_user, axis=1)\n",
                  "/Users/mjturner/code/technique-inference-engine/models/recommender/bpr_recommender.py:107: RuntimeWarning: invalid value encountered in divide\n",
                  "  data / np.expand_dims(num_items_per_user, axis=1)\n",
                  "/Users/mjturner/code/technique-inference-engine/models/recommender/bpr_recommender.py:107: RuntimeWarning: invalid value encountered in divide\n",
                  "  data / np.expand_dims(num_items_per_user, axis=1)\n",
                  "/Users/mjturner/code/technique-inference-engine/models/recommender/bpr_recommender.py:107: RuntimeWarning: invalid value encountered in divide\n",
                  "  data / np.expand_dims(num_items_per_user, axis=1)\n",
                  "/Users/mjturner/code/technique-inference-engine/models/recommender/bpr_recommender.py:107: RuntimeWarning: invalid value encountered in divide\n",
                  "  data / np.expand_dims(num_items_per_user, axis=1)\n",
                  "/Users/mjturner/code/technique-inference-engine/models/recommender/bpr_recommender.py:107: RuntimeWarning: invalid value encountered in divide\n",
                  "  data / np.expand_dims(num_items_per_user, axis=1)\n",
                  "/Users/mjturner/code/technique-inference-engine/models/recommender/bpr_recommender.py:107: RuntimeWarning: invalid value encountered in divide\n",
                  "  data / np.expand_dims(num_items_per_user, axis=1)\n",
                  "/Users/mjturner/code/technique-inference-engine/models/recommender/bpr_recommender.py:107: RuntimeWarning: invalid value encountered in divide\n",
                  "  data / np.expand_dims(num_items_per_user, axis=1)\n",
                  "/Users/mjturner/code/technique-inference-engine/models/recommender/bpr_recommender.py:107: RuntimeWarning: invalid value encountered in divide\n",
                  "  data / np.expand_dims(num_items_per_user, axis=1)\n",
                  "/Users/mjturner/code/technique-inference-engine/models/recommender/bpr_recommender.py:107: RuntimeWarning: invalid value encountered in divide\n",
                  "  data / np.expand_dims(num_items_per_user, axis=1)\n",
                  "/Users/mjturner/code/technique-inference-engine/models/recommender/bpr_recommender.py:107: RuntimeWarning: invalid value encountered in divide\n",
                  "  data / np.expand_dims(num_items_per_user, axis=1)\n",
                  "/Users/mjturner/code/technique-inference-engine/models/recommender/bpr_recommender.py:107: RuntimeWarning: invalid value encountered in divide\n",
                  "  data / np.expand_dims(num_items_per_user, axis=1)\n",
                  "/Users/mjturner/code/technique-inference-engine/models/recommender/bpr_recommender.py:107: RuntimeWarning: invalid value encountered in divide\n",
                  "  data / np.expand_dims(num_items_per_user, axis=1)\n",
                  "/Users/mjturner/code/technique-inference-engine/models/recommender/bpr_recommender.py:107: RuntimeWarning: invalid value encountered in divide\n",
                  "  data / np.expand_dims(num_items_per_user, axis=1)\n",
                  "/Users/mjturner/code/technique-inference-engine/models/recommender/bpr_recommender.py:107: RuntimeWarning: invalid value encountered in divide\n",
                  "  data / np.expand_dims(num_items_per_user, axis=1)\n"
               ]
            },
            {
               "name": "stdout",
               "output_type": "stream",
               "text": [
                  "{'embedding_dimension': 16, 'regularization': 0.0001, 'learning_rate': 0.0001, 'num_iterations': 76521640, 'precision_at_10': 0.010923027786649633, 'recall_at_10': 0.04140103153989063, 'ndcg_at_10': 0.05513784313726271, 'precision_at_20': 0.008312040881507506, 'recall_at_20': 0.0647656160113604, 'ndcg_at_20': 0.06839756124757733, 'precision_at_50': 0.005416799744490578, 'recall_at_50': 0.10646787811167806, 'ndcg_at_50': 0.08773154884648639, 'precision_at_100': 0.0039603960396039604, 'recall_at_100': 0.15611050618282554, 'ndcg_at_100': 0.10676608984315174}\n"
               ]
            },
            {
               "name": "stderr",
               "output_type": "stream",
               "text": [
                  "/Users/mjturner/code/technique-inference-engine/models/recommender/bpr_recommender.py:107: RuntimeWarning: invalid value encountered in divide\n",
                  "  data / np.expand_dims(num_items_per_user, axis=1)\n",
                  "/Users/mjturner/code/technique-inference-engine/models/recommender/bpr_recommender.py:107: RuntimeWarning: invalid value encountered in divide\n",
                  "  data / np.expand_dims(num_items_per_user, axis=1)\n",
                  "/Users/mjturner/code/technique-inference-engine/models/recommender/bpr_recommender.py:107: RuntimeWarning: invalid value encountered in divide\n",
                  "  data / np.expand_dims(num_items_per_user, axis=1)\n",
                  "/Users/mjturner/code/technique-inference-engine/models/recommender/bpr_recommender.py:107: RuntimeWarning: invalid value encountered in divide\n",
                  "  data / np.expand_dims(num_items_per_user, axis=1)\n",
                  "/Users/mjturner/code/technique-inference-engine/models/recommender/bpr_recommender.py:107: RuntimeWarning: invalid value encountered in divide\n",
                  "  data / np.expand_dims(num_items_per_user, axis=1)\n",
                  "/Users/mjturner/code/technique-inference-engine/models/recommender/bpr_recommender.py:107: RuntimeWarning: invalid value encountered in divide\n",
                  "  data / np.expand_dims(num_items_per_user, axis=1)\n",
                  "/Users/mjturner/code/technique-inference-engine/models/recommender/bpr_recommender.py:107: RuntimeWarning: invalid value encountered in divide\n",
                  "  data / np.expand_dims(num_items_per_user, axis=1)\n",
                  "/Users/mjturner/code/technique-inference-engine/models/recommender/bpr_recommender.py:107: RuntimeWarning: invalid value encountered in divide\n",
                  "  data / np.expand_dims(num_items_per_user, axis=1)\n",
                  "/Users/mjturner/code/technique-inference-engine/models/recommender/bpr_recommender.py:107: RuntimeWarning: invalid value encountered in divide\n",
                  "  data / np.expand_dims(num_items_per_user, axis=1)\n",
                  "/Users/mjturner/code/technique-inference-engine/models/recommender/bpr_recommender.py:107: RuntimeWarning: invalid value encountered in divide\n",
                  "  data / np.expand_dims(num_items_per_user, axis=1)\n",
                  "/Users/mjturner/code/technique-inference-engine/models/recommender/bpr_recommender.py:107: RuntimeWarning: invalid value encountered in divide\n",
                  "  data / np.expand_dims(num_items_per_user, axis=1)\n"
               ]
            }
         ],
         "source": [
            "test_multiple_embeding_dimensions(\n",
            "    BPRRecommender,\n",
            "    out_file=\"bpr_model_results.csv\",\n",
            "    num_iterations=[20*training_data.m*training_data.n],\n",
            "    learning_rate=[0.00001, 0.00005, 0.0001, 0.001],\n",
            "    regularization=[0., 0.0001, 0.001, 0.01],\n",
            ")"
         ]
      },
      {
         "cell_type": "code",
         "execution_count": 5,
         "metadata": {},
         "outputs": [
            {
               "name": "stdout",
               "output_type": "stream",
               "text": [
                  "Mean Squared Error 0.058110197462322474\n",
                  "Precision 0.02456882785052699\n",
                  "Recall 0.19636470430463612\n",
                  "Normalized Discounted Cumulative Gain 0.18549855195023673\n"
               ]
            }
         ],
         "source": [
            "embedding_dimension = 10\n",
            "k = 20\n",
            "best_hyperparameters = {'gravity_coefficient': 0.001, 'regularization_coefficient': 0.5, 'num_iterations': 1000, 'learning_rate': 100.0}\n",
            "\n",
            "model = TopItemsRecommender(m=training_data.m, n=training_data.n, k=embedding_dimension)\n",
            "\n",
            "tie = TechniqueInferenceEngine(\n",
            "    training_data=training_data,\n",
            "    validation_data=validation_data,\n",
            "    test_data=test_data,\n",
            "    model=model,\n",
            "    prediction_method=PredictionMethod.DOT,\n",
            "    enterprise_attack_filepath=enterprise_attack_filepath,\n",
            ")\n",
            "mse = tie.fit()\n",
            "print(\"Mean Squared Error\", mse)\n",
            "precision = tie.precision(k=k)\n",
            "print(\"Precision\", precision)\n",
            "recall = tie.recall(k=k)\n",
            "print(\"Recall\", recall)\n",
            "ndcg = tie.normalized_discounted_cumulative_gain(k=k)\n",
            "print(\"Normalized Discounted Cumulative Gain\", ndcg)"
         ]
      },
      {
         "cell_type": "code",
         "execution_count": 6,
         "metadata": {},
         "outputs": [
            {
               "name": "stdout",
               "output_type": "stream",
               "text": [
                  "           predictions  training_data  test_data  \\\n",
                  "T1592.004     0.000000            0.0        0.0   \n",
                  "T1557.001     0.586885            0.0        0.0   \n",
                  "T1600         0.291803            0.0        0.0   \n",
                  "T1647         0.293443            0.0        0.0   \n",
                  "T1068         0.916393            0.0        0.0   \n",
                  "...                ...            ...        ...   \n",
                  "T1656         0.149180            0.0        0.0   \n",
                  "T1557.003     0.147541            0.0        0.0   \n",
                  "T1499.001     0.145902            0.0        0.0   \n",
                  "T1027.005     0.708197            0.0        0.0   \n",
                  "T1059.007     0.896721            0.0        0.0   \n",
                  "\n",
                  "                                  technique_name  \n",
                  "T1592.004                  Client Configurations  \n",
                  "T1557.001   LLMNR/NBT-NS Poisoning and SMB Relay  \n",
                  "T1600                          Weaken Encryption  \n",
                  "T1647                    Plist File Modification  \n",
                  "T1068      Exploitation for Privilege Escalation  \n",
                  "...                                          ...  \n",
                  "T1656                              Impersonation  \n",
                  "T1557.003                          DHCP Spoofing  \n",
                  "T1499.001                    OS Exhaustion Flood  \n",
                  "T1027.005           Indicator Removal from Tools  \n",
                  "T1059.007                             JavaScript  \n",
                  "\n",
                  "[611 rows x 4 columns]\n"
               ]
            }
         ],
         "source": [
            "new_report_predictions = tie.predict_for_new_report(oilrig_techniques, **best_hyperparameters)\n",
            "print(new_report_predictions)"
         ]
      },
      {
         "cell_type": "code",
         "execution_count": 14,
         "metadata": {
            "metadata": {}
         },
         "outputs": [
            {
               "name": "stdout",
               "output_type": "stream",
               "text": [
                  "Mean Squared Error 8.34052287499289\n",
                  "Precision 0.001365378473331204\n",
                  "Recall 0.012396331799078527\n",
                  "Normalized Discounted Cumulative Gain 0.00881284425930953\n"
               ]
            }
         ],
         "source": [
            "embedding_dimension = 10\n",
            "k = 20\n",
            "best_hyperparameters = {'gravity_coefficient': 0.001, 'regularization_coefficient': 0.001, 'num_iterations': 10, 'learning_rate': 1.0}\n",
            "\n",
            "model = FactorizationRecommender(m=training_data.m, n=training_data.n, k=embedding_dimension)\n",
            "\n",
            "tie = TechniqueInferenceEngine(\n",
            "    training_data=training_data,\n",
            "    validation_data=validation_data,\n",
            "    test_data=test_data,\n",
            "    model=model,\n",
            "    prediction_method=PredictionMethod.DOT,\n",
            "    enterprise_attack_filepath=enterprise_attack_filepath,\n",
            ")\n",
            "mse = tie.fit(**best_hyperparameters)\n",
            "# mse = tie.fit_with_cross_validation(\n",
            "#     learning_rate=[0.001, 0.01, 0.1, 1.0, 10., 20., 50., 100.],\n",
            "#     num_iterations=[1000],\n",
            "#     regularization_coefficient=[0.001, 0.005, 0.01, 0.02, 0.05, 0.1, 0.2, 0.3, 0.5],\n",
            "#     gravity_coefficient=[0.001, 0.005, 0.01, 0.02, 0.05, 0.1, 0.2, 0.3, 0.5],\n",
            "# )\n",
            "print(\"Mean Squared Error\", mse)\n",
            "precision = tie.precision(k=k)\n",
            "print(\"Precision\", precision)\n",
            "recall = tie.recall(k=k)\n",
            "print(\"Recall\", recall)\n",
            "ndcg = tie.normalized_discounted_cumulative_gain(k=k)\n",
            "print(\"Normalized Discounted Cumulative Gain\", ndcg)\n"
         ]
      },
      {
         "cell_type": "code",
         "execution_count": 15,
         "metadata": {},
         "outputs": [
            {
               "name": "stdout",
               "output_type": "stream",
               "text": [
                  "            predictions  training_data  test_data  \\\n",
                  "T1558.002  79587.203125            0.0        0.0   \n",
                  "T1132.002   2069.376465            0.0        0.0   \n",
                  "T1211     -17206.457031            0.0        0.0   \n",
                  "T1601.002  10626.997070            0.0        0.0   \n",
                  "T1596      -8066.793945            0.0        0.0   \n",
                  "...                 ...            ...        ...   \n",
                  "T1546.011 -38596.539062            0.0        0.0   \n",
                  "T1535     -17057.259766            0.0        0.0   \n",
                  "T1071      10676.069336            0.0        0.0   \n",
                  "T1587      36317.167969            0.0        0.0   \n",
                  "T1499.002  19678.314453            0.0        0.0   \n",
                  "\n",
                  "                             technique_name  \n",
                  "T1558.002                     Silver Ticket  \n",
                  "T1132.002             Non-Standard Encoding  \n",
                  "T1211      Exploitation for Defense Evasion  \n",
                  "T1601.002            Downgrade System Image  \n",
                  "T1596       Search Open Technical Databases  \n",
                  "...                                     ...  \n",
                  "T1546.011              Application Shimming  \n",
                  "T1535      Unused/Unsupported Cloud Regions  \n",
                  "T1071            Application Layer Protocol  \n",
                  "T1587                  Develop Capabilities  \n",
                  "T1499.002          Service Exhaustion Flood  \n",
                  "\n",
                  "[611 rows x 4 columns]\n"
               ]
            }
         ],
         "source": [
            "new_report_predictions = tie.predict_for_new_report(oilrig_techniques, **best_hyperparameters)\n",
            "print(new_report_predictions)"
         ]
      },
      {
         "cell_type": "code",
         "execution_count": 16,
         "metadata": {
            "metadata": {}
         },
         "outputs": [
            {
               "name": "stdout",
               "output_type": "stream",
               "text": [
                  "Mean Squared Error 1.2318953\n",
                  "Precision 0.0023794314915362505\n",
                  "Recall 0.01838211860627646\n",
                  "Normalized Discounted Cumulative Gain 0.015273090230587916\n"
               ]
            }
         ],
         "source": [
            "# hyperparameters\n",
            "embedding_dimension = 4\n",
            "k = 20\n",
            "best_hyperparameters = {'regularization_coefficient': 0.0001, 'num_iterations': 256, 'learning_rate': 0.0001}\n",
            "# best_hyperparameters[\"num_iterations\"] = 20*training_data.m*training_data.n\n",
            "\n",
            "model = BPRRecommender(m=training_data.m, n=training_data.n, k=embedding_dimension)\n",
            "\n",
            "tie = TechniqueInferenceEngine(\n",
            "    training_data=training_data,\n",
            "    validation_data=validation_data,\n",
            "    test_data=test_data,\n",
            "    model=model,\n",
            "    prediction_method=PredictionMethod.COSINE,\n",
            "    enterprise_attack_filepath=enterprise_attack_filepath,\n",
            ")\n",
            "# mse = tie.fit_with_cross_validation(\n",
            "#     learning_rate=[0.001, 0.005, 0.01, 0.02, 0.05],\n",
            "#     num_iterations=[500 * 512],\n",
            "#     regularization=[0, 0.0001, 0.001, 0.01],\n",
            "# )\n",
            "mse = tie.fit(**best_hyperparameters)\n",
            "print(\"Mean Squared Error\", mse)\n",
            "precision = tie.precision(k=k)\n",
            "print(\"Precision\", precision)\n",
            "recall = tie.recall(k=20)\n",
            "print(\"Recall\", recall)\n",
            "ndcg = tie.normalized_discounted_cumulative_gain(k=k)\n",
            "print(\"Normalized Discounted Cumulative Gain\", ndcg)"
         ]
      },
      {
         "cell_type": "code",
         "execution_count": 17,
         "metadata": {},
         "outputs": [
            {
               "name": "stdout",
               "output_type": "stream",
               "text": [
                  "           predictions  training_data  test_data  \\\n",
                  "T1558.002     0.555484            0.0        0.0   \n",
                  "T1132.002     0.494036            0.0        0.0   \n",
                  "T1211        -0.492932            0.0        0.0   \n",
                  "T1601.002    -0.185998            0.0        0.0   \n",
                  "T1596        -0.025210            0.0        0.0   \n",
                  "...                ...            ...        ...   \n",
                  "T1546.011    -0.217676            0.0        0.0   \n",
                  "T1535         0.464719            0.0        0.0   \n",
                  "T1071         0.199836            0.0        0.0   \n",
                  "T1587         0.658772            0.0        0.0   \n",
                  "T1499.002     0.464182            0.0        0.0   \n",
                  "\n",
                  "                             technique_name  \n",
                  "T1558.002                     Silver Ticket  \n",
                  "T1132.002             Non-Standard Encoding  \n",
                  "T1211      Exploitation for Defense Evasion  \n",
                  "T1601.002            Downgrade System Image  \n",
                  "T1596       Search Open Technical Databases  \n",
                  "...                                     ...  \n",
                  "T1546.011              Application Shimming  \n",
                  "T1535      Unused/Unsupported Cloud Regions  \n",
                  "T1071            Application Layer Protocol  \n",
                  "T1587                  Develop Capabilities  \n",
                  "T1499.002          Service Exhaustion Flood  \n",
                  "\n",
                  "[611 rows x 4 columns]\n"
               ]
            }
         ],
         "source": [
            "new_report_predictions = tie.predict_for_new_report(oilrig_techniques, **best_hyperparameters)\n",
            "print(new_report_predictions)"
         ]
      },
      {
         "cell_type": "code",
         "execution_count": 18,
         "metadata": {},
         "outputs": [
            {
               "data": {
                  "application/vnd.jupyter.widget-view+json": {
                     "model_id": "9c92850592af4cfd8e29a7dd442b0e3c",
                     "version_major": 2,
                     "version_minor": 0
                  },
                  "text/plain": [
                     "  0%|          | 0/50 [00:00<?, ?it/s]"
                  ]
               },
               "metadata": {},
               "output_type": "display_data"
            },
            {
               "name": "stdout",
               "output_type": "stream",
               "text": [
                  "Mean Squared Error 1.1135675464313306\n",
                  "Precision 0.004375598850207602\n",
                  "Recall 0.033039188552485374\n",
                  "Normalized Discounted Cumulative Gain 0.029512367719361752\n"
               ]
            }
         ],
         "source": [
            "# hyperparameters\n",
            "embedding_dimension = 10\n",
            "k = 20\n",
            "best_hyperparameters = {'regularization': 0.0001, 'num_iterations': 256000, 'learning_rate': 0.005}\n",
            "\n",
            "best_hyperparameters[\"num_iterations\"] = 50\n",
            "model = ImplicitBPRRecommender(m=training_data.m, n=training_data.n, k=embedding_dimension)\n",
            "\n",
            "tie = TechniqueInferenceEngine(\n",
            "    training_data=training_data,\n",
            "    validation_data=validation_data,\n",
            "    test_data=test_data,\n",
            "    model=model,\n",
            "    prediction_method=PredictionMethod.COSINE,\n",
            "    enterprise_attack_filepath=enterprise_attack_filepath,\n",
            ")\n",
            "# mse = tie.fit_with_cross_validation(\n",
            "#     learning_rate=[0.001, 0.005, 0.01, 0.02, 0.05],\n",
            "#     num_iterations=[math.floor(500 * 512 / training_data.to_numpy().sum())],\n",
            "#     regularization=[0, 0.0001, 0.001, 0.01],\n",
            "# )\n",
            "mse = tie.fit(**best_hyperparameters)\n",
            "print(\"Mean Squared Error\", mse)\n",
            "precision = tie.precision(k=k)\n",
            "print(\"Precision\", precision)\n",
            "recall = tie.recall(k=k)\n",
            "print(\"Recall\", recall)\n",
            "ndcg = tie.normalized_discounted_cumulative_gain(k=k)\n",
            "print(\"Normalized Discounted Cumulative Gain\", ndcg)"
         ]
      },
      {
         "cell_type": "code",
         "execution_count": 19,
         "metadata": {},
         "outputs": [
            {
               "name": "stderr",
               "output_type": "stream",
               "text": [
                  "/home/mjturner/miniconda3/envs/py311/lib/python3.11/site-packages/implicit/cpu/als.py:95: RuntimeWarning: OpenBLAS is configured to use 36 threads. It is highly recommended to disable its internal threadpool by setting the environment variable 'OPENBLAS_NUM_THREADS=1' or by calling 'threadpoolctl.threadpool_limits(1, \"blas\")'. Having OpenBLAS use a threadpool can lead to severe performance issues here.\n",
                  "  check_blas_config()\n"
               ]
            },
            {
               "data": {
                  "application/vnd.jupyter.widget-view+json": {
                     "model_id": "00eeb3917f83402b88a580d8e6d384af",
                     "version_major": 2,
                     "version_minor": 0
                  },
                  "text/plain": [
                     "  0%|          | 0/20 [00:00<?, ?it/s]"
                  ]
               },
               "metadata": {},
               "output_type": "display_data"
            },
            {
               "name": "stdout",
               "output_type": "stream",
               "text": [
                  "Mean Squared Error 0.7720959112337613\n",
                  "Precision 0.03188278505269882\n",
                  "Recall 0.3298013314687184\n",
                  "Normalized Discounted Cumulative Gain 0.020399515720015082\n"
               ]
            }
         ],
         "source": [
            "# hyperparameters\n",
            "embedding_dimension = 10\n",
            "k = 20\n",
            "\n",
            "best_hyperparameters = {'regularization_coefficient': 0.05, 'c': 0.5, 'num_iterations': 20}\n",
            "\n",
            "model = ImplicitWalsRecommender(m=training_data.m, n=training_data.n, k=embedding_dimension)\n",
            "\n",
            "tie = TechniqueInferenceEngine(\n",
            "    training_data=training_data,\n",
            "    validation_data=validation_data,\n",
            "    test_data=test_data,\n",
            "    model=model,\n",
            "    prediction_method=PredictionMethod.COSINE,\n",
            "    enterprise_attack_filepath=enterprise_attack_filepath,\n",
            ")\n",
            "mse = tie.fit(**best_hyperparameters)\n",
            "# mse = tie.fit_with_cross_validation(\n",
            "#     num_iterations=[20],\n",
            "#     c=[0.001, 0.005, 0.01, 0.05, 0.1, 0.3, 0.5, 0.7],\n",
            "#     regularization_coefficient=[0.001, 0.005, 0.01, 0.02, 0.05]\n",
            "# )\n",
            "print(\"Mean Squared Error\", mse)\n",
            "precision = tie.precision(k=k)\n",
            "print(\"Precision\", precision)\n",
            "recall = tie.recall(k=k)\n",
            "print(\"Recall\", recall)\n",
            "ndcg = tie.normalized_discounted_cumulative_gain(k=k)\n",
            "print(\"Normalized Discounted Cumulative Gain\", ndcg)"
         ]
      },
      {
         "cell_type": "code",
         "execution_count": 20,
         "metadata": {},
         "outputs": [
            {
               "name": "stdout",
               "output_type": "stream",
               "text": [
                  "           predictions  training_data  test_data  \\\n",
                  "T1558.002     0.047956            0.0        0.0   \n",
                  "T1132.002     0.278666            0.0        0.0   \n",
                  "T1211         0.078939            0.0        0.0   \n",
                  "T1601.002     0.000000            0.0        0.0   \n",
                  "T1596         0.147958            0.0        0.0   \n",
                  "...                ...            ...        ...   \n",
                  "T1546.011     0.319117            0.0        0.0   \n",
                  "T1535         0.000000            0.0        0.0   \n",
                  "T1071         0.151614            0.0        0.0   \n",
                  "T1587         0.234140            0.0        0.0   \n",
                  "T1499.002    -0.120075            0.0        0.0   \n",
                  "\n",
                  "                             technique_name  \n",
                  "T1558.002                     Silver Ticket  \n",
                  "T1132.002             Non-Standard Encoding  \n",
                  "T1211      Exploitation for Defense Evasion  \n",
                  "T1601.002            Downgrade System Image  \n",
                  "T1596       Search Open Technical Databases  \n",
                  "...                                     ...  \n",
                  "T1546.011              Application Shimming  \n",
                  "T1535      Unused/Unsupported Cloud Regions  \n",
                  "T1071            Application Layer Protocol  \n",
                  "T1587                  Develop Capabilities  \n",
                  "T1499.002          Service Exhaustion Flood  \n",
                  "\n",
                  "[611 rows x 4 columns]\n"
               ]
            }
         ],
         "source": [
            "new_report_predictions = tie.predict_for_new_report(oilrig_techniques, **best_hyperparameters)\n",
            "print(new_report_predictions)"
         ]
      },
      {
         "cell_type": "code",
         "execution_count": 21,
         "metadata": {},
         "outputs": [
            {
               "name": "stdout",
               "output_type": "stream",
               "text": [
                  "Mean Squared Error 0.6764495842495176\n",
                  "Precision 0.0319466624081763\n",
                  "Recall 0.3309393047808232\n",
                  "Normalized Discounted Cumulative Gain 0.021621860388003213\n"
               ]
            }
         ],
         "source": [
            "# hyperparameters\n",
            "embedding_dimension = 4\n",
            "k = 20\n",
            "\n",
            "# best_hyperparameters = {'regularization_coefficient': 0.1, 'c': 0.5, 'num_iterations': 20}\n",
            "# best_hyperparameters = {'regularization_coefficient': 0.0001, 'c': 0.3, 'num_iterations': 100}\n",
            "best_hyperparameters = {'regularization_coefficient': 0.001, 'c': 0.1, \"num_iterations\": 20}\n",
            "model = WalsRecommender(m=training_data.m, n=training_data.n, k=embedding_dimension)\n",
            "\n",
            "tie = TechniqueInferenceEngine(\n",
            "    training_data=training_data,\n",
            "    validation_data=validation_data,\n",
            "    test_data=test_data,\n",
            "    model=model,\n",
            "    prediction_method=PredictionMethod.COSINE,\n",
            "    enterprise_attack_filepath=enterprise_attack_filepath,\n",
            ")\n",
            "mse = tie.fit(**best_hyperparameters)\n",
            "# mse = tie.fit_with_cross_validation(\n",
            "#     num_iterations=[20],\n",
            "#     c=[0.001, 0.005, 0.01, 0.05, 0.1, 0.3, 0.5, 0.7],\n",
            "#     regularization_coefficient=[0.001, 0.005, 0.01, 0.02, 0.05]\n",
            "# )\n",
            "print(\"Mean Squared Error\", mse)\n",
            "precision = tie.precision(k=k)\n",
            "print(\"Precision\", precision)\n",
            "recall = tie.recall(k=k)\n",
            "print(\"Recall\", recall)\n",
            "ndcg = tie.normalized_discounted_cumulative_gain(k=k)\n",
            "print(\"Normalized Discounted Cumulative Gain\", ndcg)"
         ]
      },
      {
         "cell_type": "code",
         "execution_count": 23,
         "metadata": {},
         "outputs": [
            {
               "name": "stdout",
               "output_type": "stream",
               "text": [
                  "           predictions  training_data  test_data  \\\n",
                  "T1558.002     0.372191            0.0        0.0   \n",
                  "T1132.002     0.814301            0.0        0.0   \n",
                  "T1211        -0.219102            0.0        0.0   \n",
                  "T1601.002     0.000000            0.0        0.0   \n",
                  "T1596        -0.297662            0.0        0.0   \n",
                  "...                ...            ...        ...   \n",
                  "T1546.011     0.325952            0.0        0.0   \n",
                  "T1535         0.000000            0.0        0.0   \n",
                  "T1071         0.273710            0.0        0.0   \n",
                  "T1587         0.480159            0.0        0.0   \n",
                  "T1499.002    -0.273072            0.0        0.0   \n",
                  "\n",
                  "                             technique_name  \n",
                  "T1558.002                     Silver Ticket  \n",
                  "T1132.002             Non-Standard Encoding  \n",
                  "T1211      Exploitation for Defense Evasion  \n",
                  "T1601.002            Downgrade System Image  \n",
                  "T1596       Search Open Technical Databases  \n",
                  "...                                     ...  \n",
                  "T1546.011              Application Shimming  \n",
                  "T1535      Unused/Unsupported Cloud Regions  \n",
                  "T1071            Application Layer Protocol  \n",
                  "T1587                  Develop Capabilities  \n",
                  "T1499.002          Service Exhaustion Flood  \n",
                  "\n",
                  "[611 rows x 4 columns]\n"
               ]
            }
         ],
         "source": [
            "new_report_predictions = tie.predict_for_new_report(oilrig_techniques, **best_hyperparameters)\n",
            "print(new_report_predictions)"
         ]
      },
      {
         "cell_type": "code",
         "execution_count": 18,
         "metadata": {},
         "outputs": [
            {
               "name": "stdout",
               "output_type": "stream",
               "text": [
                  "[[ 0.00000000e+00  3.10272485e-01 -5.06079257e-01 ... -2.96728946e-02\n",
                  "   1.03696346e-01 -4.59698914e-03]\n",
                  " [ 1.00000000e+00  2.34661356e-01 -3.45782340e-01 ... -8.81108269e-02\n",
                  "   7.32592419e-02  2.15996355e-01]\n",
                  " [ 2.00000000e+00  4.81936446e-08  6.88791080e-10 ...  3.42836657e-08\n",
                  "  -7.81015075e-09 -4.81467985e-08]\n",
                  " ...\n",
                  " [ 6.25900000e+03  3.53572398e-01 -4.88738894e-01 ...  2.14364976e-02\n",
                  "   1.39371127e-01  1.01979606e-01]\n",
                  " [ 6.26000000e+03 -5.61978075e-10 -3.23640350e-08 ... -7.43976116e-08\n",
                  "   8.64229861e-08  8.77083117e-09]\n",
                  " [ 6.26100000e+03 -6.00948269e-08 -1.48262300e-08 ...  3.57593208e-08\n",
                  "  -9.07301079e-09  2.34565452e-08]]\n",
                  "(6262, 11)\n",
                  "(611, 11)\n"
               ]
            }
         ],
         "source": [
            "# TEMPORARY - GET EMBEDDINGS FOR FE\n",
            "U = tie.get_U() # entity (report) ids\n",
            "V = tie.get_V() # item (technique) embeddings\n",
            "\n",
            "U_with_index = np.hstack((np.expand_dims(training_data.report_ids, axis=1), U))\n",
            "V_with_index = np.hstack((np.expand_dims(training_data.technique_ids, axis=1), V))\n",
            "\n",
            "print(U_with_index.shape)\n",
            "print(V_with_index.shape)"
         ]
      },
      {
         "cell_type": "code",
         "execution_count": 8,
         "metadata": {},
         "outputs": [
            {
               "name": "stdout",
               "output_type": "stream",
               "text": [
                  "recalls [0.3087573406401257, 0.3257859760812914, 0.3458226653670225, 0.3745375233589626, 0.3949941633991787, 0.4110964558541681, 0.4219309973671012, 0.4317147374599419, 0.44042389049516534, 0.44770298702149547, 0.45387773687027355, 0.45797033624322875, 0.46304119765720547, 0.4679221448741617, 0.47182791494477766, 0.47617333685846847, 0.4791363202775644, 0.48264413250862803, 0.48577394889957126, 0.4883141430997783, 0.4904385260449852]\n"
               ]
            },
            {
               "data": {
                  "text/plain": [
                     "[<matplotlib.lines.Line2D at 0x39b983c90>]"
                  ]
               },
               "execution_count": 8,
               "metadata": {},
               "output_type": "execute_result"
            },
            {
               "data": {
                  "image/png": "[encoded data removed]",
                  "text/plain": [
                     "<Figure size 640x480 with 1 Axes>"
                  ]
               },
               "metadata": {},
               "output_type": "display_data"
            }
         ],
         "source": [
            "k_values = [1, 5] + list(range(10, 200, 10))\n",
            "recalls = []\n",
            "ndcgs = []\n",
            "for k in k_values:\n",
            "    # print(\"Mean Squared Error\", mse)\n",
            "    precision = tie.precision(k=k)\n",
            "    # print(\"Precision\", precision)\n",
            "    recall = tie.recall(k=k)\n",
            "    recalls.append(recall)\n",
            "    # print(\"Recall\", recall)\n",
            "    ndcg = tie.normalized_discounted_cumulative_gain(k=k)\n",
            "    ndcgs.append(ndcg)\n",
            "    # print(\"Normalized Discounted Cumulative Gain\", ndcg)\n",
            "\n",
            "print(\"recalls\", recalls)\n",
            "\n",
            "plt.xlabel(\"k\")\n",
            "plt.ylabel(\"Normalized discounted cumulative gain (NDCG)\")\n",
            "plt.title(\"NDCG@k for various values of k\")\n",
            "plt.plot(k_values, ndcgs)"
         ]
      },
      {
         "cell_type": "code",
         "execution_count": 6,
         "metadata": {},
         "outputs": [
            {
               "ename": "TypeError",
               "evalue": "FactorizationRecommender.predict_new_entity() got an unexpected keyword argument 'c'",
               "output_type": "error",
               "traceback": [
                  "\u001b[0;31m---------------------------------------------------------------------------\u001b[0m",
                  "\u001b[0;31mTypeError\u001b[0m                                 Traceback (most recent call last)",
                  "Cell \u001b[0;32mIn[6], line 6\u001b[0m\n\u001b[1;32m      1\u001b[0m oilrig_techniques \u001b[38;5;241m=\u001b[39m {\n\u001b[1;32m      2\u001b[0m     \u001b[38;5;124m\"\u001b[39m\u001b[38;5;124mT1047\u001b[39m\u001b[38;5;124m\"\u001b[39m, \u001b[38;5;124m\"\u001b[39m\u001b[38;5;124mT1059.005\u001b[39m\u001b[38;5;124m\"\u001b[39m, \u001b[38;5;124m\"\u001b[39m\u001b[38;5;124mT1124\u001b[39m\u001b[38;5;124m\"\u001b[39m, \u001b[38;5;124m\"\u001b[39m\u001b[38;5;124mT1082\u001b[39m\u001b[38;5;124m\"\u001b[39m,\n\u001b[1;32m      3\u001b[0m     \u001b[38;5;124m\"\u001b[39m\u001b[38;5;124mT1497.001\u001b[39m\u001b[38;5;124m\"\u001b[39m, \u001b[38;5;124m\"\u001b[39m\u001b[38;5;124mT1053.005\u001b[39m\u001b[38;5;124m\"\u001b[39m, \u001b[38;5;124m\"\u001b[39m\u001b[38;5;124mT1027\u001b[39m\u001b[38;5;124m\"\u001b[39m, \u001b[38;5;124m\"\u001b[39m\u001b[38;5;124mT1105\u001b[39m\u001b[38;5;124m\"\u001b[39m,\n\u001b[1;32m      4\u001b[0m     \u001b[38;5;124m\"\u001b[39m\u001b[38;5;124mT1070.004\u001b[39m\u001b[38;5;124m\"\u001b[39m, \u001b[38;5;124m\"\u001b[39m\u001b[38;5;124mT1059.003\u001b[39m\u001b[38;5;124m\"\u001b[39m, \u001b[38;5;124m\"\u001b[39m\u001b[38;5;124mT1071.001\u001b[39m\u001b[38;5;124m\"\u001b[39m\n\u001b[1;32m      5\u001b[0m }\n\u001b[0;32m----> 6\u001b[0m new_report_predictions \u001b[38;5;241m=\u001b[39m \u001b[43mtie\u001b[49m\u001b[38;5;241;43m.\u001b[39;49m\u001b[43mpredict_for_new_report\u001b[49m\u001b[43m(\u001b[49m\u001b[43moilrig_techniques\u001b[49m\u001b[43m,\u001b[49m\u001b[43m \u001b[49m\u001b[43mc\u001b[49m\u001b[38;5;241;43m=\u001b[39;49m\u001b[38;5;241;43m0.5\u001b[39;49m\u001b[43m,\u001b[49m\u001b[43m \u001b[49m\u001b[43mregularization_coefficient\u001b[49m\u001b[38;5;241;43m=\u001b[39;49m\u001b[38;5;241;43m0.05\u001b[39;49m\u001b[43m,\u001b[49m\u001b[43m \u001b[49m\u001b[43mlearning_rate\u001b[49m\u001b[38;5;241;43m=\u001b[39;49m\u001b[38;5;241;43m0.01\u001b[39;49m\u001b[43m,\u001b[49m\u001b[43m \u001b[49m\u001b[43mnum_iterations\u001b[49m\u001b[38;5;241;43m=\u001b[39;49m\u001b[38;5;241;43m100\u001b[39;49m\u001b[43m)\u001b[49m\n\u001b[1;32m      8\u001b[0m \u001b[38;5;28mprint\u001b[39m(new_report_predictions\u001b[38;5;241m.\u001b[39msort_values(by\u001b[38;5;241m=\u001b[39m\u001b[38;5;124m\"\u001b[39m\u001b[38;5;124mpredictions\u001b[39m\u001b[38;5;124m\"\u001b[39m, ascending\u001b[38;5;241m=\u001b[39m\u001b[38;5;28;01mFalse\u001b[39;00m)\u001b[38;5;241m.\u001b[39mhead(\u001b[38;5;241m10\u001b[39m))\n",
                  "File \u001b[0;32m~/code/technique-inference-engine/models/tie.py:338\u001b[0m, in \u001b[0;36mTechniqueInferenceEngine.predict_for_new_report\u001b[0;34m(self, techniques, **kwargs)\u001b[0m\n\u001b[1;32m    332\u001b[0m n \u001b[38;5;241m=\u001b[39m \u001b[38;5;28mself\u001b[39m\u001b[38;5;241m.\u001b[39m_training_data\u001b[38;5;241m.\u001b[39mn\n\u001b[1;32m    334\u001b[0m technique_tensor \u001b[38;5;241m=\u001b[39m tf\u001b[38;5;241m.\u001b[39mSparseTensor(\n\u001b[1;32m    335\u001b[0m     indices\u001b[38;5;241m=\u001b[39mtechnique_indices_2d, values\u001b[38;5;241m=\u001b[39mvalues, dense_shape\u001b[38;5;241m=\u001b[39m(n,)\n\u001b[1;32m    336\u001b[0m )\n\u001b[0;32m--> 338\u001b[0m predictions \u001b[38;5;241m=\u001b[39m \u001b[38;5;28;43mself\u001b[39;49m\u001b[38;5;241;43m.\u001b[39;49m\u001b[43m_model\u001b[49m\u001b[38;5;241;43m.\u001b[39;49m\u001b[43mpredict_new_entity\u001b[49m\u001b[43m(\u001b[49m\u001b[43mtechnique_tensor\u001b[49m\u001b[43m,\u001b[49m\u001b[43m \u001b[49m\u001b[43mmethod\u001b[49m\u001b[38;5;241;43m=\u001b[39;49m\u001b[38;5;28;43mself\u001b[39;49m\u001b[38;5;241;43m.\u001b[39;49m\u001b[43m_prediction_method\u001b[49m\u001b[43m,\u001b[49m\u001b[43m \u001b[49m\u001b[38;5;241;43m*\u001b[39;49m\u001b[38;5;241;43m*\u001b[39;49m\u001b[43mkwargs\u001b[49m\u001b[43m)\u001b[49m\n\u001b[1;32m    340\u001b[0m training_indices_dense \u001b[38;5;241m=\u001b[39m np\u001b[38;5;241m.\u001b[39mzeros(\u001b[38;5;28mlen\u001b[39m(predictions))\n\u001b[1;32m    341\u001b[0m training_indices_dense[technique_indices] \u001b[38;5;241m=\u001b[39m \u001b[38;5;241m1\u001b[39m\n",
                  "\u001b[0;31mTypeError\u001b[0m: FactorizationRecommender.predict_new_entity() got an unexpected keyword argument 'c'"
               ]
            }
         ],
         "source": [
            "oilrig_techniques = {\n",
            "    \"T1047\", \"T1059.005\", \"T1124\", \"T1082\",\n",
            "    \"T1497.001\", \"T1053.005\", \"T1027\", \"T1105\",\n",
            "    \"T1070.004\", \"T1059.003\", \"T1071.001\"\n",
            "}\n",
            "new_report_predictions = tie.predict_for_new_report(oilrig_techniques, c=0.5, regularization_coefficient=0.05, learning_rate=0.01, num_iterations=100)\n",
            "\n",
            "print(new_report_predictions.sort_values(by=\"predictions\", ascending=False).head(10))"
         ]
      },
      {
         "cell_type": "code",
         "execution_count": 11,
         "metadata": {},
         "outputs": [
            {
               "name": "stdout",
               "output_type": "stream",
               "text": [
                  "[t-SNE] Computing 46 nearest neighbors...\n",
                  "[t-SNE] Indexed 6262 samples in 0.003s...\n",
                  "[t-SNE] Computed neighbors for 6262 samples in 0.226s...\n",
                  "[t-SNE] Computed conditional probabilities for sample 1000 / 6262\n",
                  "[t-SNE] Computed conditional probabilities for sample 2000 / 6262\n",
                  "[t-SNE] Computed conditional probabilities for sample 3000 / 6262\n",
                  "[t-SNE] Computed conditional probabilities for sample 4000 / 6262\n",
                  "[t-SNE] Computed conditional probabilities for sample 5000 / 6262\n",
                  "[t-SNE] Computed conditional probabilities for sample 6000 / 6262\n",
                  "[t-SNE] Computed conditional probabilities for sample 6262 / 6262\n",
                  "[t-SNE] Mean sigma: 0.000000\n",
                  "[t-SNE] KL divergence after 250 iterations with early exaggeration: 95.187531\n",
                  "[t-SNE] KL divergence after 10000 iterations: 0.847868\n"
               ]
            },
            {
               "data": {
                  "image/png": "[encoded data removed]",
                  "text/plain": [
                     "<Figure size 640x480 with 1 Axes>"
                  ]
               },
               "metadata": {},
               "output_type": "display_data"
            }
         ],
         "source": [
            "def make_tsne_embeddings(embeddings: np.ndarray) -> tuple[np.array, np.array]:\n",
            "    \"\"\"Create 2D representation of embeddings using t-SNE.\n",
            "\n",
            "    Args:\n",
            "        embeddings: an mxk array of m embeddings in k-dimensional space.\n",
            "\n",
            "    Returns:\n",
            "        A tuple of the form (x_1, x_2) where x_1 and x_2 are length m\n",
            "        such that (x_1[i], x_2[i]) is the 2-dimensional point cotnaining the 2-dimensional\n",
            "        repsresentation for embeddings[i, :].\n",
            "    \"\"\"\n",
            "    tsne = sklearn.manifold.TSNE(\n",
            "        n_components=2,\n",
            "        perplexity=15,\n",
            "        learning_rate=\"auto\",\n",
            "        # metric='cosine',\n",
            "        # early_exaggeration=10.0,\n",
            "        init='pca',\n",
            "        verbose=True,\n",
            "        n_iter=10000,\n",
            "    )\n",
            "\n",
            "    V_proj = tsne.fit_transform(embeddings)\n",
            "    x = V_proj[:, 0]\n",
            "    y = V_proj[:, 1]\n",
            "\n",
            "    return x, y\n",
            "\n",
            "U = tie.get_U()\n",
            "x_1, x_2 = make_tsne_embeddings(U)\n",
            "\n",
            "plt.scatter(x_1, x_2, s=0.5)\n",
            "plt.show()"
         ]
      }
   ],
   "metadata": {
      "kernelspec": {
         "display_name": "Python 3 (ipykernel)",
         "language": "python",
         "name": "python3"
      },
      "language_info": {
         "codemirror_mode": {
            "name": "ipython",
            "version": 3
         },
         "file_extension": ".py",
         "mimetype": "text/x-python",
         "name": "python",
         "nbconvert_exporter": "python",
         "pygments_lexer": "ipython3",
         "version": "3.11.9"
      }
   },
   "nbformat": 4,
   "nbformat_minor": 2
}
