{
   "cells": [
      {
         "cell_type": "code",
         "execution_count": 1,
         "metadata": {
            "metadata": {}
         },
         "outputs": [
            {
               "name": "stderr",
               "output_type": "stream",
               "text": [
                  "/opt/homebrew/Caskroom/miniconda/base/envs/py311/lib/python3.11/site-packages/tqdm/auto.py:21: TqdmWarning: IProgress not found. Please update jupyter and ipywidgets. See https://ipywidgets.readthedocs.io/en/stable/user_install.html\n",
                  "  from .autonotebook import tqdm as notebook_tqdm\n"
               ]
            },
            {
               "data": {
                  "text/plain": [
                     "<module 'recommender' from '/Users/mjturner/code/technique-inference-engine/models/recommender/__init__.py'>"
                  ]
               },
               "execution_count": 1,
               "metadata": {},
               "output_type": "execute_result"
            }
         ],
         "source": [
            "%load_ext autoreload\n",
            "%autoreload 2\n",
            "\n",
            "# Imports\n",
            "import tensorflow as tf\n",
            "import recommender\n",
            "from recommender.implicit_bpr_recommender import ImplicitBPRRecommender\n",
            "from recommender import FactorizationRecommender, BPRRecommender, WALSRecommender\n",
            "from matrix_builder import ReportTechniqueMatrixBuilder\n",
            "from tie import TechniqueInferenceEngine\n",
            "import random\n",
            "import math\n",
            "import importlib\n",
            "import pandas as pd\n",
            "import numpy as np\n",
            "import sklearn.manifold\n",
            "import matplotlib.pyplot as plt\n",
            "\n",
            "tf.config.run_functions_eagerly(True)\n",
            "\n",
            "assert tf.executing_eagerly()\n",
            "\n",
            "importlib.reload(recommender)\n"
         ]
      },
      {
         "cell_type": "code",
         "execution_count": 2,
         "metadata": {},
         "outputs": [],
         "source": [
            "validation_ratio = 0.1\n",
            "test_ratio = 0.2\n",
            "\n",
            "# data locations\n",
            "dataset_filepath = \"../data/combined_dataset_full_frequency.json\"\n",
            "enterprise_attack_filepath = \"../enterprise-attack.json\"\n",
            "\n",
            "# make data\n",
            "data_builder = ReportTechniqueMatrixBuilder(\n",
            "    combined_dataset_filepath=dataset_filepath,\n",
            "    enterprise_attack_filepath=enterprise_attack_filepath,\n",
            ")\n",
            "data = data_builder.build()\n",
            "# split into training and test data\n",
            "train_and_validation_indices = frozenset(random.sample(data.indices, k=math.floor((1-test_ratio) * len(data.indices))))\n",
            "validation_indices = frozenset(random.sample(tuple(train_and_validation_indices), k=math.floor((1-validation_ratio) * len(train_and_validation_indices))))\n",
            "train_indices = frozenset(train_and_validation_indices).difference(validation_indices)\n",
            "test_indices = frozenset(data.indices).difference(train_and_validation_indices)\n",
            "training_data = data.mask(train_indices)\n",
            "validation_data = data.mask(validation_indices)\n",
            "test_data = data.mask(test_indices)"
         ]
      },
      {
         "cell_type": "code",
         "execution_count": 4,
         "metadata": {
            "metadata": {}
         },
         "outputs": [
            {
               "ename": "ImportError",
               "evalue": "`keras.optimizers.legacy` is not supported in Keras 3. When using `tf.keras`, to continue using a `tf.keras.optimizers.legacy` optimizer, you can install the `tf_keras` package (Keras 2) and set the environment variable `TF_USE_LEGACY_KERAS=True` to configure TensorFlow to use `tf_keras` when accessing `tf.keras`.",
               "output_type": "error",
               "traceback": [
                  "\u001b[0;31m---------------------------------------------------------------------------\u001b[0m",
                  "\u001b[0;31mImportError\u001b[0m                               Traceback (most recent call last)",
                  "Cell \u001b[0;32mIn[4], line 14\u001b[0m\n\u001b[1;32m      5\u001b[0m model \u001b[38;5;241m=\u001b[39m FactorizationRecommender(m\u001b[38;5;241m=\u001b[39mtraining_data\u001b[38;5;241m.\u001b[39mm, n\u001b[38;5;241m=\u001b[39mtraining_data\u001b[38;5;241m.\u001b[39mn, k\u001b[38;5;241m=\u001b[39membedding_dimension)\n\u001b[1;32m      7\u001b[0m tie \u001b[38;5;241m=\u001b[39m TechniqueInferenceEngine(\n\u001b[1;32m      8\u001b[0m     training_data\u001b[38;5;241m=\u001b[39mtraining_data,\n\u001b[1;32m      9\u001b[0m     validation_data\u001b[38;5;241m=\u001b[39mvalidation_data,\n\u001b[0;32m   (...)\u001b[0m\n\u001b[1;32m     12\u001b[0m     enterprise_attack_filepath\u001b[38;5;241m=\u001b[39menterprise_attack_filepath,\n\u001b[1;32m     13\u001b[0m )\n\u001b[0;32m---> 14\u001b[0m mse \u001b[38;5;241m=\u001b[39m \u001b[43mtie\u001b[49m\u001b[38;5;241;43m.\u001b[39;49m\u001b[43mfit\u001b[49m\u001b[43m(\u001b[49m\u001b[38;5;241;43m*\u001b[39;49m\u001b[38;5;241;43m*\u001b[39;49m\u001b[43mbest_hyperparameters\u001b[49m\u001b[43m)\u001b[49m\n\u001b[1;32m     15\u001b[0m \u001b[38;5;66;03m# mse = tie.fit_with_cross_validation(\u001b[39;00m\n\u001b[1;32m     16\u001b[0m \u001b[38;5;66;03m#     learning_rate=[0.001, 0.01, 0.1, 1.0, 10., 20., 50., 100.],\u001b[39;00m\n\u001b[1;32m     17\u001b[0m \u001b[38;5;66;03m#     num_iterations=[1000],\u001b[39;00m\n\u001b[1;32m     18\u001b[0m \u001b[38;5;66;03m#     regularization_coefficient=[0.001, 0.005, 0.01, 0.02, 0.05, 0.1, 0.2, 0.3, 0.5],\u001b[39;00m\n\u001b[1;32m     19\u001b[0m \u001b[38;5;66;03m#     gravity_coefficient=[0.001, 0.005, 0.01, 0.02, 0.05, 0.1, 0.2, 0.3, 0.5],\u001b[39;00m\n\u001b[1;32m     20\u001b[0m \u001b[38;5;66;03m# )\u001b[39;00m\n\u001b[1;32m     21\u001b[0m \u001b[38;5;28mprint\u001b[39m(\u001b[38;5;124m\"\u001b[39m\u001b[38;5;124mMean Squared Error\u001b[39m\u001b[38;5;124m\"\u001b[39m, mse)\n",
                  "File \u001b[0;32m~/code/technique-inference-engine/models/tie.py:111\u001b[0m, in \u001b[0;36mTechniqueInferenceEngine.fit\u001b[0;34m(self, **kwargs)\u001b[0m\n\u001b[1;32m     93\u001b[0m \u001b[38;5;250m\u001b[39m\u001b[38;5;124;03m\"\"\"Fit the model to the data.\u001b[39;00m\n\u001b[1;32m     94\u001b[0m \n\u001b[1;32m     95\u001b[0m \u001b[38;5;124;03mArgs:\u001b[39;00m\n\u001b[0;32m   (...)\u001b[0m\n\u001b[1;32m    108\u001b[0m \u001b[38;5;124;03m    The MSE of the prediction matrix, as determined by the test set.\u001b[39;00m\n\u001b[1;32m    109\u001b[0m \u001b[38;5;124;03m\"\"\"\u001b[39;00m\n\u001b[1;32m    110\u001b[0m \u001b[38;5;66;03m# train\u001b[39;00m\n\u001b[0;32m--> 111\u001b[0m \u001b[38;5;28;43mself\u001b[39;49m\u001b[38;5;241;43m.\u001b[39;49m\u001b[43m_model\u001b[49m\u001b[38;5;241;43m.\u001b[39;49m\u001b[43mfit\u001b[49m\u001b[43m(\u001b[49m\u001b[38;5;28;43mself\u001b[39;49m\u001b[38;5;241;43m.\u001b[39;49m\u001b[43m_training_data\u001b[49m\u001b[38;5;241;43m.\u001b[39;49m\u001b[43mto_sparse_tensor\u001b[49m\u001b[43m(\u001b[49m\u001b[43m)\u001b[49m\u001b[43m,\u001b[49m\u001b[43m \u001b[49m\u001b[38;5;241;43m*\u001b[39;49m\u001b[38;5;241;43m*\u001b[39;49m\u001b[43mkwargs\u001b[49m\u001b[43m)\u001b[49m\n\u001b[1;32m    113\u001b[0m mean_squared_error \u001b[38;5;241m=\u001b[39m \u001b[38;5;28mself\u001b[39m\u001b[38;5;241m.\u001b[39m_model\u001b[38;5;241m.\u001b[39mevaluate(\u001b[38;5;28mself\u001b[39m\u001b[38;5;241m.\u001b[39m_test_data\u001b[38;5;241m.\u001b[39mto_sparse_tensor())\n\u001b[1;32m    115\u001b[0m \u001b[38;5;28mself\u001b[39m\u001b[38;5;241m.\u001b[39m_checkrep()\n",
                  "File \u001b[0;32m~/code/technique-inference-engine/models/recommender/factorization_recommender.py:193\u001b[0m, in \u001b[0;36mFactorizationRecommender.fit\u001b[0;34m(self, data, learning_rate, num_iterations, regularization_coefficient, gravity_coefficient)\u001b[0m\n\u001b[1;32m    180\u001b[0m \u001b[38;5;250m\u001b[39m\u001b[38;5;124;03m\"\"\"Fits the model to data.\u001b[39;00m\n\u001b[1;32m    181\u001b[0m \n\u001b[1;32m    182\u001b[0m \u001b[38;5;124;03mArgs:\u001b[39;00m\n\u001b[0;32m   (...)\u001b[0m\n\u001b[1;32m    190\u001b[0m \u001b[38;5;124;03m    The recommender to the new trained state.\u001b[39;00m\n\u001b[1;32m    191\u001b[0m \u001b[38;5;124;03m\"\"\"\u001b[39;00m\n\u001b[1;32m    192\u001b[0m \u001b[38;5;66;03m# preliminaries\u001b[39;00m\n\u001b[0;32m--> 193\u001b[0m optimizer \u001b[38;5;241m=\u001b[39m \u001b[43mkeras\u001b[49m\u001b[38;5;241;43m.\u001b[39;49m\u001b[43moptimizers\u001b[49m\u001b[38;5;241;43m.\u001b[39;49m\u001b[43mlegacy\u001b[49m\u001b[38;5;241;43m.\u001b[39;49m\u001b[43mSGD\u001b[49m\u001b[43m(\u001b[49m\u001b[43mlearning_rate\u001b[49m\u001b[38;5;241;43m=\u001b[39;49m\u001b[43mlearning_rate\u001b[49m\u001b[43m)\u001b[49m\n\u001b[1;32m    195\u001b[0m \u001b[38;5;28;01mfor\u001b[39;00m i \u001b[38;5;129;01min\u001b[39;00m \u001b[38;5;28mrange\u001b[39m(num_iterations \u001b[38;5;241m+\u001b[39m \u001b[38;5;241m1\u001b[39m):\n\u001b[1;32m    196\u001b[0m     \u001b[38;5;28;01mwith\u001b[39;00m tf\u001b[38;5;241m.\u001b[39mGradientTape() \u001b[38;5;28;01mas\u001b[39;00m tape:\n\u001b[1;32m    197\u001b[0m         \u001b[38;5;66;03m# need to predict here and not in loss so doesn't affect gradient\u001b[39;00m\n",
                  "File \u001b[0;32m/opt/homebrew/Caskroom/miniconda/base/envs/py311/lib/python3.11/site-packages/keras/src/optimizers/__init__.py:115\u001b[0m, in \u001b[0;36mLegacyOptimizerWarning.__init__\u001b[0;34m(self, *args, **kwargs)\u001b[0m\n\u001b[1;32m    114\u001b[0m \u001b[38;5;28;01mdef\u001b[39;00m \u001b[38;5;21m__init__\u001b[39m(\u001b[38;5;28mself\u001b[39m, \u001b[38;5;241m*\u001b[39margs, \u001b[38;5;241m*\u001b[39m\u001b[38;5;241m*\u001b[39mkwargs):\n\u001b[0;32m--> 115\u001b[0m     \u001b[38;5;28;01mraise\u001b[39;00m \u001b[38;5;167;01mImportError\u001b[39;00m(\n\u001b[1;32m    116\u001b[0m         \u001b[38;5;124m\"\u001b[39m\u001b[38;5;124m`keras.optimizers.legacy` is not supported in Keras 3. When using \u001b[39m\u001b[38;5;124m\"\u001b[39m\n\u001b[1;32m    117\u001b[0m         \u001b[38;5;124m\"\u001b[39m\u001b[38;5;124m`tf.keras`, to continue using a `tf.keras.optimizers.legacy` \u001b[39m\u001b[38;5;124m\"\u001b[39m\n\u001b[1;32m    118\u001b[0m         \u001b[38;5;124m\"\u001b[39m\u001b[38;5;124moptimizer, you can install the `tf_keras` package (Keras 2) and \u001b[39m\u001b[38;5;124m\"\u001b[39m\n\u001b[1;32m    119\u001b[0m         \u001b[38;5;124m\"\u001b[39m\u001b[38;5;124mset the environment variable `TF_USE_LEGACY_KERAS=True` to \u001b[39m\u001b[38;5;124m\"\u001b[39m\n\u001b[1;32m    120\u001b[0m         \u001b[38;5;124m\"\u001b[39m\u001b[38;5;124mconfigure TensorFlow to use `tf_keras` when accessing `tf.keras`.\u001b[39m\u001b[38;5;124m\"\u001b[39m\n\u001b[1;32m    121\u001b[0m     )\n",
                  "\u001b[0;31mImportError\u001b[0m: `keras.optimizers.legacy` is not supported in Keras 3. When using `tf.keras`, to continue using a `tf.keras.optimizers.legacy` optimizer, you can install the `tf_keras` package (Keras 2) and set the environment variable `TF_USE_LEGACY_KERAS=True` to configure TensorFlow to use `tf_keras` when accessing `tf.keras`."
               ]
            }
         ],
         "source": [
            "embedding_dimension = 10\n",
            "k = 20\n",
            "best_hyperparameters = {'gravity_coefficient': 0.001, 'regularization_coefficient': 0.5, 'num_iterations': 1000, 'learning_rate': 100.0}\n",
            "\n",
            "model = FactorizationRecommender(m=training_data.m, n=training_data.n, k=embedding_dimension)\n",
            "\n",
            "tie = TechniqueInferenceEngine(\n",
            "    training_data=training_data,\n",
            "    validation_data=validation_data,\n",
            "    test_data=test_data,\n",
            "    model=model,\n",
            "    enterprise_attack_filepath=enterprise_attack_filepath,\n",
            ")\n",
            "mse = tie.fit(**best_hyperparameters)\n",
            "# mse = tie.fit_with_cross_validation(\n",
            "#     learning_rate=[0.001, 0.01, 0.1, 1.0, 10., 20., 50., 100.],\n",
            "#     num_iterations=[1000],\n",
            "#     regularization_coefficient=[0.001, 0.005, 0.01, 0.02, 0.05, 0.1, 0.2, 0.3, 0.5],\n",
            "#     gravity_coefficient=[0.001, 0.005, 0.01, 0.02, 0.05, 0.1, 0.2, 0.3, 0.5],\n",
            "# )\n",
            "print(\"Mean Squared Error\", mse)\n",
            "precision = tie.precision(k=k)\n",
            "print(\"Precision\", precision)\n",
            "recall = tie.recall(k=k)\n",
            "print(\"Recall\", recall)\n",
            "ndcg = tie.normalized_discounted_cumulative_gain(k=k)\n",
            "print(\"Normalized Discounted Cumulative Gain\", ndcg)"
         ]
      },
      {
         "cell_type": "code",
         "execution_count": 7,
         "metadata": {
            "metadata": {}
         },
         "outputs": [
            {
               "name": "stdout",
               "output_type": "stream",
               "text": [
                  "Mean Squared Error 1.184506267600236\n",
                  "Precision 0.005549345257106356\n",
                  "Recall 0.04217497343495427\n",
                  "Normalized Discounted Cumulative Gain 0.045706486942448527\n"
               ]
            }
         ],
         "source": [
            "# hyperparameters\n",
            "embedding_dimension = 10\n",
            "k = 20\n",
            "best_hyperparameters = {'regularization': 0.0001, 'num_iterations': 256000, 'learning_rate': 0.005}\n",
            "\n",
            "model = BPRRecommender(m=training_data.m, n=training_data.n, k=embedding_dimension)\n",
            "\n",
            "tie = TechniqueInferenceEngine(\n",
            "    training_data=training_data,\n",
            "    validation_data=validation_data,\n",
            "    test_data=test_data,\n",
            "    model=model,\n",
            "    enterprise_attack_filepath=enterprise_attack_filepath,\n",
            ")\n",
            "mse = tie.fit(**best_hyperparameters)\n",
            "# mse = tie.fit_with_cross_validation(\n",
            "#     learning_rate=[0.001, 0.005, 0.01, 0.02, 0.05],\n",
            "#     num_iterations=[500 * 512],\n",
            "#     regularization=[0, 0.0001, 0.001, 0.01],\n",
            "# )\n",
            "print(\"Mean Squared Error\", mse)\n",
            "precision = tie.precision(k=k)\n",
            "print(\"Precision\", precision)\n",
            "recall = tie.recall(k=20)\n",
            "print(\"Recall\", recall)\n",
            "ndcg = tie.normalized_discounted_cumulative_gain(k=k)\n",
            "print(\"Normalized Discounted Cumulative Gain\", ndcg)"
         ]
      },
      {
         "cell_type": "code",
         "execution_count": 51,
         "metadata": {},
         "outputs": [
            {
               "data": {
                  "application/vnd.jupyter.widget-view+json": {
                     "model_id": "82be653d6c6c4a339f169f9b60f8ab07",
                     "version_major": 2,
                     "version_minor": 0
                  },
                  "text/plain": [
                     "  0%|          | 0/256000 [00:00<?, ?it/s]"
                  ]
               },
               "metadata": {},
               "output_type": "display_data"
            }
         ],
         "source": [
            "# hyperparameters\n",
            "embedding_dimension = 10\n",
            "k = 20\n",
            "best_hyperparameters = {'regularization': 0.0001, 'num_iterations': 256000, 'learning_rate': 0.005}\n",
            "\n",
            "model = ImplicitBPRRecommender(m=training_data.m, n=training_data.n, k=embedding_dimension)\n",
            "\n",
            "tie = TechniqueInferenceEngine(\n",
            "    training_data=training_data,\n",
            "    validation_data=validation_data,\n",
            "    test_data=test_data,\n",
            "    model=model,\n",
            "    enterprise_attack_filepath=enterprise_attack_filepath,\n",
            ")\n",
            "mse = tie.fit(**best_hyperparameters)\n",
            "# mse = tie.fit_with_cross_validation(\n",
            "#     learning_rate=[0.001, 0.005, 0.01, 0.02, 0.05],\n",
            "#     num_iterations=[math.floor(500 * 512 / training_data.to_numpy().sum())],\n",
            "#     regularization=[0, 0.0001, 0.001, 0.01],\n",
            "# )\n",
            "print(\"Mean Squared Error\", mse)\n",
            "precision = tie.precision(k=k)\n",
            "print(\"Precision\", precision)\n",
            "recall = tie.recall(k=k)\n",
            "print(\"Recall\", recall)\n",
            "ndcg = tie.normalized_discounted_cumulative_gain(k=k)\n",
            "print(\"Normalized Discounted Cumulative Gain\", ndcg)"
         ]
      },
      {
         "cell_type": "code",
         "execution_count": 8,
         "metadata": {},
         "outputs": [
            {
               "name": "stderr",
               "output_type": "stream",
               "text": [
                  "/opt/homebrew/anaconda3/envs/tie2/lib/python3.11/site-packages/implicit/cpu/als.py:95: RuntimeWarning: OpenBLAS is configured to use 12 threads. It is highly recommended to disable its internal threadpool by setting the environment variable 'OPENBLAS_NUM_THREADS=1' or by calling 'threadpoolctl.threadpool_limits(1, \"blas\")'. Having OpenBLAS use a threadpool can lead to severe performance issues here.\n",
                  "  check_blas_config()\n",
                  "100%|██████████| 20/20 [00:00<00:00, 50.81it/s]\n"
               ]
            },
            {
               "name": "stdout",
               "output_type": "stream",
               "text": [
                  "Mean Squared Error 0.9886548077548966\n",
                  "Precision 0.03980357713190674\n",
                  "Recall 0.3784278154674671\n",
                  "Normalized Discounted Cumulative Gain 0.08805731433719892\n"
               ]
            }
         ],
         "source": [
            "# hyperparameters\n",
            "embedding_dimension = 10\n",
            "k = 20\n",
            "best_hyperparameters = {'regularization_coefficient': 0.05, 'c': 0.5, 'num_iterations': 20}\n",
            "\n",
            "model = WALSRecommender(m=training_data.m, n=training_data.n, k=embedding_dimension)\n",
            "\n",
            "tie = TechniqueInferenceEngine(\n",
            "    training_data=training_data,\n",
            "    validation_data=validation_data,\n",
            "    test_data=test_data,\n",
            "    model=model,\n",
            "    enterprise_attack_filepath=enterprise_attack_filepath,\n",
            ")\n",
            "mse = tie.fit(**best_hyperparameters)\n",
            "# mse = tie.fit_with_cross_validation(\n",
            "#     num_iterations=[20],\n",
            "#     c=[0.001, 0.005, 0.01, 0.05, 0.1, 0.3, 0.5, 0.7],\n",
            "#     regularization_coefficient=[0.001, 0.005, 0.01, 0.02, 0.05]\n",
            "# )\n",
            "print(\"Mean Squared Error\", mse)\n",
            "precision = tie.precision(k=k)\n",
            "print(\"Precision\", precision)\n",
            "recall = tie.recall(k=k)\n",
            "print(\"Recall\", recall)\n",
            "ndcg = tie.normalized_discounted_cumulative_gain(k=k)\n",
            "print(\"Normalized Discounted Cumulative Gain\", ndcg)"
         ]
      },
      {
         "cell_type": "code",
         "execution_count": 9,
         "metadata": {},
         "outputs": [
            {
               "name": "stdout",
               "output_type": "stream",
               "text": [
                  "           predictions  training_data  test_data  \\\n",
                  "T1082         1.072645            1.0        0.0   \n",
                  "T1105         1.052426            1.0        0.0   \n",
                  "T1027         0.988334            1.0        0.0   \n",
                  "T1071.001     0.489124            1.0        0.0   \n",
                  "T1204.002     0.374016            0.0        0.0   \n",
                  "T1566.001     0.327866            0.0        0.0   \n",
                  "T1016         0.198875            0.0        0.0   \n",
                  "T1059.001     0.183911            0.0        0.0   \n",
                  "T1113         0.176998            0.0        0.0   \n",
                  "T1547.001     0.160393            0.0        0.0   \n",
                  "\n",
                  "                                   technique_name  \n",
                  "T1082                System Information Discovery  \n",
                  "T1105                       Ingress Tool Transfer  \n",
                  "T1027             Obfuscated Files or Information  \n",
                  "T1071.001                           Web Protocols  \n",
                  "T1204.002                          Malicious File  \n",
                  "T1566.001                Spearphishing Attachment  \n",
                  "T1016      System Network Configuration Discovery  \n",
                  "T1059.001                              PowerShell  \n",
                  "T1113                              Screen Capture  \n",
                  "T1547.001      Registry Run Keys / Startup Folder  \n"
               ]
            }
         ],
         "source": [
            "oilrig_techniques = {\n",
            "    \"T1047\", \"T1059.005\", \"T1124\", \"T1082\",\n",
            "    \"T1497.001\", \"T1053.005\", \"T1027\", \"T1105\",\n",
            "    \"T1070.004\", \"T1059.003\", \"T1071.001\"\n",
            "}\n",
            "new_report_predictions = tie.predict_for_new_report(oilrig_techniques)\n",
            "\n",
            "print(new_report_predictions.sort_values(by=\"predictions\", ascending=False).head(10))"
         ]
      },
      {
         "cell_type": "code",
         "execution_count": 12,
         "metadata": {},
         "outputs": [
            {
               "name": "stdout",
               "output_type": "stream",
               "text": [
                  "           predictions  training_data  test_data  \\\n",
                  "T1082         1.072645            1.0        0.0   \n",
                  "T1105         1.052426            1.0        0.0   \n",
                  "T1027         0.988334            1.0        0.0   \n",
                  "T1071.001     0.489124            1.0        0.0   \n",
                  "T1204.002     0.374016            0.0        0.0   \n",
                  "T1566.001     0.327866            0.0        0.0   \n",
                  "T1016         0.198875            0.0        0.0   \n",
                  "T1059.001     0.183911            0.0        0.0   \n",
                  "T1113         0.176998            0.0        0.0   \n",
                  "T1547.001     0.160393            0.0        0.0   \n",
                  "\n",
                  "                                   technique_name  \n",
                  "T1082                System Information Discovery  \n",
                  "T1105                       Ingress Tool Transfer  \n",
                  "T1027             Obfuscated Files or Information  \n",
                  "T1071.001                           Web Protocols  \n",
                  "T1204.002                          Malicious File  \n",
                  "T1566.001                Spearphishing Attachment  \n",
                  "T1016      System Network Configuration Discovery  \n",
                  "T1059.001                              PowerShell  \n",
                  "T1113                              Screen Capture  \n",
                  "T1547.001      Registry Run Keys / Startup Folder  \n"
               ]
            }
         ],
         "source": [
            "# COLD START PREDICTOR\n",
            "# use one of the below sets of techniques or use your own!\n",
            "\n",
            "# training_techniques = set(['T1021.004', 'T1572', 'T1083', 'T1570', 'T1571', 'T1105', 'T1003.001',\n",
            "#     'T1005', 'T1056.001', 'T1140', 'T1555.003', 'T1569.002', 'T1113',\n",
            "#     'T1018', 'T1112'\n",
            "# ])\n",
            "oilrig_techniques = {\n",
            "    \"T1047\", \"T1059.005\", \"T1124\", \"T1082\",\n",
            "    \"T1497.001\", \"T1053.005\", \"T1027\", \"T1105\",\n",
            "    \"T1070.004\", \"T1059.003\", \"T1071.001\"}\n",
            "oilrig_adversary_emulation_plan_techniques = {\"T1082\", \"T1033\", \"T1016\", \"T1087.002\", \"T1069.002\", \"T1021\", \"T1087.001\", \"T1069.001\", \"T1049\", \"T1057\", \"T1007\", \"T1012\", \"T1018\", \"T1555.004\", \"T1041\", \"T1105\", \"T1505.003\", \"T1003.001\", \"T1070.004\", \"T1572\", \"T1021.001\", \"T1569.002\", \"T1083\", \"T1048.003\"}\n",
            "# solarigate_techniques = set([\"T1087\", \"T1087.002\", \"T1098.001\", \"T1098.002\", \"T1098.003\", \"T1098.005\",\n",
            "#     \"T1583.001\", \"T1071.001\", \"T1560.001\", \"T1059.001\", \"T1059.003\", \"T1059.005\",\n",
            "#     \"T1584.001\", \"T1555\", \"T1555.003\", \"T1213\", \"T1213.003\", \"T1005\", \"T1074.002\",\n",
            "#     \"T1140\", \"T1587.001\", \"T1484.002\", \"T1482\", \"T1568\", \"T1114.002\", \"T1546.003\",\n",
            "#     \"T1048.002\", \"T1190\", \"T1133\", \"T1083\", \"T1606.001\", \"T1606.002\", \"T1589.001\",\n",
            "#     \"T1562.001\", \"T1562.002\", \"T1562.004\", \"T1070\", \"T1070.004\", \"T1070.006\", \"T1070.008\",\n",
            "#     \"T1105\", \"T1036\", \"T1036.004\", \"T1036.005\", \"T1003.006\", \"T1069\", \"T1069.002\",\n",
            "#     \"T1057\", \"T1090.001\", \"T1021.001\", \"T1021.002\", \"T1021.006\", \"T1018\", \"T1053.005\",\n",
            "#     \"T1558.003\", \"T1539\", \"T1559.002\", \"T1195.002\", \"T1218.011\", \"T1082\", \"T1016.001\",\n",
            "#     \"T1199\", \"T1552.004\", \"T1550\", \"T1550.001\", \"T1550.004\", \"T1078\",\n",
            "#     \"T1078.002\", \"T1078.003\", \"T1078.004\", \"T1047\",\n",
            "# ])\n",
            "\n",
            "factorization_kwargs = {\n",
            "    \"learning_rate\": 0.5,\n",
            "    \"num_iterations\": 10,\n",
            "    \"regularization_coefficient\": 0.1,\n",
            "    \"gravity_coefficient\": 1,\n",
            "}\n",
            "\n",
            "bpr_kwargs = {\n",
            "    \"learning_rate\": 0.01,\n",
            "    \"num_iterations\": 1000,\n",
            "    \"w_regularization\": 0.001,\n",
            "}\n",
            "\n",
            "new_report_predictions = tie.predict_for_new_report(oilrig_techniques)\n",
            "\n",
            "print(new_report_predictions.sort_values(by=\"predictions\", ascending=False).head(10))"
         ]
      },
      {
         "cell_type": "code",
         "execution_count": 14,
         "metadata": {},
         "outputs": [
            {
               "name": "stdout",
               "output_type": "stream",
               "text": [
                  "[t-SNE] Computing 46 nearest neighbors...\n",
                  "[t-SNE] Indexed 6265 samples in 0.002s...\n",
                  "[t-SNE] Computed neighbors for 6265 samples in 0.161s...\n",
                  "[t-SNE] Computed conditional probabilities for sample 1000 / 6265\n",
                  "[t-SNE] Computed conditional probabilities for sample 2000 / 6265\n",
                  "[t-SNE] Computed conditional probabilities for sample 3000 / 6265\n",
                  "[t-SNE] Computed conditional probabilities for sample 4000 / 6265\n",
                  "[t-SNE] Computed conditional probabilities for sample 5000 / 6265\n",
                  "[t-SNE] Computed conditional probabilities for sample 6000 / 6265\n",
                  "[t-SNE] Computed conditional probabilities for sample 6265 / 6265\n",
                  "[t-SNE] Mean sigma: 0.000000\n",
                  "[t-SNE] KL divergence after 250 iterations with early exaggeration: 90.280106\n",
                  "[t-SNE] KL divergence after 8850 iterations: 0.410354\n"
               ]
            },
            {
               "data": {
                  "image/png": "[encoded data removed]",
                  "text/plain": [
                     "<Figure size 640x480 with 1 Axes>"
                  ]
               },
               "metadata": {},
               "output_type": "display_data"
            }
         ],
         "source": [
            "def make_tsne_embeddings(embeddings: np.ndarray) -> tuple[np.array, np.array]:\n",
            "    \"\"\"Create 2D representation of embeddings using t-SNE.\n",
            "\n",
            "    Args:\n",
            "        embeddings: an mxk array of m embeddings in k-dimensional space.\n",
            "\n",
            "    Returns:\n",
            "        A tuple of the form (x_1, x_2) where x_1 and x_2 are length m\n",
            "        such that (x_1[i], x_2[i]) is the 2-dimensional point cotnaining the 2-dimensional\n",
            "        repsresentation for embeddings[i, :].\n",
            "    \"\"\"\n",
            "    tsne = sklearn.manifold.TSNE(\n",
            "        n_components=2,\n",
            "        perplexity=15,\n",
            "        learning_rate=\"auto\",\n",
            "        # metric='cosine',\n",
            "        # early_exaggeration=10.0,\n",
            "        init='pca',\n",
            "        verbose=True,\n",
            "        n_iter=10000,\n",
            "    )\n",
            "\n",
            "    V_proj = tsne.fit_transform(embeddings)\n",
            "    x = V_proj[:, 0]\n",
            "    y = V_proj[:, 1]\n",
            "\n",
            "    return x, y\n",
            "\n",
            "U = tie.get_U()\n",
            "x_1, x_2 = make_tsne_embeddings(U)\n",
            "\n",
            "plt.scatter(x_1, x_2, s=0.5)\n",
            "plt.show()"
         ]
      }
   ],
   "metadata": {
      "kernelspec": {
         "display_name": "tie",
         "language": "python",
         "name": "python3"
      },
      "language_info": {
         "codemirror_mode": {
            "name": "ipython",
            "version": 3
         },
         "file_extension": ".py",
         "mimetype": "text/x-python",
         "name": "python",
         "nbconvert_exporter": "python",
         "pygments_lexer": "ipython3",
         "version": "3.11.9"
      }
   },
   "nbformat": 4,
   "nbformat_minor": 2
}
