{
 "cells": [
  {
   "cell_type": "code",
   "execution_count": null,
   "metadata": {},
   "outputs": [],
   "source": [
    "import requests\n",
    "import json"
   ]
  },
  {
   "cell_type": "code",
   "execution_count": null,
   "metadata": {},
   "outputs": [],
   "source": [
    "# Define the API endpoint for OpenCTI, change \n",
    "url = 'https://<YOUR OPENCTI ENDPOINT URL/IP>/graphql'"
   ]
  },
  {
   "cell_type": "code",
   "execution_count": null,
   "metadata": {},
   "outputs": [],
   "source": [
    "# Define the headers\n",
    "headers = {\n",
    "    'Content-Type': 'application/json',\n",
    "    'Authorization': 'Bearer <YOU API KEY>'\n",
    "}"
   ]
  },
  {
   "cell_type": "code",
   "execution_count": null,
   "metadata": {},
   "outputs": [],
   "source": [
    "#graphQL query to get all the reports from OpenCTI\n",
    "query1=\"\"\"query getAllReports($first: Int, $cursor:ID) {\n",
    "    reports(first:$first, after:$cursor) {\n",
    "      edges {\n",
    "        node {\n",
    "          id\n",
    "          standard_id\n",
    "        }\n",
    "      }\n",
    "    pageInfo {\n",
    "      endCursor\n",
    "      hasNextPage\n",
    "    }  \n",
    "  }\n",
    "}\"\"\""
   ]
  },
  {
   "cell_type": "code",
   "execution_count": null,
   "metadata": {},
   "outputs": [],
   "source": [
    "#query to obtain the reports with their associated MITRE Techniques and External References based of report's ID\n",
    "query2=\"\"\"query ReportToTTP(\n",
    "    $id: String!\n",
    "    $search: String\n",
    "    $types: [String]\n",
    "    $count: Int!\n",
    "    $cursor: ID\n",
    "    $orderBy: StixObjectOrStixRelationshipsOrdering\n",
    "    $orderMode: OrderingMode\n",
    "  ) {\n",
    "    container(id: $id) {\n",
    "      ...ContainerStixDomainObjectsLines_container_4GmerJ\n",
    "  }\n",
    "  }\n",
    "  fragment ContainerStixDomainObjectLine_node on StixDomainObject {\n",
    "    ... on AttackPattern {\n",
    "      x_mitre_id\n",
    "    }\n",
    "  }\n",
    "  fragment ContainerStixDomainObjectsLines_container_4GmerJ on Container {\n",
    "    ... on Report {\n",
    "        name\n",
    "        description\n",
    "        content\n",
    "        content_mapping\n",
    "        externalReferences {\n",
    "          edges {\n",
    "            node {\n",
    "              standard_id\n",
    "              id\n",
    "              source_name\n",
    "              url\n",
    "              description\n",
    "              created\n",
    "              representative {\n",
    "                main\n",
    "                secondary\n",
    "              }\n",
    "            }\n",
    "          }\n",
    "        }\n",
    "      }\n",
    "    standard_id\n",
    "    objects(\n",
    "      types: $types\n",
    "      search: $search\n",
    "      first: $count\n",
    "      after: $cursor\n",
    "      orderBy: $orderBy\n",
    "      orderMode: $orderMode\n",
    "    ) {\n",
    "      edges {\n",
    "        node {\n",
    "          ...ContainerStixDomainObjectLine_node\n",
    "        }\n",
    "      }\n",
    "      pageInfo {\n",
    "        endCursor\n",
    "        hasNextPage\n",
    "        globalCount\n",
    "      }\n",
    "    }\n",
    "  }\"\"\""
   ]
  },
  {
   "cell_type": "code",
   "execution_count": null,
   "metadata": {},
   "outputs": [],
   "source": [
    "#obtain list of report IDs in OpenCTI \n",
    "variables = {\"first\": 25000}\n",
    "payload = {'query': query1 , 'variables': variables}\n",
    "\n",
    "# Send the request and get the response\n",
    "response = requests.post(url, headers=headers, json=payload)\n",
    "response_dict = response.json()\n",
    "\n",
    "# Print the response\n",
    "#print(json.dumps(response.json(), indent=4))"
   ]
  },
  {
   "cell_type": "code",
   "execution_count": null,
   "metadata": {},
   "outputs": [],
   "source": [
    "#save the list of report IDs, each report has 2 different IDs that reference it\n",
    "report_list=[]\n",
    "for edge in response_dict['data']['reports']['edges']:\n",
    "    for k,v in edge.items():\n",
    "        report_list.append([v['id'],v['standard_id']])"
   ]
  },
  {
   "cell_type": "code",
   "execution_count": null,
   "metadata": {
    "scrolled": true
   },
   "outputs": [],
   "source": [
    "#number of reports\n",
    "len(report_list)"
   ]
  },
  {
   "cell_type": "code",
   "execution_count": null,
   "metadata": {},
   "outputs": [],
   "source": [
    "#go through the Report List and peform Query #2 for each report ID which obtains MITRE TTPs to each report\n",
    "data=[]\n",
    "for report in report_list:\n",
    "    \n",
    "    try:    \n",
    "        #report ID to query, try the first index before using the second one\n",
    "        rep_id=report[0]\n",
    "        \n",
    "        # Define the payload for each report\n",
    "        variables={\"id\": rep_id,\n",
    "         \"search\":\"\",\n",
    "         \"types\":[\"Attack-Pattern\"],\n",
    "         \"count\":5500,\n",
    "         \"orderBy\":\"name\",\n",
    "         \"orderMode\":\"desc\"}\n",
    "        payload = {'query': query2 , 'variables': variables}\n",
    "\n",
    "        # Send the request and get the response\n",
    "        response = requests.post(url, headers=headers, json=payload)\n",
    "    \n",
    "        # Append new data\n",
    "        data.append(response.json())\n",
    "    #if the above query does not work, try the other ID for the report\n",
    "    except:\n",
    "        \n",
    "        #try the second index report ID\n",
    "        rep_id=report[1] \n",
    "        variables={\"id\": rep_id,\n",
    "         \"search\":\"\",\n",
    "         \"types\":[\"Attack-Pattern\"],\n",
    "         \"count\":5500,\n",
    "         \"orderBy\":\"name\",\n",
    "         \"orderMode\":\"desc\"}\n",
    "        payload = {'query': query2 , 'variables': variables}\n",
    "        response = requests.post(url, headers=headers, json=payload)\n",
    "        data.append(response.json())"
   ]
  },
  {
   "cell_type": "code",
   "execution_count": null,
   "metadata": {},
   "outputs": [],
   "source": [
    "# Write updated data back to the file\n",
    "with open('opencti_dataset_references.json', 'w') as f:\n",
    "    json.dump(data, f, indent=4)"
   ]
  }
 ],
 "metadata": {
  "kernelspec": {
   "display_name": "Python 3 (ipykernel)",
   "language": "python",
   "name": "python3"
  },
  "language_info": {
   "codemirror_mode": {
    "name": "ipython",
    "version": 3
   },
   "file_extension": ".py",
   "mimetype": "text/x-python",
   "name": "python",
   "nbconvert_exporter": "python",
   "pygments_lexer": "ipython3",
   "version": "3.11.7"
  }
 },
 "nbformat": 4,
 "nbformat_minor": 4
}
