{
   "cells": [
      {
         "cell_type": "code",
         "execution_count": 1,
         "metadata": {
            "metadata": {}
         },
         "outputs": [
            {
               "name": "stderr",
               "output_type": "stream",
               "text": [
                  "/opt/homebrew/Caskroom/miniconda/base/envs/py311/lib/python3.11/site-packages/tqdm/auto.py:21: TqdmWarning: IProgress not found. Please update jupyter and ipywidgets. See https://ipywidgets.readthedocs.io/en/stable/user_install.html\n",
                  "  from .autonotebook import tqdm as notebook_tqdm\n"
               ]
            },
            {
               "data": {
                  "text/plain": [
                     "<module 'tie.recommender' from '/Users/mjturner/code/technique-inference-engine/src/tie/recommender/__init__.py'>"
                  ]
               },
               "execution_count": 1,
               "metadata": {},
               "output_type": "execute_result"
            }
         ],
         "source": [
            "%load_ext autoreload\n",
            "%autoreload 2\n",
            "\n",
            "# Imports\n",
            "import tensorflow as tf\n",
            "import tie.recommender\n",
            "from tie.recommender import Recommender, FactorizationRecommender, BPRRecommender, ImplicitBPRRecommender, WalsRecommender, ImplicitWalsRecommender, TopItemsRecommender\n",
            "from tie.matrix_builder import ReportTechniqueMatrixBuilder\n",
            "from tie.engine import TechniqueInferenceEngine\n",
            "from tie.constants import PredictionMethod\n",
            "import importlib\n",
            "import pandas as pd\n",
            "import numpy as np\n",
            "import sklearn.manifold\n",
            "import matplotlib.pyplot as plt\n",
            "\n",
            "tf.config.run_functions_eagerly(True)\n",
            "\n",
            "assert tf.executing_eagerly()\n",
            "\n",
            "importlib.reload(tie.recommender)\n"
         ]
      },
      {
         "cell_type": "code",
         "execution_count": 2,
         "metadata": {},
         "outputs": [
            {
               "name": "stdout",
               "output_type": "stream",
               "text": [
                  "Num training interactions 33311.0\n",
                  "Num test interactions 9517.0\n",
                  "Num validation interactions 4758.0\n"
               ]
            }
         ],
         "source": [
            "validation_ratio = 0.1\n",
            "test_ratio = 0.2\n",
            "\n",
            "# data locations\n",
            "dataset_filepath = \"../data/combined_dataset_full_frequency.json\"\n",
            "enterprise_attack_filepath = \"../data/stix/enterprise-attack.json\"\n",
            "\n",
            "# make data\n",
            "data_builder = ReportTechniqueMatrixBuilder(\n",
            "    combined_dataset_filepath=dataset_filepath,\n",
            "    enterprise_attack_filepath=enterprise_attack_filepath,\n",
            ")\n",
            "training_data, test_data, validation_data = data_builder.build_train_test_validation(test_ratio, validation_ratio)\n",
            "\n",
            "print(\"Num training interactions\", training_data.to_numpy().sum())\n",
            "print(\"Num test interactions\", test_data.to_numpy().sum())\n",
            "print(\"Num validation interactions\", validation_data.to_numpy().sum())"
         ]
      },
      {
         "cell_type": "code",
         "execution_count": 3,
         "metadata": {},
         "outputs": [],
         "source": [
            "oilrig_techniques = {\n",
            "    \"T1047\", \"T1059.005\", \"T1124\", \"T1082\",\n",
            "    \"T1497.001\", \"T1053.005\", \"T1027\", \"T1105\",\n",
            "    \"T1070.004\", \"T1059.003\", \"T1071.001\"\n",
            "}"
         ]
      },
      {
         "cell_type": "code",
         "execution_count": 10,
         "metadata": {},
         "outputs": [],
         "source": [
            "\n",
            "def test_multiple_embeding_dimensions(model_class: Recommender, method: PredictionMethod, out_file: str, **kwargs):\n",
            "    \"\"\"Runs model_class at multiple embedding dimensions and saves results.\n",
            "\n",
            "    Runs each model for embedding dimensions 4, 8, 10, 16, 32, and 64.\n",
            "\n",
            "    Args:\n",
            "        model_class: A model on which to train at multiple embedding dimensions.\n",
            "        out_file: filename for saving the results file.  Requires len(out_file) > 0\n",
            "            and out_file is a valid csv filename.\n",
            "        kwargs: Parameters mapped to values.\n",
            "\n",
            "    Mutates:\n",
            "        Saves model results, including embedding_dimension, hyperparameters,\n",
            "        and precision, recall, and ndcg at 10, 20, 50, and 100 to out_file.\n",
            "    \"\"\"\n",
            "    assert len(out_file) > 0\n",
            "\n",
            "    results = []\n",
            "\n",
            "    embedding_dimensions = (4,8,10,16,32,64)\n",
            "    # for every embedding\n",
            "    for embedding_dimension in embedding_dimensions:\n",
            "\n",
            "        # make model\n",
            "        model = model_class(\n",
            "            m=training_data.m,\n",
            "            n=training_data.n,\n",
            "            k=embedding_dimension,\n",
            "        )\n",
            "\n",
            "        # make tie\n",
            "        tie = TechniqueInferenceEngine(\n",
            "            training_data=training_data,\n",
            "            validation_data=validation_data,\n",
            "            test_data=test_data,\n",
            "            model=model,\n",
            "            prediction_method=method,\n",
            "            enterprise_attack_filepath=enterprise_attack_filepath,\n",
            "        )\n",
            "\n",
            "        # fit hyperparameters\n",
            "        best_hyperparameters = tie.fit_with_validation(**kwargs)\n",
            "\n",
            "        # calculate precision, recall, ndcg\n",
            "        run_stats = {\n",
            "            \"embedding_dimension\": embedding_dimension,\n",
            "            **best_hyperparameters\n",
            "        }\n",
            "        k_values = (10, 20, 50, 100)\n",
            "        for k in k_values:\n",
            "            run_stats[f\"precision_at_{k}\"] = tie.precision(k=k)\n",
            "            run_stats[f\"recall_at_{k}\"] = tie.recall(k=k)\n",
            "            run_stats[f\"ndcg_at_{k}\"] = tie.normalized_discounted_cumulative_gain(k=k)\n",
            "\n",
            "        print(run_stats)\n",
            "        results.append(run_stats)\n",
            "\n",
            "\n",
            "    # save as csv\n",
            "    results_dataframe = pd.DataFrame(results)\n",
            "    results_dataframe.to_csv(out_file)"
         ]
      },
      {
         "cell_type": "code",
         "execution_count": 7,
         "metadata": {},
         "outputs": [],
         "source": [
            "test_multiple_embeding_dimensions(\n",
            "    model_class=WalsRecommender,\n",
            "    method=PredictionMethod.DOT,\n",
            "    out_file=\"wals_model_results_training_data_correction_dot.csv\",\n",
            "    epochs=[25],\n",
            "    c=[0.001, 0.005, 0.01, 0.05, 0.1, 0.3, 0.5, 0.7],\n",
            "    regularization_coefficient=[0.0, 0.00001, 0.0001, 0.001, 0.01]\n",
            ")"
         ]
      },
      {
         "cell_type": "code",
         "execution_count": 9,
         "metadata": {},
         "outputs": [],
         "source": [
            "test_multiple_embeding_dimensions(\n",
            "    model_class=BPRRecommender,\n",
            "    method=PredictionMethod.DOT,\n",
            "    out_file=\"bpr_model_results.csv\",\n",
            "    epochs=[20],\n",
            "    learning_rate=[0.00001, 0.00005, 0.0001, 0.001],\n",
            "    regularization=[0., 0.0001, 0.001, 0.01],\n",
            ")"
         ]
      },
      {
         "cell_type": "code",
         "execution_count": 10,
         "metadata": {},
         "outputs": [
            {
               "name": "stdout",
               "output_type": "stream",
               "text": [
                  "Mean Squared Error 0.04852325970978819\n",
                  "Precision 0.02400990099009901\n",
                  "Recall 0.1905249816378097\n",
                  "Normalized Discounted Cumulative Gain 0.1841149999164702\n"
               ]
            }
         ],
         "source": [
            "embedding_dimension = 10\n",
            "k = 20\n",
            "best_hyperparameters = {'gravity_coefficient': 0.001, 'regularization_coefficient': 0.5, 'epochs': 1000, 'learning_rate': 100.0}\n",
            "\n",
            "model = TopItemsRecommender(m=training_data.m, n=training_data.n, k=embedding_dimension)\n",
            "\n",
            "tie = TechniqueInferenceEngine(\n",
            "    training_data=training_data,\n",
            "    validation_data=validation_data,\n",
            "    test_data=test_data,\n",
            "    model=model,\n",
            "    prediction_method=PredictionMethod.DOT,\n",
            "    enterprise_attack_filepath=enterprise_attack_filepath,\n",
            ")\n",
            "mse = tie.fit()\n",
            "print(\"Mean Squared Error\", mse)\n",
            "precision = tie.precision(k=k)\n",
            "print(\"Precision\", precision)\n",
            "recall = tie.recall(k=k)\n",
            "print(\"Recall\", recall)\n",
            "ndcg = tie.normalized_discounted_cumulative_gain(k=k)\n",
            "print(\"Normalized Discounted Cumulative Gain\", ndcg)"
         ]
      },
      {
         "cell_type": "code",
         "execution_count": 6,
         "metadata": {},
         "outputs": [
            {
               "name": "stdout",
               "output_type": "stream",
               "text": [
                  "           predictions  training_data  test_data  \\\n",
                  "T1592.004     0.000000            0.0        0.0   \n",
                  "T1557.001     0.586885            0.0        0.0   \n",
                  "T1600         0.291803            0.0        0.0   \n",
                  "T1647         0.293443            0.0        0.0   \n",
                  "T1068         0.916393            0.0        0.0   \n",
                  "...                ...            ...        ...   \n",
                  "T1656         0.149180            0.0        0.0   \n",
                  "T1557.003     0.147541            0.0        0.0   \n",
                  "T1499.001     0.145902            0.0        0.0   \n",
                  "T1027.005     0.708197            0.0        0.0   \n",
                  "T1059.007     0.896721            0.0        0.0   \n",
                  "\n",
                  "                                  technique_name  \n",
                  "T1592.004                  Client Configurations  \n",
                  "T1557.001   LLMNR/NBT-NS Poisoning and SMB Relay  \n",
                  "T1600                          Weaken Encryption  \n",
                  "T1647                    Plist File Modification  \n",
                  "T1068      Exploitation for Privilege Escalation  \n",
                  "...                                          ...  \n",
                  "T1656                              Impersonation  \n",
                  "T1557.003                          DHCP Spoofing  \n",
                  "T1499.001                    OS Exhaustion Flood  \n",
                  "T1027.005           Indicator Removal from Tools  \n",
                  "T1059.007                             JavaScript  \n",
                  "\n",
                  "[611 rows x 4 columns]\n"
               ]
            }
         ],
         "source": [
            "new_report_predictions = tie.predict_for_new_report(oilrig_techniques, **best_hyperparameters)\n",
            "print(new_report_predictions)"
         ]
      },
      {
         "cell_type": "code",
         "execution_count": 14,
         "metadata": {
            "metadata": {}
         },
         "outputs": [
            {
               "name": "stdout",
               "output_type": "stream",
               "text": [
                  "Mean Squared Error 8.200210708280245\n",
                  "Precision 0.0014993585631815267\n",
                  "Recall 0.018532725776008053\n",
                  "Normalized Discounted Cumulative Gain 0.00973503731752359\n"
               ]
            }
         ],
         "source": [
            "embedding_dimension = 10\n",
            "k = 20\n",
            "best_hyperparameters = {'gravity_coefficient': 0.001, 'regularization_coefficient': 0.001, 'epochs': 10, 'learning_rate': 1.0}\n",
            "\n",
            "model = FactorizationRecommender(m=training_data.m, n=training_data.n, k=embedding_dimension)\n",
            "\n",
            "tie = TechniqueInferenceEngine(\n",
            "    training_data=training_data,\n",
            "    validation_data=validation_data,\n",
            "    test_data=test_data,\n",
            "    model=model,\n",
            "    prediction_method=PredictionMethod.DOT,\n",
            "    enterprise_attack_filepath=enterprise_attack_filepath,\n",
            ")\n",
            "mse = tie.fit(**best_hyperparameters)\n",
            "# mse = tie.fit_with_validation(\n",
            "#     learning_rate=[0.001, 0.01, 0.1, 1.0, 10., 20., 50., 100.],\n",
            "#     epochs=[1000],\n",
            "#     regularization_coefficient=[0.001, 0.005, 0.01, 0.02, 0.05, 0.1, 0.2, 0.3, 0.5],\n",
            "#     gravity_coefficient=[0.001, 0.005, 0.01, 0.02, 0.05, 0.1, 0.2, 0.3, 0.5],\n",
            "# )\n",
            "print(\"Mean Squared Error\", mse)\n",
            "precision = tie.precision(k=k)\n",
            "print(\"Precision\", precision)\n",
            "recall = tie.recall(k=k)\n",
            "print(\"Recall\", recall)\n",
            "ndcg = tie.normalized_discounted_cumulative_gain(k=k)\n",
            "print(\"Normalized Discounted Cumulative Gain\", ndcg)\n"
         ]
      },
      {
         "cell_type": "code",
         "execution_count": 17,
         "metadata": {},
         "outputs": [
            {
               "name": "stdout",
               "output_type": "stream",
               "text": [
                  "            predictions  training_data  test_data  \\\n",
                  "T1204.002 -44127.687500            0.0        0.0   \n",
                  "T1592.001 -18382.687500            0.0        0.0   \n",
                  "T1547.012  43962.042969            0.0        0.0   \n",
                  "T1561.002  46403.843750            0.0        0.0   \n",
                  "T1110.004  67053.593750            0.0        0.0   \n",
                  "...                 ...            ...        ...   \n",
                  "T1612      34722.996094            0.0        0.0   \n",
                  "T1588.006 -39228.710938            0.0        0.0   \n",
                  "T1003     -42823.429688            0.0        0.0   \n",
                  "T1069.002 -36731.289062            0.0        0.0   \n",
                  "T1070.005  12406.809570            0.0        0.0   \n",
                  "\n",
                  "                             technique_name  \n",
                  "T1204.002                    Malicious File  \n",
                  "T1592.001                          Hardware  \n",
                  "T1547.012                  Print Processors  \n",
                  "T1561.002               Disk Structure Wipe  \n",
                  "T1110.004               Credential Stuffing  \n",
                  "...                                     ...  \n",
                  "T1612                   Build Image on Host  \n",
                  "T1588.006                   Vulnerabilities  \n",
                  "T1003                 OS Credential Dumping  \n",
                  "T1069.002                     Domain Groups  \n",
                  "T1070.005  Network Share Connection Removal  \n",
                  "\n",
                  "[611 rows x 4 columns]\n"
               ]
            }
         ],
         "source": [
            "new_report_predictions = tie.predict_for_new_report(oilrig_techniques, **best_hyperparameters)\n",
            "print(new_report_predictions)"
         ]
      },
      {
         "cell_type": "code",
         "execution_count": 11,
         "metadata": {
            "metadata": {}
         },
         "outputs": [
            {
               "name": "stdout",
               "output_type": "stream",
               "text": [
                  "Mean Squared Error 0.35926297\n",
                  "Precision 0.015426555484284798\n",
                  "Recall 0.18590974575666436\n",
                  "Normalized Discounted Cumulative Gain 0.1027035699039283\n"
               ]
            }
         ],
         "source": [
            "# hyperparameters\n",
            "embedding_dimension = 4\n",
            "k = 20\n",
            "best_hyperparameters = {'regularization_coefficient': 0.01, 'epochs': 25, 'learning_rate': 0.001}\n",
            "\n",
            "model = BPRRecommender(m=training_data.m, n=training_data.n, k=embedding_dimension)\n",
            "\n",
            "tie = TechniqueInferenceEngine(\n",
            "    training_data=training_data,\n",
            "    validation_data=validation_data,\n",
            "    test_data=test_data,\n",
            "    model=model,\n",
            "    prediction_method=PredictionMethod.COSINE,\n",
            "    enterprise_attack_filepath=enterprise_attack_filepath,\n",
            ")\n",
            "# mse = tie.fit_with_validation(\n",
            "#     learning_rate=[0.001, 0.005, 0.01, 0.02, 0.05],\n",
            "#     epochs=[20],\n",
            "#     regularization_coefficient=[0, 0.0001, 0.001, 0.01],\n",
            "# )\n",
            "mse = tie.fit(**best_hyperparameters)\n",
            "print(\"Mean Squared Error\", mse)\n",
            "precision = tie.precision(k=k)\n",
            "print(\"Precision\", precision)\n",
            "recall = tie.recall(k=20)\n",
            "print(\"Recall\", recall)\n",
            "ndcg = tie.normalized_discounted_cumulative_gain(k=k)\n",
            "print(\"Normalized Discounted Cumulative Gain\", ndcg)"
         ]
      },
      {
         "cell_type": "code",
         "execution_count": 12,
         "metadata": {},
         "outputs": [
            {
               "name": "stdout",
               "output_type": "stream",
               "text": [
                  "           predictions  training_data  test_data               technique_name\n",
                  "T1484.002    -0.778899            0.0        0.0    Domain Trust Modification\n",
                  "T1098.004    -0.598990            0.0        0.0          SSH Authorized Keys\n",
                  "T1021.005    -0.643423            0.0        0.0                          VNC\n",
                  "T1074.002    -0.689918            0.0        0.0          Remote Data Staging\n",
                  "T1003.007    -0.975197            0.0        0.0              Proc Filesystem\n",
                  "...                ...            ...        ...                          ...\n",
                  "T1056.003    -0.464340            0.0        0.0           Web Portal Capture\n",
                  "T1588.006    -0.841596            0.0        0.0              Vulnerabilities\n",
                  "T1552.001     0.289389            0.0        0.0         Credentials In Files\n",
                  "T1552.005    -0.838721            0.0        0.0  Cloud Instance Metadata API\n",
                  "T1568         0.160313            0.0        0.0           Dynamic Resolution\n",
                  "\n",
                  "[611 rows x 4 columns]\n"
               ]
            }
         ],
         "source": [
            "new_report_predictions = tie.predict_for_new_report(oilrig_techniques, **best_hyperparameters)\n",
            "print(new_report_predictions)"
         ]
      },
      {
         "cell_type": "code",
         "execution_count": 13,
         "metadata": {},
         "outputs": [
            {
               "name": "stderr",
               "output_type": "stream",
               "text": [
                  "100%|██████████| 20/20 [00:00<00:00, 273.67it/s, train_auc=52.35%, skipped=9.64%]\n"
               ]
            },
            {
               "name": "stdout",
               "output_type": "stream",
               "text": [
                  "Mean Squared Error 0.7785285753506571\n",
                  "Precision 0.00785760102629891\n",
                  "Recall 0.10888739825282506\n",
                  "Normalized Discounted Cumulative Gain 0.048864361156135426\n"
               ]
            }
         ],
         "source": [
            "# hyperparameters\n",
            "embedding_dimension = 10\n",
            "k = 20\n",
            "best_hyperparameters = {'regularization_coefficient': 0.0001, \"epochs\": 20, 'learning_rate': 0.005}\n",
            "\n",
            "model = ImplicitBPRRecommender(m=training_data.m, n=training_data.n, k=embedding_dimension)\n",
            "\n",
            "tie = TechniqueInferenceEngine(\n",
            "    training_data=training_data,\n",
            "    validation_data=validation_data,\n",
            "    test_data=test_data,\n",
            "    model=model,\n",
            "    prediction_method=PredictionMethod.COSINE,\n",
            "    enterprise_attack_filepath=enterprise_attack_filepath,\n",
            ")\n",
            "# mse = tie.fit_with_validation(\n",
            "#     learning_rate=[0.001, 0.005, 0.01, 0.02, 0.05],\n",
            "#     epochs=[20],\n",
            "#     regularization=[0, 0.0001, 0.001, 0.01],\n",
            "# )\n",
            "mse = tie.fit(**best_hyperparameters)\n",
            "print(\"Mean Squared Error\", mse)\n",
            "precision = tie.precision(k=k)\n",
            "print(\"Precision\", precision)\n",
            "recall = tie.recall(k=k)\n",
            "print(\"Recall\", recall)\n",
            "ndcg = tie.normalized_discounted_cumulative_gain(k=k)\n",
            "print(\"Normalized Discounted Cumulative Gain\", ndcg)"
         ]
      },
      {
         "cell_type": "code",
         "execution_count": 14,
         "metadata": {},
         "outputs": [
            {
               "name": "stderr",
               "output_type": "stream",
               "text": [
                  "/opt/homebrew/Caskroom/miniconda/base/envs/py311/lib/python3.11/site-packages/implicit/cpu/als.py:95: RuntimeWarning: OpenBLAS is configured to use 12 threads. It is highly recommended to disable its internal threadpool by setting the environment variable 'OPENBLAS_NUM_THREADS=1' or by calling 'threadpoolctl.threadpool_limits(1, \"blas\")'. Having OpenBLAS use a threadpool can lead to severe performance issues here.\n",
                  "  check_blas_config()\n",
                  "100%|██████████| 20/20 [00:00<00:00, 30.03it/s]\n"
               ]
            },
            {
               "name": "stdout",
               "output_type": "stream",
               "text": [
                  "Mean Squared Error 0.5062082146675281\n",
                  "Precision 0.008362732520846697\n",
                  "Recall 0.11422344217877621\n",
                  "Normalized Discounted Cumulative Gain 0.05967858085464743\n"
               ]
            }
         ],
         "source": [
            "# hyperparameters\n",
            "embedding_dimension = 10\n",
            "k = 20\n",
            "best_hyperparameters = {'regularization_coefficient': 0.05, 'c': 0.5, 'epochs': 20}\n",
            "\n",
            "model = ImplicitWalsRecommender(m=training_data.m, n=training_data.n, k=embedding_dimension)\n",
            "\n",
            "tie = TechniqueInferenceEngine(\n",
            "    training_data=training_data,\n",
            "    validation_data=validation_data,\n",
            "    test_data=test_data,\n",
            "    model=model,\n",
            "    prediction_method=PredictionMethod.COSINE,\n",
            "    enterprise_attack_filepath=enterprise_attack_filepath,\n",
            ")\n",
            "mse = tie.fit(**best_hyperparameters)\n",
            "# mse = tie.fit_with_validation(\n",
            "#     epochs=[20],\n",
            "#     c=[0.001, 0.005, 0.01, 0.05, 0.1, 0.3, 0.5, 0.7],\n",
            "#     regularization_coefficient=[0.001, 0.005, 0.01, 0.02, 0.05]\n",
            "# )\n",
            "print(\"Mean Squared Error\", mse)\n",
            "precision = tie.precision(k=k)\n",
            "print(\"Precision\", precision)\n",
            "recall = tie.recall(k=k)\n",
            "print(\"Recall\", recall)\n",
            "ndcg = tie.normalized_discounted_cumulative_gain(k=k)\n",
            "print(\"Normalized Discounted Cumulative Gain\", ndcg)"
         ]
      },
      {
         "cell_type": "code",
         "execution_count": 15,
         "metadata": {},
         "outputs": [
            {
               "name": "stdout",
               "output_type": "stream",
               "text": [
                  "           predictions  training_data  test_data               technique_name\n",
                  "T1484.002     0.124266            0.0        0.0    Domain Trust Modification\n",
                  "T1098.004     0.444776            0.0        0.0          SSH Authorized Keys\n",
                  "T1021.005     0.329030            0.0        0.0                          VNC\n",
                  "T1074.002     0.303619            0.0        0.0          Remote Data Staging\n",
                  "T1003.007     0.040659            0.0        0.0              Proc Filesystem\n",
                  "...                ...            ...        ...                          ...\n",
                  "T1056.003     0.189562            0.0        0.0           Web Portal Capture\n",
                  "T1588.006     0.037500            0.0        0.0              Vulnerabilities\n",
                  "T1552.001     0.393371            0.0        0.0         Credentials In Files\n",
                  "T1552.005     0.327949            0.0        0.0  Cloud Instance Metadata API\n",
                  "T1568         0.126907            0.0        0.0           Dynamic Resolution\n",
                  "\n",
                  "[611 rows x 4 columns]\n"
               ]
            }
         ],
         "source": [
            "new_report_predictions = tie.predict_for_new_report(oilrig_techniques, **best_hyperparameters)\n",
            "print(new_report_predictions)"
         ]
      },
      {
         "cell_type": "code",
         "execution_count": 18,
         "metadata": {},
         "outputs": [
            {
               "name": "stdout",
               "output_type": "stream",
               "text": [
                  "Mean Squared Error 0.8097925249418998\n",
                  "Precision 0.03033996151379089\n",
                  "Recall 0.4200376984456249\n",
                  "Normalized Discounted Cumulative Gain 0.2295893796141917\n"
               ]
            }
         ],
         "source": [
            "# hyperparameters\n",
            "embedding_dimension = 4\n",
            "k = 20\n",
            "\n",
            "best_hyperparameters = {'regularization_coefficient': 0.00001, 'c': 0.001, \"epochs\": 25}\n",
            "model = WalsRecommender(m=training_data.m, n=training_data.n, k=embedding_dimension)\n",
            "\n",
            "tie = TechniqueInferenceEngine(\n",
            "    training_data=training_data,\n",
            "    validation_data=validation_data,\n",
            "    test_data=test_data,\n",
            "    model=model,\n",
            "    prediction_method=PredictionMethod.DOT,\n",
            "    enterprise_attack_filepath=enterprise_attack_filepath,\n",
            ")\n",
            "mse = tie.fit(**best_hyperparameters)\n",
            "# mse = tie.fit_with_validation(\n",
            "#     epochs=[20],\n",
            "#     c=[0.001, 0.005, 0.01, 0.05, 0.1, 0.3, 0.5, 0.7],\n",
            "#     regularization_coefficient=[0.001, 0.005, 0.01, 0.02, 0.05]\n",
            "# )\n",
            "print(\"Mean Squared Error\", mse)\n",
            "precision = tie.precision(k=k)\n",
            "print(\"Precision\", precision)\n",
            "recall = tie.recall(k=k)\n",
            "print(\"Recall\", recall)\n",
            "ndcg = tie.normalized_discounted_cumulative_gain(k=k)\n",
            "print(\"Normalized Discounted Cumulative Gain\", ndcg)"
         ]
      },
      {
         "cell_type": "code",
         "execution_count": 19,
         "metadata": {},
         "outputs": [
            {
               "name": "stdout",
               "output_type": "stream",
               "text": [
                  "           predictions  training_data  test_data               technique_name\n",
                  "T1484.002     0.000080            0.0        0.0    Domain Trust Modification\n",
                  "T1098.004     0.006258            0.0        0.0          SSH Authorized Keys\n",
                  "T1021.005     0.012727            0.0        0.0                          VNC\n",
                  "T1074.002     0.011960            0.0        0.0          Remote Data Staging\n",
                  "T1003.007     0.000122            0.0        0.0              Proc Filesystem\n",
                  "...                ...            ...        ...                          ...\n",
                  "T1056.003     0.004489            0.0        0.0           Web Portal Capture\n",
                  "T1588.006     0.002095            0.0        0.0              Vulnerabilities\n",
                  "T1552.001     0.049055            0.0        0.0         Credentials In Files\n",
                  "T1552.005     0.002569            0.0        0.0  Cloud Instance Metadata API\n",
                  "T1568         0.010783            0.0        0.0           Dynamic Resolution\n",
                  "\n",
                  "[611 rows x 4 columns]\n"
               ]
            }
         ],
         "source": [
            "new_report_predictions = tie.predict_for_new_report(oilrig_techniques, **best_hyperparameters)\n",
            "print(new_report_predictions)"
         ]
      },
      {
         "cell_type": "code",
         "execution_count": 20,
         "metadata": {},
         "outputs": [
            {
               "name": "stdout",
               "output_type": "stream",
               "text": [
                  "recalls [0.030450054688467964, 0.15645718642963535, 0.2705757415206124, 0.4200376984456249, 0.5150937977229236, 0.5792033446063182, 0.6291256155184046, 0.6674650570756567, 0.7043606414509712, 0.7320416385374856, 0.7560748088674433, 0.7777067489017366, 0.7967956532746462, 0.8135556661276224, 0.8268209729200038, 0.8384301585152386, 0.8507378241924031, 0.8607554934628231, 0.867841889646102, 0.8772007108770467, 0.8818684148112542]\n"
               ]
            },
            {
               "data": {
                  "text/plain": [
                     "[<matplotlib.lines.Line2D at 0x37d4c1990>]"
                  ]
               },
               "execution_count": 20,
               "metadata": {},
               "output_type": "execute_result"
            },
            {
               "data": {
                  "image/png": "[encoded data removed]",
                  "text/plain": [
                     "<Figure size 640x480 with 1 Axes>"
                  ]
               },
               "metadata": {},
               "output_type": "display_data"
            }
         ],
         "source": [
            "k_values = [1, 5] + list(range(10, 200, 10))\n",
            "recalls = []\n",
            "ndcgs = []\n",
            "for k in k_values:\n",
            "    precision = tie.precision(k=k)\n",
            "\n",
            "    recall = tie.recall(k=k)\n",
            "    recalls.append(recall)\n",
            "\n",
            "    ndcg = tie.normalized_discounted_cumulative_gain(k=k)\n",
            "    ndcgs.append(ndcg)\n",
            "\n",
            "print(\"recalls\", recalls)\n",
            "\n",
            "plt.xlabel(\"k\")\n",
            "plt.ylabel(\"Normalized discounted cumulative gain (NDCG)\")\n",
            "plt.title(\"NDCG@k for various values of k\")\n",
            "plt.plot(k_values, ndcgs)"
         ]
      },
      {
         "cell_type": "code",
         "execution_count": 22,
         "metadata": {},
         "outputs": [
            {
               "name": "stdout",
               "output_type": "stream",
               "text": [
                  "           predictions  training_data  test_data  \\\n",
                  "T1105         0.381902            1.0        0.0   \n",
                  "T1027         0.332577            1.0        0.0   \n",
                  "T1071.001     0.326495            1.0        0.0   \n",
                  "T1059.003     0.320938            1.0        0.0   \n",
                  "T1566.001     0.293094            0.0        0.0   \n",
                  "T1204.002     0.278039            0.0        0.0   \n",
                  "T1082         0.270586            1.0        0.0   \n",
                  "T1059.001     0.252522            0.0        0.0   \n",
                  "T1547.001     0.251486            0.0        0.0   \n",
                  "T1140         0.251313            0.0        0.0   \n",
                  "\n",
                  "                                    technique_name  \n",
                  "T1105                        Ingress Tool Transfer  \n",
                  "T1027              Obfuscated Files or Information  \n",
                  "T1071.001                            Web Protocols  \n",
                  "T1059.003                    Windows Command Shell  \n",
                  "T1566.001                 Spearphishing Attachment  \n",
                  "T1204.002                           Malicious File  \n",
                  "T1082                 System Information Discovery  \n",
                  "T1059.001                               PowerShell  \n",
                  "T1547.001       Registry Run Keys / Startup Folder  \n",
                  "T1140      Deobfuscate/Decode Files or Information  \n"
               ]
            }
         ],
         "source": [
            "oilrig_techniques = {\n",
            "    \"T1047\", \"T1059.005\", \"T1124\", \"T1082\",\n",
            "    \"T1497.001\", \"T1053.005\", \"T1027\", \"T1105\",\n",
            "    \"T1070.004\", \"T1059.003\", \"T1071.001\"\n",
            "}\n",
            "new_report_predictions = tie.predict_for_new_report(oilrig_techniques, **best_hyperparameters)\n",
            "\n",
            "print(new_report_predictions.sort_values(by=\"predictions\", ascending=False).head(10))"
         ]
      },
      {
         "cell_type": "code",
         "execution_count": 23,
         "metadata": {},
         "outputs": [
            {
               "name": "stdout",
               "output_type": "stream",
               "text": [
                  "[t-SNE] Computing 46 nearest neighbors...\n",
                  "[t-SNE] Indexed 6236 samples in 0.002s...\n",
                  "[t-SNE] Computed neighbors for 6236 samples in 0.062s...\n",
                  "[t-SNE] Computed conditional probabilities for sample 1000 / 6236\n",
                  "[t-SNE] Computed conditional probabilities for sample 2000 / 6236\n",
                  "[t-SNE] Computed conditional probabilities for sample 3000 / 6236\n",
                  "[t-SNE] Computed conditional probabilities for sample 4000 / 6236\n",
                  "[t-SNE] Computed conditional probabilities for sample 5000 / 6236\n",
                  "[t-SNE] Computed conditional probabilities for sample 6000 / 6236\n",
                  "[t-SNE] Computed conditional probabilities for sample 6236 / 6236\n",
                  "[t-SNE] Mean sigma: 0.000000\n",
                  "[t-SNE] KL divergence after 250 iterations with early exaggeration: 78.067368\n",
                  "[t-SNE] KL divergence after 10000 iterations: 0.773501\n"
               ]
            },
            {
               "data": {
                  "image/png": "[encoded data removed]",
                  "text/plain": [
                     "<Figure size 640x480 with 1 Axes>"
                  ]
               },
               "metadata": {},
               "output_type": "display_data"
            }
         ],
         "source": [
            "def make_tsne_embeddings(embeddings: np.ndarray) -> tuple[np.array, np.array]:\n",
            "    \"\"\"Create 2D representation of embeddings using t-SNE.\n",
            "\n",
            "    Args:\n",
            "        embeddings: an mxk array of m embeddings in k-dimensional space.\n",
            "\n",
            "    Returns:\n",
            "        A tuple of the form (x_1, x_2) where x_1 and x_2 are length m\n",
            "        such that (x_1[i], x_2[i]) is the 2-dimensional point cotnaining the 2-dimensional\n",
            "        repsresentation for embeddings[i, :].\n",
            "    \"\"\"\n",
            "    tsne = sklearn.manifold.TSNE(\n",
            "        n_components=2,\n",
            "        perplexity=15,\n",
            "        learning_rate=\"auto\",\n",
            "        # metric='cosine',\n",
            "        # early_exaggeration=10.0,\n",
            "        init='pca',\n",
            "        verbose=True,\n",
            "        n_iter=10000,\n",
            "    )\n",
            "\n",
            "    V_proj = tsne.fit_transform(embeddings)\n",
            "    x = V_proj[:, 0]\n",
            "    y = V_proj[:, 1]\n",
            "\n",
            "    return x, y\n",
            "\n",
            "U = tie.get_U()\n",
            "x_1, x_2 = make_tsne_embeddings(U)\n",
            "\n",
            "plt.scatter(x_1, x_2, s=0.5)\n",
            "plt.show()"
         ]
      }
   ],
   "metadata": {
      "kernelspec": {
         "display_name": "Python 3 (ipykernel)",
         "language": "python",
         "name": "python3"
      },
      "language_info": {
         "codemirror_mode": {
            "name": "ipython",
            "version": 3
         },
         "file_extension": ".py",
         "mimetype": "text/x-python",
         "name": "python",
         "nbconvert_exporter": "python",
         "pygments_lexer": "ipython3",
         "version": "3.11.9"
      }
   },
   "nbformat": 4,
   "nbformat_minor": 2
}
